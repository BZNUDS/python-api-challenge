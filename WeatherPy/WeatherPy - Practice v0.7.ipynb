{
 "cells": [
  {
   "cell_type": "markdown",
   "metadata": {},
   "source": [
    "# WeatherPy\n",
    "----\n",
    "\n",
    "#### Note\n",
    "* Instructions have been included for each segment. You do not have to follow them exactly, but they are included to help you think through the steps."
   ]
  },
  {
   "cell_type": "code",
   "execution_count": 1,
   "metadata": {
    "scrolled": true
   },
   "outputs": [],
   "source": [
    "# Dependencies and Setup\n",
    "import matplotlib.pyplot as plt\n",
    "import pandas as pd\n",
    "import numpy as np\n",
    "import scipy.stats as st\n",
    "from scipy.stats import linregress\n",
    "from sklearn import datasets\n",
    "import requests\n",
    "import time\n",
    "\n",
    "\n",
    "# Import API key\n",
    "from api_keys import weather_api_key\n",
    "\n",
    "# Incorporated citipy to determine city based on latitude and longitude\n",
    "from citipy import citipy\n",
    "\n",
    "# Output File (CSV)\n",
    "output_data_file = \"output_data/cities.csv\"\n",
    "\n",
    "# Range of latitudes and longitudes\n",
    "lat_range = (-90, 90)\n",
    "lng_range = (-180, 180)"
   ]
  },
  {
   "cell_type": "markdown",
   "metadata": {},
   "source": [
    "## Generate Cities List"
   ]
  },
  {
   "cell_type": "code",
   "execution_count": 2,
   "metadata": {},
   "outputs": [
    {
     "name": "stdout",
     "output_type": "stream",
     "text": [
      "***************************************************************************************\n",
      "Do I need to include logging in addition to wrting out the .csv???\n",
      "***************************************************************************************\n",
      "616\n",
      "['avera', 'alcaniz', 'hamilton', 'sechura', 'barrow', 'tabas', 'taolanaro', 'lebu', 'narsaq', 'kaduy', 'yeppoon', 'mataura', 'katobu', 'suining', 'souillac', 'provideniya', 'hobart', 'udachnyy', 'hithadhoo', 'port elizabeth', 'alofi', 'ilulissat', 'hasaki', 'kloulklubed', 'cape town', 'ilo', 'sitka', 'whitehorse', 'hovd', 'rikitea', 'khatanga', 'busselton', 'butaritari', 'gat', 'houma', 'nizhneyansk', 'meyungs', 'bowen', 'buraydah', 'ketchikan', 'warqla', 'vaini', 'san cristobal', 'mahebourg', 'hermanus', 'bredasdorp', 'gondanglegi', 'saint george', 'puerto ayora', 'torbay', 'port alfred', 'atuona', 'bambous virieux', 'yellowknife', 'lasa', 'mount isa', 'samusu', 'verkhnyaya inta', 'volot', 'castro', 'bluff', 'amderma', 'ituni', 'itaberaba', 'trelew', 'punta arenas', 'basco', 'katsuura', 'saint-philippe', 'visby', 'coahuayana', 'qaanaaq', 'leshan', 'port shepstone', 'ushuaia', 'harrison', 'albany', 'seymchan', 'odienne', 'san clemente', 'tumannyy', 'chifeng', 'pietarsaari', 'altay', 'jamestown', 'grand river south east', 'kavieng', 'hilo', 'illapel', 'avarua', 'east london', 'ashland', 'havre', 'shenxian', 'talnakh', 'hadejia', 'tuktoyaktuk', 'aklavik', 'tasiilaq', 'poum', 'marcona', 'fagersta', 'bayamo', 'indian head', 'barentsburg', 'khania', 'labuan', 'tarpon springs', 'kapaa', 'kankakee', 'zabolottya', 'cidreira', 'belushya guba', 'goderich', 'kosya', 'paragominas', 'dikson', 'bethel', 'aden', 'chegdomyn', 'ntoum', 'longyearbyen', 'vila', 'corner brook', 'saskylakh', 'barmer', 'kapasan', 'port hedland', 'prachuap khiri khan', 'mehamn', 'isangel', 'ambilobe', 'new norfolk', 'attawapiskat', 'mys shmidta', 'bubaque', 'mayo', 'kununurra', 'carlyle', 'daoukro', 'laguna', 'walvis bay', 'alyangula', 'ribeira grande', 'coquimbo', 'ondorhaan', 'hualmay', 'nador', 'caraballeda', 'plettenberg bay', 'cabo san lucas', 'iskateley', 'lethem', 'abu jubayhah', 'pousat', 'lodwar', 'kavaratti', 'arlit', 'brae', 'andrychow', 'nikolskoye', 'kingman', 'ancud', 'mont-joli', 'kushmurun', 'nokaneng', 'svetlaya', 'churapcha', 'bambanglipuro', 'beloha', 'georgetown', 'lata', 'minna', 'severo-kurilsk', 'burnie', 'coulihaut', 'mildura', 'mana', 'verkhnevilyuysk', 'mahaicony', 'emba', 'mar del plata', 'sao joao da barra', 'saleaula', 'tshikapa', 'thompson', 'ponta do sol', 'dwarka', 'gazanjyk', 'giddalur', 'noyabrsk', 'yatou', 'dolinsk', 'nanortalik', 'upernavik', 'pandan', 'gravdal', 'stolin', 'comodoro rivadavia', 'clonakilty', 'ossora', 'corinto', 'bogo', 'varangaon', 'mareeba', 'panaba', 'vestmannaeyjar', 'pacific grove', 'illoqqortoormiut', 'taksimo', 'kaeo', 'yarada', 'san patricio', 'geraldton', 'sao jose da coroa grande', 'ratnagiri', 'elko', 'kailua', 'apt', 'carnarvon', 'arraial do cabo', 'karaton', 'barcelos', 'praia', 'valparaiso', 'pokhvistnevo', 'montes claros', 'la ronge', 'ust-kamchatsk', 'bathsheba', 'westport', 'nova aurora', 'akyab', 'mount gambier', 'achacachi', 'pangnirtung', 'alekseyevsk', 'sisimiut', 'muisne', 'aguas vermelhas', 'ponta delgada', 'college', 'tamandare', 'lorengau', 'matagami', 'camacha', 'tobermory', 'lajas', 'gorno-chuyskiy', 'bani', 'bengkulu', 'kutum', 'sobolevo', 'mercedes', 'stornoway', 'vardo', 'higuey', 'faanui', 'margate', 'cabedelo', 'puerto escondido', 'lavrentiya', 'vesoul', 'sao domingos do maranhao', 'mopipi', 'turayf', 'olafsvik', 'leon', 'aitape', 'camacupa', 'constitucion', 'beringovskiy', 'la romana', 'kiunga', 'hokitika', 'sentyabrskiy', 'barawe', 'kaitangata', 'dingle', 'suntar', 'vanavara', 'senneterre', 'alamosa', 'sioux lookout', 'teknaf', 'monte santo', 'los llanos de aridane', 'kamenka', 'bonthe', 'lolua', 'acapulco', 'mahajanga', 'hailar', 'cap-aux-meules', 'ekhabi', 'nioro', 'kearney', 'caravelas', 'havelock', 'broome', 'santa maria', 'kodiak', 'necochea', 'tiksi', 'lebanon', 'kizukuri', 'yuci', 'pochutla', 'victoria', 'inhambane', 'kautokeino', 'port hardy', 'phan rang', 'hay river', 'nantucket', 'bac lieu', 'norman wells', 'monte patria', 'jalu', 'mwanza', 'benton', 'chokurdakh', 'satitoa', 'iquitos', 'thai binh', 'acari', 'parys', 'bukama', 'jackson', 'chuy', 'airai', 'neftcala', 'ambatofinandrahana', 'turkistan', 'port lincoln', 'auriflama', 'heishan', 'moshi', 'portland', 'ngukurr', 'luderitz', 'tazovskiy', 'ust-maya', 'grindavik', 'nouadhibou', 'khandyga', 'hondo', 'mitsamiouli', 'half moon bay', 'talcahuano', 'vaitupu', 'kulu', 'sabang', 'springfield', 'dergachi', 'husavik', 'ucluelet', 'iiyama', 'doha', 'udayagiri', 'scottsbluff', 'xochistlahuaca', 'clyde river', 'mogadouro', 'camabatela', 'luganville', 'camalu', 'esso', 'bilibino', 'jurm', 'faya', 'the valley', 'chesterton', 'iqaluit', 'pemangkat', 'muravlenko', 'babanusah', 'sultanpur', 'yushala', 'chitipa', 'henties bay', 'almeirim', 'demba', 'anadyr', 'paracuru', 'methoni', 'gigmoto', 'vagamo', 'batemans bay', 'pisco', 'nioki', 'nadym', 'izazi', 'mbandaka', 'moose factory', 'leningradskiy', 'amfissa', 'tilichiki', 'caala', 'salalah', 'angoram', 'ambon', 'ahipara', 'bolivar', 'rancho santa margarita', 'igarka', 'baruun-urt', 'vila franca do campo', 'gimli', 'bokspits', 'sakakah', 'torit', 'karonga', 'tres lagoas', 'asau', 'deputatskiy', 'bara', 'disna', 'grootfontein', 'san carlos de bariloche', 'poya', 'srednekolymsk', 'waipawa', 'kadykchan', 'north bend', 'port-gentil', 'gasa', 'kruisfontein', 'port blair', 'roma', 'cherskiy', 'sao felix do xingu', 'manitouwadge', 'khani', 'scalloway', 'taoudenni', 'balclutha', 'pauri', 'saint-augustin', 'ibra', 'fatima', 'palmer', 'paredon', 'almansa', 'vanimo', 'jijiga', 'santiago del estero', 'erzurum', 'sept-iles', 'guhagar', 'kalmunai', 'pacifica', 'winthrop', 'namatanai', 'gollere', 'mubi', 'slobodskoy', 'mnogovershinnyy', 'tanout', 'iracoubo', 'turukhansk', 'chulumani', 'jega', 'calarasi', 'mahibadhoo', 'cayenne', 'castanos', 'umba', 'northam', 'hudson', 'naze', 'saint-louis', 'pali', 'holzkirchen', 'qaqortoq', 'tuatapere', 'kamenskoye', 'malakal', 'zabaykalsk', 'esperance', 'sinnamary', 'den helder', 'tual', 'liverpool', 'flin flon', 'klaksvik', 'lagoa', 'petropavlovsk-kamchatskiy', 'bima', 'quelimane', 'yerbogachen', 'rimini', 'vao', 'thinadhoo', 'bandarbeyla', 'puerto del rosario', 'tiznit', 'portree', 'puerto baquerizo moreno', 'fairbanks', 'dakoro', 'safranbolu', 'guntakal', 'sovkhoznyy', 'sri aman', 'safakulevo', 'rio grande', 'ust-tsilma', 'pirgos', 'pevek', 'dunedin', 'black river', 'bargal', 'matara', 'artyom', 'leogane', 'general pico', 'ahome', 'guerrero negro', 'kachug', 'korla', 'watertown', 'korsakov', 'felanitx', 'sorvag', 'adrar', 'malyye derbety', 'tsihombe', 'mayor pablo lagerenza', 'farrukhnagar', 'mumford', 'tadine', 'navabad', 'fortuna', 'temaraia', 'kahului', 'ipeti', 'chunhuhub', 'nara', 'pokaran', 'saint-gaudens', 'lafia', 'mankono', 'bereda', 'senigallia', 'barranca', 'koutsouras', 'harper', 'luneville', 'touros', 'punganuru', 'tura', 'katrineholm', 'joao camara', 'umzimvubu', 'saint-pierre', 'progreso', 'sinaloa', 'nome', 'leh', 'kamien pomorski', 'abu samrah', 'guarapari', 'ostrovnoy', 'inirida', 'ankang', 'port macquarie', 'brownsville', 'fort nelson', 'burevestnik', 'burica', 'luangwa', 'rawson', 'saint anthony', 'cefalu', 'huejuquilla el alto', 'xining', 'san quintin', 'bloemfontein', 'salina cruz', 'asfi', 'milyutinskaya', 'genhe', 'wentzville', 'kibala', 'kirakira', 'otavi', 'kysyl-syr', 'kalevala', 'prainha', 'santo antonio do ica', 'hobyo', 'louisbourg', 'huntington', 'chernyshevskiy', 'rorvik', 'muros', 'mikhaylovskoye', 'hisor', 'srivardhan', 'samalaeulu', 'rabo de peixe', 'kudahuvadhoo', 'nipawin', 'bordighera', 'saint stephen', 'datong', 'mecca', 'healesville', 'ola', 'bodo', 'abonnema', 'sorland', 'sur', 'waingapu', 'zelenoborskiy']\n",
      "*******************************************************************************************\n",
      "Temporarily reducging cities from cities to cities[0:10] so only get 10 cities intially\n",
      "before calling api.openweathermap.org since they have limits\n",
      "I believe 60 calls/minute and 1M calls/month per month)\n",
      "*******************************************************************************************\n",
      "['avera', 'alcaniz', 'hamilton', 'sechura', 'barrow', 'tabas', 'taolanaro', 'lebu', 'narsaq', 'kaduy']\n"
     ]
    }
   ],
   "source": [
    "# List for holding lat_lngs and cities\n",
    "lat_lngs = []\n",
    "cities = []\n",
    "\n",
    "# Create a set of random lat and lng combinations\n",
    "lats = np.random.uniform(lat_range[0], lat_range[1], size=1500)\n",
    "lngs = np.random.uniform(lng_range[0], lng_range[1], size=1500)\n",
    "lat_lngs = zip(lats, lngs)\n",
    "\n",
    "# Identify nearest city for each lat, lng combination\n",
    "for lat_lng in lat_lngs:\n",
    "    city = citipy.nearest_city(lat_lng[0], lat_lng[1]).city_name\n",
    "    \n",
    "    # If the city is unique, then add it to a our cities list\n",
    "    if city not in cities:\n",
    "        cities.append(city)\n",
    "\n",
    "print(\"***************************************************************************************\")\n",
    "# df.head(n).to_csv('yourfileout.csv', encoding='utf-8')\n",
    "# city_logging.info('dataframe head - {}'.format(cities.head()))\n",
    "print(\"Do I need to include logging in addition to wrting out the .csv???\")\n",
    "print(\"***************************************************************************************\")\n",
    "    \n",
    "# Print the city count to confirm sufficient count\n",
    "print(len(cities))\n",
    "print(cities)\n",
    "print(\"*******************************************************************************************\")\n",
    "print(\"Temporarily reducging cities from cities to cities[0:10] so only get 10 cities intially\")\n",
    "print(\"before calling api.openweathermap.org since they have limits\") \n",
    "print(\"I believe 60 calls/minute and 1M calls/month per month)\")\n",
    "cities = cities[0:10]\n",
    "print(\"*******************************************************************************************\")\n",
    "print(cities)"
   ]
  },
  {
   "cell_type": "markdown",
   "metadata": {},
   "source": [
    "### Perform API Calls\n",
    "* Perform a weather check on each city using a series of successive API calls.\n",
    "* Include a print log of each city as it'sbeing processed (with the city number and city name).\n"
   ]
  },
  {
   "cell_type": "code",
   "execution_count": 18,
   "metadata": {
    "scrolled": false
   },
   "outputs": [
    {
     "name": "stdout",
     "output_type": "stream",
     "text": [
      "cities\n",
      "['avera', 'alcaniz', 'hamilton', 'sechura', 'barrow', 'tabas', 'lebu', 'narsaq', 'kaduy']\n",
      "city is avera\n",
      "The latitude information for city avera #0 received is: [33.194]\n",
      "The longitude information for city avera #0 received is: [-82.5271]\n",
      "The temperature information for city avera #0 received is: [15.49]\n",
      "The temperature Maximum information for city avera #0 received is: [17.08]\n",
      "The humidty information for city avera #0 received is: [33]\n",
      "The cloudiness information for city avera #0 received is: [0]\n",
      "The windiness information for city avera #0 received is: [3.17]\n",
      "city is alcaniz\n",
      "The latitude information for city alcaniz #1 received is: [33.194, 41.05]\n",
      "The longitude information for city alcaniz #1 received is: [-82.5271, -0.1333]\n",
      "The temperature information for city alcaniz #1 received is: [15.49, 7.58]\n",
      "The temperature Maximum information for city alcaniz #1 received is: [17.08, 7.82]\n",
      "The humidty information for city alcaniz #1 received is: [33, 72]\n",
      "The cloudiness information for city alcaniz #1 received is: [0, 0]\n",
      "The windiness information for city alcaniz #1 received is: [3.17, 1.31]\n",
      "city is hamilton\n",
      "The latitude information for city hamilton #2 received is: [33.194, 41.05, 39.1834]\n",
      "The longitude information for city hamilton #2 received is: [-82.5271, -0.1333, -84.5333]\n",
      "The temperature information for city hamilton #2 received is: [15.49, 7.58, 10.37]\n",
      "The temperature Maximum information for city hamilton #2 received is: [17.08, 7.82, 11.6]\n",
      "The humidty information for city hamilton #2 received is: [33, 72, 52]\n",
      "The cloudiness information for city hamilton #2 received is: [0, 0, 0]\n",
      "The windiness information for city hamilton #2 received is: [3.17, 1.31, 5.66]\n",
      "city is sechura\n",
      "The latitude information for city sechura #3 received is: [33.194, 41.05, 39.1834, -5.5569]\n",
      "The longitude information for city sechura #3 received is: [-82.5271, -0.1333, -84.5333, -80.8222]\n",
      "The temperature information for city sechura #3 received is: [15.49, 7.58, 10.37, 27.2]\n",
      "The temperature Maximum information for city sechura #3 received is: [17.08, 7.82, 11.6, 27.2]\n",
      "The humidty information for city sechura #3 received is: [33, 72, 52, 54]\n",
      "The cloudiness information for city sechura #3 received is: [0, 0, 0, 100]\n",
      "The windiness information for city sechura #3 received is: [3.17, 1.31, 5.66, 6.84]\n",
      "city is barrow\n",
      "The latitude information for city barrow #4 received is: [33.194, 41.05, 39.1834, -5.5569, 71.2906]\n",
      "The longitude information for city barrow #4 received is: [-82.5271, -0.1333, -84.5333, -80.8222, -156.7887]\n",
      "The temperature information for city barrow #4 received is: [15.49, 7.58, 10.37, 27.2, -30.99]\n",
      "The temperature Maximum information for city barrow #4 received is: [17.08, 7.82, 11.6, 27.2, -30.99]\n",
      "The humidty information for city barrow #4 received is: [33, 72, 52, 54, 69]\n",
      "The cloudiness information for city barrow #4 received is: [0, 0, 0, 100, 0]\n",
      "The windiness information for city barrow #4 received is: [3.17, 1.31, 5.66, 6.84, 6.69]\n",
      "city is tabas\n",
      "The latitude information for city tabas #5 received is: [33.194, 41.05, 39.1834, -5.5569, 71.2906, 33.5959]\n",
      "The longitude information for city tabas #5 received is: [-82.5271, -0.1333, -84.5333, -80.8222, -156.7887, 56.9244]\n",
      "The temperature information for city tabas #5 received is: [15.49, 7.58, 10.37, 27.2, -30.99, 11.54]\n",
      "The temperature Maximum information for city tabas #5 received is: [17.08, 7.82, 11.6, 27.2, -30.99, 11.54]\n",
      "The humidty information for city tabas #5 received is: [33, 72, 52, 54, 69, 27]\n",
      "The cloudiness information for city tabas #5 received is: [0, 0, 0, 100, 0, 2]\n",
      "The windiness information for city tabas #5 received is: [3.17, 1.31, 5.66, 6.84, 6.69, 2.81]\n",
      "city is lebu\n",
      "The latitude information for city lebu #6 received is: [33.194, 41.05, 39.1834, -5.5569, 71.2906, 33.5959, -37.6167]\n",
      "The longitude information for city lebu #6 received is: [-82.5271, -0.1333, -84.5333, -80.8222, -156.7887, 56.9244, -73.65]\n",
      "The temperature information for city lebu #6 received is: [15.49, 7.58, 10.37, 27.2, -30.99, 11.54, 17.53]\n",
      "The temperature Maximum information for city lebu #6 received is: [17.08, 7.82, 11.6, 27.2, -30.99, 11.54, 17.53]\n",
      "The humidty information for city lebu #6 received is: [33, 72, 52, 54, 69, 27, 66]\n",
      "The cloudiness information for city lebu #6 received is: [0, 0, 0, 100, 0, 2, 0]\n",
      "The windiness information for city lebu #6 received is: [3.17, 1.31, 5.66, 6.84, 6.69, 2.81, 9.78]\n",
      "city is narsaq\n",
      "The latitude information for city narsaq #7 received is: [33.194, 41.05, 39.1834, -5.5569, 71.2906, 33.5959, -37.6167, 60.9167]\n",
      "The longitude information for city narsaq #7 received is: [-82.5271, -0.1333, -84.5333, -80.8222, -156.7887, 56.9244, -73.65, -46.05]\n",
      "The temperature information for city narsaq #7 received is: [15.49, 7.58, 10.37, 27.2, -30.99, 11.54, 17.53, -8.88]\n",
      "The temperature Maximum information for city narsaq #7 received is: [17.08, 7.82, 11.6, 27.2, -30.99, 11.54, 17.53, -8.88]\n",
      "The humidty information for city narsaq #7 received is: [33, 72, 52, 54, 69, 27, 66, 73]\n",
      "The cloudiness information for city narsaq #7 received is: [0, 0, 0, 100, 0, 2, 0, 86]\n",
      "The windiness information for city narsaq #7 received is: [3.17, 1.31, 5.66, 6.84, 6.69, 2.81, 9.78, 4.06]\n",
      "city is kaduy\n",
      "The latitude information for city kaduy #8 received is: [33.194, 41.05, 39.1834, -5.5569, 71.2906, 33.5959, -37.6167, 60.9167, 59.2]\n",
      "The longitude information for city kaduy #8 received is: [-82.5271, -0.1333, -84.5333, -80.8222, -156.7887, 56.9244, -73.65, -46.05, 37.15]\n",
      "The temperature information for city kaduy #8 received is: [15.49, 7.58, 10.37, 27.2, -30.99, 11.54, 17.53, -8.88, -0.98]\n",
      "The temperature Maximum information for city kaduy #8 received is: [17.08, 7.82, 11.6, 27.2, -30.99, 11.54, 17.53, -8.88, -0.98]\n",
      "The humidty information for city kaduy #8 received is: [33, 72, 52, 54, 69, 27, 66, 73, 96]\n",
      "The cloudiness information for city kaduy #8 received is: [0, 0, 0, 100, 0, 2, 0, 86, 100]\n",
      "The windiness information for city kaduy #8 received is: [3.17, 1.31, 5.66, 6.84, 6.69, 2.81, 9.78, 4.06, 2.26]\n",
      "cities is now ['avera', 'alcaniz', 'hamilton', 'sechura', 'barrow', 'tabas', 'lebu', 'narsaq', 'kaduy']\n",
      "\n",
      "The weather API responded with: {'coord': {'lon': 37.15, 'lat': 59.2}, 'weather': [{'id': 804, 'main': 'Clouds', 'description': 'overcast clouds', 'icon': '04n'}], 'base': 'stations', 'main': {'temp': 272.17, 'feels_like': 269.23, 'temp_min': 272.17, 'temp_max': 272.17, 'pressure': 1004, 'humidity': 96, 'sea_level': 1004, 'grnd_level': 990}, 'visibility': 10000, 'wind': {'speed': 2.26, 'deg': 220, 'gust': 5.79}, 'clouds': {'all': 100}, 'dt': 1644438111, 'sys': {'type': 1, 'id': 8931, 'country': 'RU', 'sunrise': 1644384171, 'sunset': 1644415708}, 'timezone': 10800, 'id': 554535, 'name': 'Kaduy', 'cod': 200}.\n"
     ]
    }
   ],
   "source": [
    "# Save config information.\n",
    "url = \"http://api.openweathermap.org/data/2.5/weather?\"\n",
    "units = \"metric\"\n",
    "\n",
    "# Build partial query URL\n",
    "query_url = f\"{url}appid={weather_api_key}&units={units}&q=\"\n",
    "\n",
    "\n",
    "# set up lists to hold reponse info\n",
    "lat = []\n",
    "lon = []\n",
    "temp = []\n",
    "temp_max = []\n",
    "humidity=[]\n",
    "clouds=[]\n",
    "wind=[]\n",
    "del_cities = []\n",
    "del_cities_index = []\n",
    "i = 0\n",
    "city_counter=0\n",
    "\n",
    "print(\"cities\")\n",
    "print(cities)\n",
    "# Loop through the list of cities and perform a request for data on each\n",
    "for city in cities:\n",
    "    print(f'city is {city}')\n",
    "    try:\n",
    "        response = requests.get(query_url + city).json()\n",
    "        time.sleep(0.05)\n",
    "        lat.append(response['coord']['lat'])\n",
    "        print(f\"The latitude information for city {city} #{city_counter} received is: {lat}\")\n",
    "        lon.append(response['coord']['lon'])\n",
    "        print(f\"The longitude information for city {city} #{city_counter} received is: {lon}\")\n",
    "        temp.append(response['main']['temp'])\n",
    "        print(f\"The temperature information for city {city} #{city_counter} received is: {temp}\")\n",
    "        temp_max.append(response['main']['temp_max'])\n",
    "        print(f\"The temperature Maximum information for city {city} #{city_counter} received is: {temp_max}\")\n",
    "        humidity.append(response['main']['humidity'])\n",
    "        print(f\"The humidty information for city {city} #{city_counter} received is: {humidity}\")\n",
    "        clouds.append(response['clouds']['all'])\n",
    "        print(f\"The cloudiness information for city {city} #{city_counter} received is: {clouds}\")\n",
    "        wind.append(response['wind']['speed'])\n",
    "        print(f\"The windiness information for city {city} #{city_counter} received is: {wind}\")\n",
    "        \n",
    "    except KeyError:\n",
    "        print()\n",
    "        print(\"Oops!  That might not be a valid data point.  Try again... and later remove the invalid city(s) from cities\")\n",
    "        print(f'Issue with {city} of index {city_counter}')\n",
    "        del_cities_index.append(city_counter)\n",
    "        print('len(del_cities_index)')\n",
    "        print(len(del_cities_index))        \n",
    "        \n",
    "    city_counter+=1\n",
    "if len(del_cities_index)>0:\n",
    "    for i in range(0, len(del_cities_index)):\n",
    "        print(f'the value of i is {i}')\n",
    "        print(f'Deleting {del_cities_index}[{i}]')\n",
    "        del cities[int(del_cities_index[i])]  \n",
    "\n",
    "# from the list\n",
    "print(f'cities is now {cities}')\n",
    "print()\n",
    "    \n",
    "# Build query URL\n",
    "query_url = url + \"appid=\" + weather_api_key + \"&q=\" + city  \n",
    "\n",
    "# Get weather data\n",
    "weather_response = requests.get(query_url)\n",
    "weather_json = weather_response.json()\n",
    "\n",
    "# Get the temperature from the response\n",
    "print(f\"The weather API responded with: {weather_json}.\")"
   ]
  },
  {
   "cell_type": "markdown",
   "metadata": {},
   "source": [
    "### Convert Raw Data to DataFrame\n",
    "* Export the city data into a .csv.\n",
    "* Display the DataFrame"
   ]
  },
  {
   "cell_type": "code",
   "execution_count": 20,
   "metadata": {},
   "outputs": [
    {
     "name": "stdout",
     "output_type": "stream",
     "text": [
      "City ['avera', 'alcaniz', 'hamilton', 'sechura', 'barrow', 'tabas', 'lebu', 'narsaq', 'kaduy']\n",
      "Lat [33.194, 41.05, 39.1834, -5.5569, 71.2906, 33.5959, -37.6167, 60.9167, 59.2]\n",
      "weather_dict\n",
      "{'city': ['avera', 'alcaniz', 'hamilton', 'sechura', 'barrow', 'tabas', 'lebu', 'narsaq', 'kaduy'], 'lat': [33.194, 41.05, 39.1834, -5.5569, 71.2906, 33.5959, -37.6167, 60.9167, 59.2], 'lon': [-82.5271, -0.1333, -84.5333, -80.8222, -156.7887, 56.9244, -73.65, -46.05, 37.15], 'temp': [15.49, 7.58, 10.37, 27.2, -30.99, 11.54, 17.53, -8.88, -0.98], 'TempMax': [17.08, 7.82, 11.6, 27.2, -30.99, 11.54, 17.53, -8.88, -0.98], 'Humidity': [33, 72, 52, 54, 69, 27, 66, 73, 96], 'Cloudiness': [0, 0, 0, 100, 0, 2, 0, 86, 100], 'Wind Speed': [3.17, 1.31, 5.66, 6.84, 6.69, 2.81, 9.78, 4.06, 2.26]}\n",
      "\n",
      "       city      lat       lon   temp  TempMax  Humidity  Cloudiness  \\\n",
      "0     avera  33.1940  -82.5271  15.49    17.08        33           0   \n",
      "1   alcaniz  41.0500   -0.1333   7.58     7.82        72           0   \n",
      "2  hamilton  39.1834  -84.5333  10.37    11.60        52           0   \n",
      "3   sechura  -5.5569  -80.8222  27.20    27.20        54         100   \n",
      "4    barrow  71.2906 -156.7887 -30.99   -30.99        69           0   \n",
      "5     tabas  33.5959   56.9244  11.54    11.54        27           2   \n",
      "6      lebu -37.6167  -73.6500  17.53    17.53        66           0   \n",
      "7    narsaq  60.9167  -46.0500  -8.88    -8.88        73          86   \n",
      "8     kaduy  59.2000   37.1500  -0.98    -0.98        96         100   \n",
      "\n",
      "   Wind Speed  \n",
      "0        3.17  \n",
      "1        1.31  \n",
      "2        5.66  \n",
      "3        6.84  \n",
      "4        6.69  \n",
      "5        2.81  \n",
      "6        9.78  \n",
      "7        4.06  \n",
      "8        2.26  \n"
     ]
    }
   ],
   "source": [
    "# Output File (CSV)\n",
    "output_data_file = \"output_data/cities.csv\"\n",
    "\n",
    " # create a data frame from cities, lat, temp, etc\n",
    "print(f'City {cities}')\n",
    "print(f'Lat {lat}')\n",
    "      \n",
    "#     \"lat\": lat,\n",
    "#     \"lon\": lon,\n",
    "#     \"temp\": temp,\n",
    "#     \"TempMax\": temp_max,\n",
    "#     \"Humidity\": humidity,\n",
    "#     \"Cloudiness\": clouds,\n",
    "#     \"Wind Speed\":wind \n",
    "#       \")\n",
    "weather_dict = {\n",
    "    \"city\": cities,\n",
    "    \"lat\": lat,\n",
    "    \"lon\": lon,\n",
    "    \"temp\": temp,\n",
    "    \"TempMax\": temp_max,\n",
    "    \"Humidity\": humidity,\n",
    "    \"Cloudiness\": clouds,\n",
    "    \"Wind Speed\":wind \n",
    "}\n",
    "\n",
    "print(\"weather_dict\")\n",
    "print(weather_dict)\n",
    "print()\n",
    "\n",
    "weather_data = pd.DataFrame(weather_dict)\n",
    "print(weather_data)\n",
    "\n",
    "# Save as a csv\n",
    "# Note to avoid any issues later, use encoding=\"utf-8\"\n",
    "weather_data.to_csv(output_data_file, encoding=\"utf-8\", index=False)"
   ]
  },
  {
   "cell_type": "code",
   "execution_count": 21,
   "metadata": {},
   "outputs": [
    {
     "data": {
      "text/html": [
       "<div>\n",
       "<style scoped>\n",
       "    .dataframe tbody tr th:only-of-type {\n",
       "        vertical-align: middle;\n",
       "    }\n",
       "\n",
       "    .dataframe tbody tr th {\n",
       "        vertical-align: top;\n",
       "    }\n",
       "\n",
       "    .dataframe thead th {\n",
       "        text-align: right;\n",
       "    }\n",
       "</style>\n",
       "<table border=\"1\" class=\"dataframe\">\n",
       "  <thead>\n",
       "    <tr style=\"text-align: right;\">\n",
       "      <th></th>\n",
       "      <th>city</th>\n",
       "      <th>lat</th>\n",
       "      <th>lon</th>\n",
       "      <th>temp</th>\n",
       "      <th>TempMax</th>\n",
       "      <th>Humidity</th>\n",
       "      <th>Cloudiness</th>\n",
       "      <th>Wind Speed</th>\n",
       "    </tr>\n",
       "  </thead>\n",
       "  <tbody>\n",
       "    <tr>\n",
       "      <th>0</th>\n",
       "      <td>avera</td>\n",
       "      <td>33.1940</td>\n",
       "      <td>-82.5271</td>\n",
       "      <td>15.49</td>\n",
       "      <td>17.08</td>\n",
       "      <td>33</td>\n",
       "      <td>0</td>\n",
       "      <td>3.17</td>\n",
       "    </tr>\n",
       "    <tr>\n",
       "      <th>1</th>\n",
       "      <td>alcaniz</td>\n",
       "      <td>41.0500</td>\n",
       "      <td>-0.1333</td>\n",
       "      <td>7.58</td>\n",
       "      <td>7.82</td>\n",
       "      <td>72</td>\n",
       "      <td>0</td>\n",
       "      <td>1.31</td>\n",
       "    </tr>\n",
       "    <tr>\n",
       "      <th>2</th>\n",
       "      <td>hamilton</td>\n",
       "      <td>39.1834</td>\n",
       "      <td>-84.5333</td>\n",
       "      <td>10.37</td>\n",
       "      <td>11.60</td>\n",
       "      <td>52</td>\n",
       "      <td>0</td>\n",
       "      <td>5.66</td>\n",
       "    </tr>\n",
       "    <tr>\n",
       "      <th>3</th>\n",
       "      <td>sechura</td>\n",
       "      <td>-5.5569</td>\n",
       "      <td>-80.8222</td>\n",
       "      <td>27.20</td>\n",
       "      <td>27.20</td>\n",
       "      <td>54</td>\n",
       "      <td>100</td>\n",
       "      <td>6.84</td>\n",
       "    </tr>\n",
       "    <tr>\n",
       "      <th>4</th>\n",
       "      <td>barrow</td>\n",
       "      <td>71.2906</td>\n",
       "      <td>-156.7887</td>\n",
       "      <td>-30.99</td>\n",
       "      <td>-30.99</td>\n",
       "      <td>69</td>\n",
       "      <td>0</td>\n",
       "      <td>6.69</td>\n",
       "    </tr>\n",
       "    <tr>\n",
       "      <th>5</th>\n",
       "      <td>tabas</td>\n",
       "      <td>33.5959</td>\n",
       "      <td>56.9244</td>\n",
       "      <td>11.54</td>\n",
       "      <td>11.54</td>\n",
       "      <td>27</td>\n",
       "      <td>2</td>\n",
       "      <td>2.81</td>\n",
       "    </tr>\n",
       "    <tr>\n",
       "      <th>6</th>\n",
       "      <td>lebu</td>\n",
       "      <td>-37.6167</td>\n",
       "      <td>-73.6500</td>\n",
       "      <td>17.53</td>\n",
       "      <td>17.53</td>\n",
       "      <td>66</td>\n",
       "      <td>0</td>\n",
       "      <td>9.78</td>\n",
       "    </tr>\n",
       "    <tr>\n",
       "      <th>7</th>\n",
       "      <td>narsaq</td>\n",
       "      <td>60.9167</td>\n",
       "      <td>-46.0500</td>\n",
       "      <td>-8.88</td>\n",
       "      <td>-8.88</td>\n",
       "      <td>73</td>\n",
       "      <td>86</td>\n",
       "      <td>4.06</td>\n",
       "    </tr>\n",
       "    <tr>\n",
       "      <th>8</th>\n",
       "      <td>kaduy</td>\n",
       "      <td>59.2000</td>\n",
       "      <td>37.1500</td>\n",
       "      <td>-0.98</td>\n",
       "      <td>-0.98</td>\n",
       "      <td>96</td>\n",
       "      <td>100</td>\n",
       "      <td>2.26</td>\n",
       "    </tr>\n",
       "  </tbody>\n",
       "</table>\n",
       "</div>"
      ],
      "text/plain": [
       "       city      lat       lon   temp  TempMax  Humidity  Cloudiness  \\\n",
       "0     avera  33.1940  -82.5271  15.49    17.08        33           0   \n",
       "1   alcaniz  41.0500   -0.1333   7.58     7.82        72           0   \n",
       "2  hamilton  39.1834  -84.5333  10.37    11.60        52           0   \n",
       "3   sechura  -5.5569  -80.8222  27.20    27.20        54         100   \n",
       "4    barrow  71.2906 -156.7887 -30.99   -30.99        69           0   \n",
       "5     tabas  33.5959   56.9244  11.54    11.54        27           2   \n",
       "6      lebu -37.6167  -73.6500  17.53    17.53        66           0   \n",
       "7    narsaq  60.9167  -46.0500  -8.88    -8.88        73          86   \n",
       "8     kaduy  59.2000   37.1500  -0.98    -0.98        96         100   \n",
       "\n",
       "   Wind Speed  \n",
       "0        3.17  \n",
       "1        1.31  \n",
       "2        5.66  \n",
       "3        6.84  \n",
       "4        6.69  \n",
       "5        2.81  \n",
       "6        9.78  \n",
       "7        4.06  \n",
       "8        2.26  "
      ]
     },
     "execution_count": 21,
     "metadata": {},
     "output_type": "execute_result"
    }
   ],
   "source": [
    "# Display the DataFrame\n",
    "weather_data"
   ]
  },
  {
   "cell_type": "markdown",
   "metadata": {},
   "source": [
    "## Inspect the data and remove the cities where the humidity > 100%.\n",
    "----\n",
    "Skip this step if there are no cities that have humidity > 100%. \n"
   ]
  },
  {
   "cell_type": "code",
   "execution_count": 22,
   "metadata": {},
   "outputs": [
    {
     "name": "stdout",
     "output_type": "stream",
     "text": [
      "*******************************************************************************************\n",
      "Need to change humidity[city_counter]) > 80 from 80 to 100\n",
      "*******************************************************************************************\n",
      "Skip since no humidity >80\n",
      "Skip since no humidity >80\n",
      "Skip since no humidity >80\n",
      "Skip since no humidity >80\n",
      "Skip since no humidity >80\n",
      "Skip since no humidity >80\n",
      "Skip since no humidity >80\n",
      "Skip since no humidity >80\n",
      "The humidty information for city kaduy #8 received is: 96\n",
      "kaduy with city_counter of 8 has humidty >80 so need to remove later\n",
      "Latest cities_high_humidity\n",
      "[8]\n"
     ]
    }
   ],
   "source": [
    "cities_high_humidity = []\n",
    "city_counter=0\n",
    "print(\"*******************************************************************************************\")\n",
    "print(\"Need to change humidity[city_counter]) > 80 from 80 to 100\")\n",
    "print(\"*******************************************************************************************\")\n",
    "for city in cities:\n",
    "    if int(humidity[city_counter]) > 80:\n",
    "        print(f\"The humidty information for city {city} #{city_counter} received is: {humidity[city_counter]}\")\n",
    "        # Create a new list to track high humifity index values\n",
    "        cities_high_humidity.append(city_counter)\n",
    "        print(f\"{city} with city_counter of {city_counter} has humidty >80 so need to remove later\")\n",
    "    else:\n",
    "        print(\"Skip since no humidity >80\")\n",
    "    city_counter+=1\n",
    "print(\"Latest cities_high_humidity\")\n",
    "print(cities_high_humidity)"
   ]
  },
  {
   "cell_type": "code",
   "execution_count": 23,
   "metadata": {},
   "outputs": [
    {
     "name": "stdout",
     "output_type": "stream",
     "text": [
      "Latest cities_high_humidity\n",
      "[8]\n"
     ]
    }
   ],
   "source": [
    "#  Get the indices of cities that have humidity over 100%.\n",
    "print(\"Latest cities_high_humidity\")\n",
    "print(cities_high_humidity)"
   ]
  },
  {
   "cell_type": "code",
   "execution_count": 24,
   "metadata": {},
   "outputs": [
    {
     "name": "stdout",
     "output_type": "stream",
     "text": [
      "have high humidity data for city index #(s) [8]\n",
      "weather_data\n",
      "       city      lat       lon   temp  TempMax  Humidity  Cloudiness  \\\n",
      "0     avera  33.1940  -82.5271  15.49    17.08        33           0   \n",
      "1   alcaniz  41.0500   -0.1333   7.58     7.82        72           0   \n",
      "2  hamilton  39.1834  -84.5333  10.37    11.60        52           0   \n",
      "3   sechura  -5.5569  -80.8222  27.20    27.20        54         100   \n",
      "4    barrow  71.2906 -156.7887 -30.99   -30.99        69           0   \n",
      "5     tabas  33.5959   56.9244  11.54    11.54        27           2   \n",
      "6      lebu -37.6167  -73.6500  17.53    17.53        66           0   \n",
      "7    narsaq  60.9167  -46.0500  -8.88    -8.88        73          86   \n",
      "8     kaduy  59.2000   37.1500  -0.98    -0.98        96         100   \n",
      "\n",
      "   Wind Speed  \n",
      "0        3.17  \n",
      "1        1.31  \n",
      "2        5.66  \n",
      "3        6.84  \n",
      "4        6.69  \n",
      "5        2.81  \n",
      "6        9.78  \n",
      "7        4.06  \n",
      "8        2.26  \n",
      "\n",
      "clean_city_data\n",
      "       city      lat       lon   temp  TempMax  Humidity  Cloudiness  \\\n",
      "0     avera  33.1940  -82.5271  15.49    17.08        33           0   \n",
      "1   alcaniz  41.0500   -0.1333   7.58     7.82        72           0   \n",
      "2  hamilton  39.1834  -84.5333  10.37    11.60        52           0   \n",
      "3   sechura  -5.5569  -80.8222  27.20    27.20        54         100   \n",
      "4    barrow  71.2906 -156.7887 -30.99   -30.99        69           0   \n",
      "5     tabas  33.5959   56.9244  11.54    11.54        27           2   \n",
      "6      lebu -37.6167  -73.6500  17.53    17.53        66           0   \n",
      "7    narsaq  60.9167  -46.0500  -8.88    -8.88        73          86   \n",
      "\n",
      "   Wind Speed  \n",
      "0        3.17  \n",
      "1        1.31  \n",
      "2        5.66  \n",
      "3        6.84  \n",
      "4        6.69  \n",
      "5        2.81  \n",
      "6        9.78  \n",
      "7        4.06  \n",
      "\n",
      "clean_city_data after reset index\n",
      "   index      city      lat       lon   temp  TempMax  Humidity  Cloudiness  \\\n",
      "0      0     avera  33.1940  -82.5271  15.49    17.08        33           0   \n",
      "1      1   alcaniz  41.0500   -0.1333   7.58     7.82        72           0   \n",
      "2      2  hamilton  39.1834  -84.5333  10.37    11.60        52           0   \n",
      "3      3   sechura  -5.5569  -80.8222  27.20    27.20        54         100   \n",
      "4      4    barrow  71.2906 -156.7887 -30.99   -30.99        69           0   \n",
      "5      5     tabas  33.5959   56.9244  11.54    11.54        27           2   \n",
      "6      6      lebu -37.6167  -73.6500  17.53    17.53        66           0   \n",
      "7      7    narsaq  60.9167  -46.0500  -8.88    -8.88        73          86   \n",
      "\n",
      "   Wind Speed  \n",
      "0        3.17  \n",
      "1        1.31  \n",
      "2        5.66  \n",
      "3        6.84  \n",
      "4        6.69  \n",
      "5        2.81  \n",
      "6        9.78  \n",
      "7        4.06  \n"
     ]
    }
   ],
   "source": [
    "# Make a new DataFrame equal to the city data (aka weather_data) to drop all humidity outliers by index.\n",
    "# Passing \"inplace=False\" will make a copy of the city_data DataFrame, which we call \"clean_city_data\".\n",
    "clean_city_data=weather_data\n",
    "if len(cities_high_humidity) > 0:\n",
    "    print(f\"have high humidity data for city index #(s) {cities_high_humidity}\")\n",
    "    # dropping a row(s) from actual dataframe\n",
    "    #df.drop(['c', 'd'], inplace = True )\n",
    "    clean_city_data=clean_city_data.drop(cities_high_humidity, inplace=False) \n",
    "else:\n",
    "    print(\"No high humidity data\") \n",
    "print(\"weather_data\") \n",
    "print(weather_data)\n",
    "print()\n",
    "print(\"clean_city_data\") \n",
    "print(clean_city_data)\n",
    "print()\n",
    "\n",
    "clean_city_data.reset_index(inplace=True)\n",
    "print(\"clean_city_data after reset index\") \n",
    "print(clean_city_data)\n",
    "\n",
    "#print(\"dtypes()\")\n",
    "#print(clean_city_data.dtypes)"
   ]
  },
  {
   "cell_type": "markdown",
   "metadata": {},
   "source": [
    "## Plotting the Data\n",
    "* Use proper labeling of the plots using plot titles (including date of analysis) and axes labels.\n",
    "* Save the plotted figures as .pngs."
   ]
  },
  {
   "cell_type": "markdown",
   "metadata": {},
   "source": [
    "## Latitude vs. Temperature Plot"
   ]
  },
  {
   "cell_type": "code",
   "execution_count": 25,
   "metadata": {
    "scrolled": true
   },
   "outputs": [
    {
     "data": {
      "image/png": "[encoded data removed]",
      "text/plain": [
       "<Figure size 432x288 with 1 Axes>"
      ]
     },
     "metadata": {
      "needs_background": "light"
     },
     "output_type": "display_data"
    }
   ],
   "source": [
    "# print(\"clean_city_data\") \n",
    "# print(clean_city_data)\n",
    "\n",
    "# Prepare scatter plot  \n",
    "plt.scatter(clean_city_data[\"lat\"],clean_city_data[\"temp\"])\n",
    "plt.xlabel(\"Lattitude (degrees)\")\n",
    "plt.ylabel(\"Temperature (Celsius)\")\n",
    "plt.title('Lattitude vs Temperature')\n",
    "# Save the figure\n",
    "plt.savefig(\"output_data/lat_temp.png\")\n",
    "# Display the garph\n",
    "plt.show()"
   ]
  },
  {
   "cell_type": "markdown",
   "metadata": {},
   "source": [
    "## Latitude vs. Humidity Plot"
   ]
  },
  {
   "cell_type": "code",
   "execution_count": 26,
   "metadata": {},
   "outputs": [
    {
     "data": {
      "image/png": "[encoded data removed]",
      "text/plain": [
       "<Figure size 432x288 with 1 Axes>"
      ]
     },
     "metadata": {
      "needs_background": "light"
     },
     "output_type": "display_data"
    }
   ],
   "source": [
    "# Prepare scatter plot  \n",
    "plt.scatter(clean_city_data[\"lat\"],clean_city_data[\"Humidity\"])\n",
    "plt.xlabel(\"Lattitude (degrees)\")\n",
    "plt.ylabel(\"Humidity (%)\")\n",
    "plt.title('Lattitude vs Humidity')\n",
    "# Save the figure\n",
    "plt.savefig(\"output_data/lat_hum.png\")\n",
    "# Display the garph\n",
    "plt.show()"
   ]
  },
  {
   "cell_type": "markdown",
   "metadata": {},
   "source": [
    "## Latitude vs. Cloudiness Plot"
   ]
  },
  {
   "cell_type": "code",
   "execution_count": 27,
   "metadata": {},
   "outputs": [
    {
     "data": {
      "image/png": "[encoded data removed]",
      "text/plain": [
       "<Figure size 432x288 with 1 Axes>"
      ]
     },
     "metadata": {
      "needs_background": "light"
     },
     "output_type": "display_data"
    }
   ],
   "source": [
    "# Prepare scatter plot  \n",
    "plt.scatter(clean_city_data[\"lat\"],clean_city_data[\"Cloudiness\"])\n",
    "plt.xlabel(\"Lattitude (degrees)\")\n",
    "plt.ylabel(\"Cloudiness (%)\")\n",
    "plt.title('Lattitude vs Cloudiness')\n",
    "# Save the figure\n",
    "plt.savefig(\"output_data/lat_cloud.png\")\n",
    "# Display the garph\n",
    "plt.show()"
   ]
  },
  {
   "cell_type": "markdown",
   "metadata": {},
   "source": [
    "## Latitude vs. Wind Speed Plot"
   ]
  },
  {
   "cell_type": "code",
   "execution_count": 28,
   "metadata": {},
   "outputs": [
    {
     "data": {
      "image/png": "[encoded data removed]",
      "text/plain": [
       "<Figure size 432x288 with 1 Axes>"
      ]
     },
     "metadata": {
      "needs_background": "light"
     },
     "output_type": "display_data"
    }
   ],
   "source": [
    "# Prepare scatter plot  \n",
    "plt.scatter(clean_city_data[\"lat\"],clean_city_data[\"Wind Speed\"])\n",
    "plt.xlabel(\"Lattitude (degrees)\")\n",
    "plt.ylabel(\"Wind Speed (kM)\")\n",
    "plt.title('Lattitude vs Wind Speed')\n",
    "# Save the figure\n",
    "plt.savefig(\"output_data/lat_wind.png\")\n",
    "# Display the garph\n",
    "plt.show()"
   ]
  },
  {
   "cell_type": "markdown",
   "metadata": {},
   "source": [
    "## Linear Regression"
   ]
  },
  {
   "cell_type": "code",
   "execution_count": 29,
   "metadata": {},
   "outputs": [
    {
     "name": "stdout",
     "output_type": "stream",
     "text": [
      "The correlation between both factors is -0.76\n",
      "line_eq is: y = -0.39x + 17.77\n"
     ]
    },
    {
     "data": {
      "image/png": "[encoded data removed]",
      "text/plain": [
       "<Figure size 432x288 with 1 Axes>"
      ]
     },
     "metadata": {
      "needs_background": "light"
     },
     "output_type": "display_data"
    }
   ],
   "source": [
    "# Calculate the correlation coefficient and linear regression model \n",
    "\n",
    "x_values = clean_city_data[\"lat\"]\n",
    "y_values = clean_city_data[\"temp\"]\n",
    "\n",
    "correlation = st.pearsonr(x_values,y_values)\n",
    "print(f\"The correlation between both factors is {round(correlation[0],2)}\")\n",
    "\n",
    "# Prepare Linear regression and scatter plot data  \n",
    "(slope, intercept, rvalue, pvalue, stderr) = linregress(x_values,y_values)\n",
    "regress_values = x_values * slope + intercept\n",
    "line_eq = \"y = \" + str(round(slope,2)) + \"x + \" + str(round(intercept,2))\n",
    "print(f\"line_eq is: {line_eq}\")\n",
    "plt.scatter(x_values,y_values)\n",
    "plt.plot(x_values,regress_values,\"r-\")\n",
    "plt.xlabel(\"Lattitude (degrees)\")\n",
    "plt.ylabel(\"Temperature (Celsius)\")\n",
    "plt.title('Lattitude vs Temperature')\n",
    "\n",
    "# Display the garph\n",
    "plt.annotate(line_eq,(6,10),fontsize=15,color=\"red\")\n",
    "plt.show()"
   ]
  },
  {
   "cell_type": "markdown",
   "metadata": {},
   "source": [
    "####  Northern Hemisphere - Max Temp vs. Latitude Linear Regression"
   ]
  },
  {
   "cell_type": "code",
   "execution_count": 30,
   "metadata": {},
   "outputs": [
    {
     "name": "stdout",
     "output_type": "stream",
     "text": [
      "clean_city_data\n",
      "   index      city      lat       lon   temp  TempMax  Humidity  Cloudiness  \\\n",
      "0      0     avera  33.1940  -82.5271  15.49    17.08        33           0   \n",
      "1      1   alcaniz  41.0500   -0.1333   7.58     7.82        72           0   \n",
      "2      2  hamilton  39.1834  -84.5333  10.37    11.60        52           0   \n",
      "3      3   sechura  -5.5569  -80.8222  27.20    27.20        54         100   \n",
      "4      4    barrow  71.2906 -156.7887 -30.99   -30.99        69           0   \n",
      "5      5     tabas  33.5959   56.9244  11.54    11.54        27           2   \n",
      "6      6      lebu -37.6167  -73.6500  17.53    17.53        66           0   \n",
      "7      7    narsaq  60.9167  -46.0500  -8.88    -8.88        73          86   \n",
      "\n",
      "   Wind Speed  \n",
      "0        3.17  \n",
      "1        1.31  \n",
      "2        5.66  \n",
      "3        6.84  \n",
      "4        6.69  \n",
      "5        2.81  \n",
      "6        9.78  \n",
      "7        4.06  \n",
      "\n",
      "northern_hemisphere_city\n",
      "[0, 1, 2, 4, 5, 7]\n",
      "\n",
      "southern_hemisphere_city\n",
      "[3, 6]\n",
      "\n",
      "northern_hemisphere_data\n",
      "   index      city      lat       lon   temp  TempMax  Humidity  Cloudiness  \\\n",
      "0      0     avera  33.1940  -82.5271  15.49    17.08        33           0   \n",
      "1      1   alcaniz  41.0500   -0.1333   7.58     7.82        72           0   \n",
      "2      2  hamilton  39.1834  -84.5333  10.37    11.60        52           0   \n",
      "4      4    barrow  71.2906 -156.7887 -30.99   -30.99        69           0   \n",
      "5      5     tabas  33.5959   56.9244  11.54    11.54        27           2   \n",
      "7      7    narsaq  60.9167  -46.0500  -8.88    -8.88        73          86   \n",
      "\n",
      "   Wind Speed  \n",
      "0        3.17  \n",
      "1        1.31  \n",
      "2        5.66  \n",
      "4        6.69  \n",
      "5        2.81  \n",
      "7        4.06  \n",
      "\n",
      "southern_hemisphere_data\n",
      "   index     city      lat      lon   temp  TempMax  Humidity  Cloudiness  \\\n",
      "3      3  sechura  -5.5569 -80.8222  27.20    27.20        54         100   \n",
      "6      6     lebu -37.6167 -73.6500  17.53    17.53        66           0   \n",
      "\n",
      "   Wind Speed  \n",
      "3        6.84  \n",
      "6        9.78  \n",
      "\n",
      "x_values\n",
      "0    33.1940\n",
      "1    41.0500\n",
      "2    39.1834\n",
      "4    71.2906\n",
      "5    33.5959\n",
      "7    60.9167\n",
      "Name: lat, dtype: float64\n",
      "\n",
      "y_values\n",
      "0    15.49\n",
      "1     7.58\n",
      "2    10.37\n",
      "4   -30.99\n",
      "5    11.54\n",
      "7    -8.88\n",
      "Name: temp, dtype: float64\n",
      "\n",
      "The correlation between both factors is -0.98\n",
      "slope, intercept, rvalue, pvalue, stderr\n",
      "-1.0956430817697307 51.84117918473517 -0.9763907040432257 0.000829518386088226 0.12119742384152493\n",
      "line_eq is: y = -1.1x + 51.84\n"
     ]
    },
    {
     "data": {
      "image/png": "[encoded data removed]",
      "text/plain": [
       "<Figure size 432x288 with 1 Axes>"
      ]
     },
     "metadata": {
      "needs_background": "light"
     },
     "output_type": "display_data"
    }
   ],
   "source": [
    "# Separate the plots into Northern Hemisphere (greater than or equal to 0 degrees latitude) and \n",
    "# Southern Hemisphere (less than 0 degrees latitude)\n",
    "# After each pair of plots, take the time to explain what the linear regression is modeling. \n",
    "# For example, describe any relationships you notice and any other analysis you may have.\n",
    "\n",
    "# Set-up and initialize variables \n",
    "city_counter = 0\n",
    "northern_city_counter = 0\n",
    "southern_city_counter = 0\n",
    "northern_hemisphere_city = []\n",
    "southern_hemisphere_city = []\n",
    "      \n",
    "# Make a new DataFrame equal to the city data (aka weather_data) to drop all humidity outliers by index.\n",
    "# Passing \"inplace=False\" will make a copy of the city_data DataFrame, which we call \"clean_city_data\".\n",
    "northern_hemisphere_data = clean_city_data\n",
    "southern_hemisphere_data = clean_city_data\n",
    "\n",
    "print(\"clean_city_data\")\n",
    "print(clean_city_data)\n",
    "print()\n",
    "\n",
    "# Create Northen Hemisphere and Southern Hemisphere lists\n",
    "for city_counter in range(0, len(clean_city_data)):\n",
    "    if clean_city_data[\"lat\"][city_counter] >= 0:\n",
    "        #print('northern_hemisphere_city')\n",
    "        #print(f'Latitude for Northen Hemisphere city {clean_city_data[\"city\"][city_counter]}') \n",
    "        #print(' #{city_counter} received is: {lat}')\n",
    "        ##print(f'Lattitude for city {city[city_counter]} #{city_counter} is Northen Hemisphere: {clean_city_data[\"lat\"][city_counter]}')\n",
    "        northern_hemisphere_city.append(city_counter)\n",
    "        #print(\"northern_hemisphere_city\")\n",
    "        #print(northern_hemisphere_city)\n",
    "        #print()\n",
    "        # Drop southern_hemisphere_data point from northern_hemisphere_data    \n",
    "        southern_hemisphere_data=southern_hemisphere_data.drop(city_counter, inplace=False)\n",
    "#         print(\"southern_hemisphere_data\")\n",
    "#         print(southern_hemisphere_data)\n",
    "#         print()\n",
    "    else:\n",
    "        # Southern_hemisphere_city\n",
    "        southern_hemisphere_city.append(city_counter)\n",
    "#         print(\"southern_hemisphere_city\")\n",
    "#         print(southern_hemisphere_city)\n",
    "#         print()\n",
    "        # Drop southern_hemisphere_data point from northern_hemisphere_data      \n",
    "        northern_hemisphere_data=northern_hemisphere_data.drop(city_counter, inplace=False)\n",
    "#         print(\"northern_hemisphere_data\")\n",
    "#         print(northern_hemisphere_data)\n",
    "#         print()\n",
    "\n",
    "    city_counter += 1 \n",
    "          \n",
    "print(\"northern_hemisphere_city\")\n",
    "print(northern_hemisphere_city)\n",
    "print()\n",
    "print(\"southern_hemisphere_city\")\n",
    "print(southern_hemisphere_city)\n",
    "print()\n",
    "\n",
    "print(\"northern_hemisphere_data\")\n",
    "print(northern_hemisphere_data)\n",
    "print()\n",
    "print(\"southern_hemisphere_data\")\n",
    "print(southern_hemisphere_data)\n",
    "print()\n",
    "          \n",
    "\n",
    "x_values = northern_hemisphere_data[\"lat\"]\n",
    "y_values = northern_hemisphere_data[\"temp\"]\n",
    "\n",
    "\n",
    "print(\"x_values\")\n",
    "print(x_values)\n",
    "print()\n",
    "print(\"y_values\")\n",
    "print(y_values)\n",
    "print()\n",
    "\n",
    "correlation = st.pearsonr(x_values,y_values)\n",
    "print(f\"The correlation between both factors is {round(correlation[0],2)}\")\n",
    "\n",
    "# Prepare Linear regression and scatter plot data  \n",
    "(slope, intercept, rvalue, pvalue, stderr) = linregress(x_values,y_values)\n",
    "print(\"slope, intercept, rvalue, pvalue, stderr\")\n",
    "print(slope, intercept, rvalue, pvalue, stderr)\n",
    "regress_values = x_values * slope + intercept\n",
    "line_eq = \"y = \" + str(round(slope,2)) + \"x + \" + str(round(intercept,2))\n",
    "print(f\"line_eq is: {line_eq}\")\n",
    "plt.scatter(x_values,y_values)\n",
    "plt.plot(x_values,regress_values,\"r-\")\n",
    "plt.xlabel(\"Lattitude (degrees)\")\n",
    "plt.ylabel(\"Temperature (Celsius)\")\n",
    "plt.title('Northern Hemisphere Lattitude vs Temperature')\n",
    "\n",
    "# Display the garph\n",
    "plt.annotate(line_eq,(6,10),fontsize=15,color=\"red\")\n",
    "plt.show()"
   ]
  },
  {
   "cell_type": "markdown",
   "metadata": {},
   "source": [
    "####  Southern Hemisphere - Max Temp vs. Latitude Linear Regression"
   ]
  },
  {
   "cell_type": "code",
   "execution_count": 31,
   "metadata": {},
   "outputs": [
    {
     "name": "stdout",
     "output_type": "stream",
     "text": [
      "x_values\n",
      "3    27.20\n",
      "6    17.53\n",
      "Name: temp, dtype: float64\n",
      "\n",
      "y_values\n",
      "3    -5.5569\n",
      "6   -37.6167\n",
      "Name: lat, dtype: float64\n",
      "\n",
      "The correlation between both factors is 1.0\n",
      "slope, intercept, rvalue, pvalue, stderr\n",
      "3.315387797311273 -95.73544808686663 1.0 0.0 0.0\n",
      "line_eq is: y = 3.32x + -95.74\n"
     ]
    },
    {
     "data": {
      "image/png": "[encoded data removed]",
      "text/plain": [
       "<Figure size 432x288 with 1 Axes>"
      ]
     },
     "metadata": {
      "needs_background": "light"
     },
     "output_type": "display_data"
    }
   ],
   "source": [
    "x_values = southern_hemisphere_data[\"temp\"]\n",
    "y_values = southern_hemisphere_data[\"lat\"]\n",
    "\n",
    "\n",
    "\n",
    "print(\"x_values\")\n",
    "print(x_values)\n",
    "print()\n",
    "print(\"y_values\")\n",
    "print(y_values)\n",
    "print()\n",
    "\n",
    "correlation = st.pearsonr(x_values,y_values)\n",
    "print(f\"The correlation between both factors is {round(correlation[0],2)}\")\n",
    "\n",
    "# Prepare Linear regression and scatter plot data  \n",
    "(slope, intercept, rvalue, pvalue, stderr) = linregress(x_values,y_values)\n",
    "print(\"slope, intercept, rvalue, pvalue, stderr\")\n",
    "print(slope, intercept, rvalue, pvalue, stderr)\n",
    "regress_values = x_values * slope + intercept\n",
    "line_eq = \"y = \" + str(round(slope,2)) + \"x + \" + str(round(intercept,2))\n",
    "print(f\"line_eq is: {line_eq}\")\n",
    "plt.scatter(x_values,y_values)\n",
    "plt.plot(x_values,regress_values,\"r-\")\n",
    "plt.xlabel(\"Temperature (Celsius)\")\n",
    "plt.ylabel(\"Lattitude (degrees)\")\n",
    "plt.title('Southern Hemisphere Lattitude vs Temperature')\n",
    "\n",
    "# Display the garph\n",
    "plt.annotate(line_eq,(6,10),fontsize=15,color=\"red\")\n",
    "plt.show()"
   ]
  },
  {
   "cell_type": "markdown",
   "metadata": {},
   "source": [
    "####  Northern Hemisphere - Humidity (%) vs. Latitude Linear Regression"
   ]
  },
  {
   "cell_type": "code",
   "execution_count": 32,
   "metadata": {},
   "outputs": [
    {
     "name": "stdout",
     "output_type": "stream",
     "text": [
      "x_values\n",
      "0    33\n",
      "1    72\n",
      "2    52\n",
      "4    69\n",
      "5    27\n",
      "7    73\n",
      "Name: Humidity, dtype: int64\n",
      "\n",
      "y_values\n",
      "0    33.1940\n",
      "1    41.0500\n",
      "2    39.1834\n",
      "4    71.2906\n",
      "5    33.5959\n",
      "7    60.9167\n",
      "Name: lat, dtype: float64\n",
      "\n",
      "The correlation between both factors is 0.74\n",
      "slope, intercept, rvalue, pvalue, stderr\n",
      "0.5712332799999998 15.501425120000011 0.7376930879160736 0.0941833716477729 0.26139615548494666\n",
      "line_eq is: y = 0.57x + 15.5\n"
     ]
    },
    {
     "data": {
      "image/png": "[encoded data removed]",
      "text/plain": [
       "<Figure size 432x288 with 1 Axes>"
      ]
     },
     "metadata": {
      "needs_background": "light"
     },
     "output_type": "display_data"
    }
   ],
   "source": [
    "x_values = northern_hemisphere_data[\"Humidity\"]\n",
    "y_values = northern_hemisphere_data[\"lat\"]\n",
    "\n",
    "\n",
    "print(\"x_values\")\n",
    "print(x_values)\n",
    "print()\n",
    "print(\"y_values\")\n",
    "print(y_values)\n",
    "print()\n",
    "\n",
    "correlation = st.pearsonr(x_values,y_values)\n",
    "print(f\"The correlation between both factors is {round(correlation[0],2)}\")\n",
    "\n",
    "# Prepare Linear regression and scatter plot data  \n",
    "(slope, intercept, rvalue, pvalue, stderr) = linregress(x_values,y_values)\n",
    "print(\"slope, intercept, rvalue, pvalue, stderr\")\n",
    "print(slope, intercept, rvalue, pvalue, stderr)\n",
    "regress_values = x_values * slope + intercept\n",
    "line_eq = \"y = \" + str(round(slope,2)) + \"x + \" + str(round(intercept,2))\n",
    "print(f\"line_eq is: {line_eq}\")\n",
    "plt.scatter(x_values,y_values)\n",
    "plt.plot(x_values,regress_values,\"r-\")\n",
    "plt.xlabel(\"Humidity (%) \")\n",
    "plt.ylabel(\"Lattitude (degrees)\")\n",
    "plt.title('Humidity vs Lattitude')\n",
    "\n",
    "# Display the garph\n",
    "plt.annotate(line_eq,(6,10),fontsize=15,color=\"red\")\n",
    "plt.show()"
   ]
  },
  {
   "cell_type": "markdown",
   "metadata": {},
   "source": [
    "####  Southern Hemisphere - Humidity (%) vs. Latitude Linear Regression"
   ]
  },
  {
   "cell_type": "code",
   "execution_count": 33,
   "metadata": {},
   "outputs": [
    {
     "name": "stdout",
     "output_type": "stream",
     "text": [
      "x_values\n",
      "3    54\n",
      "6    66\n",
      "Name: Humidity, dtype: int64\n",
      "\n",
      "y_values\n",
      "3    -5.5569\n",
      "6   -37.6167\n",
      "Name: lat, dtype: float64\n",
      "\n",
      "The correlation between both factors is -1.0\n",
      "slope, intercept, rvalue, pvalue, stderr\n",
      "-2.6716500000000005 138.71220000000002 -1.0 0.0 0.0\n",
      "line_eq is: y = -2.67x + 138.71\n"
     ]
    },
    {
     "data": {
      "image/png": "[encoded data removed]",
      "text/plain": [
       "<Figure size 432x288 with 1 Axes>"
      ]
     },
     "metadata": {
      "needs_background": "light"
     },
     "output_type": "display_data"
    }
   ],
   "source": [
    "x_values = southern_hemisphere_data[\"Humidity\"]\n",
    "y_values = southern_hemisphere_data[\"lat\"]\n",
    "\n",
    "\n",
    "print(\"x_values\")\n",
    "print(x_values)\n",
    "print()\n",
    "print(\"y_values\")\n",
    "print(y_values)\n",
    "print()\n",
    "\n",
    "correlation = st.pearsonr(x_values,y_values)\n",
    "print(f\"The correlation between both factors is {round(correlation[0],2)}\")\n",
    "\n",
    "# Prepare Linear regression and scatter plot data  \n",
    "(slope, intercept, rvalue, pvalue, stderr) = linregress(x_values,y_values)\n",
    "print(\"slope, intercept, rvalue, pvalue, stderr\")\n",
    "print(slope, intercept, rvalue, pvalue, stderr)\n",
    "regress_values = x_values * slope + intercept\n",
    "line_eq = \"y = \" + str(round(slope,2)) + \"x + \" + str(round(intercept,2))\n",
    "print(f\"line_eq is: {line_eq}\")\n",
    "plt.scatter(x_values,y_values)\n",
    "plt.plot(x_values,regress_values,\"r-\")\n",
    "plt.xlabel(\"Humidity (%)\")\n",
    "plt.ylabel(\"Lattitude (degrees)\")\n",
    "plt.title('Humidity vs Lattitude')\n",
    "\n",
    "# Display the garph\n",
    "plt.annotate(line_eq,(6,10),fontsize=15,color=\"red\")\n",
    "plt.show()"
   ]
  },
  {
   "cell_type": "markdown",
   "metadata": {},
   "source": [
    "####  Northern Hemisphere - Cloudiness (%) vs. Latitude Linear Regression"
   ]
  },
  {
   "cell_type": "code",
   "execution_count": 34,
   "metadata": {},
   "outputs": [
    {
     "name": "stdout",
     "output_type": "stream",
     "text": [
      "x_values\n",
      "0     0\n",
      "1     0\n",
      "2     0\n",
      "4     0\n",
      "5     2\n",
      "7    86\n",
      "Name: Cloudiness, dtype: int64\n",
      "\n",
      "y_values\n",
      "0    33.1940\n",
      "1    41.0500\n",
      "2    39.1834\n",
      "4    71.2906\n",
      "5    33.5959\n",
      "7    60.9167\n",
      "Name: lat, dtype: float64\n",
      "\n",
      "The correlation between both factors is 0.44\n",
      "slope, intercept, rvalue, pvalue, stderr\n",
      "0.19816333478830206 43.63203775643824 0.4382309479960554 0.38473390803550284 0.20322797140267249\n",
      "line_eq is: y = 0.2x + 43.63\n"
     ]
    },
    {
     "data": {
      "image/png": "[encoded data removed]",
      "text/plain": [
       "<Figure size 432x288 with 1 Axes>"
      ]
     },
     "metadata": {
      "needs_background": "light"
     },
     "output_type": "display_data"
    }
   ],
   "source": [
    "x_values = northern_hemisphere_data[\"Cloudiness\"]\n",
    "y_values = northern_hemisphere_data[\"lat\"]\n",
    "\n",
    "\n",
    "print(\"x_values\")\n",
    "print(x_values)\n",
    "print()\n",
    "print(\"y_values\")\n",
    "print(y_values)\n",
    "print()\n",
    "\n",
    "correlation = st.pearsonr(x_values,y_values)\n",
    "print(f\"The correlation between both factors is {round(correlation[0],2)}\")\n",
    "\n",
    "# Prepare Linear regression and scatter plot data  \n",
    "(slope, intercept, rvalue, pvalue, stderr) = linregress(x_values,y_values)\n",
    "print(\"slope, intercept, rvalue, pvalue, stderr\")\n",
    "print(slope, intercept, rvalue, pvalue, stderr)\n",
    "regress_values = x_values * slope + intercept\n",
    "line_eq = \"y = \" + str(round(slope,2)) + \"x + \" + str(round(intercept,2))\n",
    "print(f\"line_eq is: {line_eq}\")\n",
    "plt.scatter(x_values,y_values)\n",
    "plt.plot(x_values,regress_values,\"r-\")\n",
    "plt.xlabel(\"Cloudiness (%)\")\n",
    "plt.ylabel(\"Lattitude (degrees)\")\n",
    "plt.title('Cloudiness vs Lattitude')\n",
    "\n",
    "# Display the garph\n",
    "plt.annotate(line_eq,(6,10),fontsize=15,color=\"red\")\n",
    "plt.show()"
   ]
  },
  {
   "cell_type": "markdown",
   "metadata": {},
   "source": [
    "####  Southern Hemisphere - Cloudiness (%) vs. Latitude Linear Regression"
   ]
  },
  {
   "cell_type": "code",
   "execution_count": 35,
   "metadata": {},
   "outputs": [
    {
     "name": "stdout",
     "output_type": "stream",
     "text": [
      "x_values\n",
      "3    100\n",
      "6      0\n",
      "Name: Cloudiness, dtype: int64\n",
      "\n",
      "y_values\n",
      "3    -5.5569\n",
      "6   -37.6167\n",
      "Name: lat, dtype: float64\n",
      "\n",
      "The correlation between both factors is 1.0\n",
      "slope, intercept, rvalue, pvalue, stderr\n",
      "0.32059800000000005 -37.6167 1.0 0.0 0.0\n",
      "line_eq is: y = 0.32x + -37.62\n"
     ]
    },
    {
     "data": {
      "image/png": "[encoded data removed]",
      "text/plain": [
       "<Figure size 432x288 with 1 Axes>"
      ]
     },
     "metadata": {
      "needs_background": "light"
     },
     "output_type": "display_data"
    }
   ],
   "source": [
    "x_values = southern_hemisphere_data[\"Cloudiness\"]\n",
    "y_values = southern_hemisphere_data[\"lat\"]\n",
    "\n",
    "\n",
    "print(\"x_values\")\n",
    "print(x_values)\n",
    "print()\n",
    "print(\"y_values\")\n",
    "print(y_values)\n",
    "print()\n",
    "\n",
    "correlation = st.pearsonr(x_values,y_values)\n",
    "print(f\"The correlation between both factors is {round(correlation[0],2)}\")\n",
    "\n",
    "# Prepare Linear regression and scatter plot data  \n",
    "(slope, intercept, rvalue, pvalue, stderr) = linregress(x_values,y_values)\n",
    "print(\"slope, intercept, rvalue, pvalue, stderr\")\n",
    "print(slope, intercept, rvalue, pvalue, stderr)\n",
    "regress_values = x_values * slope + intercept\n",
    "line_eq = \"y = \" + str(round(slope,2)) + \"x + \" + str(round(intercept,2))\n",
    "print(f\"line_eq is: {line_eq}\")\n",
    "plt.scatter(x_values,y_values)\n",
    "plt.plot(x_values,regress_values,\"r-\")\n",
    "plt.xlabel(\"Cloudiness (%)\")\n",
    "plt.ylabel(\"Lattitude (degrees)\")\n",
    "plt.title('Cloudiness vs Lattitude')\n",
    "\n",
    "# Display the garph\n",
    "plt.annotate(line_eq,(6,10),fontsize=15,color=\"red\")\n",
    "plt.show()"
   ]
  },
  {
   "cell_type": "markdown",
   "metadata": {},
   "source": [
    "####  Northern Hemisphere - Wind Speed (mph) vs. Latitude Linear Regression"
   ]
  },
  {
   "cell_type": "code",
   "execution_count": 36,
   "metadata": {},
   "outputs": [
    {
     "name": "stdout",
     "output_type": "stream",
     "text": [
      "x_values\n",
      "0    33\n",
      "1    72\n",
      "2    52\n",
      "4    69\n",
      "5    27\n",
      "7    73\n",
      "Name: Humidity, dtype: int64\n",
      "\n",
      "y_values\n",
      "0    33.1940\n",
      "1    41.0500\n",
      "2    39.1834\n",
      "4    71.2906\n",
      "5    33.5959\n",
      "7    60.9167\n",
      "Name: lat, dtype: float64\n",
      "\n",
      "The correlation between both factors is 0.74\n",
      "slope, intercept, rvalue, pvalue, stderr\n",
      "0.5712332799999998 15.501425120000011 0.7376930879160736 0.0941833716477729 0.26139615548494666\n",
      "line_eq is: y = 0.57x + 15.5\n"
     ]
    },
    {
     "data": {
      "image/png": "[encoded data removed]",
      "text/plain": [
       "<Figure size 432x288 with 1 Axes>"
      ]
     },
     "metadata": {
      "needs_background": "light"
     },
     "output_type": "display_data"
    }
   ],
   "source": [
    "x_values = northern_hemisphere_data[\"Humidity\"]\n",
    "y_values = northern_hemisphere_data[\"lat\"]\n",
    "\n",
    "\n",
    "print(\"x_values\")\n",
    "print(x_values)\n",
    "print()\n",
    "print(\"y_values\")\n",
    "print(y_values)\n",
    "print()\n",
    "\n",
    "correlation = st.pearsonr(x_values,y_values)\n",
    "print(f\"The correlation between both factors is {round(correlation[0],2)}\")\n",
    "\n",
    "# Prepare Linear regression and scatter plot data  \n",
    "(slope, intercept, rvalue, pvalue, stderr) = linregress(x_values,y_values)\n",
    "print(\"slope, intercept, rvalue, pvalue, stderr\")\n",
    "print(slope, intercept, rvalue, pvalue, stderr)\n",
    "regress_values = x_values * slope + intercept\n",
    "line_eq = \"y = \" + str(round(slope,2)) + \"x + \" + str(round(intercept,2))\n",
    "print(f\"line_eq is: {line_eq}\")\n",
    "plt.scatter(x_values,y_values)\n",
    "plt.plot(x_values,regress_values,\"r-\")\n",
    "plt.xlabel(\"Humidity (%)\")\n",
    "plt.ylabel(\"Lattitude (degrees)\")\n",
    "plt.title('Humidity vs Lattitude')\n",
    "\n",
    "# Display the garph\n",
    "plt.annotate(line_eq,(6,10),fontsize=15,color=\"red\")\n",
    "plt.show()"
   ]
  },
  {
   "cell_type": "markdown",
   "metadata": {},
   "source": [
    "####  Southern Hemisphere - Wind Speed (mph) vs. Latitude Linear Regression"
   ]
  },
  {
   "cell_type": "code",
   "execution_count": 37,
   "metadata": {},
   "outputs": [
    {
     "name": "stdout",
     "output_type": "stream",
     "text": [
      "x_values\n",
      "3    54\n",
      "6    66\n",
      "Name: Humidity, dtype: int64\n",
      "\n",
      "y_values\n",
      "3    -5.5569\n",
      "6   -37.6167\n",
      "Name: lat, dtype: float64\n",
      "\n",
      "The correlation between both factors is -1.0\n",
      "slope, intercept, rvalue, pvalue, stderr\n",
      "-2.6716500000000005 138.71220000000002 -1.0 0.0 0.0\n",
      "line_eq is: y = -2.67x + 138.71\n"
     ]
    },
    {
     "data": {
      "image/png": "[encoded data removed]",
      "text/plain": [
       "<Figure size 432x288 with 1 Axes>"
      ]
     },
     "metadata": {
      "needs_background": "light"
     },
     "output_type": "display_data"
    }
   ],
   "source": [
    "x_values = southern_hemisphere_data[\"Humidity\"]\n",
    "y_values = southern_hemisphere_data[\"lat\"]\n",
    "\n",
    "\n",
    "print(\"x_values\")\n",
    "print(x_values)\n",
    "print()\n",
    "print(\"y_values\")\n",
    "print(y_values)\n",
    "print()\n",
    "\n",
    "correlation = st.pearsonr(x_values,y_values)\n",
    "print(f\"The correlation between both factors is {round(correlation[0],2)}\")\n",
    "\n",
    "# Prepare Linear regression and scatter plot data  \n",
    "(slope, intercept, rvalue, pvalue, stderr) = linregress(x_values,y_values)\n",
    "print(\"slope, intercept, rvalue, pvalue, stderr\")\n",
    "print(slope, intercept, rvalue, pvalue, stderr)\n",
    "regress_values = x_values * slope + intercept\n",
    "line_eq = \"y = \" + str(round(slope,2)) + \"x + \" + str(round(intercept,2))\n",
    "print(f\"line_eq is: {line_eq}\")\n",
    "plt.scatter(x_values,y_values)\n",
    "plt.plot(x_values,regress_values,\"r-\")\n",
    "plt.xlabel(\"Humidity (%)\")\n",
    "plt.ylabel(\"Lattitude (degrees)\")\n",
    "plt.title('Humidity vs Lattitude')\n",
    "\n",
    "# Display the garph\n",
    "plt.annotate(line_eq,(6,10),fontsize=15,color=\"red\")\n",
    "plt.show()"
   ]
  },
  {
   "cell_type": "code",
   "execution_count": null,
   "metadata": {},
   "outputs": [],
   "source": []
  }
 ],
 "metadata": {
  "anaconda-cloud": {},
  "kernel_info": {
   "name": "python3"
  },
  "kernelspec": {
   "display_name": "Python 3 (ipykernel)",
   "language": "python",
   "name": "python3"
  },
  "language_info": {
   "codemirror_mode": {
    "name": "ipython",
    "version": 3
   },
   "file_extension": ".py",
   "mimetype": "text/x-python",
   "name": "python",
   "nbconvert_exporter": "python",
   "pygments_lexer": "ipython3",
   "version": "3.9.7"
  },
  "latex_envs": {
   "LaTeX_envs_menu_present": true,
   "autoclose": false,
   "autocomplete": true,
   "bibliofile": "biblio.bib",
   "cite_by": "apalike",
   "current_citInitial": 1,
   "eqLabelWithNumbers": true,
   "eqNumInitial": 1,
   "hotkeys": {
    "equation": "Ctrl-E",
    "itemize": "Ctrl-I"
   },
   "labels_anchors": false,
   "latex_user_defs": false,
   "report_style_numbering": false,
   "user_envs_cfg": false
  },
  "nteract": {
   "version": "0.12.3"
  }
 },
 "nbformat": 4,
 "nbformat_minor": 2
}
