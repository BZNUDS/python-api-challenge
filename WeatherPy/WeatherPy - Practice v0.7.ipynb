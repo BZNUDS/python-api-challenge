{
 "cells": [
  {
   "cell_type": "markdown",
   "metadata": {},
   "source": [
    "# WeatherPy\n",
    "----\n",
    "\n",
    "#### Note\n",
    "* Instructions have been included for each segment. You do not have to follow them exactly, but they are included to help you think through the steps."
   ]
  },
  {
   "cell_type": "code",
   "execution_count": 1,
   "metadata": {
    "scrolled": true
   },
   "outputs": [],
   "source": [
    "# Dependencies and Setup\n",
    "import matplotlib.pyplot as plt\n",
    "import pandas as pd\n",
    "import numpy as np\n",
    "import scipy.stats as st\n",
    "from scipy.stats import linregress\n",
    "from sklearn import datasets\n",
    "import requests\n",
    "import time\n",
    "\n",
    "# Import API key\n",
    "from api_keys import weather_api_key\n",
    "\n",
    "# Incorporated citipy to determine city based on latitude and longitude\n",
    "from citipy import citipy\n",
    "\n",
    "# Output File (CSV)\n",
    "output_data_file = \"output_data/cities.csv\"\n",
    "\n",
    "# Range of latitudes and longitudes\n",
    "lat_range = (-90, 90)\n",
    "lng_range = (-180, 180)"
   ]
  },
  {
   "cell_type": "markdown",
   "metadata": {},
   "source": [
    "## Generate Cities List"
   ]
  },
  {
   "cell_type": "code",
   "execution_count": 2,
   "metadata": {},
   "outputs": [
    {
     "name": "stdout",
     "output_type": "stream",
     "text": [
      "***************************************************************************************\n",
      "Do I need to include logging in addition to wrting out the .csv???\n",
      "***************************************************************************************\n",
      "651\n",
      "['rikitea', 'jamestown', 'dikson', 'qaanaaq', 'ambo', 'sao filipe', 'sindou', 'general roca', 'punta arenas', 'iberia', 'grindavik', 'nikolskoye', 'uchiza', 'puri', 'ushuaia', 'atuona', 'busselton', 'presidencia roque saenz pena', 'lloydminster', 'bilibino', 'bluff', 'hobart', 'kapaa', 'thompson', 'sibolga', 'kosa', 'iqaluit', 'hermanus', 'mataura', 'rio gallegos', 'nichinan', 'yellowknife', 'tyret pervaya', 'bredasdorp', 'aklavik', 'cape town', 'ribeira grande', 'anchorage', 'lavrentiya', 'pangody', 'albany', 'cidreira', 'huarmey', 'taksimo', 'castro', 'nouakchott', 'eureka', 'provideniya', 'rosario', 'vostok', 'saint-augustin', 'vaini', 'salamanca', 'mutsamudu', 'mumford', 'mogadishu', 'angoram', 'baixa grande', 'tokur', 'bangor', 'butaritari', 'najran', 'vila franca do campo', 'nowogard', 'longlac', 'tuy hoa', 'sekudai', 'hilo', 'ponta delgada', 'cortez', 'juneau', 'ancud', 'saint george', 'matara', 'georgetown', 'guerrero negro', 'nuevitas', 'sigulda', 'talnakh', 'bethel', 'khyriv', 'roswell', 'burnie', 'sadiqabad', 'dingle', 'znamenskoye', 'imeni poliny osipenko', 'lorengau', 'kavaratti', 'airai', 'longyearbyen', 'chapais', 'east london', 'san patricio', 'haines junction', 'bambous virieux', 'grand river south east', 'yanan', 'walvis bay', 'sobolevo', 'barrow', 'hasaki', 'belushya guba', 'aitape', 'banyo', 'pangnirtung', 'lompoc', 'carnarvon', 'hebertville', 'sorvag', 'ilulissat', 'puerto colombia', 'fortuna', 'srednekolymsk', 'new norfolk', 'moron', 'chokurdakh', 'vaitupu', 'weyburn', 'port alfred', 'sur', 'taolanaro', 'omsukchan', 'puerto ayora', 'te anau', 'yinchuan', 'severo-kurilsk', 'nizhneyansk', 'kruisfontein', 'pazaric', 'matai', 'teluk nibung', 'ambilobe', 'mys shmidta', 'akyab', 'san luis', 'batemans bay', 'pevek', 'celestun', 'paamiut', 'kodiak', 'patrocinio', 'illoqqortoormiut', 'narsaq', 'ushibuka', 'gland', 'dobroye', 'tiksi', 'kargopol', 'agropoli', 'makueni', 'korla', 'tuktoyaktuk', 'cockburn town', 'buala', 'hendek', 'hithadhoo', 'barcelos', 'mweka', 'lagoa', 'faanui', 'touros', 'kalmunai', 'ishigaki', 'ruatoria', 'macau', 'cabo san lucas', 'manta', 'firovo', 'mataram', 'amderma', 'sinnamary', 'muli', 'gobardanga', 'saint-philippe', 'victoria', 'lebu', 'avarua', 'santa rosalia', 'jardim', 'barentsburg', 'lucapa', 'pinega', 'avera', 'kisangani', 'gorontalo', 'geraldton', 'gimli', 'felanitx', 'kalanguy', 'belogorsk', 'broome', 'puerto carreno', 'saleaula', 'pusztafoldvar', 'kushnarenkovo', 'manosque', 'abu samrah', 'hambantota', 'san juan ixcoy', 'cabedelo', 'moerai', 'port elizabeth', 'saskylakh', 'palasa', 'lages', 'svetlogorsk', 'coolum beach', 'constitucion', 'ambon', 'nortelandia', 'pali', 'cherskiy', 'samusu', 'somvarpet', 'riyadh', 'penzance', 'houma', 'bengkulu', 'palmerston', 'tasiilaq', 'siniscola', 'arauca', 'mount isa', 'ayr', 'mayo', 'bereda', 'jalingo', 'tumannyy', 'ponta do sol', 'villa bruzual', 'salalah', 'pacific grove', 'kismayo', 'laguna', 'lukuledi', 'chicama', 'goundam', 'coihaique', 'hearst', 'tukrah', 'davila', 'college', 'nhulunbuy', 'nome', 'attawapiskat', 'leningradskiy', 'frontera', 'arraial do cabo', 'colares', 'namibe', 'matay', 'otane', 'ucluelet', 'araouane', 'nantucket', 'seoul', 'mareeba', 'balkanabat', 'concesti', 'gayeri', 'olafsvik', 'bireun', 'tefe', 'sibut', 'eskasem', 'kokopo', 'male', 'play cu', 'poum', 'kapuskasing', 'egvekinot', 'waipawa', 'hurghada', 'beloha', 'ca mau', 'itarema', 'kasongo-lunda', 'samarinda', 'turukhansk', 'los llanos de aridane', 'bilma', 'husavik', 'chumikan', 'svetlaya', 'norman wells', 'bubaque', 'berlevag', 'bagaces', 'wattegama', 'dabhol', 'sukaraja', 'krasnoselkup', 'beringovskiy', 'aasiaat', 'khatanga', 'kostino', 'road town', 'do gonbadan', 'billere', 'oussouye', 'south bend', 'brae', 'port lincoln', 'oskarshamn', 'darab', 'novichikha', 'upernavik', 'grootfontein', 'zhigansk', 'tchibanga', 'isabela', 'yarada', 'mana', 'kahului', 'sangar', 'naco', 'adrar', 'praya', 'flinders', 'am timan', 'bunia', 'nova vicosa', 'mar del plata', 'lere', 'manado', 'byron bay', 'port-gentil', 'xinmin', 'almaznyy', 'sarangani', 'khasan', 'kajaani', 'gandzak', 'itum-kale', 'port-cartier', 'garowe', 'jiexiu', 'vao', 'raudeberg', 'veracruz', 'kimbe', 'labuhan', 'aktau', 'dali', 'tabiauea', 'oleksandrivka', 'karaul', 'hami', 'saldanha', 'verkhnyaya salda', 'alyangula', 'hamilton', 'karratha', 'le pradet', 'caravelas', 'kaitangata', 'kysyl-syr', 'baykit', 'dhidhdhoo', 'mahebourg', 'livingston', 'pokrovsk', 'shizunai', 'vale da amoreira', 'inderborskiy', 'souillac', 'qui nhon', 'gizo', 'dezful', 'novosergiyevka', 'goderich', 'barbar', 'beihai', 'chicla', 'bayburt', 'salinas', 'santa isabel do rio negro', 'fussen', 'dingli', 'sagua la grande', 'stornoway', 'skegness', 'dunedin', 'klaksvik', 'tabuk', 'kavieng', 'sao desiderio', 'ulaanbaatar', 'pisco', 'keti bandar', 'oskemen', 'ilo', 'ternate', 'santa lucia', 'rudsar', 'chuy', 'vila velha', 'lodja', 'cayenne', 'torbay', 'luena', 'port keats', 'carballo', 'jiroft', 'boa vista', 'darnah', 'anloga', 'yaan', 'trairi', 'chimbote', 'zheleznodorozhnyy', 'natal', 'raha', 'antofagasta', 'grand centre', 'ailigandi', 'comodoro rivadavia', 'lar', 'kutum', 'zalantun', 'havre-saint-pierre', 'purpe', 'meulaboh', 'vestmanna', 'bonthe', 'breyten', 'andenes', 'khiri mat', 'carutapera', 'vigrestad', 'olga', 'tiarei', 'lolua', 'northam', 'sundargarh', 'wahran', 'verkhniye tatyshly', 'carahue', 'san-pedro', 'mackay', 'fukuma', 'nelson bay', 'shar', 'umzimvubu', 'esperance', 'havelock', 'portland', 'wulanhaote', 'machilipatnam', 'ballina', 'katangli', 'dongsheng', 'muros', 'myre', 'luderitz', 'phan rang', 'genhe', 'mirnyy', 'sajanan', 'sorland', 'izhma', 'katsuura', 'edd', 'marcona', 'port hardy', 'kyra', 'mahibadhoo', 'panaba', 'tilichiki', 'half moon bay', 'lypova dolyna', 'whitehorse', 'ostrovnoy', 'hovd', 'sterling', 'shihezi', 'kinanah', 'senno', 'cap-aux-meules', 'interlaken', 'tutoia', 'athni', 'tsihombe', 'bafq', 'okhotsk', 'el prat de llobregat', 'waingapu', 'constantine', 'sembe', 'galle', 'saint anthony', 'padang', 'vermilion', 'sungaipenuh', 'severo-yeniseyskiy', 'kurilsk', 'erzin', 'ahipara', 'kushima', 'taraz', 'conceicao do mato dentro', 'ampanihy', 'chany', 'lisakovsk', 'gamba', 'taoudenni', 'naze', 'mogocha', 'diapaga', 'thinadhoo', 'mae ramat', 'porto velho', 'beira', 'port blair', 'ajaccio', 'maniitsoq', 'pontianak', 'skalistyy', 'sala', 'tran', 'warrnambool', 'faya', 'bellefontaine', 'camana', 'havoysund', 'manokwari', 'puerto cabezas', 'santa marta', 'clyde river', 'ambodifototra', 'porto murtinho', 'rumuruti', 'kilindoni', 'hazaribag', 'sola', 'cabadiangan', 'tupik', 'fairbanks', 'nikolsk', 'hirara', 'rantauprapat', 'san quintin', 'lielvarde', 'lazaro cardenas', 'kuche', 'arlit', 'dillon', 'iranshahr', 'rocky mountain house', 'nyzhni sirohozy', 'kokstad', 'nicoya', 'bathsheba', 'hofn', 'anchovy', 'banda aceh', 'tual', 'sassandra', 'inirida', 'paoua', 'shenkursk', 'sao joao da barra', 'zeya', 'carmarthen', 'santa', 'rawson', 'emerald', 'oranjemund', 'maceio', 'nabire', 'palabuhanratu', 'brindisi', 'jumla', 'bandarbeyla', 'louisbourg', 'sokoto', 'kungurtug', 'pousat', 'timberlake', 'terrace', 'awjilah', 'tarko-sale', 'trojes', 'coahuayana', 'hanyang', 'saint-georges', 'bolshoye nagatkino', 'san pedro', 'isla mujeres', 'dawson creek', 'vanimo', 'barahan', 'nanortalik', 'praia da vitoria', 'buin', 'alice springs', 'gat', 'sioux lookout', 'kargasok', 'green river', 'belmonte', 'santo domingo', 'warqla', 'kerteh', 'baiyin', 'chandla', 'pembroke', 'mount gambier', 'casa nova', 'macklin', 'muisne', 'shurugwi', 'mindelo', 'rawannawi', 'ust-kamchatsk', 'anadyr', 'parabel', 'codrington', 'samalaeulu', 'bokspits', 'kulhudhuffushi', 'hwange', 'seryshevo', 'upington', 'xining', 'chauk', 'sirsaganj', 'lerwick', 'huaicheng', 'camacha', 'chemal', 'cibeureum', 'ipixuna', 'tuatapere', 'deputatskiy', 'xai-xai', 'katobu', 'novyy yegorlyk', 'obzor', 'tambun', 'ngukurr', 'sentyabrskiy', 'karamay', 'puerto rico', 'cimitarra', 'mildura', 'locri', 'bargal', 'launceston', 'jaguey grande']\n",
      "*******************************************************************************************\n",
      "Temporarily reducging cities from cities to cities[0:10] so only get 10 cities intially\n",
      "before calling api.openweathermap.org since they have limits\n",
      "I believe 60 calls/minute and 1M calls/month per month)\n",
      "*******************************************************************************************\n",
      "['rikitea', 'jamestown', 'dikson', 'qaanaaq', 'ambo', 'sao filipe', 'sindou', 'general roca', 'punta arenas', 'iberia']\n"
     ]
    }
   ],
   "source": [
    "# List for holding lat_lngs and cities\n",
    "lat_lngs = []\n",
    "cities = []\n",
    "\n",
    "# Create a set of random lat and lng combinations\n",
    "lats = np.random.uniform(lat_range[0], lat_range[1], size=1500)\n",
    "lngs = np.random.uniform(lng_range[0], lng_range[1], size=1500)\n",
    "lat_lngs = zip(lats, lngs)\n",
    "\n",
    "# Identify nearest city for each lat, lng combination\n",
    "for lat_lng in lat_lngs:\n",
    "    city = citipy.nearest_city(lat_lng[0], lat_lng[1]).city_name\n",
    "    \n",
    "    # If the city is unique, then add it to a our cities list\n",
    "    if city not in cities:\n",
    "        cities.append(city)\n",
    "\n",
    "print(\"***************************************************************************************\")\n",
    "# df.head(n).to_csv('yourfileout.csv', encoding='utf-8')\n",
    "# city_logging.info('dataframe head - {}'.format(cities.head()))\n",
    "print(\"Do I need to include logging in addition to wrting out the .csv???\")\n",
    "print(\"***************************************************************************************\")\n",
    "    \n",
    "# Print the city count to confirm sufficient count\n",
    "print(len(cities))\n",
    "print(cities)\n",
    "print(\"*******************************************************************************************\")\n",
    "print(\"Temporarily reducging cities from cities to cities[0:10] so only get 10 cities intially\")\n",
    "print(\"before calling api.openweathermap.org since they have limits\") \n",
    "print(\"I believe 60 calls/minute and 1M calls/month per month)\")\n",
    "cities = cities[0:10]\n",
    "print(\"*******************************************************************************************\")\n",
    "print(cities)"
   ]
  },
  {
   "cell_type": "markdown",
   "metadata": {},
   "source": [
    "### Perform API Calls\n",
    "* Perform a weather check on each city using a series of successive API calls.\n",
    "* Include a print log of each city as it'sbeing processed (with the city number and city name).\n"
   ]
  },
  {
   "cell_type": "code",
   "execution_count": 3,
   "metadata": {
    "scrolled": false
   },
   "outputs": [
    {
     "name": "stdout",
     "output_type": "stream",
     "text": [
      "cities\n",
      "['rikitea', 'jamestown', 'dikson', 'qaanaaq', 'ambo', 'sao filipe', 'sindou', 'general roca', 'punta arenas', 'iberia']\n",
      "city is rikitea\n",
      "The latitude information for city rikitea #0 received is: [-23.1203]\n",
      "The longitude information for city rikitea #0 received is: [-134.9692]\n",
      "The temperature information for city rikitea #0 received is: [26.22]\n",
      "The temperature Maximum information for city rikitea #0 received is: [26.22]\n",
      "The humidty information for city rikitea #0 received is: [68]\n",
      "The cloudiness information for city rikitea #0 received is: [1]\n",
      "The windiness information for city rikitea #0 received is: [6.65]\n",
      "city is jamestown\n",
      "The latitude information for city jamestown #1 received is: [-23.1203, 42.097]\n",
      "The longitude information for city jamestown #1 received is: [-134.9692, -79.2353]\n",
      "The temperature information for city jamestown #1 received is: [26.22, 1.82]\n",
      "The temperature Maximum information for city jamestown #1 received is: [26.22, 1.82]\n",
      "The humidty information for city jamestown #1 received is: [68, 100]\n",
      "The cloudiness information for city jamestown #1 received is: [1, 100]\n",
      "The windiness information for city jamestown #1 received is: [6.65, 6.12]\n",
      "city is dikson\n",
      "The latitude information for city dikson #2 received is: [-23.1203, 42.097, 73.5069]\n",
      "The longitude information for city dikson #2 received is: [-134.9692, -79.2353, 80.5464]\n",
      "The temperature information for city dikson #2 received is: [26.22, 1.82, -16.73]\n",
      "The temperature Maximum information for city dikson #2 received is: [26.22, 1.82, -16.73]\n",
      "The humidty information for city dikson #2 received is: [68, 100, 95]\n",
      "The cloudiness information for city dikson #2 received is: [1, 100, 99]\n",
      "The windiness information for city dikson #2 received is: [6.65, 6.12, 9.76]\n",
      "city is qaanaaq\n",
      "The latitude information for city qaanaaq #3 received is: [-23.1203, 42.097, 73.5069, 77.484]\n",
      "The longitude information for city qaanaaq #3 received is: [-134.9692, -79.2353, 80.5464, -69.3632]\n",
      "The temperature information for city qaanaaq #3 received is: [26.22, 1.82, -16.73, -29.62]\n",
      "The temperature Maximum information for city qaanaaq #3 received is: [26.22, 1.82, -16.73, -29.62]\n",
      "The humidty information for city qaanaaq #3 received is: [68, 100, 95, 81]\n",
      "The cloudiness information for city qaanaaq #3 received is: [1, 100, 99, 99]\n",
      "The windiness information for city qaanaaq #3 received is: [6.65, 6.12, 9.76, 2.66]\n",
      "city is ambo\n",
      "The latitude information for city ambo #4 received is: [-23.1203, 42.097, 73.5069, 77.484, -10.1308]\n",
      "The longitude information for city ambo #4 received is: [-134.9692, -79.2353, 80.5464, -69.3632, -76.2047]\n",
      "The temperature information for city ambo #4 received is: [26.22, 1.82, -16.73, -29.62, 19.92]\n",
      "The temperature Maximum information for city ambo #4 received is: [26.22, 1.82, -16.73, -29.62, 19.92]\n",
      "The humidty information for city ambo #4 received is: [68, 100, 95, 81, 73]\n",
      "The cloudiness information for city ambo #4 received is: [1, 100, 99, 99, 92]\n",
      "The windiness information for city ambo #4 received is: [6.65, 6.12, 9.76, 2.66, 3.69]\n",
      "city is sao filipe\n",
      "The latitude information for city sao filipe #5 received is: [-23.1203, 42.097, 73.5069, 77.484, -10.1308, 14.8961]\n",
      "The longitude information for city sao filipe #5 received is: [-134.9692, -79.2353, 80.5464, -69.3632, -76.2047, -24.4956]\n",
      "The temperature information for city sao filipe #5 received is: [26.22, 1.82, -16.73, -29.62, 19.92, 24.89]\n",
      "The temperature Maximum information for city sao filipe #5 received is: [26.22, 1.82, -16.73, -29.62, 19.92, 24.89]\n",
      "The humidty information for city sao filipe #5 received is: [68, 100, 95, 81, 73, 61]\n",
      "The cloudiness information for city sao filipe #5 received is: [1, 100, 99, 99, 92, 75]\n",
      "The windiness information for city sao filipe #5 received is: [6.65, 6.12, 9.76, 2.66, 3.69, 1.09]\n",
      "city is sindou\n",
      "The latitude information for city sindou #6 received is: [-23.1203, 42.097, 73.5069, 77.484, -10.1308, 14.8961, 10.6667]\n",
      "The longitude information for city sindou #6 received is: [-134.9692, -79.2353, 80.5464, -69.3632, -76.2047, -24.4956, -5.1667]\n",
      "The temperature information for city sindou #6 received is: [26.22, 1.82, -16.73, -29.62, 19.92, 24.89, 26.72]\n",
      "The temperature Maximum information for city sindou #6 received is: [26.22, 1.82, -16.73, -29.62, 19.92, 24.89, 26.72]\n",
      "The humidty information for city sindou #6 received is: [68, 100, 95, 81, 73, 61, 15]\n",
      "The cloudiness information for city sindou #6 received is: [1, 100, 99, 99, 92, 75, 5]\n",
      "The windiness information for city sindou #6 received is: [6.65, 6.12, 9.76, 2.66, 3.69, 1.09, 2.52]\n",
      "city is general roca\n",
      "The latitude information for city general roca #7 received is: [-23.1203, 42.097, 73.5069, 77.484, -10.1308, 14.8961, 10.6667, -39.0333]\n",
      "The longitude information for city general roca #7 received is: [-134.9692, -79.2353, 80.5464, -69.3632, -76.2047, -24.4956, -5.1667, -67.5833]\n",
      "The temperature information for city general roca #7 received is: [26.22, 1.82, -16.73, -29.62, 19.92, 24.89, 26.72, 35.93]\n",
      "The temperature Maximum information for city general roca #7 received is: [26.22, 1.82, -16.73, -29.62, 19.92, 24.89, 26.72, 35.93]\n",
      "The humidty information for city general roca #7 received is: [68, 100, 95, 81, 73, 61, 15, 15]\n",
      "The cloudiness information for city general roca #7 received is: [1, 100, 99, 99, 92, 75, 5, 0]\n",
      "The windiness information for city general roca #7 received is: [6.65, 6.12, 9.76, 2.66, 3.69, 1.09, 2.52, 7.04]\n",
      "city is punta arenas\n",
      "The latitude information for city punta arenas #8 received is: [-23.1203, 42.097, 73.5069, 77.484, -10.1308, 14.8961, 10.6667, -39.0333, -53.15]\n",
      "The longitude information for city punta arenas #8 received is: [-134.9692, -79.2353, 80.5464, -69.3632, -76.2047, -24.4956, -5.1667, -67.5833, -70.9167]\n",
      "The temperature information for city punta arenas #8 received is: [26.22, 1.82, -16.73, -29.62, 19.92, 24.89, 26.72, 35.93, 11.06]\n",
      "The temperature Maximum information for city punta arenas #8 received is: [26.22, 1.82, -16.73, -29.62, 19.92, 24.89, 26.72, 35.93, 11.06]\n",
      "The humidty information for city punta arenas #8 received is: [68, 100, 95, 81, 73, 61, 15, 15, 46]\n",
      "The cloudiness information for city punta arenas #8 received is: [1, 100, 99, 99, 92, 75, 5, 0, 75]\n",
      "The windiness information for city punta arenas #8 received is: [6.65, 6.12, 9.76, 2.66, 3.69, 1.09, 2.52, 7.04, 12.86]\n",
      "city is iberia\n",
      "The latitude information for city iberia #9 received is: [-23.1203, 42.097, 73.5069, 77.484, -10.1308, 14.8961, 10.6667, -39.0333, -53.15, 29.9502]\n",
      "The longitude information for city iberia #9 received is: [-134.9692, -79.2353, 80.5464, -69.3632, -76.2047, -24.4956, -5.1667, -67.5833, -70.9167, -91.7507]\n",
      "The temperature information for city iberia #9 received is: [26.22, 1.82, -16.73, -29.62, 19.92, 24.89, 26.72, 35.93, 11.06, 18.77]\n",
      "The temperature Maximum information for city iberia #9 received is: [26.22, 1.82, -16.73, -29.62, 19.92, 24.89, 26.72, 35.93, 11.06, 20.03]\n",
      "The humidty information for city iberia #9 received is: [68, 100, 95, 81, 73, 61, 15, 15, 46, 36]\n",
      "The cloudiness information for city iberia #9 received is: [1, 100, 99, 99, 92, 75, 5, 0, 75, 0]\n",
      "The windiness information for city iberia #9 received is: [6.65, 6.12, 9.76, 2.66, 3.69, 1.09, 2.52, 7.04, 12.86, 5.14]\n",
      "cities\n",
      "['rikitea', 'jamestown', 'dikson', 'qaanaaq', 'ambo', 'sao filipe', 'sindou', 'general roca', 'punta arenas', 'iberia']\n",
      "len(del_cities_index)\n",
      "0\n",
      "cities after del\n",
      "['rikitea', 'jamestown', 'dikson', 'qaanaaq', 'ambo', 'sao filipe', 'sindou', 'general roca', 'punta arenas', 'iberia']\n",
      "cities is now ['rikitea', 'jamestown', 'dikson', 'qaanaaq', 'ambo', 'sao filipe', 'sindou', 'general roca', 'punta arenas', 'iberia']\n",
      "\n",
      "The weather API responded with: {'coord': {'lon': -91.7507, 'lat': 29.9502}, 'weather': [{'id': 800, 'main': 'Clear', 'description': 'clear sky', 'icon': '01d'}], 'base': 'stations', 'main': {'temp': 291.92, 'feels_like': 290.79, 'temp_min': 291.15, 'temp_max': 293.18, 'pressure': 1019, 'humidity': 36}, 'visibility': 10000, 'wind': {'speed': 5.14, 'deg': 210}, 'clouds': {'all': 0}, 'dt': 1644444283, 'sys': {'type': 1, 'id': 3312, 'country': 'US', 'sunrise': 1644411109, 'sunset': 1644450644}, 'timezone': -21600, 'id': 4328254, 'name': 'Iberia', 'cod': 200}.\n"
     ]
    }
   ],
   "source": [
    "# Save config information.\n",
    "url = \"http://api.openweathermap.org/data/2.5/weather?\"\n",
    "units = \"metric\"\n",
    "\n",
    "# Build partial query URL\n",
    "query_url = f\"{url}appid={weather_api_key}&units={units}&q=\"\n",
    "\n",
    "\n",
    "# set up lists to hold reponse info\n",
    "lat = []\n",
    "lon = []\n",
    "temp = []\n",
    "temp_max = []\n",
    "humidity=[]\n",
    "clouds=[]\n",
    "wind=[]\n",
    "del_cities = []\n",
    "del_cities_index = []\n",
    "i = 0\n",
    "city_counter=0\n",
    "\n",
    "print(\"cities\")\n",
    "print(cities)\n",
    "# Loop through the list of cities and perform a request for data on each\n",
    "for city in cities:\n",
    "    print(f'city is {city}')\n",
    "    try:\n",
    "        response = requests.get(query_url + city).json()\n",
    "        time.sleep(0.05)\n",
    "        lat.append(response['coord']['lat'])\n",
    "        print(f\"The latitude information for city {city} #{city_counter} received is: {lat}\")\n",
    "        lon.append(response['coord']['lon'])\n",
    "        print(f\"The longitude information for city {city} #{city_counter} received is: {lon}\")\n",
    "        temp.append(response['main']['temp'])\n",
    "        print(f\"The temperature information for city {city} #{city_counter} received is: {temp}\")\n",
    "        temp_max.append(response['main']['temp_max'])\n",
    "        print(f\"The temperature Maximum information for city {city} #{city_counter} received is: {temp_max}\")\n",
    "        humidity.append(response['main']['humidity'])\n",
    "        print(f\"The humidty information for city {city} #{city_counter} received is: {humidity}\")\n",
    "        clouds.append(response['clouds']['all'])\n",
    "        print(f\"The cloudiness information for city {city} #{city_counter} received is: {clouds}\")\n",
    "        wind.append(response['wind']['speed'])\n",
    "        print(f\"The windiness information for city {city} #{city_counter} received is: {wind}\")\n",
    "        \n",
    "    except KeyError:\n",
    "        print()\n",
    "        print(\"Oops!  That might not be a valid data point.  Try again... and later remove the invalid city(s) from cities\")\n",
    "        print(f'Issue with {city} of index {city_counter}')\n",
    "        del_cities_index.append(city_counter)\n",
    "        print('len(del_cities_index)')\n",
    "        print(len(del_cities_index))        \n",
    "        \n",
    "    city_counter+=1\n",
    "print('cities')\n",
    "print(cities)\n",
    "\n",
    "print('len(del_cities_index)')\n",
    "print(len(del_cities_index))\n",
    "\n",
    "if len(del_cities_index)>0:\n",
    "    print(\"inside if\")\n",
    "    for i in range(len(del_cities_index)-1, -1, -1):\n",
    "        print(\"inside for\")\n",
    "        print(f'i={i}')\n",
    "        print(f'del_cities_index[i]')\n",
    "        print(del_cities_index[i])\n",
    "        j=int((del_cities_index[i]))\n",
    "        print(f'j={j}')\n",
    "        del cities[j]\n",
    "print('cities after del')\n",
    "print(cities)\n",
    "\n",
    "# from the list\n",
    "print(f'cities is now {cities}')\n",
    "print()\n",
    "    \n",
    "# Build query URL\n",
    "query_url = url + \"appid=\" + weather_api_key + \"&q=\" + city  \n",
    "\n",
    "# Get weather data\n",
    "weather_response = requests.get(query_url)\n",
    "weather_json = weather_response.json()\n",
    "\n",
    "# Get the temperature from the response\n",
    "print(f\"The weather API responded with: {weather_json}.\")"
   ]
  },
  {
   "cell_type": "markdown",
   "metadata": {},
   "source": [
    "### Convert Raw Data to DataFrame\n",
    "* Export the city data into a .csv.\n",
    "* Display the DataFrame"
   ]
  },
  {
   "cell_type": "code",
   "execution_count": 5,
   "metadata": {},
   "outputs": [
    {
     "name": "stdout",
     "output_type": "stream",
     "text": [
      "City ['rikitea', 'jamestown', 'dikson', 'qaanaaq', 'ambo', 'sao filipe', 'sindou', 'general roca', 'punta arenas', 'iberia']\n",
      "Lat [-23.1203, 42.097, 73.5069, 77.484, -10.1308, 14.8961, 10.6667, -39.0333, -53.15, 29.9502]\n",
      "weather_dict\n",
      "{'city': ['rikitea', 'jamestown', 'dikson', 'qaanaaq', 'ambo', 'sao filipe', 'sindou', 'general roca', 'punta arenas', 'iberia'], 'lat': [-23.1203, 42.097, 73.5069, 77.484, -10.1308, 14.8961, 10.6667, -39.0333, -53.15, 29.9502], 'lon': [-134.9692, -79.2353, 80.5464, -69.3632, -76.2047, -24.4956, -5.1667, -67.5833, -70.9167, -91.7507], 'temp': [26.22, 1.82, -16.73, -29.62, 19.92, 24.89, 26.72, 35.93, 11.06, 18.77], 'TempMax': [26.22, 1.82, -16.73, -29.62, 19.92, 24.89, 26.72, 35.93, 11.06, 20.03], 'Humidity': [68, 100, 95, 81, 73, 61, 15, 15, 46, 36], 'Cloudiness': [1, 100, 99, 99, 92, 75, 5, 0, 75, 0], 'Wind Speed': [6.65, 6.12, 9.76, 2.66, 3.69, 1.09, 2.52, 7.04, 12.86, 5.14]}\n",
      "\n",
      "           city      lat       lon   temp  TempMax  Humidity  Cloudiness  \\\n",
      "0       rikitea -23.1203 -134.9692  26.22    26.22        68           1   \n",
      "1     jamestown  42.0970  -79.2353   1.82     1.82       100         100   \n",
      "2        dikson  73.5069   80.5464 -16.73   -16.73        95          99   \n",
      "3       qaanaaq  77.4840  -69.3632 -29.62   -29.62        81          99   \n",
      "4          ambo -10.1308  -76.2047  19.92    19.92        73          92   \n",
      "5    sao filipe  14.8961  -24.4956  24.89    24.89        61          75   \n",
      "6        sindou  10.6667   -5.1667  26.72    26.72        15           5   \n",
      "7  general roca -39.0333  -67.5833  35.93    35.93        15           0   \n",
      "8  punta arenas -53.1500  -70.9167  11.06    11.06        46          75   \n",
      "9        iberia  29.9502  -91.7507  18.77    20.03        36           0   \n",
      "\n",
      "   Wind Speed  \n",
      "0        6.65  \n",
      "1        6.12  \n",
      "2        9.76  \n",
      "3        2.66  \n",
      "4        3.69  \n",
      "5        1.09  \n",
      "6        2.52  \n",
      "7        7.04  \n",
      "8       12.86  \n",
      "9        5.14  \n"
     ]
    }
   ],
   "source": [
    "# Output File (CSV)\n",
    "output_data_file = \"output_data/cities.csv\"\n",
    "\n",
    " # create a data frame from cities, lat, temp, etc\n",
    "print(f'City {cities}')\n",
    "print(f'Lat {lat}')\n",
    "      \n",
    "weather_dict = {\n",
    "    \"city\": cities,\n",
    "    \"lat\": lat,\n",
    "    \"lon\": lon,\n",
    "    \"temp\": temp,\n",
    "    \"TempMax\": temp_max,\n",
    "    \"Humidity\": humidity,\n",
    "    \"Cloudiness\": clouds,\n",
    "    \"Wind Speed\":wind \n",
    "}\n",
    "\n",
    "print(\"weather_dict\")\n",
    "print(weather_dict)\n",
    "print()\n",
    "\n",
    "weather_data = pd.DataFrame(weather_dict)\n",
    "print(weather_data)\n",
    "\n",
    "# Save as a csv\n",
    "# Note to avoid any issues later, use encoding=\"utf-8\"\n",
    "weather_data.to_csv(output_data_file, encoding=\"utf-8\", index=False)"
   ]
  },
  {
   "cell_type": "code",
   "execution_count": 6,
   "metadata": {},
   "outputs": [
    {
     "data": {
      "text/html": [
       "<div>\n",
       "<style scoped>\n",
       "    .dataframe tbody tr th:only-of-type {\n",
       "        vertical-align: middle;\n",
       "    }\n",
       "\n",
       "    .dataframe tbody tr th {\n",
       "        vertical-align: top;\n",
       "    }\n",
       "\n",
       "    .dataframe thead th {\n",
       "        text-align: right;\n",
       "    }\n",
       "</style>\n",
       "<table border=\"1\" class=\"dataframe\">\n",
       "  <thead>\n",
       "    <tr style=\"text-align: right;\">\n",
       "      <th></th>\n",
       "      <th>city</th>\n",
       "      <th>lat</th>\n",
       "      <th>lon</th>\n",
       "      <th>temp</th>\n",
       "      <th>TempMax</th>\n",
       "      <th>Humidity</th>\n",
       "      <th>Cloudiness</th>\n",
       "      <th>Wind Speed</th>\n",
       "    </tr>\n",
       "  </thead>\n",
       "  <tbody>\n",
       "    <tr>\n",
       "      <th>0</th>\n",
       "      <td>rikitea</td>\n",
       "      <td>-23.1203</td>\n",
       "      <td>-134.9692</td>\n",
       "      <td>26.22</td>\n",
       "      <td>26.22</td>\n",
       "      <td>68</td>\n",
       "      <td>1</td>\n",
       "      <td>6.65</td>\n",
       "    </tr>\n",
       "    <tr>\n",
       "      <th>1</th>\n",
       "      <td>jamestown</td>\n",
       "      <td>42.0970</td>\n",
       "      <td>-79.2353</td>\n",
       "      <td>1.82</td>\n",
       "      <td>1.82</td>\n",
       "      <td>100</td>\n",
       "      <td>100</td>\n",
       "      <td>6.12</td>\n",
       "    </tr>\n",
       "    <tr>\n",
       "      <th>2</th>\n",
       "      <td>dikson</td>\n",
       "      <td>73.5069</td>\n",
       "      <td>80.5464</td>\n",
       "      <td>-16.73</td>\n",
       "      <td>-16.73</td>\n",
       "      <td>95</td>\n",
       "      <td>99</td>\n",
       "      <td>9.76</td>\n",
       "    </tr>\n",
       "    <tr>\n",
       "      <th>3</th>\n",
       "      <td>qaanaaq</td>\n",
       "      <td>77.4840</td>\n",
       "      <td>-69.3632</td>\n",
       "      <td>-29.62</td>\n",
       "      <td>-29.62</td>\n",
       "      <td>81</td>\n",
       "      <td>99</td>\n",
       "      <td>2.66</td>\n",
       "    </tr>\n",
       "    <tr>\n",
       "      <th>4</th>\n",
       "      <td>ambo</td>\n",
       "      <td>-10.1308</td>\n",
       "      <td>-76.2047</td>\n",
       "      <td>19.92</td>\n",
       "      <td>19.92</td>\n",
       "      <td>73</td>\n",
       "      <td>92</td>\n",
       "      <td>3.69</td>\n",
       "    </tr>\n",
       "    <tr>\n",
       "      <th>5</th>\n",
       "      <td>sao filipe</td>\n",
       "      <td>14.8961</td>\n",
       "      <td>-24.4956</td>\n",
       "      <td>24.89</td>\n",
       "      <td>24.89</td>\n",
       "      <td>61</td>\n",
       "      <td>75</td>\n",
       "      <td>1.09</td>\n",
       "    </tr>\n",
       "    <tr>\n",
       "      <th>6</th>\n",
       "      <td>sindou</td>\n",
       "      <td>10.6667</td>\n",
       "      <td>-5.1667</td>\n",
       "      <td>26.72</td>\n",
       "      <td>26.72</td>\n",
       "      <td>15</td>\n",
       "      <td>5</td>\n",
       "      <td>2.52</td>\n",
       "    </tr>\n",
       "    <tr>\n",
       "      <th>7</th>\n",
       "      <td>general roca</td>\n",
       "      <td>-39.0333</td>\n",
       "      <td>-67.5833</td>\n",
       "      <td>35.93</td>\n",
       "      <td>35.93</td>\n",
       "      <td>15</td>\n",
       "      <td>0</td>\n",
       "      <td>7.04</td>\n",
       "    </tr>\n",
       "    <tr>\n",
       "      <th>8</th>\n",
       "      <td>punta arenas</td>\n",
       "      <td>-53.1500</td>\n",
       "      <td>-70.9167</td>\n",
       "      <td>11.06</td>\n",
       "      <td>11.06</td>\n",
       "      <td>46</td>\n",
       "      <td>75</td>\n",
       "      <td>12.86</td>\n",
       "    </tr>\n",
       "    <tr>\n",
       "      <th>9</th>\n",
       "      <td>iberia</td>\n",
       "      <td>29.9502</td>\n",
       "      <td>-91.7507</td>\n",
       "      <td>18.77</td>\n",
       "      <td>20.03</td>\n",
       "      <td>36</td>\n",
       "      <td>0</td>\n",
       "      <td>5.14</td>\n",
       "    </tr>\n",
       "  </tbody>\n",
       "</table>\n",
       "</div>"
      ],
      "text/plain": [
       "           city      lat       lon   temp  TempMax  Humidity  Cloudiness  \\\n",
       "0       rikitea -23.1203 -134.9692  26.22    26.22        68           1   \n",
       "1     jamestown  42.0970  -79.2353   1.82     1.82       100         100   \n",
       "2        dikson  73.5069   80.5464 -16.73   -16.73        95          99   \n",
       "3       qaanaaq  77.4840  -69.3632 -29.62   -29.62        81          99   \n",
       "4          ambo -10.1308  -76.2047  19.92    19.92        73          92   \n",
       "5    sao filipe  14.8961  -24.4956  24.89    24.89        61          75   \n",
       "6        sindou  10.6667   -5.1667  26.72    26.72        15           5   \n",
       "7  general roca -39.0333  -67.5833  35.93    35.93        15           0   \n",
       "8  punta arenas -53.1500  -70.9167  11.06    11.06        46          75   \n",
       "9        iberia  29.9502  -91.7507  18.77    20.03        36           0   \n",
       "\n",
       "   Wind Speed  \n",
       "0        6.65  \n",
       "1        6.12  \n",
       "2        9.76  \n",
       "3        2.66  \n",
       "4        3.69  \n",
       "5        1.09  \n",
       "6        2.52  \n",
       "7        7.04  \n",
       "8       12.86  \n",
       "9        5.14  "
      ]
     },
     "execution_count": 6,
     "metadata": {},
     "output_type": "execute_result"
    }
   ],
   "source": [
    "# Display the DataFrame\n",
    "weather_data"
   ]
  },
  {
   "cell_type": "markdown",
   "metadata": {},
   "source": [
    "## Inspect the data and remove the cities where the humidity > 100%.\n",
    "----\n",
    "Skip this step if there are no cities that have humidity > 100%. \n"
   ]
  },
  {
   "cell_type": "code",
   "execution_count": 7,
   "metadata": {},
   "outputs": [
    {
     "name": "stdout",
     "output_type": "stream",
     "text": [
      "*******************************************************************************************\n",
      "Need to change humidity[city_counter]) > 80 from 80 to 100\n",
      "*******************************************************************************************\n",
      "Skip since no humidity >80\n",
      "The humidty information for city jamestown #1 received is: 100\n",
      "jamestown with city_counter of 1 has humidty >80 so need to remove later\n",
      "The humidty information for city dikson #2 received is: 95\n",
      "dikson with city_counter of 2 has humidty >80 so need to remove later\n",
      "The humidty information for city qaanaaq #3 received is: 81\n",
      "qaanaaq with city_counter of 3 has humidty >80 so need to remove later\n",
      "Skip since no humidity >80\n",
      "Skip since no humidity >80\n",
      "Skip since no humidity >80\n",
      "Skip since no humidity >80\n",
      "Skip since no humidity >80\n",
      "Skip since no humidity >80\n",
      "Latest cities_high_humidity\n",
      "[1, 2, 3]\n"
     ]
    }
   ],
   "source": [
    "cities_high_humidity = []\n",
    "city_counter=0\n",
    "print(\"*******************************************************************************************\")\n",
    "print(\"Need to change humidity[city_counter]) > 80 from 80 to 100\")\n",
    "print(\"*******************************************************************************************\")\n",
    "for city in cities:\n",
    "    if int(humidity[city_counter]) > 80:\n",
    "        print(f\"The humidty information for city {city} #{city_counter} received is: {humidity[city_counter]}\")\n",
    "        # Create a new list to track high humifity index values\n",
    "        cities_high_humidity.append(city_counter)\n",
    "        print(f\"{city} with city_counter of {city_counter} has humidty >80 so need to remove later\")\n",
    "    else:\n",
    "        print(\"Skip since no humidity >80\")\n",
    "    city_counter+=1\n",
    "print(\"Latest cities_high_humidity\")\n",
    "print(cities_high_humidity)"
   ]
  },
  {
   "cell_type": "code",
   "execution_count": 8,
   "metadata": {},
   "outputs": [
    {
     "name": "stdout",
     "output_type": "stream",
     "text": [
      "Latest cities_high_humidity\n",
      "[1, 2, 3]\n"
     ]
    }
   ],
   "source": [
    "#  Get the indices of cities that have humidity over 100%.\n",
    "print(\"Latest cities_high_humidity\")\n",
    "print(cities_high_humidity)"
   ]
  },
  {
   "cell_type": "code",
   "execution_count": 9,
   "metadata": {},
   "outputs": [
    {
     "name": "stdout",
     "output_type": "stream",
     "text": [
      "have high humidity data for city index #(s) [1, 2, 3]\n",
      "weather_data\n",
      "           city      lat       lon   temp  TempMax  Humidity  Cloudiness  \\\n",
      "0       rikitea -23.1203 -134.9692  26.22    26.22        68           1   \n",
      "1     jamestown  42.0970  -79.2353   1.82     1.82       100         100   \n",
      "2        dikson  73.5069   80.5464 -16.73   -16.73        95          99   \n",
      "3       qaanaaq  77.4840  -69.3632 -29.62   -29.62        81          99   \n",
      "4          ambo -10.1308  -76.2047  19.92    19.92        73          92   \n",
      "5    sao filipe  14.8961  -24.4956  24.89    24.89        61          75   \n",
      "6        sindou  10.6667   -5.1667  26.72    26.72        15           5   \n",
      "7  general roca -39.0333  -67.5833  35.93    35.93        15           0   \n",
      "8  punta arenas -53.1500  -70.9167  11.06    11.06        46          75   \n",
      "9        iberia  29.9502  -91.7507  18.77    20.03        36           0   \n",
      "\n",
      "   Wind Speed  \n",
      "0        6.65  \n",
      "1        6.12  \n",
      "2        9.76  \n",
      "3        2.66  \n",
      "4        3.69  \n",
      "5        1.09  \n",
      "6        2.52  \n",
      "7        7.04  \n",
      "8       12.86  \n",
      "9        5.14  \n",
      "\n",
      "clean_city_data\n",
      "           city      lat       lon   temp  TempMax  Humidity  Cloudiness  \\\n",
      "0       rikitea -23.1203 -134.9692  26.22    26.22        68           1   \n",
      "4          ambo -10.1308  -76.2047  19.92    19.92        73          92   \n",
      "5    sao filipe  14.8961  -24.4956  24.89    24.89        61          75   \n",
      "6        sindou  10.6667   -5.1667  26.72    26.72        15           5   \n",
      "7  general roca -39.0333  -67.5833  35.93    35.93        15           0   \n",
      "8  punta arenas -53.1500  -70.9167  11.06    11.06        46          75   \n",
      "9        iberia  29.9502  -91.7507  18.77    20.03        36           0   \n",
      "\n",
      "   Wind Speed  \n",
      "0        6.65  \n",
      "4        3.69  \n",
      "5        1.09  \n",
      "6        2.52  \n",
      "7        7.04  \n",
      "8       12.86  \n",
      "9        5.14  \n",
      "\n",
      "clean_city_data after reset index\n",
      "   index          city      lat       lon   temp  TempMax  Humidity  \\\n",
      "0      0       rikitea -23.1203 -134.9692  26.22    26.22        68   \n",
      "1      4          ambo -10.1308  -76.2047  19.92    19.92        73   \n",
      "2      5    sao filipe  14.8961  -24.4956  24.89    24.89        61   \n",
      "3      6        sindou  10.6667   -5.1667  26.72    26.72        15   \n",
      "4      7  general roca -39.0333  -67.5833  35.93    35.93        15   \n",
      "5      8  punta arenas -53.1500  -70.9167  11.06    11.06        46   \n",
      "6      9        iberia  29.9502  -91.7507  18.77    20.03        36   \n",
      "\n",
      "   Cloudiness  Wind Speed  \n",
      "0           1        6.65  \n",
      "1          92        3.69  \n",
      "2          75        1.09  \n",
      "3           5        2.52  \n",
      "4           0        7.04  \n",
      "5          75       12.86  \n",
      "6           0        5.14  \n"
     ]
    }
   ],
   "source": [
    "# Make a new DataFrame equal to the city data (aka weather_data) to drop all humidity outliers by index.\n",
    "# Passing \"inplace=False\" will make a copy of the city_data DataFrame, which we call \"clean_city_data\".\n",
    "clean_city_data=weather_data\n",
    "if len(cities_high_humidity) > 0:\n",
    "    print(f\"have high humidity data for city index #(s) {cities_high_humidity}\")\n",
    "    # dropping a row(s) from actual dataframe\n",
    "    #df.drop(['c', 'd'], inplace = True )\n",
    "    clean_city_data=clean_city_data.drop(cities_high_humidity, inplace=False) \n",
    "else:\n",
    "    print(\"No high humidity data\") \n",
    "print(\"weather_data\") \n",
    "print(weather_data)\n",
    "print()\n",
    "print(\"clean_city_data\") \n",
    "print(clean_city_data)\n",
    "print()\n",
    "\n",
    "clean_city_data.reset_index(inplace=True)\n",
    "print(\"clean_city_data after reset index\") \n",
    "print(clean_city_data)\n",
    "\n",
    "#print(\"dtypes()\")\n",
    "#print(clean_city_data.dtypes)"
   ]
  },
  {
   "cell_type": "markdown",
   "metadata": {},
   "source": [
    "## Plotting the Data\n",
    "* Use proper labeling of the plots using plot titles (including date of analysis) and axes labels.\n",
    "* Save the plotted figures as .pngs."
   ]
  },
  {
   "cell_type": "markdown",
   "metadata": {},
   "source": [
    "## Latitude vs. Temperature Plot"
   ]
  },
  {
   "cell_type": "code",
   "execution_count": 10,
   "metadata": {
    "scrolled": true
   },
   "outputs": [
    {
     "data": {
      "image/png": "[encoded data removed]",
      "text/plain": [
       "<Figure size 432x288 with 1 Axes>"
      ]
     },
     "metadata": {
      "needs_background": "light"
     },
     "output_type": "display_data"
    }
   ],
   "source": [
    "# print(\"clean_city_data\") \n",
    "# print(clean_city_data)\n",
    "\n",
    "# Prepare scatter plot  \n",
    "plt.scatter(clean_city_data[\"lat\"],clean_city_data[\"temp\"])\n",
    "plt.xlabel(\"Lattitude (degrees)\")\n",
    "plt.ylabel(\"Temperature (Celsius)\")\n",
    "plt.title('Lattitude vs Temperature')\n",
    "# Save the figure\n",
    "plt.savefig(\"output_data/lat_temp.png\")\n",
    "# Display the garph\n",
    "plt.show()"
   ]
  },
  {
   "cell_type": "markdown",
   "metadata": {},
   "source": [
    "## Latitude vs. Humidity Plot"
   ]
  },
  {
   "cell_type": "code",
   "execution_count": 11,
   "metadata": {},
   "outputs": [
    {
     "data": {
      "image/png": "[encoded data removed]",
      "text/plain": [
       "<Figure size 432x288 with 1 Axes>"
      ]
     },
     "metadata": {
      "needs_background": "light"
     },
     "output_type": "display_data"
    }
   ],
   "source": [
    "# Prepare scatter plot  \n",
    "plt.scatter(clean_city_data[\"lat\"],clean_city_data[\"Humidity\"])\n",
    "plt.xlabel(\"Lattitude (degrees)\")\n",
    "plt.ylabel(\"Humidity (%)\")\n",
    "plt.title('Lattitude vs Humidity')\n",
    "# Save the figure\n",
    "plt.savefig(\"output_data/lat_hum.png\")\n",
    "# Display the garph\n",
    "plt.show()"
   ]
  },
  {
   "cell_type": "markdown",
   "metadata": {},
   "source": [
    "## Latitude vs. Cloudiness Plot"
   ]
  },
  {
   "cell_type": "code",
   "execution_count": 12,
   "metadata": {},
   "outputs": [
    {
     "data": {
      "image/png": "[encoded data removed]",
      "text/plain": [
       "<Figure size 432x288 with 1 Axes>"
      ]
     },
     "metadata": {
      "needs_background": "light"
     },
     "output_type": "display_data"
    }
   ],
   "source": [
    "# Prepare scatter plot  \n",
    "plt.scatter(clean_city_data[\"lat\"],clean_city_data[\"Cloudiness\"])\n",
    "plt.xlabel(\"Lattitude (degrees)\")\n",
    "plt.ylabel(\"Cloudiness (%)\")\n",
    "plt.title('Lattitude vs Cloudiness')\n",
    "# Save the figure\n",
    "plt.savefig(\"output_data/lat_cloud.png\")\n",
    "# Display the garph\n",
    "plt.show()"
   ]
  },
  {
   "cell_type": "markdown",
   "metadata": {},
   "source": [
    "## Latitude vs. Wind Speed Plot"
   ]
  },
  {
   "cell_type": "code",
   "execution_count": 13,
   "metadata": {},
   "outputs": [
    {
     "data": {
      "image/png": "[encoded data removed]",
      "text/plain": [
       "<Figure size 432x288 with 1 Axes>"
      ]
     },
     "metadata": {
      "needs_background": "light"
     },
     "output_type": "display_data"
    }
   ],
   "source": [
    "# Prepare scatter plot  \n",
    "plt.scatter(clean_city_data[\"lat\"],clean_city_data[\"Wind Speed\"])\n",
    "plt.xlabel(\"Lattitude (degrees)\")\n",
    "plt.ylabel(\"Wind Speed (kM)\")\n",
    "plt.title('Lattitude vs Wind Speed')\n",
    "# Save the figure\n",
    "plt.savefig(\"output_data/lat_wind.png\")\n",
    "# Display the garph\n",
    "plt.show()"
   ]
  },
  {
   "cell_type": "markdown",
   "metadata": {},
   "source": [
    "## Linear Regression"
   ]
  },
  {
   "cell_type": "code",
   "execution_count": 14,
   "metadata": {},
   "outputs": [
    {
     "name": "stdout",
     "output_type": "stream",
     "text": [
      "The correlation between both factors is 0.04\n",
      "line_eq is: y = 0.01x + 23.45\n"
     ]
    },
    {
     "data": {
      "image/png": "[encoded data removed]",
      "text/plain": [
       "<Figure size 432x288 with 1 Axes>"
      ]
     },
     "metadata": {
      "needs_background": "light"
     },
     "output_type": "display_data"
    }
   ],
   "source": [
    "# Calculate the correlation coefficient and linear regression model \n",
    "\n",
    "x_values = clean_city_data[\"lat\"]\n",
    "y_values = clean_city_data[\"temp\"]\n",
    "\n",
    "correlation = st.pearsonr(x_values,y_values)\n",
    "print(f\"The correlation between both factors is {round(correlation[0],2)}\")\n",
    "\n",
    "# Prepare Linear regression and scatter plot data  \n",
    "(slope, intercept, rvalue, pvalue, stderr) = linregress(x_values,y_values)\n",
    "regress_values = x_values * slope + intercept\n",
    "line_eq = \"y = \" + str(round(slope,2)) + \"x + \" + str(round(intercept,2))\n",
    "print(f\"line_eq is: {line_eq}\")\n",
    "plt.scatter(x_values,y_values)\n",
    "plt.plot(x_values,regress_values,\"r-\")\n",
    "plt.xlabel(\"Lattitude (degrees)\")\n",
    "plt.ylabel(\"Temperature (Celsius)\")\n",
    "plt.title('Lattitude vs Temperature')\n",
    "\n",
    "# Display the garph\n",
    "plt.annotate(line_eq,(6,10),fontsize=15,color=\"red\")\n",
    "plt.show()"
   ]
  },
  {
   "cell_type": "markdown",
   "metadata": {},
   "source": [
    "####  Northern Hemisphere - Max Temp vs. Latitude Linear Regression"
   ]
  },
  {
   "cell_type": "code",
   "execution_count": 15,
   "metadata": {},
   "outputs": [
    {
     "name": "stdout",
     "output_type": "stream",
     "text": [
      "clean_city_data\n",
      "   index          city      lat       lon   temp  TempMax  Humidity  \\\n",
      "0      0       rikitea -23.1203 -134.9692  26.22    26.22        68   \n",
      "1      4          ambo -10.1308  -76.2047  19.92    19.92        73   \n",
      "2      5    sao filipe  14.8961  -24.4956  24.89    24.89        61   \n",
      "3      6        sindou  10.6667   -5.1667  26.72    26.72        15   \n",
      "4      7  general roca -39.0333  -67.5833  35.93    35.93        15   \n",
      "5      8  punta arenas -53.1500  -70.9167  11.06    11.06        46   \n",
      "6      9        iberia  29.9502  -91.7507  18.77    20.03        36   \n",
      "\n",
      "   Cloudiness  Wind Speed  \n",
      "0           1        6.65  \n",
      "1          92        3.69  \n",
      "2          75        1.09  \n",
      "3           5        2.52  \n",
      "4           0        7.04  \n",
      "5          75       12.86  \n",
      "6           0        5.14  \n",
      "\n",
      "northern_hemisphere_city\n",
      "[2, 3, 6]\n",
      "\n",
      "southern_hemisphere_city\n",
      "[0, 1, 4, 5]\n",
      "\n",
      "northern_hemisphere_data\n",
      "   index        city      lat      lon   temp  TempMax  Humidity  Cloudiness  \\\n",
      "2      5  sao filipe  14.8961 -24.4956  24.89    24.89        61          75   \n",
      "3      6      sindou  10.6667  -5.1667  26.72    26.72        15           5   \n",
      "6      9      iberia  29.9502 -91.7507  18.77    20.03        36           0   \n",
      "\n",
      "   Wind Speed  \n",
      "2        1.09  \n",
      "3        2.52  \n",
      "6        5.14  \n",
      "\n",
      "southern_hemisphere_data\n",
      "   index          city      lat       lon   temp  TempMax  Humidity  \\\n",
      "0      0       rikitea -23.1203 -134.9692  26.22    26.22        68   \n",
      "1      4          ambo -10.1308  -76.2047  19.92    19.92        73   \n",
      "4      7  general roca -39.0333  -67.5833  35.93    35.93        15   \n",
      "5      8  punta arenas -53.1500  -70.9167  11.06    11.06        46   \n",
      "\n",
      "   Cloudiness  Wind Speed  \n",
      "0           1        6.65  \n",
      "1          92        3.69  \n",
      "4           0        7.04  \n",
      "5          75       12.86  \n",
      "\n",
      "x_values\n",
      "2    14.8961\n",
      "3    10.6667\n",
      "6    29.9502\n",
      "Name: lat, dtype: float64\n",
      "\n",
      "y_values\n",
      "2    24.89\n",
      "3    26.72\n",
      "6    20.03\n",
      "Name: TempMax, dtype: float64\n",
      "\n",
      "The correlation between both factors is -1.0\n",
      "slope, intercept, rvalue, pvalue, stderr\n",
      "-0.34055895427272037 30.181816409513843 -0.9983388434675833 0.036699532971167154 0.019654146046864256\n",
      "line_eq is: y = -0.34x + 30.18\n"
     ]
    },
    {
     "data": {
      "image/png": "[encoded data removed]",
      "text/plain": [
       "<Figure size 432x288 with 1 Axes>"
      ]
     },
     "metadata": {
      "needs_background": "light"
     },
     "output_type": "display_data"
    }
   ],
   "source": [
    "# Separate the plots into Northern Hemisphere (greater than or equal to 0 degrees latitude) and \n",
    "# Southern Hemisphere (less than 0 degrees latitude)\n",
    "# After each pair of plots, take the time to explain what the linear regression is modeling. \n",
    "# For example, describe any relationships you notice and any other analysis you may have.\n",
    "\n",
    "# Set-up and initialize variables \n",
    "city_counter = 0\n",
    "northern_city_counter = 0\n",
    "southern_city_counter = 0\n",
    "northern_hemisphere_city = []\n",
    "southern_hemisphere_city = []\n",
    "      \n",
    "# Make a new DataFrame equal to the city data (aka weather_data) to drop all humidity outliers by index.\n",
    "# Passing \"inplace=False\" will make a copy of the city_data DataFrame, which we call \"clean_city_data\".\n",
    "northern_hemisphere_data = clean_city_data\n",
    "southern_hemisphere_data = clean_city_data\n",
    "\n",
    "print(\"clean_city_data\")\n",
    "print(clean_city_data)\n",
    "print()\n",
    "\n",
    "# Create Northen Hemisphere and Southern Hemisphere lists\n",
    "for city_counter in range(0, len(clean_city_data)):\n",
    "    if clean_city_data[\"lat\"][city_counter] >= 0:\n",
    "        #print('northern_hemisphere_city')\n",
    "        #print(f'Latitude for Northen Hemisphere city {clean_city_data[\"city\"][city_counter]}') \n",
    "        #print(' #{city_counter} received is: {lat}')\n",
    "        ##print(f'Lattitude for city {city[city_counter]} #{city_counter} is Northen Hemisphere: {clean_city_data[\"lat\"][city_counter]}')\n",
    "        northern_hemisphere_city.append(city_counter)\n",
    "        #print(\"northern_hemisphere_city\")\n",
    "        #print(northern_hemisphere_city)\n",
    "        #print()\n",
    "        # Drop southern_hemisphere_data point from northern_hemisphere_data    \n",
    "        southern_hemisphere_data=southern_hemisphere_data.drop(city_counter, inplace=False)\n",
    "#         print(\"southern_hemisphere_data\")\n",
    "#         print(southern_hemisphere_data)\n",
    "#         print()\n",
    "    else:\n",
    "        # Southern_hemisphere_city\n",
    "        southern_hemisphere_city.append(city_counter)\n",
    "#         print(\"southern_hemisphere_city\")\n",
    "#         print(southern_hemisphere_city)\n",
    "#         print()\n",
    "        # Drop southern_hemisphere_data point from northern_hemisphere_data      \n",
    "        northern_hemisphere_data=northern_hemisphere_data.drop(city_counter, inplace=False)\n",
    "#         print(\"northern_hemisphere_data\")\n",
    "#         print(northern_hemisphere_data)\n",
    "#         print()\n",
    "\n",
    "    city_counter += 1 \n",
    "          \n",
    "print(\"northern_hemisphere_city\")\n",
    "print(northern_hemisphere_city)\n",
    "print()\n",
    "print(\"southern_hemisphere_city\")\n",
    "print(southern_hemisphere_city)\n",
    "print()\n",
    "\n",
    "print(\"northern_hemisphere_data\")\n",
    "print(northern_hemisphere_data)\n",
    "print()\n",
    "print(\"southern_hemisphere_data\")\n",
    "print(southern_hemisphere_data)\n",
    "print()\n",
    "          \n",
    "\n",
    "x_values = northern_hemisphere_data[\"lat\"]\n",
    "y_values = northern_hemisphere_data[\"TempMax\"]\n",
    "\n",
    "\n",
    "print(\"x_values\")\n",
    "print(x_values)\n",
    "print()\n",
    "print(\"y_values\")\n",
    "print(y_values)\n",
    "print()\n",
    "\n",
    "correlation = st.pearsonr(x_values,y_values)\n",
    "print(f\"The correlation between both factors is {round(correlation[0],2)}\")\n",
    "\n",
    "# Prepare Linear regression and scatter plot data  \n",
    "(slope, intercept, rvalue, pvalue, stderr) = linregress(x_values,y_values)\n",
    "print(\"slope, intercept, rvalue, pvalue, stderr\")\n",
    "print(slope, intercept, rvalue, pvalue, stderr)\n",
    "regress_values = x_values * slope + intercept\n",
    "line_eq = \"y = \" + str(round(slope,2)) + \"x + \" + str(round(intercept,2))\n",
    "print(f\"line_eq is: {line_eq}\")\n",
    "plt.scatter(x_values,y_values)\n",
    "plt.plot(x_values,regress_values,\"r-\")\n",
    "plt.xlabel(\"Lattitude (degrees)\")\n",
    "plt.ylabel(\"Max Temperature (Celsius)\")\n",
    "plt.title('Northern Hemisphere Lattitude vs Max Temperature')\n",
    "\n",
    "# Display the garph\n",
    "plt.annotate(line_eq,(6,10),fontsize=15,color=\"red\")\n",
    "plt.show()"
   ]
  },
  {
   "cell_type": "markdown",
   "metadata": {},
   "source": [
    "####  Southern Hemisphere - Max Temp vs. Latitude Linear Regression"
   ]
  },
  {
   "cell_type": "code",
   "execution_count": 16,
   "metadata": {},
   "outputs": [
    {
     "name": "stdout",
     "output_type": "stream",
     "text": [
      "x_values\n",
      "0    26.22\n",
      "1    19.92\n",
      "4    35.93\n",
      "5    11.06\n",
      "Name: TempMax, dtype: float64\n",
      "\n",
      "y_values\n",
      "0   -23.1203\n",
      "1   -10.1308\n",
      "4   -39.0333\n",
      "5   -53.1500\n",
      "Name: lat, dtype: float64\n",
      "\n",
      "The correlation between both factors is 0.21\n",
      "slope, intercept, rvalue, pvalue, stderr\n",
      "0.3708079323301622 -39.991935684477 0.20743108389629644 0.7925689161037036 1.2365448566203239\n",
      "line_eq is: y = 0.37x + -39.99\n"
     ]
    },
    {
     "data": {
      "image/png": "[encoded data removed]",
      "text/plain": [
       "<Figure size 432x288 with 1 Axes>"
      ]
     },
     "metadata": {
      "needs_background": "light"
     },
     "output_type": "display_data"
    }
   ],
   "source": [
    "x_values = southern_hemisphere_data[\"TempMax\"]\n",
    "y_values = southern_hemisphere_data[\"lat\"]\n",
    "\n",
    "\n",
    "\n",
    "print(\"x_values\")\n",
    "print(x_values)\n",
    "print()\n",
    "print(\"y_values\")\n",
    "print(y_values)\n",
    "print()\n",
    "\n",
    "correlation = st.pearsonr(x_values,y_values)\n",
    "print(f\"The correlation between both factors is {round(correlation[0],2)}\")\n",
    "\n",
    "# Prepare Linear regression and scatter plot data  \n",
    "(slope, intercept, rvalue, pvalue, stderr) = linregress(x_values,y_values)\n",
    "print(\"slope, intercept, rvalue, pvalue, stderr\")\n",
    "print(slope, intercept, rvalue, pvalue, stderr)\n",
    "regress_values = x_values * slope + intercept\n",
    "line_eq = \"y = \" + str(round(slope,2)) + \"x + \" + str(round(intercept,2))\n",
    "print(f\"line_eq is: {line_eq}\")\n",
    "plt.scatter(x_values,y_values)\n",
    "plt.plot(x_values,regress_values,\"r-\")\n",
    "plt.xlabel(\"Max Temperature (Celsius)\")\n",
    "plt.ylabel(\"Lattitude (degrees)\")\n",
    "plt.title('Southern Hemisphere Lattitude vs Max Temperature')\n",
    "\n",
    "# Display the garph\n",
    "plt.annotate(line_eq,(6,10),fontsize=15,color=\"red\")\n",
    "plt.show()"
   ]
  },
  {
   "cell_type": "markdown",
   "metadata": {},
   "source": [
    "####  Northern Hemisphere - Humidity (%) vs. Latitude Linear Regression"
   ]
  },
  {
   "cell_type": "code",
   "execution_count": 17,
   "metadata": {},
   "outputs": [
    {
     "name": "stdout",
     "output_type": "stream",
     "text": [
      "x_values\n",
      "2    61\n",
      "3    15\n",
      "6    36\n",
      "Name: Humidity, dtype: int64\n",
      "\n",
      "y_values\n",
      "2    14.8961\n",
      "3    10.6667\n",
      "6    29.9502\n",
      "Name: lat, dtype: float64\n",
      "\n",
      "The correlation between both factors is 0.16\n",
      "slope, intercept, rvalue, pvalue, stderr\n",
      "0.07012991829038341 15.886149717159022 0.15934325616772319 0.8981246830247475 0.43449523287257585\n",
      "line_eq is: y = 0.07x + 15.89\n"
     ]
    },
    {
     "data": {
      "image/png": "[encoded data removed]",
      "text/plain": [
       "<Figure size 432x288 with 1 Axes>"
      ]
     },
     "metadata": {
      "needs_background": "light"
     },
     "output_type": "display_data"
    }
   ],
   "source": [
    "x_values = northern_hemisphere_data[\"Humidity\"]\n",
    "y_values = northern_hemisphere_data[\"lat\"]\n",
    "\n",
    "\n",
    "print(\"x_values\")\n",
    "print(x_values)\n",
    "print()\n",
    "print(\"y_values\")\n",
    "print(y_values)\n",
    "print()\n",
    "\n",
    "correlation = st.pearsonr(x_values,y_values)\n",
    "print(f\"The correlation between both factors is {round(correlation[0],2)}\")\n",
    "\n",
    "# Prepare Linear regression and scatter plot data  \n",
    "(slope, intercept, rvalue, pvalue, stderr) = linregress(x_values,y_values)\n",
    "print(\"slope, intercept, rvalue, pvalue, stderr\")\n",
    "print(slope, intercept, rvalue, pvalue, stderr)\n",
    "regress_values = x_values * slope + intercept\n",
    "line_eq = \"y = \" + str(round(slope,2)) + \"x + \" + str(round(intercept,2))\n",
    "print(f\"line_eq is: {line_eq}\")\n",
    "plt.scatter(x_values,y_values)\n",
    "plt.plot(x_values,regress_values,\"r-\")\n",
    "plt.xlabel(\"Humidity (%) \")\n",
    "plt.ylabel(\"Lattitude (degrees)\")\n",
    "plt.title('Humidity vs Lattitude')\n",
    "\n",
    "# Display the garph\n",
    "plt.annotate(line_eq,(6,10),fontsize=15,color=\"red\")\n",
    "plt.show()"
   ]
  },
  {
   "cell_type": "markdown",
   "metadata": {},
   "source": [
    "####  Southern Hemisphere - Humidity (%) vs. Latitude Linear Regression"
   ]
  },
  {
   "cell_type": "code",
   "execution_count": 18,
   "metadata": {},
   "outputs": [
    {
     "name": "stdout",
     "output_type": "stream",
     "text": [
      "x_values\n",
      "0    68\n",
      "1    73\n",
      "4    15\n",
      "5    46\n",
      "Name: Humidity, dtype: int64\n",
      "\n",
      "y_values\n",
      "0   -23.1203\n",
      "1   -10.1308\n",
      "4   -39.0333\n",
      "5   -53.1500\n",
      "Name: lat, dtype: float64\n",
      "\n",
      "The correlation between both factors is 0.67\n",
      "slope, intercept, rvalue, pvalue, stderr\n",
      "0.474108408982322 -55.30107465360726 0.668654434581279 0.33134556541872096 0.3728075645258587\n",
      "line_eq is: y = 0.47x + -55.3\n"
     ]
    },
    {
     "data": {
      "image/png": "[encoded data removed]",
      "text/plain": [
       "<Figure size 432x288 with 1 Axes>"
      ]
     },
     "metadata": {
      "needs_background": "light"
     },
     "output_type": "display_data"
    }
   ],
   "source": [
    "x_values = southern_hemisphere_data[\"Humidity\"]\n",
    "y_values = southern_hemisphere_data[\"lat\"]\n",
    "\n",
    "\n",
    "print(\"x_values\")\n",
    "print(x_values)\n",
    "print()\n",
    "print(\"y_values\")\n",
    "print(y_values)\n",
    "print()\n",
    "\n",
    "correlation = st.pearsonr(x_values,y_values)\n",
    "print(f\"The correlation between both factors is {round(correlation[0],2)}\")\n",
    "\n",
    "# Prepare Linear regression and scatter plot data  \n",
    "(slope, intercept, rvalue, pvalue, stderr) = linregress(x_values,y_values)\n",
    "print(\"slope, intercept, rvalue, pvalue, stderr\")\n",
    "print(slope, intercept, rvalue, pvalue, stderr)\n",
    "regress_values = x_values * slope + intercept\n",
    "line_eq = \"y = \" + str(round(slope,2)) + \"x + \" + str(round(intercept,2))\n",
    "print(f\"line_eq is: {line_eq}\")\n",
    "plt.scatter(x_values,y_values)\n",
    "plt.plot(x_values,regress_values,\"r-\")\n",
    "plt.xlabel(\"Humidity (%)\")\n",
    "plt.ylabel(\"Lattitude (degrees)\")\n",
    "plt.title('Humidity vs Lattitude')\n",
    "\n",
    "# Display the garph\n",
    "plt.annotate(line_eq,(6,10),fontsize=15,color=\"red\")\n",
    "plt.show()"
   ]
  },
  {
   "cell_type": "markdown",
   "metadata": {},
   "source": [
    "####  Northern Hemisphere - Cloudiness (%) vs. Latitude Linear Regression"
   ]
  },
  {
   "cell_type": "code",
   "execution_count": 19,
   "metadata": {},
   "outputs": [
    {
     "name": "stdout",
     "output_type": "stream",
     "text": [
      "x_values\n",
      "2    75\n",
      "3     5\n",
      "6     0\n",
      "Name: Cloudiness, dtype: int64\n",
      "\n",
      "y_values\n",
      "2    14.8961\n",
      "3    10.6667\n",
      "6    29.9502\n",
      "Name: lat, dtype: float64\n",
      "\n",
      "The correlation between both factors is -0.36\n",
      "slope, intercept, rvalue, pvalue, stderr\n",
      "-0.08809639810426538 20.853570616113746 -0.364472402250304 0.7624986994543042 0.22508320386449954\n",
      "line_eq is: y = -0.09x + 20.85\n"
     ]
    },
    {
     "data": {
      "image/png": "[encoded data removed]",
      "text/plain": [
       "<Figure size 432x288 with 1 Axes>"
      ]
     },
     "metadata": {
      "needs_background": "light"
     },
     "output_type": "display_data"
    }
   ],
   "source": [
    "x_values = northern_hemisphere_data[\"Cloudiness\"]\n",
    "y_values = northern_hemisphere_data[\"lat\"]\n",
    "\n",
    "\n",
    "print(\"x_values\")\n",
    "print(x_values)\n",
    "print()\n",
    "print(\"y_values\")\n",
    "print(y_values)\n",
    "print()\n",
    "\n",
    "correlation = st.pearsonr(x_values,y_values)\n",
    "print(f\"The correlation between both factors is {round(correlation[0],2)}\")\n",
    "\n",
    "# Prepare Linear regression and scatter plot data  \n",
    "(slope, intercept, rvalue, pvalue, stderr) = linregress(x_values,y_values)\n",
    "print(\"slope, intercept, rvalue, pvalue, stderr\")\n",
    "print(slope, intercept, rvalue, pvalue, stderr)\n",
    "regress_values = x_values * slope + intercept\n",
    "line_eq = \"y = \" + str(round(slope,2)) + \"x + \" + str(round(intercept,2))\n",
    "print(f\"line_eq is: {line_eq}\")\n",
    "plt.scatter(x_values,y_values)\n",
    "plt.plot(x_values,regress_values,\"r-\")\n",
    "plt.xlabel(\"Cloudiness (%)\")\n",
    "plt.ylabel(\"Lattitude (degrees)\")\n",
    "plt.title('Cloudiness vs Lattitude')\n",
    "\n",
    "# Display the garph\n",
    "plt.annotate(line_eq,(6,10),fontsize=15,color=\"red\")\n",
    "plt.show()"
   ]
  },
  {
   "cell_type": "markdown",
   "metadata": {},
   "source": [
    "####  Southern Hemisphere - Cloudiness (%) vs. Latitude Linear Regression"
   ]
  },
  {
   "cell_type": "code",
   "execution_count": 20,
   "metadata": {},
   "outputs": [
    {
     "name": "stdout",
     "output_type": "stream",
     "text": [
      "x_values\n",
      "0     1\n",
      "1    92\n",
      "4     0\n",
      "5    75\n",
      "Name: Cloudiness, dtype: int64\n",
      "\n",
      "y_values\n",
      "0   -23.1203\n",
      "1   -10.1308\n",
      "4   -39.0333\n",
      "5   -53.1500\n",
      "Name: lat, dtype: float64\n",
      "\n",
      "The correlation between both factors is 0.12\n",
      "slope, intercept, rvalue, pvalue, stderr\n",
      "0.04646586579471137 -33.31016636337788 0.12013641626932516 0.8798635837306749 0.27151103999329607\n",
      "line_eq is: y = 0.05x + -33.31\n"
     ]
    },
    {
     "data": {
      "image/png": "[encoded data removed]",
      "text/plain": [
       "<Figure size 432x288 with 1 Axes>"
      ]
     },
     "metadata": {
      "needs_background": "light"
     },
     "output_type": "display_data"
    }
   ],
   "source": [
    "x_values = southern_hemisphere_data[\"Cloudiness\"]\n",
    "y_values = southern_hemisphere_data[\"lat\"]\n",
    "\n",
    "\n",
    "print(\"x_values\")\n",
    "print(x_values)\n",
    "print()\n",
    "print(\"y_values\")\n",
    "print(y_values)\n",
    "print()\n",
    "\n",
    "correlation = st.pearsonr(x_values,y_values)\n",
    "print(f\"The correlation between both factors is {round(correlation[0],2)}\")\n",
    "\n",
    "# Prepare Linear regression and scatter plot data  \n",
    "(slope, intercept, rvalue, pvalue, stderr) = linregress(x_values,y_values)\n",
    "print(\"slope, intercept, rvalue, pvalue, stderr\")\n",
    "print(slope, intercept, rvalue, pvalue, stderr)\n",
    "regress_values = x_values * slope + intercept\n",
    "line_eq = \"y = \" + str(round(slope,2)) + \"x + \" + str(round(intercept,2))\n",
    "print(f\"line_eq is: {line_eq}\")\n",
    "plt.scatter(x_values,y_values)\n",
    "plt.plot(x_values,regress_values,\"r-\")\n",
    "plt.xlabel(\"Cloudiness (%)\")\n",
    "plt.ylabel(\"Lattitude (degrees)\")\n",
    "plt.title('Cloudiness vs Lattitude')\n",
    "\n",
    "# Display the garph\n",
    "plt.annotate(line_eq,(6,10),fontsize=15,color=\"red\")\n",
    "plt.show()"
   ]
  },
  {
   "cell_type": "markdown",
   "metadata": {},
   "source": [
    "####  Northern Hemisphere - Wind Speed (mph) vs. Latitude Linear Regression"
   ]
  },
  {
   "cell_type": "code",
   "execution_count": 21,
   "metadata": {},
   "outputs": [
    {
     "name": "stdout",
     "output_type": "stream",
     "text": [
      "x_values\n",
      "2    61\n",
      "3    15\n",
      "6    36\n",
      "Name: Humidity, dtype: int64\n",
      "\n",
      "y_values\n",
      "2    14.8961\n",
      "3    10.6667\n",
      "6    29.9502\n",
      "Name: lat, dtype: float64\n",
      "\n",
      "The correlation between both factors is 0.16\n",
      "slope, intercept, rvalue, pvalue, stderr\n",
      "0.07012991829038341 15.886149717159022 0.15934325616772319 0.8981246830247475 0.43449523287257585\n",
      "line_eq is: y = 0.07x + 15.89\n"
     ]
    },
    {
     "data": {
      "image/png": "[encoded data removed]",
      "text/plain": [
       "<Figure size 432x288 with 1 Axes>"
      ]
     },
     "metadata": {
      "needs_background": "light"
     },
     "output_type": "display_data"
    }
   ],
   "source": [
    "x_values = northern_hemisphere_data[\"Humidity\"]\n",
    "y_values = northern_hemisphere_data[\"lat\"]\n",
    "\n",
    "\n",
    "print(\"x_values\")\n",
    "print(x_values)\n",
    "print()\n",
    "print(\"y_values\")\n",
    "print(y_values)\n",
    "print()\n",
    "\n",
    "correlation = st.pearsonr(x_values,y_values)\n",
    "print(f\"The correlation between both factors is {round(correlation[0],2)}\")\n",
    "\n",
    "# Prepare Linear regression and scatter plot data  \n",
    "(slope, intercept, rvalue, pvalue, stderr) = linregress(x_values,y_values)\n",
    "print(\"slope, intercept, rvalue, pvalue, stderr\")\n",
    "print(slope, intercept, rvalue, pvalue, stderr)\n",
    "regress_values = x_values * slope + intercept\n",
    "line_eq = \"y = \" + str(round(slope,2)) + \"x + \" + str(round(intercept,2))\n",
    "print(f\"line_eq is: {line_eq}\")\n",
    "plt.scatter(x_values,y_values)\n",
    "plt.plot(x_values,regress_values,\"r-\")\n",
    "plt.xlabel(\"Humidity (%)\")\n",
    "plt.ylabel(\"Lattitude (degrees)\")\n",
    "plt.title('Humidity vs Lattitude')\n",
    "\n",
    "# Display the garph\n",
    "plt.annotate(line_eq,(6,10),fontsize=15,color=\"red\")\n",
    "plt.show()"
   ]
  },
  {
   "cell_type": "markdown",
   "metadata": {},
   "source": [
    "####  Southern Hemisphere - Wind Speed (mph) vs. Latitude Linear Regression"
   ]
  },
  {
   "cell_type": "code",
   "execution_count": 22,
   "metadata": {},
   "outputs": [
    {
     "name": "stdout",
     "output_type": "stream",
     "text": [
      "x_values\n",
      "0    68\n",
      "1    73\n",
      "4    15\n",
      "5    46\n",
      "Name: Humidity, dtype: int64\n",
      "\n",
      "y_values\n",
      "0   -23.1203\n",
      "1   -10.1308\n",
      "4   -39.0333\n",
      "5   -53.1500\n",
      "Name: lat, dtype: float64\n",
      "\n",
      "The correlation between both factors is 0.67\n",
      "slope, intercept, rvalue, pvalue, stderr\n",
      "0.474108408982322 -55.30107465360726 0.668654434581279 0.33134556541872096 0.3728075645258587\n",
      "line_eq is: y = 0.47x + -55.3\n"
     ]
    },
    {
     "data": {
      "image/png": "[encoded data removed]",
      "text/plain": [
       "<Figure size 432x288 with 1 Axes>"
      ]
     },
     "metadata": {
      "needs_background": "light"
     },
     "output_type": "display_data"
    }
   ],
   "source": [
    "x_values = southern_hemisphere_data[\"Humidity\"]\n",
    "y_values = southern_hemisphere_data[\"lat\"]\n",
    "\n",
    "\n",
    "print(\"x_values\")\n",
    "print(x_values)\n",
    "print()\n",
    "print(\"y_values\")\n",
    "print(y_values)\n",
    "print()\n",
    "\n",
    "correlation = st.pearsonr(x_values,y_values)\n",
    "print(f\"The correlation between both factors is {round(correlation[0],2)}\")\n",
    "\n",
    "# Prepare Linear regression and scatter plot data  \n",
    "(slope, intercept, rvalue, pvalue, stderr) = linregress(x_values,y_values)\n",
    "print(\"slope, intercept, rvalue, pvalue, stderr\")\n",
    "print(slope, intercept, rvalue, pvalue, stderr)\n",
    "regress_values = x_values * slope + intercept\n",
    "line_eq = \"y = \" + str(round(slope,2)) + \"x + \" + str(round(intercept,2))\n",
    "print(f\"line_eq is: {line_eq}\")\n",
    "plt.scatter(x_values,y_values)\n",
    "plt.plot(x_values,regress_values,\"r-\")\n",
    "plt.xlabel(\"Humidity (%)\")\n",
    "plt.ylabel(\"Lattitude (degrees)\")\n",
    "plt.title('Humidity vs Lattitude')\n",
    "\n",
    "# Display the garph\n",
    "plt.annotate(line_eq,(6,10),fontsize=15,color=\"red\")\n",
    "plt.show()"
   ]
  },
  {
   "cell_type": "code",
   "execution_count": null,
   "metadata": {},
   "outputs": [],
   "source": []
  }
 ],
 "metadata": {
  "anaconda-cloud": {},
  "kernel_info": {
   "name": "python3"
  },
  "kernelspec": {
   "display_name": "Python 3 (ipykernel)",
   "language": "python",
   "name": "python3"
  },
  "language_info": {
   "codemirror_mode": {
    "name": "ipython",
    "version": 3
   },
   "file_extension": ".py",
   "mimetype": "text/x-python",
   "name": "python",
   "nbconvert_exporter": "python",
   "pygments_lexer": "ipython3",
   "version": "3.9.7"
  },
  "latex_envs": {
   "LaTeX_envs_menu_present": true,
   "autoclose": false,
   "autocomplete": true,
   "bibliofile": "biblio.bib",
   "cite_by": "apalike",
   "current_citInitial": 1,
   "eqLabelWithNumbers": true,
   "eqNumInitial": 1,
   "hotkeys": {
    "equation": "Ctrl-E",
    "itemize": "Ctrl-I"
   },
   "labels_anchors": false,
   "latex_user_defs": false,
   "report_style_numbering": false,
   "user_envs_cfg": false
  },
  "nteract": {
   "version": "0.12.3"
  }
 },
 "nbformat": 4,
 "nbformat_minor": 2
}
