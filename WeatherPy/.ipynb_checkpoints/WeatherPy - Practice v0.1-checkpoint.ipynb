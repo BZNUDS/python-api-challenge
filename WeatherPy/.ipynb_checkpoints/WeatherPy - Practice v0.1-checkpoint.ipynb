{
 "cells": [
  {
   "cell_type": "markdown",
   "metadata": {},
   "source": [
    "# WeatherPy\n",
    "----\n",
    "\n",
    "#### Note\n",
    "* Instructions have been included for each segment. You do not have to follow them exactly, but they are included to help you think through the steps."
   ]
  },
  {
   "cell_type": "code",
   "execution_count": 1,
   "metadata": {
    "scrolled": true
   },
   "outputs": [],
   "source": [
    "# Dependencies and Setup\n",
    "import matplotlib.pyplot as plt\n",
    "import pandas as pd\n",
    "import numpy as np\n",
    "import requests\n",
    "import time\n",
    "from scipy.stats import linregress\n",
    "\n",
    "# Import API key\n",
    "from api_keys import weather_api_key\n",
    "\n",
    "# Incorporated citipy to determine city based on latitude and longitude\n",
    "from citipy import citipy\n",
    "\n",
    "# Output File (CSV)\n",
    "output_data_file = \"output_data/cities.csv\"\n",
    "\n",
    "# Range of latitudes and longitudes\n",
    "lat_range = (-90, 90)\n",
    "lng_range = (-180, 180)"
   ]
  },
  {
   "cell_type": "markdown",
   "metadata": {},
   "source": [
    "## Generate Cities List"
   ]
  },
  {
   "cell_type": "code",
   "execution_count": 3,
   "metadata": {},
   "outputs": [
    {
     "name": "stdout",
     "output_type": "stream",
     "text": [
      "['san patricio', 'luderitz', 'nago', 'albany', 'inta', 'vallenar', 'taolanaro', 'rudnogorsk', 'baruun-urt', 'bluff', 'salo', 'zemio', 'katsuura', 'puerto cabello', 'tasiilaq', 'pevek', 'hermanus', 'vaini', 'kaitangata', 'punta arenas', 'port alfred', 'avarua', 'bolungarvik', 'toliary', 'yerbogachen', 'ponta do sol', 'butaritari', 'tuktoyaktuk', 'atuona', 'bay roberts', 'moree', 'hobart', 'tautira', 'mataura', 'saldanha', 'kapaa', 'ushuaia', 'cape town', 'tumannyy', 'caravelas', 'ocos', 'laem sing', 'zheleznodorozhnyy', 'srednekolymsk', 'isangel', 'thompson', 'qaanaaq', 'coihaique', 'winneba', 'torbay', 'rikitea', 'mardin', 'coahuayana', 'poum', 'illoqqortoormiut', 'cherskiy', 'arraial do cabo', 'busselton', 'dikson', 'saleaula', 'sayyan', 'puerto ayora', 'bredasdorp', 'warrnambool', 'grand river south east', 'karratha', 'plettenberg bay', 'alugan', 'imeni stepana razina', 'okhotsk', 'maniitsoq', 'saint george', 'ternate', 'leh', 'jamestown', 'salalah', 'rawson', 'khatanga', 'saint-joseph', 'pilikwe', 'kirillov', 'belushya guba', 'buraydah', 'teluk nibung', 'hilo', 'sobolevo', 'amahai', 'knysna', 'meyungs', 'nanortalik', 'bethel', 'hithadhoo', 'severo-kurilsk', 'isla vista', 'nizhneyansk', 'kincardine', 'winslow', 'sorkjosen', 'saskylakh', 'iqaluit', 'saint-philippe', 'alofi', 'tiksi', 'ambon', 'tuatapere', 'athabasca', 'saint-francois', 'leningradskiy', 'pasni', 'gangotri', 'kavieng', 'mar del plata', 'naco', 'one hundred mile house', 'balikpapan', 'cuamba', 'bengkulu', 'barrow', 'weiz', 'praia da vitoria', 'bignona', 'pundaguitan', 'comodoro rivadavia', 'litoral del san juan', 'tayoltita', 'eureka', 'esperance', 'sanmenxia', 'fortuna foothills', 'upernavik', 'lengshuijiang', 'oktyabrskoye', 'nisia floresta', 'amderma', 'talaya', 'te anau', 'ribeira grande', 'hami', 'korla', 'khurai', 'klaksvik', 'puri', 'samoded', 'pangnirtung', 'hambantota', 'airai', 'maceio', 'grindavik', 'ponta delgada', 'mhlambanyatsi', 'jaguey grande', 'malwan', 'necochea', 'lebanon', 'bambous virieux', 'saint-augustin', 'lorengau', 'samusu', 'nhulunbuy', 'vila', 'sinop', 'san juan del sur', 'verkhnetulomskiy', 'ketchikan', 'sao filipe', 'kodiak', 'mezen', 'mahebourg', 'roma', 'abu zabad', 'chegdomyn', 'souillac', 'geraldton', 'georgetown', 'betioky', 'quelimane', 'umm durman', 'mys shmidta', 'barentsburg', 'clyde river', 'amapa', 'naze', 'dingle', 'ca mau', 'guerrero negro', 'batagay', 'krasnoselkup', 'petatlan', 'mutuipe', 'kulhudhuffushi', 'abnub', 'kashira', 'ambilobe', 'inderborskiy', 'portland', 'tahta', 'new norfolk', 'puerto escondido', 'bondoukou', 'castro', 'dekoa', 'norman wells', 'margate', 'qui nhon', 'aksu', 'solnechnyy', 'zhangye', 'walvis bay', 'frontera', 'lebu', 'charters towers', 'lompoc', 'hastings', 'moose factory', 'mallig', 'kloulklubed', 'karakendzha', 'axim', 'kupang', 'mount isa', 'kahului', 'bulaevo', 'arbazh', 'lawrenceburg', 'ribas do rio pardo', 'anton lizardo', 'seymchan', 'quatre cocos', 'urengoy', 'terre haute', 'hofn', 'cabedelo', 'cayenne', 'tsihombe', 'laguna', 'port elizabeth', 'kenora', 'sitka', 'barranca', 'ostrovnoy', 'balyaga', 'kirakira', 'ryotsu', 'iranshahr', 'duz', 'pyapon', 'myanaung', 'atar', 'biltine', 'bayan', 'medina del campo', 'victoria', 'kasane', 'banda aceh', 'leninskoye', 'ardakan', 'rawah', 'yellowknife', 'pacifica', 'vardo', 'vadso', 'komsomolskiy', 'siniscola', 'mandalgovi', 'senmonorom', 'sept-iles', 'durant', 'chuy', 'lavrentiya', 'genhe', 'port-cartier', 'north bend', 'tazovskiy', 'adrar', 'kendal', 'sentyabrskiy', 'bereslavka', 'ilulissat', 'namibe', 'fortuna', 'provideniya', 'ixtapa', 'aklavik', 'heinola', 'rayong', 'iquique', 'lagoa', 'herat', 'la esperanza', 'sao gabriel da cachoeira', 'sulangan', 'yulara', 'aransas pass', 'fuerte', 'bardiyah', 'ust-ilimsk', 'acapulco', 'faanui', 'la ronge', 'palabuhanratu', 'longyearbyen', 'ambulu', 'mahanoro', 'vaitupu', 'mawlaik', 'namatanai', 'cidreira', 'tucupita', 'puerto varas', 'campbell river', 'alappuzha', 'manavalakurichi', 'katherine', 'karkaralinsk', 'surt', 'attawapiskat', 'inhambane', 'totskoye', 'cobourg', 'banjar', 'husavik', 'biak', 'nikolskoye', 'ilinskiy', 'utica', 'lata', 'ilhabela', 'fort-shevchenko', 'grand gaube', 'nioro', 'wangaratta', 'raga', 'mahon', 'leshukonskoye', 'menongue', 'praya', 'khandyga', 'sao gabriel', 'santa marta', 'general pico', 'hondo', 'esso', 'constitucion', 'rocha', 'tomigusuku', 'arlit', 'wuchi', 'muravlenko', 'pokhara', 'richards bay', 'hualmay', 'sampit', 'krasavino', 'acarau', 'zyryanka', 'mount gambier', 'altay', 'bathsheba', 'zarinsk', 'surgut', 'chokurdakh', 'den helder', 'urumqi', 'hay river', 'mount pleasant', 'nantucket', 'bandarbeyla', 'rio grande', 'woodward', 'champerico', 'port shepstone', 'mecca', 'mao', 'lincoln', 'chapais', 'srivardhan', 'nuuk', 'severnyy', 'egvekinot', 'bonavista', 'batagay-alyta', 'belyy yar', 'dunhua', 'kikwit', 'phan thiet', 'ipil', 'sadiqabad', 'afmadu', 'gravdal', 'beringovskiy', 'sechura', 'valenca do piaui', 'yara', 'teguise', 'bonfim', 'tabou', 'port hardy', 'codrington', 'oranjemund', 'buin', 'rungata', 'saint anthony', 'pisco', 'ahipara', 'mahadday weyne', 'vila velha', 'avera', 'roebourne', 'mirnyy', 'hazorasp', 'yar-sale', 'geresk', 'narsaq', 'carnarvon', 'bilibino', 'akdagmadeni', 'homer', 'ouegoa', 'hisar', 'cleveland', 'dalirig', 'bimbo', 'ukiah', 'road town', 'de aar', 'surin', 'nueve de julio', 'bahadurganj', 'sao felix do xingu', 'lagos', 'flinders', 'praia', 'luanda', 'mahibadhoo', 'antalaha', 'aquiraz', 'antofagasta', 'hamilton', 'provost', 'palmer', 'andenes', 'akita', 'shubarshi', 'sur', 'ndjole', 'petropavlovsk-kamchatskiy', 'ye', 'dunda', 'kavaratti', 'severomorsk', 'bure', 'kaduy', 'zhigansk', 'mporokoso', 'falkoping', 'beira', 'parabel', 'pacific grove', 'synya', 'east london', 'bereda', 'kuching', 'alyangula', 'mulchen', 'sawakin', 'nyurba', 'araouane', 'zyryanovsk', 'wanlaweyn', 'gulshat', 'murgab', 'kuala krai', 'emerald', 'paita', 'winnemucca', 'hare bay', 'xam nua', 'peterhead', 'nadadores', 'cocobeach', 'nalut', 'yirol', 'marcona', 'los llanos de aridane', 'portree', 'drayton valley', 'camacha', 'el tigre', 'poselki', 'carutapera', 'charqueada', 'porto-vecchio', 'mizan teferi', 'kasongo', 'evensk', 'daloa', 'huescar', 'sanctorum', 'sorland', 'bairiki', 'port blair', 'x-can', 'bentiu', 'jumla', 'meulaboh', 'vryheid', 'durusu', 'la rioja', 'rapid city', 'beloha', 'olafsvik', 'alekseyevsk', 'katobu', 'fengzhen', 'nzerekore', 'caldwell', 'linxia', 'badvel', 'harlingen', 'port lincoln', 'madang', 'lohja', 'khonuu', 'mmabatho', 'hasaki', 'bagdarin', 'broken hill', 'cap malheureux', 'kiruna', 'ranong', 'bababe', 'turukhansk', 'linden', 'college', 'peranamallur', 'seybaplaya', 'port-gentil', 'ambunti', 'konevo', 'natal', 'boqueirao', 'busteni', 'santa engracia', 'nemuro', 'davila', 'neman', 'mopipi', 'jiblah', 'prince albert', 'nayoro', 'mhlume', 'gillette', 'ancud', 'koumac', 'aswan', 'lamu', 'novosheshminsk', 'bathurst', 'doha', 'broome', 'taoudenni', 'penzance', 'parambu', 'baculin', 'tura', 'liniere', 'sidney', 'collecchio', 'half moon bay', 'zhanaozen', 'cockburn town', 'bereznik', 'bur gabo', 'yakima', 'makakilo city', 'dengzhou', 'hanzhong', 'sande', 'villa rica', 'kruisfontein', 'el dorado', 'la palma', 'raudeberg', 'okha', 'yanan', 'maine-soroa', 'kamenka', 'hluti', 'villefranche-de-rouergue', 'dezhou', 'bara', 'wenling', 'lalmohan', 'jalu', 'crab hill', 'oistins', 'sinnamary', 'peace river', 'madaoua', 'foix', 'vao', 'kaeo', 'melivoia', 'hargeysa', 'goksun', 'port moresby', 'pangody', 'taldan', 'fairlie', 'chagda', 'kismayo', 'lufilufi', 'kenai', 'samalaeulu', 'mastic beach', 'alice springs', 'hailey', 'zaria', 'belgrade', 'peniche', 'dalby', 'dudinka', 'kolokani']\n"
     ]
    }
   ],
   "source": [
    "# List for holding lat_lngs and cities\n",
    "lat_lngs = []\n",
    "cities = []\n",
    "\n",
    "# Create a set of random lat and lng combinations\n",
    "lats = np.random.uniform(lat_range[0], lat_range[1], size=1500)\n",
    "lngs = np.random.uniform(lng_range[0], lng_range[1], size=1500)\n",
    "lat_lngs = zip(lats, lngs)\n",
    "\n",
    "# Identify nearest city for each lat, lng combination\n",
    "for lat_lng in lat_lngs:\n",
    "    city = citipy.nearest_city(lat_lng[0], lat_lng[1]).city_name\n",
    "    \n",
    "    # If the city is unique, then add it to a our cities list\n",
    "    if city not in cities:\n",
    "        cities.append(city)\n",
    "\n",
    "# Print the city count to confirm sufficient count\n",
    "len(cities)\n",
    "print(cities)\n"
   ]
  },
  {
   "cell_type": "markdown",
   "metadata": {},
   "source": [
    "### Perform API Calls\n",
    "* Perform a weather check on each city using a series of successive API calls.\n",
    "* Include a print log of each city as it'sbeing processed (with the city number and city name).\n"
   ]
  },
  {
   "cell_type": "code",
   "execution_count": 5,
   "metadata": {
    "scrolled": true
   },
   "outputs": [
    {
     "name": "stdout",
     "output_type": "stream",
     "text": [
      "The weather API responded with: {'coord': {'lon': -0.1257, 'lat': 51.5085}, 'weather': [{'id': 804, 'main': 'Clouds', 'description': 'overcast clouds', 'icon': '04n'}], 'base': 'stations', 'main': {'temp': 283.14, 'feels_like': 280.67, 'temp_min': 281.88, 'temp_max': 284.34, 'pressure': 1027, 'humidity': 88}, 'visibility': 10000, 'wind': {'speed': 5.14, 'deg': 250}, 'clouds': {'all': 100}, 'dt': 1644266318, 'sys': {'type': 2, 'id': 2019646, 'country': 'GB', 'sunrise': 1644218964, 'sunset': 1644253195}, 'timezone': 0, 'id': 2643743, 'name': 'London', 'cod': 200}.\n"
     ]
    }
   ],
   "source": [
    "#Mohammad said to use:\n",
    "  #url = \"http://api.openweathermap.org/data/2.5/weather?units=Imperial&APPID=\" + weather_api_key\n",
    "# Save config information\n",
    "url = \"http://api.openweathermap.org/data/2.5/weather?\"\n",
    "\n",
    "city = \"London\"\n",
    "\n",
    "# Build query URL\n",
    "query_url = url + \"appid=\" + weather_api_key + \"&q=\" + city  \n",
    "\n",
    "# Get weather data\n",
    "weather_response = requests.get(query_url)\n",
    "weather_json = weather_response.json()\n",
    "\n",
    "# Get the temperature from the response\n",
    "print(f\"The weather API responded with: {weather_json}.\")"
   ]
  },
  {
   "cell_type": "markdown",
   "metadata": {},
   "source": [
    "### Convert Raw Data to DataFrame\n",
    "* Export the city data into a .csv.\n",
    "* Display the DataFrame"
   ]
  },
  {
   "cell_type": "code",
   "execution_count": null,
   "metadata": {},
   "outputs": [],
   "source": []
  },
  {
   "cell_type": "code",
   "execution_count": null,
   "metadata": {},
   "outputs": [],
   "source": []
  },
  {
   "cell_type": "markdown",
   "metadata": {},
   "source": [
    "## Inspect the data and remove the cities where the humidity > 100%.\n",
    "----\n",
    "Skip this step if there are no cities that have humidity > 100%. "
   ]
  },
  {
   "cell_type": "code",
   "execution_count": null,
   "metadata": {},
   "outputs": [],
   "source": []
  },
  {
   "cell_type": "code",
   "execution_count": null,
   "metadata": {},
   "outputs": [],
   "source": [
    "#  Get the indices of cities that have humidity over 100%.\n"
   ]
  },
  {
   "cell_type": "code",
   "execution_count": null,
   "metadata": {},
   "outputs": [],
   "source": [
    "# Make a new DataFrame equal to the city data to drop all humidity outliers by index.\n",
    "# Passing \"inplace=False\" will make a copy of the city_data DataFrame, which we call \"clean_city_data\".\n"
   ]
  },
  {
   "cell_type": "code",
   "execution_count": null,
   "metadata": {},
   "outputs": [],
   "source": [
    "\n"
   ]
  },
  {
   "cell_type": "markdown",
   "metadata": {},
   "source": [
    "## Plotting the Data\n",
    "* Use proper labeling of the plots using plot titles (including date of analysis) and axes labels.\n",
    "* Save the plotted figures as .pngs."
   ]
  },
  {
   "cell_type": "markdown",
   "metadata": {},
   "source": [
    "## Latitude vs. Temperature Plot"
   ]
  },
  {
   "cell_type": "code",
   "execution_count": null,
   "metadata": {
    "scrolled": true
   },
   "outputs": [],
   "source": []
  },
  {
   "cell_type": "markdown",
   "metadata": {},
   "source": [
    "## Latitude vs. Humidity Plot"
   ]
  },
  {
   "cell_type": "code",
   "execution_count": null,
   "metadata": {},
   "outputs": [],
   "source": []
  },
  {
   "cell_type": "markdown",
   "metadata": {},
   "source": [
    "## Latitude vs. Cloudiness Plot"
   ]
  },
  {
   "cell_type": "code",
   "execution_count": null,
   "metadata": {},
   "outputs": [],
   "source": []
  },
  {
   "cell_type": "markdown",
   "metadata": {},
   "source": [
    "## Latitude vs. Wind Speed Plot"
   ]
  },
  {
   "cell_type": "code",
   "execution_count": null,
   "metadata": {},
   "outputs": [],
   "source": []
  },
  {
   "cell_type": "markdown",
   "metadata": {},
   "source": [
    "## Linear Regression"
   ]
  },
  {
   "cell_type": "code",
   "execution_count": null,
   "metadata": {},
   "outputs": [],
   "source": []
  },
  {
   "cell_type": "markdown",
   "metadata": {},
   "source": [
    "####  Northern Hemisphere - Max Temp vs. Latitude Linear Regression"
   ]
  },
  {
   "cell_type": "code",
   "execution_count": null,
   "metadata": {},
   "outputs": [],
   "source": []
  },
  {
   "cell_type": "markdown",
   "metadata": {},
   "source": [
    "####  Southern Hemisphere - Max Temp vs. Latitude Linear Regression"
   ]
  },
  {
   "cell_type": "code",
   "execution_count": null,
   "metadata": {},
   "outputs": [],
   "source": []
  },
  {
   "cell_type": "markdown",
   "metadata": {},
   "source": [
    "####  Northern Hemisphere - Humidity (%) vs. Latitude Linear Regression"
   ]
  },
  {
   "cell_type": "code",
   "execution_count": null,
   "metadata": {},
   "outputs": [],
   "source": []
  },
  {
   "cell_type": "markdown",
   "metadata": {},
   "source": [
    "####  Southern Hemisphere - Humidity (%) vs. Latitude Linear Regression"
   ]
  },
  {
   "cell_type": "code",
   "execution_count": null,
   "metadata": {},
   "outputs": [],
   "source": []
  },
  {
   "cell_type": "markdown",
   "metadata": {},
   "source": [
    "####  Northern Hemisphere - Cloudiness (%) vs. Latitude Linear Regression"
   ]
  },
  {
   "cell_type": "code",
   "execution_count": null,
   "metadata": {},
   "outputs": [],
   "source": []
  },
  {
   "cell_type": "markdown",
   "metadata": {},
   "source": [
    "####  Southern Hemisphere - Cloudiness (%) vs. Latitude Linear Regression"
   ]
  },
  {
   "cell_type": "code",
   "execution_count": null,
   "metadata": {},
   "outputs": [],
   "source": []
  },
  {
   "cell_type": "markdown",
   "metadata": {},
   "source": [
    "####  Northern Hemisphere - Wind Speed (mph) vs. Latitude Linear Regression"
   ]
  },
  {
   "cell_type": "code",
   "execution_count": null,
   "metadata": {},
   "outputs": [],
   "source": []
  },
  {
   "cell_type": "markdown",
   "metadata": {},
   "source": [
    "####  Southern Hemisphere - Wind Speed (mph) vs. Latitude Linear Regression"
   ]
  },
  {
   "cell_type": "code",
   "execution_count": null,
   "metadata": {},
   "outputs": [],
   "source": []
  },
  {
   "cell_type": "code",
   "execution_count": null,
   "metadata": {},
   "outputs": [],
   "source": []
  }
 ],
 "metadata": {
  "anaconda-cloud": {},
  "kernel_info": {
   "name": "python3"
  },
  "kernelspec": {
   "display_name": "Python 3 (ipykernel)",
   "language": "python",
   "name": "python3"
  },
  "language_info": {
   "codemirror_mode": {
    "name": "ipython",
    "version": 3
   },
   "file_extension": ".py",
   "mimetype": "text/x-python",
   "name": "python",
   "nbconvert_exporter": "python",
   "pygments_lexer": "ipython3",
   "version": "3.9.7"
  },
  "latex_envs": {
   "LaTeX_envs_menu_present": true,
   "autoclose": false,
   "autocomplete": true,
   "bibliofile": "biblio.bib",
   "cite_by": "apalike",
   "current_citInitial": 1,
   "eqLabelWithNumbers": true,
   "eqNumInitial": 1,
   "hotkeys": {
    "equation": "Ctrl-E",
    "itemize": "Ctrl-I"
   },
   "labels_anchors": false,
   "latex_user_defs": false,
   "report_style_numbering": false,
   "user_envs_cfg": false
  },
  "nteract": {
   "version": "0.12.3"
  }
 },
 "nbformat": 4,
 "nbformat_minor": 2
}
