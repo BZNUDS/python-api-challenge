{
 "cells": [
  {
   "cell_type": "markdown",
   "metadata": {},
   "source": [
    "# WeatherPy\n",
    "----\n",
    "\n",
    "#### Note\n",
    "* Instructions have been included for each segment. You do not have to follow them exactly, but they are included to help you think through the steps."
   ]
  },
  {
   "cell_type": "code",
   "execution_count": 1,
   "metadata": {
    "scrolled": true
   },
   "outputs": [],
   "source": [
    "# Dependencies and Setup\n",
    "import matplotlib.pyplot as plt\n",
    "import pandas as pd\n",
    "import numpy as np\n",
    "import scipy.stats as st\n",
    "from scipy.stats import linregress\n",
    "from sklearn import datasets\n",
    "import requests\n",
    "import time\n",
    "\n",
    "\n",
    "# Import API key\n",
    "from api_keys import weather_api_key\n",
    "\n",
    "# Incorporated citipy to determine city based on latitude and longitude\n",
    "from citipy import citipy\n",
    "\n",
    "# Output File (CSV)\n",
    "output_data_file = \"output_data/cities.csv\"\n",
    "\n",
    "# Range of latitudes and longitudes\n",
    "lat_range = (-90, 90)\n",
    "lng_range = (-180, 180)"
   ]
  },
  {
   "cell_type": "markdown",
   "metadata": {},
   "source": [
    "## Generate Cities List"
   ]
  },
  {
   "cell_type": "code",
   "execution_count": 2,
   "metadata": {},
   "outputs": [
    {
     "name": "stdout",
     "output_type": "stream",
     "text": [
      "***************************************************************************************\n",
      "Do I need to include logging in addition to wrting out the .csv???\n",
      "***************************************************************************************\n",
      "612\n",
      "['busselton', 'new norfolk', 'pemberton', 'kavaratti', 'qax', 'solano', 'porterville', 'monastyrshchina', 'carnarvon', 'leningradskiy', 'punta arenas', 'mataura', 'vanavara', 'dikson', 'hilo', 'harper', 'tasiilaq', 'dzhebariki-khaya', 'east london', 'ushuaia', 'saint-philippe', 'rikitea', 'nikolskoye', 'barrow', 'zhanaozen', 'hasaki', 'avarua', 'acapulco', 'guerrero negro', 'bethel', 'san cristobal', 'ilulissat', 'codrington', 'conceicao da barra', 'sioux lookout', 'hermanus', 'caranavi', 'gizo', 'yellowknife', 'vostok', 'puerto leguizamo', 'thinadhoo', 'bowen', 'ponta do sol', 'manado', 'grand-santi', 'fortuna', 'portland', 'chengde', 'saint george', 'talnakh', 'kizhinga', 'torbay', 'damietta', 'vaini', 'mahebourg', 'mitsamiouli', 'atuona', 'dolbeau', 'bluff', 'villa union', 'ola', 'dudinka', 'port hedland', 'kieta', 'jurmala', 'alnashi', 'dingle', 'upernavik', 'ribeira grande', 'luderitz', 'jalgaon', 'taolanaro', 'joshimath', 'thompson', 'yining', 'qaanaaq', 'gwembe', 'saleaula', 'provideniya', 'mastic beach', 'teknaf', 'airai', 'hunza', 'cape town', 'kahului', 'vossevangen', 'nesna', 'cherskiy', 'zanjan', 'illoqqortoormiut', 'padang', 'albany', 'itarema', 'port alfred', 'volgodonsk', 'uvira', 'fort nelson', 'temiscaming', 'mayo', 'mamu kanjan', 'butaritari', 'port blair', 'deputatskiy', 'turukhansk', 'mantua', 'marshall', 'port elizabeth', 'pevek', 'maragogi', 'rocha', 'wadi maliz', 'falam', 'fairbanks', 'griffith', 'belyy', 'kirakira', 'praia', 'reconquista', 'mahaicony', 'shushtar', 'puksoozero', 'douentza', 'baleshwar', 'west odessa', 'tuktoyaktuk', 'georgetown', 'louisbourg', 'nanortalik', 'arraial do cabo', 'maltahohe', 'mar del plata', 'ha', 'chokurdakh', 'attawapiskat', 'bambous virieux', 'constitucion', 'khatanga', 'bredasdorp', 'hobart', 'prado', 'lerwick', 'saskylakh', 'kollam', 'saint-paul', 'pedroso', 'lavrentiya', 'puerto ayora', 'kemin', 'port lincoln', 'ostrovnoy', 'esna', 'goderich', 'jamestown', 'cabo san lucas', 'juneau', 'shasta lake', 'udachnyy', 'marcona', 'baytown', 'ponnampet', 'mercedes', 'cayenne', 'barentsburg', 'belushya guba', 'alindao', 'kathu', 'mayumba', 'green river', 'tiksi', 'necochea', 'castro', 'sao felix do xingu', 'ahipara', 'alexandria', 'santa cruz', 'arlit', 'hambantota', 'mys shmidta', 'engels', 'mareeba', 'vaitupu', 'darhan', 'tual', 'samusu', 'cidreira', 'san andres', 'port hardy', 'claremore', 'eskisehir', 'puerto rico', 'isangel', 'aflu', 'atar', 'seoul', 'the valley', 'carutapera', 'poplar bluff', 'los llanos de aridane', 'hithadhoo', 'digby', 'singaparna', 'axim', 'roald', 'iguguno', 'coihaique', 'kapaa', 'souillac', 'narsaq', 'hobyo', 'bambari', 'toliary', 'russell', 'grand gaube', 'grand river south east', 'mporokoso', 'esperance', 'faya', 'san policarpo', 'paamiut', 'sao joao da barra', 'tilichiki', 'bengkulu', 'mokrous', 'yirol', 'chuy', 'road town', 'margate', 'chapais', 'utiroa', 'arman', 'lompoc', 'beringovskiy', 'amderma', 'fare', 'mahadday weyne', 'palu', 'falealupo', 'senanga', 'middle valley', 'bubaque', 'lufilufi', 'pangnirtung', 'mapiripan', 'raymond', 'krasnokholm', 'puerto escondido', 'nadigaon', 'chenghai', 'tumannyy', 'batagay', 'otane', 'rodney', 'victoria', 'el vigia', 'san ramon de la nueva oran', 'sovetskiy', 'gudari', 'pemba', 'saurimo', 'launceston', 'cooma', 'sur', 'iqaluit', 'lebu', 'muros', 'coruripe', 'varnamo', 'lagoa', 'orange cove', 'sitka', 'ouadda', 'kilindoni', 'kaitangata', 'touros', 'frankenberg', 'tura', 'sentyabrskiy', 'yulara', 'lovozero', 'makakilo city', 'sohag', 'taitung', 'hamilton', 'tungor', 'quatre cocos', 'araguari', 'alice springs', 'bouna', 'maningrida', 'steyr', 'forbes', 'mirnyy', 'haines junction', 'aswan', 'yumen', 'kuching', 'san juan', 'coquimbo', 'salalah', 'santa maria', 'moree', 'gravenhurst', 'aklavik', 'nizhneyansk', 'sobolevo', 'kattivakkam', 'dujuma', 'ekhabi', 'sao jose da coroa grande', 'kavieng', 'semnan', 'honiara', 'henties bay', 'samarai', 'norman wells', 'scarborough', 'narodychi', 'teguldet', 'warqla', 'kermen', 'hay river', 'clyde river', 'along', 'elizabeth city', 'porto san giorgio', 'latung', 'rawson', 'luena', 'acarau', 'lorengau', 'luwingu', 'pacific grove', 'bonnyville', 'klaksvik', 'te anau', 'elin pelin', 'arona', 'san patricio', 'kazachinskoye', 'savannah bight', 'sterling', 'taltal', 'balkanabat', 'kostomuksha', 'vardo', 'karpathos', 'petukhovo', 'bur gabo', 'aqtobe', 'grindavik', 'annau', 'susangerd', 'caravelas', 'lima', 'la reforma', 'mae sot', 'lata', 'mildura', 'soyo', 'qinggang', 'waitati', 'komsomolskiy', 'matay', 'plettenberg bay', 'svetlyy', 'krasnyye tkachi', 'chulman', 'pochutla', 'ewo', 'aguimes', 'vestmanna', 'lincoln', 'longyearbyen', 'mount gambier', 'hurbanovo', 'sechura', 'tuatapere', 'athabasca', 'rzeszow', 'santa cruz de tenerife', 'ambodifototra', 'sapao', 'port-gentil', 'borogontsy', 'arkhangelsk', 'mchinji', 'morros', 'cabadiangan', 'kihei', 'taoudenni', 'tabiauea', 'gat', 'salistea de sus', 'manono', 'westport', 'bargal', 'severo-kurilsk', 'huarmey', 'georgiyevka', 'cine', 'ancud', 'halalo', 'sao miguel do araguaia', 'yuzhno-yeniseyskiy', 'porbandar', 'nishihara', 'najran', 'ayan', 'pyshchug', 'vagur', 'qiryat shemona', 'peterhead', 'sept-iles', 'takoradi', 'gigmoto', 'fiche', 'tiznit', 'kuna', 'vao', 'poya', 'clifton', 'nassau', 'broken hill', 'nguiu', 'aracataca', 'belmonte', 'camacupa', 'singleton', 'hami', 'amahai', 'asfi', 'kentau', 'kununurra', 'chauk', 'tawzar', 'albion', 'umzimvubu', 'caluquembe', 'zhaodong', 'meyungs', 'urucara', 'finschhafen', 'tres arroyos', 'concordia', 'merauke', 'inuvik', 'egvekinot', 'salinopolis', 'saint-augustin', 'chagda', 'kodiak', 'camacha', 'namibe', 'bilasipara', 'tshikapa', 'pierre', 'cairns', 'sola', 'asau', 'lukow', 'yeppoon', 'bolungarvik', 'chudniv', 'peniche', 'batagay-alyta', 'qorveh', 'kodinsk', 'kargasok', 'guanica', 'vaitape', 'coroata', 'lamar', 'ishigaki', 'umm kaddadah', 'rungata', 'winnemucca', 'itaituba', 'sheltozero', 'destin', 'sisimiut', 'minbu', 'proletarskiy', 'payo', 'garowe', 'killybegs', 'datong', 'nemuro', 'pa sang', 'guantanamo', 'wanning', 'uthal', 'izumo', 'flinders', 'jasper', 'ulladulla', 'cam ranh', 'tuggurt', 'borlange', 'kalulushi', 'abalak', 'montepuez', 'yanam', 'yantai', 'tucurui', 'marsa matruh', 'saldanha', 'yerbogachen', 'upata', 'auki', 'homer', 'galveston', 'sinazongwe', 'labuhan', 'harrisburg', 'tigre', 'luanda', 'pitimbu', 'brae', 'gaozhou', 'victor harbor', 'billund', 'goundam', 'tingi', 'ofunato', 'buenaventura', 'north marysville', 'rafsanjan', 'cabra', 'cockburn harbour', 'cabedelo', 'panshi', 'adrar', 'banda aceh', 'ternate', 'tabialan', 'la ronge', 'kuche', 'suao', 'mackay', 'kerema', 'vila velha', 'sao filipe', 'lasa', 'tsogni', 'yar-sale', 'kerteh', 'iberia', 'shatsk', 'sumbe', 'gweru', 'rio branco', 'idrinskoye', 'lastoursville', 'elko', 'le mars', 'bosaso', 'santa ines', 'mozarlandia', 'addis abeba', 'rio grande', 'solnechnyy', 'artesia', 'katsuura', 'saint-francois', 'ginda', 'mattawa', 'dauphin', 'ust-kuyga', 'farafangana', 'omboue', 'merrill', 'dickinson', 'jumla', 'los andes', 'melenki', 'agua verde', 'california city', 'cesvaine', 'san-pedro', 'milos', 'kidal', 'tanout', 'lopsmarka', 'tigil', 'buncrana', 'bonavista', 'iquitos', 'massaguet', 'skjervoy', 'manzanillo', 'muroto', 'rabo de peixe', 'nizhniy odes', 'vilhena', 'mehamn', 'claremont', 'yertarskiy', 'tiarei', 'avera', 'saquarema', 'vanimo', 'geraldton', 'caruray', 'kolokani', 'cukai', 'sinnamary', 'pemangkat', 'tupiza', 'noumea', 'voyvozh', 'luganville']\n",
      "*******************************************************************************************\n",
      "Temporarily reducging cities from cities to cities[0:4] so only get 4 cities intially\n",
      "before calling api.openweathermap.org since they have limits\n",
      "I believe 60 calls/minute and 1M calls/month per month)\n",
      "*******************************************************************************************\n",
      "['busselton', 'new norfolk', 'pemberton', 'kavaratti']\n"
     ]
    }
   ],
   "source": [
    "# List for holding lat_lngs and cities\n",
    "lat_lngs = []\n",
    "cities = []\n",
    "\n",
    "# Create a set of random lat and lng combinations\n",
    "lats = np.random.uniform(lat_range[0], lat_range[1], size=1500)\n",
    "lngs = np.random.uniform(lng_range[0], lng_range[1], size=1500)\n",
    "lat_lngs = zip(lats, lngs)\n",
    "\n",
    "# Identify nearest city for each lat, lng combination\n",
    "for lat_lng in lat_lngs:\n",
    "    city = citipy.nearest_city(lat_lng[0], lat_lng[1]).city_name\n",
    "    \n",
    "    # If the city is unique, then add it to a our cities list\n",
    "    if city not in cities:\n",
    "        cities.append(city)\n",
    "\n",
    "print(\"***************************************************************************************\")\n",
    "# df.head(n).to_csv('yourfileout.csv', encoding='utf-8')\n",
    "# logging.info('dataframe head - {}'.format(df.head()))\n",
    "print(\"Do I need to include logging in addition to wrting out the .csv???\")\n",
    "print(\"***************************************************************************************\")\n",
    "    \n",
    "# Print the city count to confirm sufficient count\n",
    "print(len(cities))\n",
    "print(cities)\n",
    "print(\"*******************************************************************************************\")\n",
    "print(\"Temporarily reducging cities from cities to cities[0:4] so only get 4 cities intially\")\n",
    "print(\"before calling api.openweathermap.org since they have limits\") \n",
    "print(\"I believe 60 calls/minute and 1M calls/month per month)\")\n",
    "cities = cities[0:4]\n",
    "print(\"*******************************************************************************************\")\n",
    "print(cities)"
   ]
  },
  {
   "cell_type": "markdown",
   "metadata": {},
   "source": [
    "### Perform API Calls\n",
    "* Perform a weather check on each city using a series of successive API calls.\n",
    "* Include a print log of each city as it'sbeing processed (with the city number and city name).\n"
   ]
  },
  {
   "cell_type": "code",
   "execution_count": 3,
   "metadata": {
    "scrolled": false
   },
   "outputs": [
    {
     "name": "stdout",
     "output_type": "stream",
     "text": [
      "cities\n",
      "['busselton', 'new norfolk', 'pemberton', 'kavaratti']\n",
      "The latitude information for city busselton #0 received is: [-33.65]\n",
      "The latitude information for city busselton #0 received is: [115.3333]\n",
      "The temperature information for city busselton #0 received is: [23.36]\n",
      "The humidty information for city busselton #0 received is: [44]\n",
      "The cloudiness information for city busselton #0 received is: [1]\n",
      "The windiness information for city busselton #0 received is: [1.2]\n",
      "The latitude information for city new norfolk #1 received is: [-33.65, -42.7826]\n",
      "The latitude information for city new norfolk #1 received is: [115.3333, 147.0587]\n",
      "The temperature information for city new norfolk #1 received is: [23.36, 29.19]\n",
      "The humidty information for city new norfolk #1 received is: [44, 20]\n",
      "The cloudiness information for city new norfolk #1 received is: [1, 66]\n",
      "The windiness information for city new norfolk #1 received is: [1.2, 1.02]\n",
      "The latitude information for city pemberton #2 received is: [-33.65, -42.7826, 50.3164]\n",
      "The latitude information for city pemberton #2 received is: [115.3333, 147.0587, -122.8027]\n",
      "The temperature information for city pemberton #2 received is: [23.36, 29.19, 2.92]\n",
      "The humidty information for city pemberton #2 received is: [44, 20, 98]\n",
      "The cloudiness information for city pemberton #2 received is: [1, 66, 100]\n",
      "The windiness information for city pemberton #2 received is: [1.2, 1.02, 1.67]\n",
      "The latitude information for city kavaratti #3 received is: [-33.65, -42.7826, 50.3164, 10.5669]\n",
      "The latitude information for city kavaratti #3 received is: [115.3333, 147.0587, -122.8027, 72.642]\n",
      "The temperature information for city kavaratti #3 received is: [23.36, 29.19, 2.92, 25.87]\n",
      "The humidty information for city kavaratti #3 received is: [44, 20, 98, 71]\n",
      "The cloudiness information for city kavaratti #3 received is: [1, 66, 100, 100]\n",
      "The windiness information for city kavaratti #3 received is: [1.2, 1.02, 1.67, 5.03]\n",
      "The weather API responded with: {'coord': {'lon': 72.642, 'lat': 10.5669}, 'weather': [{'id': 804, 'main': 'Clouds', 'description': 'overcast clouds', 'icon': '04d'}], 'base': 'stations', 'main': {'temp': 299.02, 'feels_like': 299.52, 'temp_min': 299.02, 'temp_max': 299.02, 'pressure': 1013, 'humidity': 71, 'sea_level': 1013, 'grnd_level': 1011}, 'visibility': 10000, 'wind': {'speed': 5.03, 'deg': 357, 'gust': 5.08}, 'clouds': {'all': 100}, 'dt': 1644374822, 'sys': {'country': 'IN', 'sunrise': 1644370287, 'sunset': 1644412555}, 'timezone': 19800, 'id': 1267390, 'name': 'Kavaratti', 'cod': 200}.\n"
     ]
    }
   ],
   "source": [
    "# Save config information.\n",
    "url = \"http://api.openweathermap.org/data/2.5/weather?\"\n",
    "units = \"metric\"\n",
    "\n",
    "# Build partial query URL\n",
    "query_url = f\"{url}appid={weather_api_key}&units={units}&q=\"\n",
    "\n",
    "\n",
    "#city = \"London\"\n",
    "\n",
    "#cities = [\"Paris\", \"London\", \"Oslo\", \"Beijing\"]\n",
    "\n",
    "# set up lists to hold reponse info\n",
    "lat = []\n",
    "lon = []\n",
    "temp = []\n",
    "humidity=[]\n",
    "clouds=[]\n",
    "wind=[]\n",
    "city_counter=0\n",
    "\n",
    "print(\"cities\")\n",
    "print(cities)\n",
    "# Loop through the list of cities and perform a request for data on each\n",
    "for city in cities:\n",
    "    response = requests.get(query_url + city).json()\n",
    "    lat.append(response['coord']['lat'])\n",
    "    lon.append(response['coord']['lon'])\n",
    "    temp.append(response['main']['temp'])\n",
    "    humidity.append(response['main']['humidity'])\n",
    "    clouds.append(response['clouds']['all'])\n",
    "    wind.append(response['wind']['speed'])\n",
    "    \n",
    "    print(f\"The latitude information for city {city} #{city_counter} received is: {lat}\")\n",
    "    print(f\"The latitude information for city {city} #{city_counter} received is: {lon}\")\n",
    "    print(f\"The temperature information for city {city} #{city_counter} received is: {temp}\")\n",
    "    print(f\"The humidty information for city {city} #{city_counter} received is: {humidity}\")\n",
    "    print(f\"The cloudiness information for city {city} #{city_counter} received is: {clouds}\")\n",
    "    print(f\"The windiness information for city {city} #{city_counter} received is: {wind}\")\n",
    "\n",
    "    city_counter+=1\n",
    "\n",
    "    \n",
    "# Build query URL\n",
    "query_url = url + \"appid=\" + weather_api_key + \"&q=\" + city  \n",
    "\n",
    "# Get weather data\n",
    "weather_response = requests.get(query_url)\n",
    "weather_json = weather_response.json()\n",
    "\n",
    "# Get the temperature from the response\n",
    "print(f\"The weather API responded with: {weather_json}.\")"
   ]
  },
  {
   "cell_type": "markdown",
   "metadata": {},
   "source": [
    "### Convert Raw Data to DataFrame\n",
    "* Export the city data into a .csv.\n",
    "* Display the DataFrame"
   ]
  },
  {
   "cell_type": "code",
   "execution_count": 4,
   "metadata": {},
   "outputs": [
    {
     "name": "stdout",
     "output_type": "stream",
     "text": [
      "*******************************************************************************************\n",
      "Temporarily printing out weather_data.head() just below to see table data in this cell,\n",
      "but can remove the line below later since basically in the next cell\n",
      "*******************************************************************************************\n",
      "          city      lat       lon   temp  Humidity  Cloudiness  Wind Speed\n",
      "0    busselton -33.6500  115.3333  23.36        44           1        1.20\n",
      "1  new norfolk -42.7826  147.0587  29.19        20          66        1.02\n",
      "2    pemberton  50.3164 -122.8027   2.92        98         100        1.67\n",
      "3    kavaratti  10.5669   72.6420  25.87        71         100        5.03\n"
     ]
    }
   ],
   "source": [
    "# Output File (CSV)\n",
    "output_data_file = \"output_data/cities.csv\"\n",
    "\n",
    " # create a data frame from cities, lat, and temp\n",
    "weather_dict = {\n",
    "    \"city\": cities,\n",
    "    \"lat\": lat,\n",
    "    \"lon\": lon,\n",
    "    \"temp\": temp,\n",
    "    \"Humidity\": humidity,\n",
    "    \"Cloudiness\": clouds,\n",
    "    \"Wind Speed\":wind \n",
    "}\n",
    "weather_data = pd.DataFrame(weather_dict)\n",
    "\n",
    "print(\"*******************************************************************************************\")\n",
    "print(\"Temporarily printing out weather_data.head() just below to see table data in this cell,\")\n",
    "print(\"but can remove the line below later since basically in the next cell\")\n",
    "print(\"*******************************************************************************************\")\n",
    "print(weather_data.head())\n",
    "\n",
    "\n",
    "# Save as a csv\n",
    "# Note to avoid any issues later, use encoding=\"utf-8\"\n",
    "weather_data.to_csv(output_data_file, encoding=\"utf-8\", index=False)"
   ]
  },
  {
   "cell_type": "code",
   "execution_count": 5,
   "metadata": {},
   "outputs": [
    {
     "data": {
      "text/html": [
       "<div>\n",
       "<style scoped>\n",
       "    .dataframe tbody tr th:only-of-type {\n",
       "        vertical-align: middle;\n",
       "    }\n",
       "\n",
       "    .dataframe tbody tr th {\n",
       "        vertical-align: top;\n",
       "    }\n",
       "\n",
       "    .dataframe thead th {\n",
       "        text-align: right;\n",
       "    }\n",
       "</style>\n",
       "<table border=\"1\" class=\"dataframe\">\n",
       "  <thead>\n",
       "    <tr style=\"text-align: right;\">\n",
       "      <th></th>\n",
       "      <th>city</th>\n",
       "      <th>lat</th>\n",
       "      <th>lon</th>\n",
       "      <th>temp</th>\n",
       "      <th>Humidity</th>\n",
       "      <th>Cloudiness</th>\n",
       "      <th>Wind Speed</th>\n",
       "    </tr>\n",
       "  </thead>\n",
       "  <tbody>\n",
       "    <tr>\n",
       "      <th>0</th>\n",
       "      <td>busselton</td>\n",
       "      <td>-33.6500</td>\n",
       "      <td>115.3333</td>\n",
       "      <td>23.36</td>\n",
       "      <td>44</td>\n",
       "      <td>1</td>\n",
       "      <td>1.20</td>\n",
       "    </tr>\n",
       "    <tr>\n",
       "      <th>1</th>\n",
       "      <td>new norfolk</td>\n",
       "      <td>-42.7826</td>\n",
       "      <td>147.0587</td>\n",
       "      <td>29.19</td>\n",
       "      <td>20</td>\n",
       "      <td>66</td>\n",
       "      <td>1.02</td>\n",
       "    </tr>\n",
       "    <tr>\n",
       "      <th>2</th>\n",
       "      <td>pemberton</td>\n",
       "      <td>50.3164</td>\n",
       "      <td>-122.8027</td>\n",
       "      <td>2.92</td>\n",
       "      <td>98</td>\n",
       "      <td>100</td>\n",
       "      <td>1.67</td>\n",
       "    </tr>\n",
       "    <tr>\n",
       "      <th>3</th>\n",
       "      <td>kavaratti</td>\n",
       "      <td>10.5669</td>\n",
       "      <td>72.6420</td>\n",
       "      <td>25.87</td>\n",
       "      <td>71</td>\n",
       "      <td>100</td>\n",
       "      <td>5.03</td>\n",
       "    </tr>\n",
       "  </tbody>\n",
       "</table>\n",
       "</div>"
      ],
      "text/plain": [
       "          city      lat       lon   temp  Humidity  Cloudiness  Wind Speed\n",
       "0    busselton -33.6500  115.3333  23.36        44           1        1.20\n",
       "1  new norfolk -42.7826  147.0587  29.19        20          66        1.02\n",
       "2    pemberton  50.3164 -122.8027   2.92        98         100        1.67\n",
       "3    kavaratti  10.5669   72.6420  25.87        71         100        5.03"
      ]
     },
     "execution_count": 5,
     "metadata": {},
     "output_type": "execute_result"
    }
   ],
   "source": [
    "# Display the DataFrame\n",
    "weather_data"
   ]
  },
  {
   "cell_type": "markdown",
   "metadata": {},
   "source": [
    "## Inspect the data and remove the cities where the humidity > 100%.\n",
    "----\n",
    "Skip this step if there are no cities that have humidity > 100%. \n"
   ]
  },
  {
   "cell_type": "code",
   "execution_count": 6,
   "metadata": {},
   "outputs": [
    {
     "name": "stdout",
     "output_type": "stream",
     "text": [
      "Skip since no humidity >100\n",
      "Skip since no humidity >100\n",
      "Skip since no humidity >100\n",
      "Skip since no humidity >100\n",
      "Latest cities_high_humidity\n",
      "[]\n"
     ]
    }
   ],
   "source": [
    "cities_high_humidity = []\n",
    "city_counter=0\n",
    "for city in cities:\n",
    "    if int(humidity[city_counter]) > 100:\n",
    "        print(f\"The humidty information for city {city} #{city_counter} received is: {humidity[city_counter]}\")\n",
    "        # Create a new list to track high humifity index values\n",
    "        cities_high_humidity.append(city_counter)\n",
    "        print(f\"{city} with city_counter of {city_counter} has humidty >100 so need to remove later\")\n",
    "    else:\n",
    "        print(\"Skip since no humidity >100\")\n",
    "    city_counter+=1\n",
    "print(\"Latest cities_high_humidity\")\n",
    "print(cities_high_humidity)"
   ]
  },
  {
   "cell_type": "code",
   "execution_count": 7,
   "metadata": {},
   "outputs": [
    {
     "name": "stdout",
     "output_type": "stream",
     "text": [
      "Latest cities_high_humidity\n",
      "[]\n"
     ]
    }
   ],
   "source": [
    "#  Get the indices of cities that have humidity over 100%.\n",
    "print(\"Latest cities_high_humidity\")\n",
    "print(cities_high_humidity)"
   ]
  },
  {
   "cell_type": "code",
   "execution_count": 8,
   "metadata": {},
   "outputs": [
    {
     "name": "stdout",
     "output_type": "stream",
     "text": [
      "No high humidity data\n",
      "weather_data\n",
      "          city      lat       lon   temp  Humidity  Cloudiness  Wind Speed\n",
      "0    busselton -33.6500  115.3333  23.36        44           1        1.20\n",
      "1  new norfolk -42.7826  147.0587  29.19        20          66        1.02\n",
      "2    pemberton  50.3164 -122.8027   2.92        98         100        1.67\n",
      "3    kavaratti  10.5669   72.6420  25.87        71         100        5.03\n",
      "\n",
      "clean_city_data\n",
      "          city      lat       lon   temp  Humidity  Cloudiness  Wind Speed\n",
      "0    busselton -33.6500  115.3333  23.36        44           1        1.20\n",
      "1  new norfolk -42.7826  147.0587  29.19        20          66        1.02\n",
      "2    pemberton  50.3164 -122.8027   2.92        98         100        1.67\n",
      "3    kavaratti  10.5669   72.6420  25.87        71         100        5.03\n"
     ]
    }
   ],
   "source": [
    "# Make a new DataFrame equal to the city data (aka weather_data) to drop all humidity outliers by index.\n",
    "# Passing \"inplace=False\" will make a copy of the city_data DataFrame, which we call \"clean_city_data\".\n",
    "clean_city_data=weather_data\n",
    "if len(cities_high_humidity) > 0:\n",
    "    print(f\"have high humidity data for city index #(s) {cities_high_humidity}\")\n",
    "    # dropping a row(s) from actual dataframe\n",
    "    #df.drop(['c', 'd'], inplace = True )\n",
    "    clean_city_data=weather_data.drop(cities_high_humidity, inplace=False) \n",
    "else:\n",
    "    print(\"No high humidity data\") \n",
    "print(\"weather_data\") \n",
    "print(weather_data)\n",
    "print()\n",
    "print(\"clean_city_data\") \n",
    "print(clean_city_data)\n",
    "#print(\"dtypes()\")\n",
    "#print(clean_city_data.dtypes)"
   ]
  },
  {
   "cell_type": "code",
   "execution_count": null,
   "metadata": {},
   "outputs": [],
   "source": [
    "\n"
   ]
  },
  {
   "cell_type": "markdown",
   "metadata": {},
   "source": [
    "## Plotting the Data\n",
    "* Use proper labeling of the plots using plot titles (including date of analysis) and axes labels.\n",
    "* Save the plotted figures as .pngs."
   ]
  },
  {
   "cell_type": "markdown",
   "metadata": {},
   "source": [
    "## Latitude vs. Temperature Plot"
   ]
  },
  {
   "cell_type": "code",
   "execution_count": 9,
   "metadata": {
    "scrolled": true
   },
   "outputs": [
    {
     "name": "stdout",
     "output_type": "stream",
     "text": [
      "clean_city_data\n",
      "          city      lat       lon   temp  Humidity  Cloudiness  Wind Speed\n",
      "0    busselton -33.6500  115.3333  23.36        44           1        1.20\n",
      "1  new norfolk -42.7826  147.0587  29.19        20          66        1.02\n",
      "2    pemberton  50.3164 -122.8027   2.92        98         100        1.67\n",
      "3    kavaratti  10.5669   72.6420  25.87        71         100        5.03\n",
      "************************************************************\n",
      "Should I convert temp from Celsius to Fahrenheit to make it easier to understand???\n",
      "using somethink like f_temp=(temp*1.8)+32\n",
      "If so, do it once up front and replace temp ewith f_temp below\n",
      "else have to add conversion for this plus all graphs below\n",
      "************************************************************\n"
     ]
    },
    {
     "data": {
      "image/png": "[encoded data removed]",
      "text/plain": [
       "<Figure size 432x288 with 1 Axes>"
      ]
     },
     "metadata": {
      "needs_background": "light"
     },
     "output_type": "display_data"
    }
   ],
   "source": [
    "print(\"clean_city_data\") \n",
    "print(clean_city_data)\n",
    "print(\"************************************************************\")\n",
    "print(\"Should I convert temp from Celsius to Fahrenheit to make it easier to understand???\")\n",
    "print(\"using somethink like f_temp=(temp*1.8)+32\")\n",
    "print(\"If so, do it once up front and replace temp ewith f_temp below\") \n",
    "print(\"else have to add conversion for this plus all graphs below\")\n",
    "print(\"************************************************************\")\n",
    "\n",
    "# Prepare scatter plot  \n",
    "plt.scatter(clean_city_data[\"lat\"],clean_city_data[\"temp\"])\n",
    "plt.xlabel(\"Lattitude (degrees)\")\n",
    "plt.ylabel(\"Temperature (Celsius)\")\n",
    "plt.title('Lattitude vs Temperature')\n",
    "# Save the figure\n",
    "plt.savefig(\"output_data/lat_temp.png\")\n",
    "# Display the garph\n",
    "plt.show()"
   ]
  },
  {
   "cell_type": "markdown",
   "metadata": {},
   "source": [
    "## Latitude vs. Humidity Plot"
   ]
  },
  {
   "cell_type": "code",
   "execution_count": 10,
   "metadata": {},
   "outputs": [
    {
     "data": {
      "image/png": "[encoded data removed]",
      "text/plain": [
       "<Figure size 432x288 with 1 Axes>"
      ]
     },
     "metadata": {
      "needs_background": "light"
     },
     "output_type": "display_data"
    }
   ],
   "source": [
    "# Prepare scatter plot  \n",
    "plt.scatter(clean_city_data[\"lat\"],clean_city_data[\"Humidity\"])\n",
    "plt.xlabel(\"Lattitude (degrees)\")\n",
    "plt.ylabel(\"Humidity (%)\")\n",
    "plt.title('Lattitude vs Humidity')\n",
    "# Save the figure\n",
    "plt.savefig(\"output_data/lat_hum.png\")\n",
    "# Display the garph\n",
    "plt.show()"
   ]
  },
  {
   "cell_type": "markdown",
   "metadata": {},
   "source": [
    "## Latitude vs. Cloudiness Plot"
   ]
  },
  {
   "cell_type": "code",
   "execution_count": 11,
   "metadata": {},
   "outputs": [
    {
     "data": {
      "image/png": "[encoded data removed]",
      "text/plain": [
       "<Figure size 432x288 with 1 Axes>"
      ]
     },
     "metadata": {
      "needs_background": "light"
     },
     "output_type": "display_data"
    }
   ],
   "source": [
    "# Prepare scatter plot  \n",
    "plt.scatter(clean_city_data[\"lat\"],clean_city_data[\"Cloudiness\"])\n",
    "plt.xlabel(\"Lattitude (degrees)\")\n",
    "plt.ylabel(\"Cloudiness (%)\")\n",
    "plt.title('Lattitude vs Cloudiness')\n",
    "# Save the figure\n",
    "plt.savefig(\"output_data/lat_cloud.png\")\n",
    "# Display the garph\n",
    "plt.show()"
   ]
  },
  {
   "cell_type": "markdown",
   "metadata": {},
   "source": [
    "## Latitude vs. Wind Speed Plot"
   ]
  },
  {
   "cell_type": "code",
   "execution_count": 12,
   "metadata": {},
   "outputs": [
    {
     "data": {
      "image/png": "[encoded data removed]",
      "text/plain": [
       "<Figure size 432x288 with 1 Axes>"
      ]
     },
     "metadata": {
      "needs_background": "light"
     },
     "output_type": "display_data"
    }
   ],
   "source": [
    "# Prepare scatter plot  \n",
    "plt.scatter(clean_city_data[\"lat\"],clean_city_data[\"Wind Speed\"])\n",
    "plt.xlabel(\"Lattitude (degrees)\")\n",
    "plt.ylabel(\"Wind Speed (kM)\")\n",
    "plt.title('Lattitude vs Wind Speed')\n",
    "# Save the figure\n",
    "plt.savefig(\"output_data/lat_wind.png\")\n",
    "# Display the garph\n",
    "plt.show()"
   ]
  },
  {
   "cell_type": "markdown",
   "metadata": {},
   "source": [
    "## Linear Regression"
   ]
  },
  {
   "cell_type": "code",
   "execution_count": 14,
   "metadata": {},
   "outputs": [
    {
     "name": "stdout",
     "output_type": "stream",
     "text": [
      "The correlation between both factors is -0.85\n",
      "line_eq is: y = -0.23x + 19.42\n"
     ]
    },
    {
     "data": {
      "image/png": "[encoded data removed]",
      "text/plain": [
       "<Figure size 432x288 with 1 Axes>"
      ]
     },
     "metadata": {
      "needs_background": "light"
     },
     "output_type": "display_data"
    }
   ],
   "source": [
    "# Calculate the correlation coefficient and linear regression model \n",
    "# for mouse weight and average tumor volume for the Capomulin regimen\n",
    "\n",
    "x_values = clean_city_data[\"lat\"]\n",
    "y_values = clean_city_data[\"temp\"]\n",
    "\n",
    "\n",
    "\n",
    "correlation = st.pearsonr(x_values,y_values)\n",
    "print(f\"The correlation between both factors is {round(correlation[0],2)}\")\n",
    "\n",
    "# Prepare Linear regression and scatter plot data  \n",
    "(slope, intercept, rvalue, pvalue, stderr) = linregress(x_values,y_values)\n",
    "regress_values = x_values * slope + intercept\n",
    "line_eq = \"y = \" + str(round(slope,2)) + \"x + \" + str(round(intercept,2))\n",
    "print(f\"line_eq is: {line_eq}\")\n",
    "plt.scatter(x_values,y_values)\n",
    "plt.plot(x_values,regress_values,\"r-\")\n",
    "plt.xlabel(\"Lattitude (degrees)\")\n",
    "plt.ylabel(\"Temperature (Celsius)\")\n",
    "plt.title('Lattitude vs Temperature')\n",
    "\n",
    "# Display the garph\n",
    "plt.annotate(line_eq,(6,10),fontsize=15,color=\"red\")\n",
    "plt.show()"
   ]
  },
  {
   "cell_type": "markdown",
   "metadata": {},
   "source": [
    "####  Northern Hemisphere - Max Temp vs. Latitude Linear Regression"
   ]
  },
  {
   "cell_type": "code",
   "execution_count": 37,
   "metadata": {},
   "outputs": [
    {
     "name": "stdout",
     "output_type": "stream",
     "text": [
      "city[city_counter:2]\n",
      "ci\n",
      "clean_city_data[\"lat\"][city_counter]\n",
      "-33.65\n",
      "Lattitude for city c #0 is Southern Hemisphere: -33.65\n",
      "city[city_counter:2]\n",
      "a\n",
      "clean_city_data[\"lat\"][city_counter]\n",
      "-42.7826\n",
      "Lattitude for city a #1 is Southern Hemisphere: -42.7826\n",
      "city[city_counter:2]\n",
      "\n",
      "clean_city_data[\"lat\"][city_counter]\n",
      "50.3164\n",
      "Lattitude for city lon #2 is Northen Hemisphere: 50.3164\n"
     ]
    },
    {
     "ename": "NameError",
     "evalue": "name 'northen_hemisphere_city' is not defined",
     "output_type": "error",
     "traceback": [
      "\u001b[1;31m---------------------------------------------------------------------------\u001b[0m",
      "\u001b[1;31mNameError\u001b[0m                                 Traceback (most recent call last)",
      "\u001b[1;32mC:\\Users\\BZNORT~1\\AppData\\Local\\Temp/ipykernel_11592/1543964535.py\u001b[0m in \u001b[0;36m<module>\u001b[1;34m\u001b[0m\n\u001b[0;32m     30\u001b[0m \u001b[1;31m# x_values =\u001b[0m\u001b[1;33m\u001b[0m\u001b[1;33m\u001b[0m\u001b[0m\n\u001b[0;32m     31\u001b[0m \u001b[1;31m# y_values = clean_city_data[\"temp\"]\u001b[0m\u001b[1;33m\u001b[0m\u001b[1;33m\u001b[0m\u001b[0m\n\u001b[1;32m---> 32\u001b[1;33m         \u001b[0mnorthen_hemisphere_city\u001b[0m\u001b[1;33m.\u001b[0m\u001b[0mappend\u001b[0m\u001b[1;33m(\u001b[0m\u001b[0mclean_city_data\u001b[0m\u001b[1;33m[\u001b[0m\u001b[1;34m\"city\"\u001b[0m\u001b[1;33m]\u001b[0m\u001b[1;33m[\u001b[0m\u001b[0mcity_counter\u001b[0m\u001b[1;33m]\u001b[0m\u001b[1;33m)\u001b[0m\u001b[1;33m\u001b[0m\u001b[1;33m\u001b[0m\u001b[0m\n\u001b[0m\u001b[0;32m     33\u001b[0m         \u001b[0mnorthen_hemisphere_lat\u001b[0m\u001b[1;33m.\u001b[0m\u001b[0mappend\u001b[0m\u001b[1;33m(\u001b[0m\u001b[0mclean_city_data\u001b[0m\u001b[1;33m[\u001b[0m\u001b[1;34m\"lat\"\u001b[0m\u001b[1;33m]\u001b[0m\u001b[1;33m[\u001b[0m\u001b[0mcity_counter\u001b[0m\u001b[1;33m]\u001b[0m\u001b[1;33m)\u001b[0m\u001b[1;33m\u001b[0m\u001b[1;33m\u001b[0m\u001b[0m\n\u001b[0;32m     34\u001b[0m         \u001b[0mnorthen_hemisphere_lon\u001b[0m\u001b[1;33m.\u001b[0m\u001b[0mappend\u001b[0m\u001b[1;33m(\u001b[0m\u001b[0mclean_city_data\u001b[0m\u001b[1;33m[\u001b[0m\u001b[1;34m\"lon\"\u001b[0m\u001b[1;33m]\u001b[0m\u001b[1;33m[\u001b[0m\u001b[0mcity_counter\u001b[0m\u001b[1;33m]\u001b[0m\u001b[1;33m)\u001b[0m\u001b[1;33m\u001b[0m\u001b[1;33m\u001b[0m\u001b[0m\n",
      "\u001b[1;31mNameError\u001b[0m: name 'northen_hemisphere_city' is not defined"
     ]
    }
   ],
   "source": [
    "# Separate the plots into Northern Hemisphere (greater than or equal to 0 degrees latitude) and \n",
    "# Southern Hemisphere (less than 0 degrees latitude)\n",
    "# After each pair of plots, take the time to explain what the linear regression is modeling. \n",
    "# For example, describe any relationships you notice and any other analysis you may have.\n",
    "\n",
    "# Set-up and initialize variables \n",
    "\n",
    "city_counter = 0\n",
    "northern_city_counter = 0\n",
    "southern_city_counter = 0\n",
    "southern_hemisphere_city = []\n",
    "southern_hemisphere_lat = []\n",
    "southern_hemisphere_lon = []\n",
    "southern_hemisphere_temp = []\n",
    "southern_hemisphere_humidity = []\n",
    "southern_hemisphere_clouds = []\n",
    "southern_hemisphere_wind = []\n",
    "\n",
    "\n",
    "\n",
    "# Seperate into Northen Hemisphere or Southern Hemisphere\n",
    "for city in clean_city_data:\n",
    "    print(\"city[city_counter:2]\")\n",
    "    print(city[city_counter:2])\n",
    "    print('clean_city_data[\"lat\"][city_counter]')\n",
    "    print(clean_city_data[\"lat\"][city_counter])\n",
    "    if clean_city_data[\"lat\"][city_counter] >= 0:\n",
    "        print(f'Lattitude for city {city} #{city_counter} is Northen Hemisphere: {clean_city_data[\"lat\"][city_counter]}')\n",
    "        # Create new DataFrames \n",
    "# x_values = \n",
    "# y_values = clean_city_data[\"temp\"]\n",
    "        northen_hemisphere_city.append(clean_city_data[\"city\"][city_counter])\n",
    "        northen_hemisphere_lat.append(clean_city_data[\"lat\"][city_counter])\n",
    "        northen_hemisphere_lon.append(clean_city_data[\"lon\"][city_counter])\n",
    "        northen_hemisphere_temp.append(clean_city_data[\"temp\"][city_counter])\n",
    "        northen_hemisphere_humidity.append(clean_city_data[\"Humidity\"][city_counter])\n",
    "        northen_hemisphere_clouds.append(clean_city_data[\"Cloudiness\"][city_counter])\n",
    "        northen_hemisphere_wind.append(clean_city_data[\"Wind Speed\"][city_counter])\n",
    "        northern_city_counter += 1\n",
    "    else:\n",
    "        print(f'Lattitude for city {city[city_counter]} #{city_counter} is Southern Hemisphere: {clean_city_data[\"lat\"][city_counter]}')\n",
    "        # Create a new DataFrame \n",
    "        southern_hemisphere_city.append(clean_city_data[\"city\"][city_counter])\n",
    "        southern_hemisphere_lat.append(clean_city_data[\"lat\"][city_counter])\n",
    "        southern_hemisphere_lon.append(clean_city_data[\"lon\"][city_counter])\n",
    "        southern_hemisphere_temp.append(clean_city_data[\"temp\"][city_counter])\n",
    "        southern_hemisphere_humidity.append(clean_city_data[\"Humidity\"][city_counter])\n",
    "        southern_hemisphere_clouds.append(clean_city_data[\"Cloudiness\"][city_counter])\n",
    "        southern_hemisphere_wind.append(clean_city_data[\"Wind Speed\"][city_counter])\n",
    "        southern_city_counter += 1\n",
    "    city_counter+=1\n",
    "\n",
    "print(\"northen_hemisphere_city\")\n",
    "print(northen_hemisphere_city)\n",
    "print()\n",
    "print(\"southern_hemisphere_city\")\n",
    "print(southern_hemisphere_city)\n",
    "\n",
    "correlation = st.pearsonr(x_values,y_values)\n",
    "print(f\"The correlation between both factors is {round(correlation[0],2)}\")\n",
    "\n",
    "# x_values = clean_city_data[\"lat\"]\n",
    "# y_values = clean_city_data[\"temp\"]\n",
    "\n",
    "# Prepare Linear regression and scatter plot data  \n",
    "(slope, intercept, rvalue, pvalue, stderr) = linregress(x_values,y_values)\n",
    "regress_values = x_values * slope + intercept\n",
    "line_eq = \"y = \" + str(round(slope,2)) + \"x + \" + str(round(intercept,2))\n",
    "print(f\"line_eq is: {line_eq}\")\n",
    "plt.scatter(x_values,y_values)\n",
    "plt.plot(x_values,regress_values,\"r-\")\n",
    "plt.xlabel(\"Lattitude (degrees)\")\n",
    "plt.ylabel(\"Temperature (Celsius)\")\n",
    "plt.title('Lattitude vs Temperature')\n",
    "\n",
    "# Display the garph\n",
    "plt.annotate(line_eq,(6,10),fontsize=15,color=\"red\")\n",
    "plt.show()"
   ]
  },
  {
   "cell_type": "markdown",
   "metadata": {},
   "source": [
    "####  Southern Hemisphere - Max Temp vs. Latitude Linear Regression"
   ]
  },
  {
   "cell_type": "code",
   "execution_count": null,
   "metadata": {},
   "outputs": [],
   "source": []
  },
  {
   "cell_type": "markdown",
   "metadata": {},
   "source": [
    "####  Northern Hemisphere - Humidity (%) vs. Latitude Linear Regression"
   ]
  },
  {
   "cell_type": "code",
   "execution_count": null,
   "metadata": {},
   "outputs": [],
   "source": []
  },
  {
   "cell_type": "markdown",
   "metadata": {},
   "source": [
    "####  Southern Hemisphere - Humidity (%) vs. Latitude Linear Regression"
   ]
  },
  {
   "cell_type": "code",
   "execution_count": null,
   "metadata": {},
   "outputs": [],
   "source": []
  },
  {
   "cell_type": "markdown",
   "metadata": {},
   "source": [
    "####  Northern Hemisphere - Cloudiness (%) vs. Latitude Linear Regression"
   ]
  },
  {
   "cell_type": "code",
   "execution_count": null,
   "metadata": {},
   "outputs": [],
   "source": []
  },
  {
   "cell_type": "markdown",
   "metadata": {},
   "source": [
    "####  Southern Hemisphere - Cloudiness (%) vs. Latitude Linear Regression"
   ]
  },
  {
   "cell_type": "code",
   "execution_count": null,
   "metadata": {},
   "outputs": [],
   "source": []
  },
  {
   "cell_type": "markdown",
   "metadata": {},
   "source": [
    "####  Northern Hemisphere - Wind Speed (mph) vs. Latitude Linear Regression"
   ]
  },
  {
   "cell_type": "code",
   "execution_count": null,
   "metadata": {},
   "outputs": [],
   "source": []
  },
  {
   "cell_type": "markdown",
   "metadata": {},
   "source": [
    "####  Southern Hemisphere - Wind Speed (mph) vs. Latitude Linear Regression"
   ]
  },
  {
   "cell_type": "code",
   "execution_count": null,
   "metadata": {},
   "outputs": [],
   "source": []
  },
  {
   "cell_type": "code",
   "execution_count": null,
   "metadata": {},
   "outputs": [],
   "source": []
  }
 ],
 "metadata": {
  "anaconda-cloud": {},
  "kernel_info": {
   "name": "python3"
  },
  "kernelspec": {
   "display_name": "Python 3 (ipykernel)",
   "language": "python",
   "name": "python3"
  },
  "language_info": {
   "codemirror_mode": {
    "name": "ipython",
    "version": 3
   },
   "file_extension": ".py",
   "mimetype": "text/x-python",
   "name": "python",
   "nbconvert_exporter": "python",
   "pygments_lexer": "ipython3",
   "version": "3.9.7"
  },
  "latex_envs": {
   "LaTeX_envs_menu_present": true,
   "autoclose": false,
   "autocomplete": true,
   "bibliofile": "biblio.bib",
   "cite_by": "apalike",
   "current_citInitial": 1,
   "eqLabelWithNumbers": true,
   "eqNumInitial": 1,
   "hotkeys": {
    "equation": "Ctrl-E",
    "itemize": "Ctrl-I"
   },
   "labels_anchors": false,
   "latex_user_defs": false,
   "report_style_numbering": false,
   "user_envs_cfg": false
  },
  "nteract": {
   "version": "0.12.3"
  }
 },
 "nbformat": 4,
 "nbformat_minor": 2
}
