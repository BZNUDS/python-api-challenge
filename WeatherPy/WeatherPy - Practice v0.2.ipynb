{
 "cells": [
  {
   "cell_type": "markdown",
   "metadata": {},
   "source": [
    "# WeatherPy\n",
    "----\n",
    "\n",
    "#### Note\n",
    "* Instructions have been included for each segment. You do not have to follow them exactly, but they are included to help you think through the steps."
   ]
  },
  {
   "cell_type": "code",
   "execution_count": 1,
   "metadata": {
    "scrolled": true
   },
   "outputs": [],
   "source": [
    "# Dependencies and Setup\n",
    "import matplotlib.pyplot as plt\n",
    "import pandas as pd\n",
    "import numpy as np\n",
    "import requests\n",
    "import time\n",
    "from scipy.stats import linregress\n",
    "\n",
    "# Import API key\n",
    "from api_keys import weather_api_key\n",
    "\n",
    "# Incorporated citipy to determine city based on latitude and longitude\n",
    "from citipy import citipy\n",
    "\n",
    "# Output File (CSV)\n",
    "output_data_file = \"output_data/cities.csv\"\n",
    "\n",
    "# Range of latitudes and longitudes\n",
    "lat_range = (-90, 90)\n",
    "lng_range = (-180, 180)"
   ]
  },
  {
   "cell_type": "markdown",
   "metadata": {},
   "source": [
    "## Generate Cities List"
   ]
  },
  {
   "cell_type": "code",
   "execution_count": 10,
   "metadata": {},
   "outputs": [
    {
     "name": "stdout",
     "output_type": "stream",
     "text": [
      "['spornoye', 'brigantine', 'rikitea', 'mataura', 'russell', 'punta arenas', 'georgetown', 'khatanga', 'asau', 'tadine', 'coquimbo', 'birao', 'nanae', 'iqaluit', 'cherskiy', 'torbay', 'qurbah', 'luderitz', 'tiksi', 'de-kastri', 'guerrero negro', 'nikolskoye', 'champerico', 'hualmay', 'bolu', 'tautira', 'bardiyah', 'qaanaaq', 'samusu', 'bluff', 'hami', 'hobart', 'hermanus', 'seidu', 'tongchuan', 'oktyabrskoye', 'albany', 'westport', 'bonthe', 'busselton', 'butaritari', 'nanortalik', 'deputatskiy', 'kashan', 'trairi', 'cabo san lucas', 'mayo', 'rawson', 'merauke', 'bowen', 'ankazoabo', 'illoqqortoormiut', 'grand forks', 'solovetskiy', 'palmas', 'thunder bay', 'baruun-urt', 'sao joao da barra', 'east london', 'teguldet', 'saint-philippe', 'casper', 'itarema', 'tuktoyaktuk', 'vaini', 'jamestown', 'hambantota', 'yomou', 'chegdomyn', 'lavrentiya', 'kendari', 'nemuro', 'arraial do cabo', 'zhaotong', 'ystad', 'esperance', 'kaihua', 'eyl', 'huarmey', 'thompson', 'ust-nera', 'ushuaia', 'klaksvik', 'maniitsoq', 'faanui', 'tashla', 'usila', 'grand island', 'niny', 'port charlotte', 'castro', 'henties bay', 'hokitika', 'minatitlan', 'kaitangata', 'puerto ayora', 'chagda', 'tasiilaq', 'oksfjord', 'cleethorpes', 'buy', 'novobiryusinskiy', 'belushya guba', 'attawapiskat', 'puerto escondido', 'limbang', 'baoding', 'vila', 'baijiantan', 'carutapera', 'victoria', 'bengkulu', 'severnyy', 'taltal', 'kilmez', 'upernavik', 'chuy', 'longyearbyen', 'ribeira grande', 'svetlaya', 'belyy yar', 'lumberton', 'juneau', 'srednekolymsk', 'broome', 'carnarvon', 'bilma', 'nantucket', 'chokurdakh', 'mar del plata', 'cochrane', 'codrington', 'zhigansk', 'tumannyy', 'moundou', 'vaitupu', 'yellowknife', 'ballina', 'airai', 'cape town', 'flin flon', 'chumikan', 'flinders', 'taolanaro', 'severo-kurilsk', 'thinadhoo', 'kangaatsiaq', 'kapaa', 'axim', 'broken hill', 'brasilia de minas', 'geraldton', 'new norfolk', 'lucapa', 'atuona', 'ilulissat', 'sao filipe', 'sirjan', 'namibe', 'aswan', 'christchurch', 'hilo', 'wairoa', 'ulkan', 'guayaramerin', 'keti bandar', 'mahebourg', 'shingu', 'cabinda', 'ponta do sol', 'barrow', 'kavieng', 'lebu', 'prince rupert', 'canavieiras', 'kikwit', 'cayenne', 'hithadhoo', 'provideniya', 'bethel', 'port alfred', 'bredasdorp', 'coihaique', 'tawang', 'hauterive', 'tucuma', 'saint-georges', 'arrifes', 'saldanha', 'saskylakh', 'waipawa', 'marovoay', 'phan rang', 'cidreira', 'pierre', 'okahandja', 'saint george', 'sao felix do xingu', 'fairbanks', 'san cristobal', 'bemidji', 'saleaula', 'sur', 'lethem', 'port elizabeth', 'san policarpo', 'talnakh', 'sainte-rose', 'ayios matthaios', 'inuvik', 'wana', 'sarrebourg', 'khanu woralaksaburi', 'camocim', 'avarua', 'clyde river', 'vilhena', 'nishihara', 'auki', 'bonavista', 'somerton', 'tessalit', 'namwala', 'orotukan', 'fort nelson', 'mys shmidta', 'chimoio', 'kodiak', 'iskele', 'oranjemund', 'staryy krym', 'meyungs', 'sydney mines', 'sampit', 'arlit', 'helong', 'itaguai', 'shubarkuduk', 'port hardy', 'winnemucca', 'kamenskoye', 'swift current', 'stornoway', 'lawrenceburg', 'porto novo', 'port lincoln', 'fortuna', 'koundara', 'boda', 'qingan', 'grand river south east', 'chapais', 'alvorada', 'bandarbeyla', 'sitka', 'inhambane', 'bartica', 'nizhneyansk', 'plettenberg bay', 'zaltan', 'healdsburg', 'tuatapere', 'seoul', 'ixtapa', 'ronde', 'inderborskiy', 'salalah', 'kahului', 'paramonga', 'brae', 'cotui', 'kruisfontein', 'bella union', 'norman wells', 'kankon', 'lagoa', 'saint anthony', 'inirida', 'copiapo', 'washougal', 'vila franca do campo', 'alofi', 'lorengau', 'atambua', 'viligili', 'ranau', 'leningradskiy', 'krasnoselkup', 'shchigry', 'kadykchan', 'saint-augustin', 'amderma', 'santana do livramento', 'adrar', 'faya', 'souillac', 'meulaboh', 'valdosta', 'barentsburg', 'taybad', 'tabou', 'sungaipenuh', 'half moon bay', 'avera', 'yenagoa', 'paamiut', 'rio gallegos', 'mfou', 'vardo', 'lyngseidet', 'kichera', 'iracoubo', 'ware', 'santa marta', 'maceio', 'maragogi', 'roanoke rapids', 'sao jose da coroa grande', 'praia', 'grand gaube', 'padang', 'samarai', 'lompoc', 'derzhavinsk', 'port macquarie', 'dingle', 'sioux lookout', 'duluth', 'aleksandrov gay', 'leh', 'pochutla', 'farafangana', 'awjilah', 'henderson', 'cedar city', 'mani', 'pevek', 'arkansas city', 'nanakuli', 'bubaque', 'fort saint john', 'ucluelet', 'vila velha', 'talas', 'carnduff', 'killybegs', 'tezu', 'khilok', 'mathathane', 'verkhoyansk', 'keuruu', 'touros', 'esik', 'mehamn', 'murray bridge', 'brownsville', 'warqla', 'paliambela', 'ahipara', 'tateyama', 'lasa', 'carballo', 'huallanca', 'bambous virieux', 'dikson', 'port moresby', 'posse', 'catamarca', 'dabat', 'sola', 'krasnokamensk', 'padre paraiso', 'bokoro', 'aykhal', 'gornopravdinsk', 'hirara', 'yuzhno-yeniseyskiy', 'kachiry', 'palmas bellas', 'koyilandi', 'pangody', 'kavaratti', 'chernyshevskiy', 'hasaki', 'mbalmayo', 'high level', 'soubre', 'palabuhanratu', 'mount gambier', 'cairns', 'isangel', 'laguna', 'progreso', 'waingapu', 'shirvan', 'pisco', 'pringsewu', 'aklavik', 'vysotsk', 'lamu', 'araouane', 'san patricio', 'bluefields', 'acapulco', 'sobeslav', 'paranhos', 'caravelas', 'ondangwa', 'narsaq', 'gloversville', 'morros', 'margate', 'chifeng', 'semirom', 'russellville', 'saint-francois', 'yumen', 'alice springs', 'baghdad', 'aripuana', 'mergui', 'villiers', 'leshukonskoye', 'kedrovyy', 'katangli', 'lodja', 'phalaborwa', 'marcona', 'roebourne', 'antanifotsy', 'rorvik', 'baisha', 'noumea', 'swan river', 'lata', 'sainte-marie', 'bell ville', 'shenjiamen', 'lewiston', 'prachuap khiri khan', 'lisakovsk', 'la ronge', 'verkhnevilyuysk', 'kamaishi', 'nyurba', 'ondorhaan', 'katherine', 'iquique', 'tahta', 'naze', 'skibbereen', 'fernley', 'qinhuangdao', 'kasempa', 'beyneu', 'tres barras', 'bud', 'taiyuan', 'ryazanovskiy', 'ilinsko-podomskoye', 'comodoro rivadavia', 'trinidad', 'baykit', 'kingsville', 'vao', 'cruzeiro do sul', 'nhulunbuy', 'tromso', 'nyaunglebin', 'ekhabi', 'grindavik', 'ulcinj', 'misratah', 'kansk', 'methoni', 'rawah', 'aljezur', 'kieta', 'acajutla', 'mangochi', 'ancud', 'ulladulla', 'princeton', 'samana', 'taoudenni', 'wattwil', 'poum', 'beroroha', 'lieksa', 'aksu', 'college', 'heihe', 'viedma', 'bastia', 'victor harbor', 'egvekinot', 'kalaiya', 'romny', 'sentyabrskiy', 'kibondo', 'andarab', 'corn island', 'ngukurr', 'husavik', 'havelock', 'northam', 'te anau', 'darnah', 'gizo', 'bom jesus', 'richards bay', 'shubarshi', 'xingyi', 'madimba', 'batagay-alyta', 'kudahuvadhoo', 'mersing', 'touba', 'sorland', 'armacao dos buzios', 'sept-iles', 'artyom', 'bokspits', 'buluang', 'manono', 'srivardhan', 'sibolga', 'portland', 'dombarovskiy', 'nampa', 'mariakani', 'muros', 'yanchukan', 'podyuga', 'palmer', 'jahrom', 'lolua', 'hofn', 'tura', 'kasongo', 'port pirie', 'pimentel', 'okhotsk', 'mangrol', 'ariquemes', 'harper', 'beira', 'xiongzhou', 'gayny', 'kaeo', 'varhaug', 'partyzany', 'porto torres', 'chernitsyno', 'camopi', 'neuquen', 'nuuk', 'helena', 'babanusah', 'petropavlovsk-kamchatskiy', 'abha', 'labuhan', 'mateare', 'pishin', 'manokwari', 'ornskoldsvik', 'katsuura', 'fayaoue', 'muroto', 'bikaner', 'bethlehem', 'kirakira', 'nioro', 'berlevag', 'anadyr', 'jiexiu', 'vincennes', 'billings', 'constitucion', 'yulara']\n",
      "*******************************************************************************************\n",
      "Temporarily reducging cities from cities to cities[0:4] so only get 3 cities intially\n",
      "*******************************************************************************************\n",
      "['spornoye', 'brigantine', 'rikitea', 'mataura']\n"
     ]
    }
   ],
   "source": [
    "# List for holding lat_lngs and cities\n",
    "lat_lngs = []\n",
    "cities = []\n",
    "\n",
    "# Create a set of random lat and lng combinations\n",
    "lats = np.random.uniform(lat_range[0], lat_range[1], size=1500)\n",
    "lngs = np.random.uniform(lng_range[0], lng_range[1], size=1500)\n",
    "lat_lngs = zip(lats, lngs)\n",
    "\n",
    "# Identify nearest city for each lat, lng combination\n",
    "for lat_lng in lat_lngs:\n",
    "    city = citipy.nearest_city(lat_lng[0], lat_lng[1]).city_name\n",
    "    \n",
    "    # If the city is unique, then add it to a our cities list\n",
    "    if city not in cities:\n",
    "        cities.append(city)\n",
    "\n",
    "# Print the city count to confirm sufficient count\n",
    "len(cities)\n",
    "print(cities)\n",
    "print(\"*******************************************************************************************\")\n",
    "print(\"Temporarily reducging cities from cities to cities[0:4] so only get 3 cities intially\")\n",
    "cities = cities[0:4]\n",
    "print(\"*******************************************************************************************\")\n",
    "print(cities)"
   ]
  },
  {
   "cell_type": "markdown",
   "metadata": {},
   "source": [
    "### Perform API Calls\n",
    "* Perform a weather check on each city using a series of successive API calls.\n",
    "* Include a print log of each city as it'sbeing processed (with the city number and city name).\n"
   ]
  },
  {
   "cell_type": "code",
   "execution_count": 13,
   "metadata": {
    "scrolled": false
   },
   "outputs": [
    {
     "name": "stdout",
     "output_type": "stream",
     "text": [
      "['spornoye', 'brigantine', 'rikitea', 'mataura']\n",
      "The latitude information received is: [50.8448, 39.4101, -23.1203, -46.1927]\n",
      "The temperature information received is: [1.01, 6.26, 25.55, 9.71]\n",
      "The humidty information received is: [99, 77, 74, 99]\n",
      "The cloudiness information received is: [100, 88, 82, 37]\n",
      "The windiness information received is: [1.72, 6.65, 5.58, 1.16]\n",
      "The weather API responded with: {'coord': {'lon': 168.8643, 'lat': -46.1927}, 'weather': [{'id': 802, 'main': 'Clouds', 'description': 'scattered clouds', 'icon': '03n'}], 'base': 'stations', 'main': {'temp': 282.86, 'feels_like': 282.86, 'temp_min': 282.86, 'temp_max': 282.86, 'pressure': 1017, 'humidity': 99, 'sea_level': 1017, 'grnd_level': 1011}, 'visibility': 10000, 'wind': {'speed': 1.16, 'deg': 60, 'gust': 2.09}, 'clouds': {'all': 37}, 'dt': 1644335819, 'sys': {'type': 2, 'id': 2008959, 'country': 'NZ', 'sunrise': 1644342569, 'sunset': 1644394086}, 'timezone': 46800, 'id': 6201424, 'name': 'Mataura', 'cod': 200}.\n"
     ]
    }
   ],
   "source": [
    "#Mohammad said to use:\n",
    "  #url = \"http://api.openweathermap.org/data/2.5/weather?units=Imperial&APPID=\" + weather_api_key\n",
    "\n",
    "# Save config information.\n",
    "url = \"http://api.openweathermap.org/data/2.5/weather?\"\n",
    "units = \"metric\"\n",
    "\n",
    "# Build partial query URL\n",
    "query_url = f\"{url}appid={weather_api_key}&units={units}&q=\"\n",
    "\n",
    "\n",
    "#city = \"London\"\n",
    "\n",
    "#cities = [\"Paris\", \"London\", \"Oslo\", \"Beijing\"]\n",
    "\n",
    "cities=cities\n",
    "# set up lists to hold reponse info\n",
    "lat = []\n",
    "temp = []\n",
    "humidity=[]\n",
    "clouds=[]\n",
    "wind=[]\n",
    "\n",
    "print(cities)\n",
    "# Loop through the list of cities and perform a request for data on each\n",
    "for city in cities:\n",
    "    response = requests.get(query_url + city).json()\n",
    "    lat.append(response['coord']['lat'])\n",
    "    temp.append(response['main']['temp'])\n",
    "    humidity.append(response['main']['humidity'])\n",
    "    clouds.append(response['clouds']['all'])\n",
    "    wind.append(response['wind']['speed'])\n",
    "\n",
    "print(f\"The latitude information received is: {lat}\")\n",
    "print(f\"The temperature information received is: {temp}\")\n",
    "print(f\"The humidty information received is: {humidity}\")\n",
    "print(f\"The cloudiness information received is: {clouds}\")\n",
    "print(f\"The windiness information received is: {wind}\")\n",
    "\n",
    "\n",
    "# Build query URL\n",
    "query_url = url + \"appid=\" + weather_api_key + \"&q=\" + city  \n",
    "\n",
    "# Get weather data\n",
    "weather_response = requests.get(query_url)\n",
    "weather_json = weather_response.json()\n",
    "\n",
    "# Get the temperature from the response\n",
    "print(f\"The weather API responded with: {weather_json}.\")"
   ]
  },
  {
   "cell_type": "markdown",
   "metadata": {},
   "source": [
    "### Convert Raw Data to DataFrame\n",
    "* Export the city data into a .csv.\n",
    "* Display the DataFrame"
   ]
  },
  {
   "cell_type": "code",
   "execution_count": 17,
   "metadata": {},
   "outputs": [
    {
     "name": "stdout",
     "output_type": "stream",
     "text": [
      "*******************************************************************************************\n",
      "Temporarily printing out weather_data.head() just below to see table data in this cell,\n",
      "but can remove the line below later since basically in the next cell\n",
      "*******************************************************************************************\n"
     ]
    },
    {
     "data": {
      "text/html": [
       "<div>\n",
       "<style scoped>\n",
       "    .dataframe tbody tr th:only-of-type {\n",
       "        vertical-align: middle;\n",
       "    }\n",
       "\n",
       "    .dataframe tbody tr th {\n",
       "        vertical-align: top;\n",
       "    }\n",
       "\n",
       "    .dataframe thead th {\n",
       "        text-align: right;\n",
       "    }\n",
       "</style>\n",
       "<table border=\"1\" class=\"dataframe\">\n",
       "  <thead>\n",
       "    <tr style=\"text-align: right;\">\n",
       "      <th></th>\n",
       "      <th>city</th>\n",
       "      <th>lat</th>\n",
       "      <th>temp</th>\n",
       "      <th>Humidity</th>\n",
       "      <th>Cloudiness</th>\n",
       "      <th>Wind Speed</th>\n",
       "    </tr>\n",
       "  </thead>\n",
       "  <tbody>\n",
       "    <tr>\n",
       "      <th>0</th>\n",
       "      <td>spornoye</td>\n",
       "      <td>50.8448</td>\n",
       "      <td>1.01</td>\n",
       "      <td>99</td>\n",
       "      <td>100</td>\n",
       "      <td>1.72</td>\n",
       "    </tr>\n",
       "    <tr>\n",
       "      <th>1</th>\n",
       "      <td>brigantine</td>\n",
       "      <td>39.4101</td>\n",
       "      <td>6.26</td>\n",
       "      <td>77</td>\n",
       "      <td>88</td>\n",
       "      <td>6.65</td>\n",
       "    </tr>\n",
       "    <tr>\n",
       "      <th>2</th>\n",
       "      <td>rikitea</td>\n",
       "      <td>-23.1203</td>\n",
       "      <td>25.55</td>\n",
       "      <td>74</td>\n",
       "      <td>82</td>\n",
       "      <td>5.58</td>\n",
       "    </tr>\n",
       "    <tr>\n",
       "      <th>3</th>\n",
       "      <td>mataura</td>\n",
       "      <td>-46.1927</td>\n",
       "      <td>9.71</td>\n",
       "      <td>99</td>\n",
       "      <td>37</td>\n",
       "      <td>1.16</td>\n",
       "    </tr>\n",
       "  </tbody>\n",
       "</table>\n",
       "</div>"
      ],
      "text/plain": [
       "         city      lat   temp  Humidity  Cloudiness  Wind Speed\n",
       "0    spornoye  50.8448   1.01        99         100        1.72\n",
       "1  brigantine  39.4101   6.26        77          88        6.65\n",
       "2     rikitea -23.1203  25.55        74          82        5.58\n",
       "3     mataura -46.1927   9.71        99          37        1.16"
      ]
     },
     "execution_count": 17,
     "metadata": {},
     "output_type": "execute_result"
    }
   ],
   "source": [
    "# Output File (CSV)\n",
    "output_data_file = \"output_data/cities.csv\"\n",
    "\n",
    " # create a data frame from cities, lat, and temp\n",
    "weather_dict = {\n",
    "    \"city\": cities,\n",
    "    \"lat\": lat,\n",
    "    \"temp\": temp,\n",
    "    \"Humidity\": humidity,\n",
    "    \"Cloudiness\": clouds,\n",
    "    \"Wind Speed\":wind \n",
    "}\n",
    "weather_data = pd.DataFrame(weather_dict)\n",
    "print(\"*******************************************************************************************\")\n",
    "print(\"Temporarily printing out weather_data.head() just below to see table data in this cell,\")\n",
    "print(\"but can remove the line below later since basically in the next cell\")\n",
    "print(\"*******************************************************************************************\")\n",
    "weather_data.head()\n",
    "\n"
   ]
  },
  {
   "cell_type": "code",
   "execution_count": 14,
   "metadata": {},
   "outputs": [
    {
     "data": {
      "text/html": [
       "<div>\n",
       "<style scoped>\n",
       "    .dataframe tbody tr th:only-of-type {\n",
       "        vertical-align: middle;\n",
       "    }\n",
       "\n",
       "    .dataframe tbody tr th {\n",
       "        vertical-align: top;\n",
       "    }\n",
       "\n",
       "    .dataframe thead th {\n",
       "        text-align: right;\n",
       "    }\n",
       "</style>\n",
       "<table border=\"1\" class=\"dataframe\">\n",
       "  <thead>\n",
       "    <tr style=\"text-align: right;\">\n",
       "      <th></th>\n",
       "      <th>city</th>\n",
       "      <th>lat</th>\n",
       "      <th>temp</th>\n",
       "      <th>Humidity</th>\n",
       "      <th>Cloudiness</th>\n",
       "      <th>Wind Speed</th>\n",
       "    </tr>\n",
       "  </thead>\n",
       "  <tbody>\n",
       "    <tr>\n",
       "      <th>0</th>\n",
       "      <td>rikitea</td>\n",
       "      <td>-23.1203</td>\n",
       "      <td>25.49</td>\n",
       "      <td>75</td>\n",
       "      <td>79</td>\n",
       "      <td>5.46</td>\n",
       "    </tr>\n",
       "    <tr>\n",
       "      <th>1</th>\n",
       "      <td>mataura</td>\n",
       "      <td>-46.1927</td>\n",
       "      <td>9.71</td>\n",
       "      <td>99</td>\n",
       "      <td>32</td>\n",
       "      <td>1.13</td>\n",
       "    </tr>\n",
       "    <tr>\n",
       "      <th>2</th>\n",
       "      <td>albany</td>\n",
       "      <td>42.6001</td>\n",
       "      <td>0.34</td>\n",
       "      <td>78</td>\n",
       "      <td>91</td>\n",
       "      <td>3.13</td>\n",
       "    </tr>\n",
       "    <tr>\n",
       "      <th>3</th>\n",
       "      <td>torbay</td>\n",
       "      <td>47.6666</td>\n",
       "      <td>-0.18</td>\n",
       "      <td>79</td>\n",
       "      <td>75</td>\n",
       "      <td>6.69</td>\n",
       "    </tr>\n",
       "  </tbody>\n",
       "</table>\n",
       "</div>"
      ],
      "text/plain": [
       "      city      lat   temp  Humidity  Cloudiness  Wind Speed\n",
       "0  rikitea -23.1203  25.49        75          79        5.46\n",
       "1  mataura -46.1927   9.71        99          32        1.13\n",
       "2   albany  42.6001   0.34        78          91        3.13\n",
       "3   torbay  47.6666  -0.18        79          75        6.69"
      ]
     },
     "execution_count": 14,
     "metadata": {},
     "output_type": "execute_result"
    }
   ],
   "source": [
    "# Display the DataFrame\n",
    "weather_data"
   ]
  },
  {
   "cell_type": "markdown",
   "metadata": {},
   "source": [
    "## Inspect the data and remove the cities where the humidity > 100%.\n",
    "----\n",
    "Skip this step if there are no cities that have humidity > 100%. "
   ]
  },
  {
   "cell_type": "code",
   "execution_count": null,
   "metadata": {},
   "outputs": [],
   "source": []
  },
  {
   "cell_type": "code",
   "execution_count": null,
   "metadata": {},
   "outputs": [],
   "source": [
    "#  Get the indices of cities that have humidity over 100%.\n"
   ]
  },
  {
   "cell_type": "code",
   "execution_count": null,
   "metadata": {},
   "outputs": [],
   "source": [
    "# Make a new DataFrame equal to the city data to drop all humidity outliers by index.\n",
    "# Passing \"inplace=False\" will make a copy of the city_data DataFrame, which we call \"clean_city_data\".\n"
   ]
  },
  {
   "cell_type": "code",
   "execution_count": null,
   "metadata": {},
   "outputs": [],
   "source": [
    "\n"
   ]
  },
  {
   "cell_type": "markdown",
   "metadata": {},
   "source": [
    "## Plotting the Data\n",
    "* Use proper labeling of the plots using plot titles (including date of analysis) and axes labels.\n",
    "* Save the plotted figures as .pngs."
   ]
  },
  {
   "cell_type": "markdown",
   "metadata": {},
   "source": [
    "## Latitude vs. Temperature Plot"
   ]
  },
  {
   "cell_type": "code",
   "execution_count": null,
   "metadata": {
    "scrolled": true
   },
   "outputs": [],
   "source": [
    "    #convert temp from Celsius to Fahrenheit suggeted add by BZ to make it easier???\n",
    "    #f_temp=(temp*1.8)+32\n",
    "    "
   ]
  },
  {
   "cell_type": "markdown",
   "metadata": {},
   "source": [
    "## Latitude vs. Humidity Plot"
   ]
  },
  {
   "cell_type": "code",
   "execution_count": null,
   "metadata": {},
   "outputs": [],
   "source": []
  },
  {
   "cell_type": "markdown",
   "metadata": {},
   "source": [
    "## Latitude vs. Cloudiness Plot"
   ]
  },
  {
   "cell_type": "code",
   "execution_count": null,
   "metadata": {},
   "outputs": [],
   "source": []
  },
  {
   "cell_type": "markdown",
   "metadata": {},
   "source": [
    "## Latitude vs. Wind Speed Plot"
   ]
  },
  {
   "cell_type": "code",
   "execution_count": null,
   "metadata": {},
   "outputs": [],
   "source": []
  },
  {
   "cell_type": "markdown",
   "metadata": {},
   "source": [
    "## Linear Regression"
   ]
  },
  {
   "cell_type": "code",
   "execution_count": null,
   "metadata": {},
   "outputs": [],
   "source": []
  },
  {
   "cell_type": "markdown",
   "metadata": {},
   "source": [
    "####  Northern Hemisphere - Max Temp vs. Latitude Linear Regression"
   ]
  },
  {
   "cell_type": "code",
   "execution_count": null,
   "metadata": {},
   "outputs": [],
   "source": []
  },
  {
   "cell_type": "markdown",
   "metadata": {},
   "source": [
    "####  Southern Hemisphere - Max Temp vs. Latitude Linear Regression"
   ]
  },
  {
   "cell_type": "code",
   "execution_count": null,
   "metadata": {},
   "outputs": [],
   "source": []
  },
  {
   "cell_type": "markdown",
   "metadata": {},
   "source": [
    "####  Northern Hemisphere - Humidity (%) vs. Latitude Linear Regression"
   ]
  },
  {
   "cell_type": "code",
   "execution_count": null,
   "metadata": {},
   "outputs": [],
   "source": []
  },
  {
   "cell_type": "markdown",
   "metadata": {},
   "source": [
    "####  Southern Hemisphere - Humidity (%) vs. Latitude Linear Regression"
   ]
  },
  {
   "cell_type": "code",
   "execution_count": null,
   "metadata": {},
   "outputs": [],
   "source": []
  },
  {
   "cell_type": "markdown",
   "metadata": {},
   "source": [
    "####  Northern Hemisphere - Cloudiness (%) vs. Latitude Linear Regression"
   ]
  },
  {
   "cell_type": "code",
   "execution_count": null,
   "metadata": {},
   "outputs": [],
   "source": []
  },
  {
   "cell_type": "markdown",
   "metadata": {},
   "source": [
    "####  Southern Hemisphere - Cloudiness (%) vs. Latitude Linear Regression"
   ]
  },
  {
   "cell_type": "code",
   "execution_count": null,
   "metadata": {},
   "outputs": [],
   "source": []
  },
  {
   "cell_type": "markdown",
   "metadata": {},
   "source": [
    "####  Northern Hemisphere - Wind Speed (mph) vs. Latitude Linear Regression"
   ]
  },
  {
   "cell_type": "code",
   "execution_count": null,
   "metadata": {},
   "outputs": [],
   "source": []
  },
  {
   "cell_type": "markdown",
   "metadata": {},
   "source": [
    "####  Southern Hemisphere - Wind Speed (mph) vs. Latitude Linear Regression"
   ]
  },
  {
   "cell_type": "code",
   "execution_count": null,
   "metadata": {},
   "outputs": [],
   "source": []
  },
  {
   "cell_type": "code",
   "execution_count": null,
   "metadata": {},
   "outputs": [],
   "source": []
  }
 ],
 "metadata": {
  "anaconda-cloud": {},
  "kernel_info": {
   "name": "python3"
  },
  "kernelspec": {
   "display_name": "Python 3 (ipykernel)",
   "language": "python",
   "name": "python3"
  },
  "language_info": {
   "codemirror_mode": {
    "name": "ipython",
    "version": 3
   },
   "file_extension": ".py",
   "mimetype": "text/x-python",
   "name": "python",
   "nbconvert_exporter": "python",
   "pygments_lexer": "ipython3",
   "version": "3.9.7"
  },
  "latex_envs": {
   "LaTeX_envs_menu_present": true,
   "autoclose": false,
   "autocomplete": true,
   "bibliofile": "biblio.bib",
   "cite_by": "apalike",
   "current_citInitial": 1,
   "eqLabelWithNumbers": true,
   "eqNumInitial": 1,
   "hotkeys": {
    "equation": "Ctrl-E",
    "itemize": "Ctrl-I"
   },
   "labels_anchors": false,
   "latex_user_defs": false,
   "report_style_numbering": false,
   "user_envs_cfg": false
  },
  "nteract": {
   "version": "0.12.3"
  }
 },
 "nbformat": 4,
 "nbformat_minor": 2
}
