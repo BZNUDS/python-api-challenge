{
 "cells": [
  {
   "cell_type": "markdown",
   "metadata": {},
   "source": [
    "# WeatherPy\n",
    "----\n",
    "\n",
    "#### Note\n",
    "* Instructions have been included for each segment. You do not have to follow them exactly, but they are included to help you think through the steps."
   ]
  },
  {
   "cell_type": "code",
   "execution_count": 1,
   "metadata": {
    "scrolled": true
   },
   "outputs": [],
   "source": [
    "# Dependencies and Setup\n",
    "import matplotlib.pyplot as plt\n",
    "import pandas as pd\n",
    "import numpy as np\n",
    "import scipy.stats as st\n",
    "from scipy.stats import linregress\n",
    "from sklearn import datasets\n",
    "import requests\n",
    "import time\n",
    "\n",
    "\n",
    "# Import API key\n",
    "from api_keys import weather_api_key\n",
    "\n",
    "# Incorporated citipy to determine city based on latitude and longitude\n",
    "from citipy import citipy\n",
    "\n",
    "# Output File (CSV)\n",
    "output_data_file = \"output_data/cities.csv\"\n",
    "\n",
    "# Range of latitudes and longitudes\n",
    "lat_range = (-90, 90)\n",
    "lng_range = (-180, 180)"
   ]
  },
  {
   "cell_type": "markdown",
   "metadata": {},
   "source": [
    "## Generate Cities List"
   ]
  },
  {
   "cell_type": "code",
   "execution_count": 3,
   "metadata": {},
   "outputs": [
    {
     "name": "stdout",
     "output_type": "stream",
     "text": [
      "***************************************************************************************\n",
      "Do I need to include logging in addition to wrting out the .csv???\n",
      "***************************************************************************************\n",
      "619\n",
      "['atuona', 'katsuura', 'castro', 'hermanus', 'kapaa', 'baena', 'whitehorse', 'tabas', 'arraial do cabo', 'nikolskoye', 'hilo', 'huarmey', 'adrar', 'amderma', 'lagoa', 'sao filipe', 'vila franca do campo', 'yatsuo', 'tura', 'alice springs', 'sivas', 'vaini', 'luderitz', 'urengoy', 'albany', 'cabo san lucas', 'ushuaia', 'jamestown', 'narsaq', 'monrovia', 'punta arenas', 'victoria', 'tuktoyaktuk', 'east london', 'nanakuli', 'grand river south east', 'ixtapa', 'illoqqortoormiut', 'husavik', 'ancud', 'quatre cocos', 'guayaramerin', 'busselton', 'kavaratti', 'luohe', 'gambela', 'sola', 'ust-maya', 'thompson', 'bulolo', 'severo-kurilsk', 'taolanaro', 'rikitea', 'mataura', 'terme', 'mahebourg', 'lazaro cardenas', 'ponta do sol', 'linguere', 'saint-philippe', 'coquimbo', 'nouadhibou', 'port alfred', 'ibotirama', 'bambous virieux', 'namur', 'tiksi', 'mitsamiouli', 'dikson', 'hokitika', 'kirakira', 'codrington', 'cockburn town', 'nome', 'saint-joseph', 'new norfolk', 'lavrentiya', 'attawapiskat', 'qaanaaq', 'santa vitoria do palmar', 'tiarei', 'batagay-alyta', 'perth', 'yellowknife', 'alotau', 'georgetown', 'puerto ayora', 'pangnirtung', 'gonaives', 'kaitangata', 'verkhnyaya inta', 'cascais', 'fethiye', 'airai', 'saleaula', 'saint george', 'viligili', 'kahului', 'hithadhoo', 'awjilah', 'nizhneyansk', 'belushya guba', 'tateyama', 'maharajganj', 'hualmay', 'griffith', 'chuy', 'southbridge', 'carnarvon', 'elko', 'catamarca', 'lorengau', 'arlit', 'borovskoy', 'whyalla', 'deputatskiy', 'kodiak', 'cape town', 'port elizabeth', 'sinnamary', 'mrirt', 'soto la marina', 'porto santo', 'aksu', 'halalo', 'puerto baquerizo moreno', 'barrow', 'khatanga', 'tual', 'kadoma', 'souillac', 'mys shmidta', 'provideniya', 'leningradskiy', 'pringsewu', 'longyearbyen', 'yulara', 'coihaique', 'brandfort', 'touros', 'gulfport', 'butaritari', 'nanortalik', 'bluff', 'mayumba', 'urupes', 'batsfjord', 'upernavik', 'ahipara', 'bethel', 'laguna', 'biak', 'bonavista', 'baoshan', 'vila velha', 'san patricio', 'clyde river', 'mar del plata', 'odessa', 'kawana waters', 'knokke-heist', 'roros', 'banswada', 'altamira', 'dakar', 'boa vista', 'iqaluit', 'pisco', 'tokur', 'cidreira', 'high level', 'hamilton', 'avarua', 'pedernales', 'soe', 'wulanhaote', 'makakilo city', 'korla', 'zhigansk', 'klaksvik', 'kabanjahe', 'tasiilaq', 'omsukchan', 'bara', 'mocambique', 'cazaje', 'maragogi', 'uyemskiy', 'arrifes', 'waw', 'vao', 'gyanpur', 'miri', 'basco', 'bredasdorp', 'taman', 'half moon bay', 'mubi', 'estacion coahuila', 'kavieng', 'saint-ambroise', 'yeppoon', 'tautira', 'slobozia', 'asau', 'buraydah', 'padang', 'fortuna', 'la linea', 'bathurst', 'port-gentil', 'alaca', 'mtsensk', 'ulladulla', 'palembang', 'vostok', 'sao joao da barra', 'karatau', 'santa elena', 'manbij', 'san bartolome de tirajana', 'aldan', 'jaca', 'golden', 'saldanha', 'sao gabriel da cachoeira', 'listvyanskiy', 'nabire', 'barentsburg', 'bloomfield', 'ribeira grande', 'auki', 'lebu', 'remanso', 'chibombo', 'buala', 'ouesso', 'ous', 'bathsheba', 'port lincoln', 'paamiut', 'adre', 'calama', 'helong', 'tiznit', 'ambon', 'prince rupert', 'surt', 'aksarka', 'suntar', 'novobirilyussy', 'sisophon', 'faanui', 'berdigestyakh', 'sitka', 'leh', 'warqla', 'northam', 'waingapu', 'kuche', 'kilindoni', 'gambiran', 'preobrazheniye', 'salamanca', 'imbituba', 'makaha', 'tazovskiy', 'sabratah', 'norman wells', 'kamoke', 'cheuskiny', 'fukue', 'gualeguay', 'chokurdakh', 'geraldton', 'eureka', 'scarborough', 'bengkulu', 'salinas', 'san ramon', 'dudinka', 'lompoc', 'sept-iles', 'torbay', 'antalaha', 'vardo', 'gravdal', 'koshurnikovo', 'durango', 'bay roberts', 'homburg', 'frankfurt', 'zhangye', 'grand-lahou', 'bam', 'key largo', 'dolbeau', 'denpasar', 'marfino', 'hunchun', 'srednekolymsk', 'chumikan', 'xinpu', 'mount gambier', 'karaul', 'belmonte', 'tucuman', 'talnakh', 'bolungarvik', 'salisbury', 'umzimvubu', 'muros', 'pasighat', 'sisimiut', 'tumannyy', 'palabuhanratu', 'lengshuitan', 'ridgecrest', 'muroto', 'namtsy', 'itarema', 'saskylakh', 'namatanai', 'wanning', 'broome', 'mehamn', 'karratha', 'faya', 'bulawayo', 'cherskiy', 'keti bandar', 'dwarka', 'japura', 'akropong', 'sinazongwe', 'portland', 'pacasmayo', 'kampot', 'vaitupu', 'gizo', 'safwah', 'calabozo', 'mamallapuram', 'honningsvag', 'hobart', 'telsiai', 'coventry', 'tutoia', 'mezen', 'longlac', 'yagodnoye', 'dunmore town', 'salalah', 'benjamin constant', 'tsihombe', 'lata', 'kodinsk', 'henties bay', 'coahuayana', 'puerto varas', 'kabare', 'mogochin', 'lingao', 'karpuninskiy', 'lubumbashi', 'alekseyevka', 'cooma', 'nyurba', 'aquiraz', 'visnes', 'broken hill', 'rawlins', 'mandalgovi', 'nicolas bravo', 'cukai', 'qasigiannguit', 'carutapera', 'la paz', 'arti', 'praia da vitoria', 'komsomolskiy', 'san joaquin', 'nurota', 'witu', 'saint-francois', 'longyan', 'san policarpo', 'saint-pierre', 'zion', 'yichun', 'saint anthony', 'la romana', 'westport', 'privolzhye', 'bambanglipuro', 'te anau', 'boshan', 'balabac', 'kangaba', 'guasdualito', 'giyani', 'viedma', 'vestmannaeyjar', 'sovetskiy', 'hanmer springs', 'ayagoz', 'bedele', 'green river', 'seddon', 'port hardy', 'asyut', 'merauke', 'mokhsogollokh', 'mangaluru', 'sentyabrskiy', 'shudayag', 'hami', 'caravelas', 'richards bay', 'hambantota', 'pevek', 'frolovo', 'dingle', 'agadir', 'walvis bay', 'tenango', 'byron bay', 'chaman', 'santa rosa', 'el balyana', 'dunedin', 'tirumullaivasal', 'sweetwater', 'kahramanmaras', 'nantucket', 'porto novo', 'masindi', 'katubao', 'avera', 'pati', 'morales', 'suhbaatar', 'kyra', 'margate', 'virginia', 'khash', 'bilibino', 'petrozavodsk', 'samusu', 'mumford', 'rock springs', 'samarinda', 'nishihara', 'lolua', 'skjervoy', 'atikokan', 'bandarbeyla', 'safford', 'alofi', 'kanchanaburi', 'port blair', 'galatsion', 'turukhansk', 'taltal', 'ilulissat', 'baruun-urt', 'ust-kuyga', 'san cristobal', 'danville', 'findlay', 'mabaruma', 'asaba', 'la ronge', 'palestine', 'noumea', 'sorong', 'verkhnedneprovskiy', 'marcona', 'tabiauea', 'mayor pablo lagerenza', 'port pirie', 'yarada', 'banmo', 'carikar', 'shimanovsk', 'chifeng', 'cayenne', 'moberly', 'mahajanga', 'palauig', 'santa cruz', 'okakarara', 'esperance', 'paita', 'riyadh', 'camacha', 'port hedland', 'necochea', 'tumaco', 'sobolevo', 'nyrob', 'higuey', 'olafsvik', 'bitung', 'coromandel', 'veliki preslav', 'beringovskiy', 'la asuncion', 'cuamba', 'sambava', 'pahrump', 'tezu', 'belaya gora', 'comodoro rivadavia', 'valleyview', 'asfi', 'lambarene', 'siguiri', 'honiara', 'sladkovo', 'kruisfontein', 'jiroft', 'namibe', 'kamenskoye', 'fairbanks', 'zapolyarnyy', 'kang', 'amarante do maranhao', 'bonthe', 'piney green', 'olinda', 'aranos', 'flin flon', 'ormara', 'peleduy', 'lovozero', 'onguday', 'rawson', 'khatassy', 'yanchukan', 'ubinskoye', 'fort saint james', 'pacific grove', 'old shinyanga', 'shahe', 'burgos', 'alugan', 'belyy yar', 'aykhal', 'shujaabad', 'bastrop', 'charleston', 'marystown', 'opuwo', 'imeni poliny osipenko', 'ponta delgada', 'clarence town', 'nieuw amsterdam', 'altay', 'arcachon', 'maldonado', 'gull lake', 'cardston', 'sur', 'kashan', 'vallenar', 'hakui', 'fort nelson', 'ciudad bolivar', 'tabou', 'bac lieu', 'minas', 'takoradi', 'kalmunai', 'egvekinot', 'yaan', 'yelan', 'balikpapan', 'male', 'shentala', 'namangan', 'kamaishi', 'renfrew', 'whitianga', 'imeni stepana razina', 'luvianos', 'ranau', 'yunjinghong', 'bolshoye sorokino', 'camalu', 'oktyabrskiy', 'kostomuksha', 'yar-sale', 'salihorsk', 'panguna', 'tooele', 'plettenberg bay', 'nagua', 'rapid valley', 'halifax', 'saint-louis', 'naze', 'hackettstown', 'ugoofaaru', 'buchanan', 'havre-saint-pierre', 'salinopolis', 'chatham', 'springbok', 'riaba', 'lasa', 'thio', 'zhanaozen', 'madhugiri', 'kazalinsk', 'vanavara', 'sorvag', 'bagua grande', 'nanhai']\n",
      "*******************************************************************************************\n",
      "Temporarily reducging cities from cities to cities[0:10] so only get 10 cities intially\n",
      "before calling api.openweathermap.org since they have limits\n",
      "I believe 60 calls/minute and 1M calls/month per month)\n",
      "*******************************************************************************************\n",
      "['atuona', 'katsuura', 'castro', 'hermanus', 'kapaa', 'baena', 'whitehorse', 'tabas', 'arraial do cabo', 'nikolskoye']\n"
     ]
    }
   ],
   "source": [
    "# List for holding lat_lngs and cities\n",
    "lat_lngs = []\n",
    "cities = []\n",
    "\n",
    "# Create a set of random lat and lng combinations\n",
    "lats = np.random.uniform(lat_range[0], lat_range[1], size=1500)\n",
    "lngs = np.random.uniform(lng_range[0], lng_range[1], size=1500)\n",
    "lat_lngs = zip(lats, lngs)\n",
    "\n",
    "# Identify nearest city for each lat, lng combination\n",
    "for lat_lng in lat_lngs:\n",
    "    city = citipy.nearest_city(lat_lng[0], lat_lng[1]).city_name\n",
    "    \n",
    "    # If the city is unique, then add it to a our cities list\n",
    "    if city not in cities:\n",
    "        cities.append(city)\n",
    "\n",
    "print(\"***************************************************************************************\")\n",
    "# df.head(n).to_csv('yourfileout.csv', encoding='utf-8')\n",
    "# logging.info('dataframe head - {}'.format(df.head()))\n",
    "print(\"Do I need to include logging in addition to wrting out the .csv???\")\n",
    "print(\"***************************************************************************************\")\n",
    "    \n",
    "# Print the city count to confirm sufficient count\n",
    "print(len(cities))\n",
    "print(cities)\n",
    "print(\"*******************************************************************************************\")\n",
    "print(\"Temporarily reducging cities from cities to cities[0:10] so only get 10 cities intially\")\n",
    "print(\"before calling api.openweathermap.org since they have limits\") \n",
    "print(\"I believe 60 calls/minute and 1M calls/month per month)\")\n",
    "cities = cities[0:10]\n",
    "print(\"*******************************************************************************************\")\n",
    "print(cities)"
   ]
  },
  {
   "cell_type": "markdown",
   "metadata": {},
   "source": [
    "### Perform API Calls\n",
    "* Perform a weather check on each city using a series of successive API calls.\n",
    "* Include a print log of each city as it'sbeing processed (with the city number and city name).\n"
   ]
  },
  {
   "cell_type": "code",
   "execution_count": 4,
   "metadata": {
    "scrolled": false
   },
   "outputs": [
    {
     "name": "stdout",
     "output_type": "stream",
     "text": [
      "cities\n",
      "['atuona', 'katsuura', 'castro', 'hermanus', 'kapaa', 'baena', 'whitehorse', 'tabas', 'arraial do cabo', 'nikolskoye']\n",
      "The latitude information for city atuona #0 received is: [-9.8]\n",
      "The latitude information for city atuona #0 received is: [-139.0333]\n",
      "The temperature information for city atuona #0 received is: [25.89]\n",
      "The humidty information for city atuona #0 received is: [76]\n",
      "The cloudiness information for city atuona #0 received is: [13]\n",
      "The windiness information for city atuona #0 received is: [7.61]\n",
      "The latitude information for city katsuura #1 received is: [-9.8, 35.1333]\n",
      "The latitude information for city katsuura #1 received is: [-139.0333, 140.3]\n",
      "The temperature information for city katsuura #1 received is: [25.89, 7.86]\n",
      "The humidty information for city katsuura #1 received is: [76, 56]\n",
      "The cloudiness information for city katsuura #1 received is: [13, 98]\n",
      "The windiness information for city katsuura #1 received is: [7.61, 7.12]\n",
      "The latitude information for city castro #2 received is: [-9.8, 35.1333, -24.7911]\n",
      "The latitude information for city castro #2 received is: [-139.0333, 140.3, -50.0119]\n",
      "The temperature information for city castro #2 received is: [25.89, 7.86, 16.47]\n",
      "The humidty information for city castro #2 received is: [76, 56, 97]\n",
      "The cloudiness information for city castro #2 received is: [13, 98, 64]\n",
      "The windiness information for city castro #2 received is: [7.61, 7.12, 3.73]\n",
      "The latitude information for city hermanus #3 received is: [-9.8, 35.1333, -24.7911, -34.4187]\n",
      "The latitude information for city hermanus #3 received is: [-139.0333, 140.3, -50.0119, 19.2345]\n",
      "The temperature information for city hermanus #3 received is: [25.89, 7.86, 16.47, 16]\n",
      "The humidty information for city hermanus #3 received is: [76, 56, 97, 86]\n",
      "The cloudiness information for city hermanus #3 received is: [13, 98, 64, 2]\n",
      "The windiness information for city hermanus #3 received is: [7.61, 7.12, 3.73, 4.01]\n",
      "The latitude information for city kapaa #4 received is: [-9.8, 35.1333, -24.7911, -34.4187, 22.0752]\n",
      "The latitude information for city kapaa #4 received is: [-139.0333, 140.3, -50.0119, 19.2345, -159.319]\n",
      "The temperature information for city kapaa #4 received is: [25.89, 7.86, 16.47, 16, 23.76]\n",
      "The humidty information for city kapaa #4 received is: [76, 56, 97, 86, 73]\n",
      "The cloudiness information for city kapaa #4 received is: [13, 98, 64, 2, 40]\n",
      "The windiness information for city kapaa #4 received is: [7.61, 7.12, 3.73, 4.01, 3.6]\n",
      "The latitude information for city baena #5 received is: [-9.8, 35.1333, -24.7911, -34.4187, 22.0752, 37.6167]\n",
      "The latitude information for city baena #5 received is: [-139.0333, 140.3, -50.0119, 19.2345, -159.319, -4.3225]\n",
      "The temperature information for city baena #5 received is: [25.89, 7.86, 16.47, 16, 23.76, 7.54]\n",
      "The humidty information for city baena #5 received is: [76, 56, 97, 86, 73, 74]\n",
      "The cloudiness information for city baena #5 received is: [13, 98, 64, 2, 40, 0]\n",
      "The windiness information for city baena #5 received is: [7.61, 7.12, 3.73, 4.01, 3.6, 1.37]\n",
      "The latitude information for city whitehorse #6 received is: [-9.8, 35.1333, -24.7911, -34.4187, 22.0752, 37.6167, 60.7161]\n",
      "The latitude information for city whitehorse #6 received is: [-139.0333, 140.3, -50.0119, 19.2345, -159.319, -4.3225, -135.0538]\n",
      "The temperature information for city whitehorse #6 received is: [25.89, 7.86, 16.47, 16, 23.76, 7.54, -5.3]\n",
      "The humidty information for city whitehorse #6 received is: [76, 56, 97, 86, 73, 74, 91]\n",
      "The cloudiness information for city whitehorse #6 received is: [13, 98, 64, 2, 40, 0, 16]\n",
      "The windiness information for city whitehorse #6 received is: [7.61, 7.12, 3.73, 4.01, 3.6, 1.37, 3.43]\n",
      "The latitude information for city tabas #7 received is: [-9.8, 35.1333, -24.7911, -34.4187, 22.0752, 37.6167, 60.7161, 33.5959]\n",
      "The latitude information for city tabas #7 received is: [-139.0333, 140.3, -50.0119, 19.2345, -159.319, -4.3225, -135.0538, 56.9244]\n",
      "The temperature information for city tabas #7 received is: [25.89, 7.86, 16.47, 16, 23.76, 7.54, -5.3, 8.5]\n",
      "The humidty information for city tabas #7 received is: [76, 56, 97, 86, 73, 74, 91, 34]\n",
      "The cloudiness information for city tabas #7 received is: [13, 98, 64, 2, 40, 0, 16, 0]\n",
      "The windiness information for city tabas #7 received is: [7.61, 7.12, 3.73, 4.01, 3.6, 1.37, 3.43, 2.39]\n",
      "The latitude information for city arraial do cabo #8 received is: [-9.8, 35.1333, -24.7911, -34.4187, 22.0752, 37.6167, 60.7161, 33.5959, -22.9661]\n",
      "The latitude information for city arraial do cabo #8 received is: [-139.0333, 140.3, -50.0119, 19.2345, -159.319, -4.3225, -135.0538, 56.9244, -42.0278]\n",
      "The temperature information for city arraial do cabo #8 received is: [25.89, 7.86, 16.47, 16, 23.76, 7.54, -5.3, 8.5, 22.6]\n",
      "The humidty information for city arraial do cabo #8 received is: [76, 56, 97, 86, 73, 74, 91, 34, 82]\n",
      "The cloudiness information for city arraial do cabo #8 received is: [13, 98, 64, 2, 40, 0, 16, 0, 100]\n",
      "The windiness information for city arraial do cabo #8 received is: [7.61, 7.12, 3.73, 4.01, 3.6, 1.37, 3.43, 2.39, 3.69]\n",
      "The latitude information for city nikolskoye #9 received is: [-9.8, 35.1333, -24.7911, -34.4187, 22.0752, 37.6167, 60.7161, 33.5959, -22.9661, 59.7035]\n",
      "The latitude information for city nikolskoye #9 received is: [-139.0333, 140.3, -50.0119, 19.2345, -159.319, -4.3225, -135.0538, 56.9244, -42.0278, 30.7861]\n",
      "The temperature information for city nikolskoye #9 received is: [25.89, 7.86, 16.47, 16, 23.76, 7.54, -5.3, 8.5, 22.6, -0.77]\n",
      "The humidty information for city nikolskoye #9 received is: [76, 56, 97, 86, 73, 74, 91, 34, 82, 98]\n",
      "The cloudiness information for city nikolskoye #9 received is: [13, 98, 64, 2, 40, 0, 16, 0, 100, 100]\n",
      "The windiness information for city nikolskoye #9 received is: [7.61, 7.12, 3.73, 4.01, 3.6, 1.37, 3.43, 2.39, 3.69, 1.98]\n",
      "The weather API responded with: {'coord': {'lon': 30.7861, 'lat': 59.7035}, 'weather': [{'id': 601, 'main': 'Snow', 'description': 'snow', 'icon': '13n'}], 'base': 'stations', 'main': {'temp': 272.38, 'feels_like': 269.82, 'temp_min': 271.93, 'temp_max': 274.1, 'pressure': 1001, 'humidity': 98, 'sea_level': 1001, 'grnd_level': 997}, 'visibility': 145, 'wind': {'speed': 1.98, 'deg': 217, 'gust': 6.96}, 'snow': {'1h': 0.56}, 'clouds': {'all': 100}, 'dt': 1644379918, 'sys': {'type': 2, 'id': 47750, 'country': 'RU', 'sunrise': 1644385824, 'sunset': 1644417110}, 'timezone': 10800, 'id': 546105, 'name': 'Nikolskoye', 'cod': 200}.\n"
     ]
    }
   ],
   "source": [
    "# Save config information.\n",
    "url = \"http://api.openweathermap.org/data/2.5/weather?\"\n",
    "units = \"metric\"\n",
    "\n",
    "# Build partial query URL\n",
    "query_url = f\"{url}appid={weather_api_key}&units={units}&q=\"\n",
    "\n",
    "\n",
    "#city = \"London\"\n",
    "\n",
    "#cities = [\"Paris\", \"London\", \"Oslo\", \"Beijing\"]\n",
    "\n",
    "# set up lists to hold reponse info\n",
    "lat = []\n",
    "lon = []\n",
    "temp = []\n",
    "humidity=[]\n",
    "clouds=[]\n",
    "wind=[]\n",
    "city_counter=0\n",
    "\n",
    "print(\"cities\")\n",
    "print(cities)\n",
    "# Loop through the list of cities and perform a request for data on each\n",
    "for city in cities:\n",
    "    response = requests.get(query_url + city).json()\n",
    "    lat.append(response['coord']['lat'])\n",
    "    lon.append(response['coord']['lon'])\n",
    "    temp.append(response['main']['temp'])\n",
    "    humidity.append(response['main']['humidity'])\n",
    "    clouds.append(response['clouds']['all'])\n",
    "    wind.append(response['wind']['speed'])\n",
    "    \n",
    "    print(f\"The latitude information for city {city} #{city_counter} received is: {lat}\")\n",
    "    print(f\"The latitude information for city {city} #{city_counter} received is: {lon}\")\n",
    "    print(f\"The temperature information for city {city} #{city_counter} received is: {temp}\")\n",
    "    print(f\"The humidty information for city {city} #{city_counter} received is: {humidity}\")\n",
    "    print(f\"The cloudiness information for city {city} #{city_counter} received is: {clouds}\")\n",
    "    print(f\"The windiness information for city {city} #{city_counter} received is: {wind}\")\n",
    "\n",
    "    city_counter+=1\n",
    "\n",
    "    \n",
    "# Build query URL\n",
    "query_url = url + \"appid=\" + weather_api_key + \"&q=\" + city  \n",
    "\n",
    "# Get weather data\n",
    "weather_response = requests.get(query_url)\n",
    "weather_json = weather_response.json()\n",
    "\n",
    "# Get the temperature from the response\n",
    "print(f\"The weather API responded with: {weather_json}.\")"
   ]
  },
  {
   "cell_type": "markdown",
   "metadata": {},
   "source": [
    "### Convert Raw Data to DataFrame\n",
    "* Export the city data into a .csv.\n",
    "* Display the DataFrame"
   ]
  },
  {
   "cell_type": "code",
   "execution_count": 26,
   "metadata": {},
   "outputs": [
    {
     "name": "stdout",
     "output_type": "stream",
     "text": [
      "*******************************************************************************************\n",
      "Temporarily printing out weather_data.head() just below to see table data in this cell,\n",
      "but can remove the line below later since basically in the next cell\n",
      "*******************************************************************************************\n",
      "       city      lat       lon   temp  Humidity  Cloudiness  Wind Speed\n",
      "0    atuona  -9.8000 -139.0333  25.89        76          13        7.61\n",
      "1  katsuura  35.1333  140.3000   7.86        56          98        7.12\n",
      "2    castro -24.7911  -50.0119  16.47        97          64        3.73\n",
      "3  hermanus -34.4187   19.2345  16.00        86           2        4.01\n",
      "4     kapaa  22.0752 -159.3190  23.76        73          40        3.60\n"
     ]
    }
   ],
   "source": [
    "# Output File (CSV)\n",
    "output_data_file = \"output_data/cities.csv\"\n",
    "\n",
    " # create a data frame from cities, lat, and temp\n",
    "weather_dict = {\n",
    "    \"city\": cities,\n",
    "    \"lat\": lat,\n",
    "    \"lon\": lon,\n",
    "    \"temp\": temp,\n",
    "    \"Humidity\": humidity,\n",
    "    \"Cloudiness\": clouds,\n",
    "    \"Wind Speed\":wind \n",
    "}\n",
    "weather_data = pd.DataFrame(weather_dict)\n",
    "\n",
    "print(\"*******************************************************************************************\")\n",
    "print(\"Temporarily printing out weather_data.head() just below to see table data in this cell,\")\n",
    "print(\"but can remove the line below later since basically in the next cell\")\n",
    "print(\"*******************************************************************************************\")\n",
    "print(weather_data.head())\n",
    "\n",
    "\n",
    "# Save as a csv\n",
    "# Note to avoid any issues later, use encoding=\"utf-8\"\n",
    "weather_data.to_csv(output_data_file, encoding=\"utf-8\", index=False)"
   ]
  },
  {
   "cell_type": "code",
   "execution_count": 27,
   "metadata": {},
   "outputs": [
    {
     "data": {
      "text/html": [
       "<div>\n",
       "<style scoped>\n",
       "    .dataframe tbody tr th:only-of-type {\n",
       "        vertical-align: middle;\n",
       "    }\n",
       "\n",
       "    .dataframe tbody tr th {\n",
       "        vertical-align: top;\n",
       "    }\n",
       "\n",
       "    .dataframe thead th {\n",
       "        text-align: right;\n",
       "    }\n",
       "</style>\n",
       "<table border=\"1\" class=\"dataframe\">\n",
       "  <thead>\n",
       "    <tr style=\"text-align: right;\">\n",
       "      <th></th>\n",
       "      <th>city</th>\n",
       "      <th>lat</th>\n",
       "      <th>lon</th>\n",
       "      <th>temp</th>\n",
       "      <th>Humidity</th>\n",
       "      <th>Cloudiness</th>\n",
       "      <th>Wind Speed</th>\n",
       "    </tr>\n",
       "  </thead>\n",
       "  <tbody>\n",
       "    <tr>\n",
       "      <th>0</th>\n",
       "      <td>atuona</td>\n",
       "      <td>-9.8000</td>\n",
       "      <td>-139.0333</td>\n",
       "      <td>25.89</td>\n",
       "      <td>76</td>\n",
       "      <td>13</td>\n",
       "      <td>7.61</td>\n",
       "    </tr>\n",
       "    <tr>\n",
       "      <th>1</th>\n",
       "      <td>katsuura</td>\n",
       "      <td>35.1333</td>\n",
       "      <td>140.3000</td>\n",
       "      <td>7.86</td>\n",
       "      <td>56</td>\n",
       "      <td>98</td>\n",
       "      <td>7.12</td>\n",
       "    </tr>\n",
       "    <tr>\n",
       "      <th>2</th>\n",
       "      <td>castro</td>\n",
       "      <td>-24.7911</td>\n",
       "      <td>-50.0119</td>\n",
       "      <td>16.47</td>\n",
       "      <td>97</td>\n",
       "      <td>64</td>\n",
       "      <td>3.73</td>\n",
       "    </tr>\n",
       "    <tr>\n",
       "      <th>3</th>\n",
       "      <td>hermanus</td>\n",
       "      <td>-34.4187</td>\n",
       "      <td>19.2345</td>\n",
       "      <td>16.00</td>\n",
       "      <td>86</td>\n",
       "      <td>2</td>\n",
       "      <td>4.01</td>\n",
       "    </tr>\n",
       "    <tr>\n",
       "      <th>4</th>\n",
       "      <td>kapaa</td>\n",
       "      <td>22.0752</td>\n",
       "      <td>-159.3190</td>\n",
       "      <td>23.76</td>\n",
       "      <td>73</td>\n",
       "      <td>40</td>\n",
       "      <td>3.60</td>\n",
       "    </tr>\n",
       "    <tr>\n",
       "      <th>5</th>\n",
       "      <td>baena</td>\n",
       "      <td>37.6167</td>\n",
       "      <td>-4.3225</td>\n",
       "      <td>7.54</td>\n",
       "      <td>74</td>\n",
       "      <td>0</td>\n",
       "      <td>1.37</td>\n",
       "    </tr>\n",
       "    <tr>\n",
       "      <th>6</th>\n",
       "      <td>whitehorse</td>\n",
       "      <td>60.7161</td>\n",
       "      <td>-135.0538</td>\n",
       "      <td>-5.30</td>\n",
       "      <td>91</td>\n",
       "      <td>16</td>\n",
       "      <td>3.43</td>\n",
       "    </tr>\n",
       "    <tr>\n",
       "      <th>7</th>\n",
       "      <td>tabas</td>\n",
       "      <td>33.5959</td>\n",
       "      <td>56.9244</td>\n",
       "      <td>8.50</td>\n",
       "      <td>34</td>\n",
       "      <td>0</td>\n",
       "      <td>2.39</td>\n",
       "    </tr>\n",
       "    <tr>\n",
       "      <th>8</th>\n",
       "      <td>arraial do cabo</td>\n",
       "      <td>-22.9661</td>\n",
       "      <td>-42.0278</td>\n",
       "      <td>22.60</td>\n",
       "      <td>82</td>\n",
       "      <td>100</td>\n",
       "      <td>3.69</td>\n",
       "    </tr>\n",
       "    <tr>\n",
       "      <th>9</th>\n",
       "      <td>nikolskoye</td>\n",
       "      <td>59.7035</td>\n",
       "      <td>30.7861</td>\n",
       "      <td>-0.77</td>\n",
       "      <td>98</td>\n",
       "      <td>100</td>\n",
       "      <td>1.98</td>\n",
       "    </tr>\n",
       "  </tbody>\n",
       "</table>\n",
       "</div>"
      ],
      "text/plain": [
       "              city      lat       lon   temp  Humidity  Cloudiness  Wind Speed\n",
       "0           atuona  -9.8000 -139.0333  25.89        76          13        7.61\n",
       "1         katsuura  35.1333  140.3000   7.86        56          98        7.12\n",
       "2           castro -24.7911  -50.0119  16.47        97          64        3.73\n",
       "3         hermanus -34.4187   19.2345  16.00        86           2        4.01\n",
       "4            kapaa  22.0752 -159.3190  23.76        73          40        3.60\n",
       "5            baena  37.6167   -4.3225   7.54        74           0        1.37\n",
       "6       whitehorse  60.7161 -135.0538  -5.30        91          16        3.43\n",
       "7            tabas  33.5959   56.9244   8.50        34           0        2.39\n",
       "8  arraial do cabo -22.9661  -42.0278  22.60        82         100        3.69\n",
       "9       nikolskoye  59.7035   30.7861  -0.77        98         100        1.98"
      ]
     },
     "execution_count": 27,
     "metadata": {},
     "output_type": "execute_result"
    }
   ],
   "source": [
    "# Display the DataFrame\n",
    "weather_data"
   ]
  },
  {
   "cell_type": "markdown",
   "metadata": {},
   "source": [
    "## Inspect the data and remove the cities where the humidity > 100%.\n",
    "----\n",
    "Skip this step if there are no cities that have humidity > 100%. \n"
   ]
  },
  {
   "cell_type": "code",
   "execution_count": 28,
   "metadata": {},
   "outputs": [
    {
     "name": "stdout",
     "output_type": "stream",
     "text": [
      "*******************************************************************************************\n",
      "Need to change humidity[city_counter]) > 80 from 80 to 100\n",
      "*******************************************************************************************\n",
      "Skip since no humidity >80\n",
      "Skip since no humidity >80\n",
      "The humidty information for city castro #2 received is: 97\n",
      "castro with city_counter of 2 has humidty >80 so need to remove later\n",
      "The humidty information for city hermanus #3 received is: 86\n",
      "hermanus with city_counter of 3 has humidty >80 so need to remove later\n",
      "Skip since no humidity >80\n",
      "Skip since no humidity >80\n",
      "The humidty information for city whitehorse #6 received is: 91\n",
      "whitehorse with city_counter of 6 has humidty >80 so need to remove later\n",
      "Skip since no humidity >80\n",
      "The humidty information for city arraial do cabo #8 received is: 82\n",
      "arraial do cabo with city_counter of 8 has humidty >80 so need to remove later\n",
      "The humidty information for city nikolskoye #9 received is: 98\n",
      "nikolskoye with city_counter of 9 has humidty >80 so need to remove later\n",
      "Latest cities_high_humidity\n",
      "[2, 3, 6, 8, 9]\n"
     ]
    }
   ],
   "source": [
    "cities_high_humidity = []\n",
    "city_counter=0\n",
    "print(\"*******************************************************************************************\")\n",
    "print(\"Need to change humidity[city_counter]) > 80 from 80 to 100\")\n",
    "print(\"*******************************************************************************************\")\n",
    "for city in cities:\n",
    "    if int(humidity[city_counter]) > 80:\n",
    "        print(f\"The humidty information for city {city} #{city_counter} received is: {humidity[city_counter]}\")\n",
    "        # Create a new list to track high humifity index values\n",
    "        cities_high_humidity.append(city_counter)\n",
    "        print(f\"{city} with city_counter of {city_counter} has humidty >80 so need to remove later\")\n",
    "    else:\n",
    "        print(\"Skip since no humidity >80\")\n",
    "    city_counter+=1\n",
    "print(\"Latest cities_high_humidity\")\n",
    "print(cities_high_humidity)"
   ]
  },
  {
   "cell_type": "code",
   "execution_count": 29,
   "metadata": {},
   "outputs": [
    {
     "name": "stdout",
     "output_type": "stream",
     "text": [
      "Latest cities_high_humidity\n",
      "[2, 3, 6, 8, 9]\n"
     ]
    }
   ],
   "source": [
    "#  Get the indices of cities that have humidity over 100%.\n",
    "print(\"Latest cities_high_humidity\")\n",
    "print(cities_high_humidity)"
   ]
  },
  {
   "cell_type": "code",
   "execution_count": 67,
   "metadata": {},
   "outputs": [
    {
     "name": "stdout",
     "output_type": "stream",
     "text": [
      "have high humidity data for city index #(s) [2, 3, 6, 8, 9]\n",
      "weather_data\n",
      "              city      lat       lon   temp  Humidity  Cloudiness  Wind Speed\n",
      "0           atuona  -9.8000 -139.0333  25.89        76          13        7.61\n",
      "1         katsuura  35.1333  140.3000   7.86        56          98        7.12\n",
      "2           castro -24.7911  -50.0119  16.47        97          64        3.73\n",
      "3         hermanus -34.4187   19.2345  16.00        86           2        4.01\n",
      "4            kapaa  22.0752 -159.3190  23.76        73          40        3.60\n",
      "5            baena  37.6167   -4.3225   7.54        74           0        1.37\n",
      "6       whitehorse  60.7161 -135.0538  -5.30        91          16        3.43\n",
      "7            tabas  33.5959   56.9244   8.50        34           0        2.39\n",
      "8  arraial do cabo -22.9661  -42.0278  22.60        82         100        3.69\n",
      "9       nikolskoye  59.7035   30.7861  -0.77        98         100        1.98\n",
      "\n",
      "clean_city_data\n",
      "       city      lat       lon   temp  Humidity  Cloudiness  Wind Speed\n",
      "0    atuona  -9.8000 -139.0333  25.89        76          13        7.61\n",
      "1  katsuura  35.1333  140.3000   7.86        56          98        7.12\n",
      "4     kapaa  22.0752 -159.3190  23.76        73          40        3.60\n",
      "5     baena  37.6167   -4.3225   7.54        74           0        1.37\n",
      "7     tabas  33.5959   56.9244   8.50        34           0        2.39\n",
      "\n",
      "clean_city_data after reset index\n",
      "   index      city      lat       lon   temp  Humidity  Cloudiness  Wind Speed\n",
      "0      0    atuona  -9.8000 -139.0333  25.89        76          13        7.61\n",
      "1      1  katsuura  35.1333  140.3000   7.86        56          98        7.12\n",
      "2      4     kapaa  22.0752 -159.3190  23.76        73          40        3.60\n",
      "3      5     baena  37.6167   -4.3225   7.54        74           0        1.37\n",
      "4      7     tabas  33.5959   56.9244   8.50        34           0        2.39\n"
     ]
    }
   ],
   "source": [
    "# Make a new DataFrame equal to the city data (aka weather_data) to drop all humidity outliers by index.\n",
    "# Passing \"inplace=False\" will make a copy of the city_data DataFrame, which we call \"clean_city_data\".\n",
    "clean_city_data=weather_data\n",
    "if len(cities_high_humidity) > 0:\n",
    "    print(f\"have high humidity data for city index #(s) {cities_high_humidity}\")\n",
    "    # dropping a row(s) from actual dataframe\n",
    "    #df.drop(['c', 'd'], inplace = True )\n",
    "    clean_city_data=clean_city_data.drop(cities_high_humidity, inplace=False) \n",
    "else:\n",
    "    print(\"No high humidity data\") \n",
    "print(\"weather_data\") \n",
    "print(weather_data)\n",
    "print()\n",
    "print(\"clean_city_data\") \n",
    "print(clean_city_data)\n",
    "print()\n",
    "\n",
    "clean_city_data.reset_index(inplace=True)\n",
    "print(\"clean_city_data after reset index\") \n",
    "print(clean_city_data)\n",
    "\n",
    "#print(\"dtypes()\")\n",
    "#print(clean_city_data.dtypes)"
   ]
  },
  {
   "cell_type": "code",
   "execution_count": null,
   "metadata": {},
   "outputs": [],
   "source": [
    "\n"
   ]
  },
  {
   "cell_type": "markdown",
   "metadata": {},
   "source": [
    "## Plotting the Data\n",
    "* Use proper labeling of the plots using plot titles (including date of analysis) and axes labels.\n",
    "* Save the plotted figures as .pngs."
   ]
  },
  {
   "cell_type": "markdown",
   "metadata": {},
   "source": [
    "## Latitude vs. Temperature Plot"
   ]
  },
  {
   "cell_type": "code",
   "execution_count": 68,
   "metadata": {
    "scrolled": true
   },
   "outputs": [
    {
     "name": "stdout",
     "output_type": "stream",
     "text": [
      "clean_city_data\n",
      "   index      city      lat       lon   temp  Humidity  Cloudiness  Wind Speed\n",
      "0      0    atuona  -9.8000 -139.0333  25.89        76          13        7.61\n",
      "1      1  katsuura  35.1333  140.3000   7.86        56          98        7.12\n",
      "2      4     kapaa  22.0752 -159.3190  23.76        73          40        3.60\n",
      "3      5     baena  37.6167   -4.3225   7.54        74           0        1.37\n",
      "4      7     tabas  33.5959   56.9244   8.50        34           0        2.39\n",
      "************************************************************\n",
      "Should I convert temp from Celsius to Fahrenheit to make it easier to understand???\n",
      "using somethink like f_temp=(temp*1.8)+32\n",
      "If so, do it once up front and replace temp ewith f_temp below\n",
      "else have to add conversion for this plus all graphs below\n",
      "************************************************************\n"
     ]
    },
    {
     "data": {
      "image/png": "[encoded data removed]",
      "text/plain": [
       "<Figure size 432x288 with 1 Axes>"
      ]
     },
     "metadata": {
      "needs_background": "light"
     },
     "output_type": "display_data"
    }
   ],
   "source": [
    "print(\"clean_city_data\") \n",
    "print(clean_city_data)\n",
    "print(\"************************************************************\")\n",
    "print(\"Should I convert temp from Celsius to Fahrenheit to make it easier to understand???\")\n",
    "print(\"using somethink like f_temp=(temp*1.8)+32\")\n",
    "print(\"If so, do it once up front and replace temp ewith f_temp below\") \n",
    "print(\"else have to add conversion for this plus all graphs below\")\n",
    "print(\"************************************************************\")\n",
    "\n",
    "# Prepare scatter plot  \n",
    "plt.scatter(clean_city_data[\"lat\"],clean_city_data[\"temp\"])\n",
    "plt.xlabel(\"Lattitude (degrees)\")\n",
    "plt.ylabel(\"Temperature (Celsius)\")\n",
    "plt.title('Lattitude vs Temperature')\n",
    "# Save the figure\n",
    "plt.savefig(\"output_data/lat_temp.png\")\n",
    "# Display the garph\n",
    "plt.show()"
   ]
  },
  {
   "cell_type": "markdown",
   "metadata": {},
   "source": [
    "## Latitude vs. Humidity Plot"
   ]
  },
  {
   "cell_type": "code",
   "execution_count": 69,
   "metadata": {},
   "outputs": [
    {
     "data": {
      "image/png": "[encoded data removed]",
      "text/plain": [
       "<Figure size 432x288 with 1 Axes>"
      ]
     },
     "metadata": {
      "needs_background": "light"
     },
     "output_type": "display_data"
    }
   ],
   "source": [
    "# Prepare scatter plot  \n",
    "plt.scatter(clean_city_data[\"lat\"],clean_city_data[\"Humidity\"])\n",
    "plt.xlabel(\"Lattitude (degrees)\")\n",
    "plt.ylabel(\"Humidity (%)\")\n",
    "plt.title('Lattitude vs Humidity')\n",
    "# Save the figure\n",
    "plt.savefig(\"output_data/lat_hum.png\")\n",
    "# Display the garph\n",
    "plt.show()"
   ]
  },
  {
   "cell_type": "markdown",
   "metadata": {},
   "source": [
    "## Latitude vs. Cloudiness Plot"
   ]
  },
  {
   "cell_type": "code",
   "execution_count": 70,
   "metadata": {},
   "outputs": [
    {
     "data": {
      "image/png": "[encoded data removed]",
      "text/plain": [
       "<Figure size 432x288 with 1 Axes>"
      ]
     },
     "metadata": {
      "needs_background": "light"
     },
     "output_type": "display_data"
    }
   ],
   "source": [
    "# Prepare scatter plot  \n",
    "plt.scatter(clean_city_data[\"lat\"],clean_city_data[\"Cloudiness\"])\n",
    "plt.xlabel(\"Lattitude (degrees)\")\n",
    "plt.ylabel(\"Cloudiness (%)\")\n",
    "plt.title('Lattitude vs Cloudiness')\n",
    "# Save the figure\n",
    "plt.savefig(\"output_data/lat_cloud.png\")\n",
    "# Display the garph\n",
    "plt.show()"
   ]
  },
  {
   "cell_type": "markdown",
   "metadata": {},
   "source": [
    "## Latitude vs. Wind Speed Plot"
   ]
  },
  {
   "cell_type": "code",
   "execution_count": 71,
   "metadata": {},
   "outputs": [
    {
     "data": {
      "image/png": "[encoded data removed]",
      "text/plain": [
       "<Figure size 432x288 with 1 Axes>"
      ]
     },
     "metadata": {
      "needs_background": "light"
     },
     "output_type": "display_data"
    }
   ],
   "source": [
    "# Prepare scatter plot  \n",
    "plt.scatter(clean_city_data[\"lat\"],clean_city_data[\"Wind Speed\"])\n",
    "plt.xlabel(\"Lattitude (degrees)\")\n",
    "plt.ylabel(\"Wind Speed (kM)\")\n",
    "plt.title('Lattitude vs Wind Speed')\n",
    "# Save the figure\n",
    "plt.savefig(\"output_data/lat_wind.png\")\n",
    "# Display the garph\n",
    "plt.show()"
   ]
  },
  {
   "cell_type": "markdown",
   "metadata": {},
   "source": [
    "## Linear Regression"
   ]
  },
  {
   "cell_type": "code",
   "execution_count": 72,
   "metadata": {},
   "outputs": [
    {
     "name": "stdout",
     "output_type": "stream",
     "text": [
      "The correlation between both factors is -0.86\n",
      "line_eq is: y = -0.41x + 24.35\n"
     ]
    },
    {
     "data": {
      "image/png": "[encoded data removed]",
      "text/plain": [
       "<Figure size 432x288 with 1 Axes>"
      ]
     },
     "metadata": {
      "needs_background": "light"
     },
     "output_type": "display_data"
    }
   ],
   "source": [
    "# Calculate the correlation coefficient and linear regression model \n",
    "# for mouse weight and average tumor volume for the Capomulin regimen\n",
    "\n",
    "x_values = clean_city_data[\"lat\"]\n",
    "y_values = clean_city_data[\"temp\"]\n",
    "\n",
    "\n",
    "\n",
    "correlation = st.pearsonr(x_values,y_values)\n",
    "print(f\"The correlation between both factors is {round(correlation[0],2)}\")\n",
    "\n",
    "# Prepare Linear regression and scatter plot data  \n",
    "(slope, intercept, rvalue, pvalue, stderr) = linregress(x_values,y_values)\n",
    "regress_values = x_values * slope + intercept\n",
    "line_eq = \"y = \" + str(round(slope,2)) + \"x + \" + str(round(intercept,2))\n",
    "print(f\"line_eq is: {line_eq}\")\n",
    "plt.scatter(x_values,y_values)\n",
    "plt.plot(x_values,regress_values,\"r-\")\n",
    "plt.xlabel(\"Lattitude (degrees)\")\n",
    "plt.ylabel(\"Temperature (Celsius)\")\n",
    "plt.title('Lattitude vs Temperature')\n",
    "\n",
    "# Display the garph\n",
    "plt.annotate(line_eq,(6,10),fontsize=15,color=\"red\")\n",
    "plt.show()"
   ]
  },
  {
   "cell_type": "markdown",
   "metadata": {},
   "source": [
    "####  Northern Hemisphere - Max Temp vs. Latitude Linear Regression"
   ]
  },
  {
   "cell_type": "code",
   "execution_count": 81,
   "metadata": {},
   "outputs": [
    {
     "name": "stdout",
     "output_type": "stream",
     "text": [
      "clean_city_data.head(10)\n",
      "   index      city      lat       lon   temp  Humidity  Cloudiness  Wind Speed\n",
      "0      0    atuona  -9.8000 -139.0333  25.89        76          13        7.61\n",
      "1      1  katsuura  35.1333  140.3000   7.86        56          98        7.12\n",
      "2      4     kapaa  22.0752 -159.3190  23.76        73          40        3.60\n",
      "3      5     baena  37.6167   -4.3225   7.54        74           0        1.37\n",
      "4      7     tabas  33.5959   56.9244   8.50        34           0        2.39\n",
      "len(clean_city_data)\n",
      "5\n",
      "clean_city_data[\"city\"][city_counter]\n",
      "atuona\n",
      "clean_city_data[\"lat\"][city_counter]\n",
      "-9.8\n",
      "clean_city_data[\"city\"][city_counter]\n",
      "katsuura\n",
      "clean_city_data[\"lat\"][city_counter]\n",
      "35.1333\n",
      "The latitude information for city index #1 received is: [-9.8, 35.1333, -24.7911, -34.4187, 22.0752, 37.6167, 60.7161, 33.5959, -22.9661, 59.7035]\n",
      "Lattitude for city n #1 is Northen Hemisphere: 35.1333\n",
      "clean_city_data[\"city\"][city_counter]\n",
      "kapaa\n",
      "clean_city_data[\"lat\"][city_counter]\n",
      "22.0752\n",
      "The latitude information for city index #2 received is: [-9.8, 35.1333, -24.7911, -34.4187, 22.0752, 37.6167, 60.7161, 33.5959, -22.9661, 59.7035]\n",
      "Lattitude for city d #2 is Northen Hemisphere: 22.0752\n",
      "clean_city_data[\"city\"][city_counter]\n",
      "baena\n",
      "clean_city_data[\"lat\"][city_counter]\n",
      "37.6167\n",
      "The latitude information for city index #3 received is: [-9.8, 35.1333, -24.7911, -34.4187, 22.0752, 37.6167, 60.7161, 33.5959, -22.9661, 59.7035]\n",
      "Lattitude for city e #3 is Northen Hemisphere: 37.6167\n",
      "clean_city_data[\"city\"][city_counter]\n",
      "tabas\n",
      "clean_city_data[\"lat\"][city_counter]\n",
      "33.5959\n",
      "The latitude information for city index #4 received is: [-9.8, 35.1333, -24.7911, -34.4187, 22.0752, 37.6167, 60.7161, 33.5959, -22.9661, 59.7035]\n",
      "Lattitude for city x #4 is Northen Hemisphere: 33.5959\n",
      "clean_city_data.dtypes\n",
      "index           int64\n",
      "city           object\n",
      "lat           float64\n",
      "lon           float64\n",
      "temp          float64\n",
      "Humidity        int64\n",
      "Cloudiness      int64\n",
      "Wind Speed    float64\n",
      "dtype: object\n",
      "northern_hemisphere_lat\n",
      "[35.1333, 22.0752, 37.6167, 33.5959]\n",
      "\n"
     ]
    },
    {
     "ename": "TypeError",
     "evalue": "float() argument must be a string or a number, not 'list'",
     "output_type": "error",
     "traceback": [
      "\u001b[1;31m---------------------------------------------------------------------------\u001b[0m",
      "\u001b[1;31mTypeError\u001b[0m                                 Traceback (most recent call last)",
      "\u001b[1;32mC:\\Users\\BZNORT~1\\AppData\\Local\\Temp/ipykernel_13092/321397592.py\u001b[0m in \u001b[0;36m<module>\u001b[1;34m\u001b[0m\n\u001b[0;32m     56\u001b[0m \u001b[0mprint\u001b[0m\u001b[1;33m(\u001b[0m\u001b[1;33m)\u001b[0m\u001b[1;33m\u001b[0m\u001b[1;33m\u001b[0m\u001b[0m\n\u001b[0;32m     57\u001b[0m \u001b[1;33m\u001b[0m\u001b[0m\n\u001b[1;32m---> 58\u001b[1;33m \u001b[0mx_values\u001b[0m \u001b[1;33m=\u001b[0m \u001b[0mfloat\u001b[0m\u001b[1;33m(\u001b[0m\u001b[0mnorthern_hemisphere_lat\u001b[0m\u001b[1;33m)\u001b[0m\u001b[1;33m\u001b[0m\u001b[1;33m\u001b[0m\u001b[0m\n\u001b[0m\u001b[0;32m     59\u001b[0m \u001b[0my_values\u001b[0m \u001b[1;33m=\u001b[0m \u001b[0mfloat\u001b[0m\u001b[1;33m(\u001b[0m\u001b[0mnorthern_hemisphere_temp\u001b[0m\u001b[1;33m)\u001b[0m\u001b[1;33m\u001b[0m\u001b[1;33m\u001b[0m\u001b[0m\n\u001b[0;32m     60\u001b[0m \u001b[1;33m\u001b[0m\u001b[0m\n",
      "\u001b[1;31mTypeError\u001b[0m: float() argument must be a string or a number, not 'list'"
     ]
    }
   ],
   "source": [
    "# Separate the plots into Northern Hemisphere (greater than or equal to 0 degrees latitude) and \n",
    "# Southern Hemisphere (less than 0 degrees latitude)\n",
    "# After each pair of plots, take the time to explain what the linear regression is modeling. \n",
    "# For example, describe any relationships you notice and any other analysis you may have.\n",
    "\n",
    "# Set-up and initialize variables \n",
    "\n",
    "city_counter = 0\n",
    "\n",
    "northern_city_counter = 0\n",
    "northern_hemisphere_data = []\n",
    "\n",
    "northern_hemisphere_city = []\n",
    "northern_hemisphere_lat = []\n",
    "northern_hemisphere_lon = []\n",
    "northern_hemisphere_temp = []\n",
    "northern_hemisphere_humidity = []\n",
    "northern_hemisphere_clouds = []\n",
    "northern_hemisphere_wind = []\n",
    "\n",
    "\n",
    "print(\"clean_city_data.head(10)\")\n",
    "print(clean_city_data.head(10))\n",
    "print(\"len(clean_city_data)\")\n",
    "print(len(clean_city_data))\n",
    "\n",
    "\n",
    "# Seperate into Northen Hemisphere or Southern Hemisphere\n",
    "#for city in clean_city_data:\n",
    "for city_counter in range(0, len(clean_city_data)):\n",
    "    print('clean_city_data[\"city\"][city_counter]')\n",
    "    print(clean_city_data[\"city\"][city_counter])\n",
    "    print('clean_city_data[\"lat\"][city_counter]')\n",
    "    print(clean_city_data[\"lat\"][city_counter])\n",
    "    if clean_city_data[\"lat\"][city_counter] >= 0:\n",
    "        print(f\"The latitude information for city {city} #{city_counter} received is: {lat}\")\n",
    "        print(f'Lattitude for city {city[city_counter]} #{city_counter} is Northen Hemisphere: {clean_city_data[\"lat\"][city_counter]}')\n",
    "        # Create new DataFrames \n",
    "        # x_values = \n",
    "        # y_values = clean_city_data[\"temp\"]\n",
    "        northern_hemisphere_city.append(clean_city_data[\"city\"][city_counter])\n",
    "        northern_hemisphere_lat.append(clean_city_data[\"lat\"][city_counter])\n",
    "        northern_hemisphere_lon.append(clean_city_data[\"lon\"][city_counter])\n",
    "        northern_hemisphere_temp.append(clean_city_data[\"temp\"][city_counter])\n",
    "        northern_hemisphere_humidity.append(clean_city_data[\"Humidity\"][city_counter])\n",
    "        northern_hemisphere_clouds.append(clean_city_data[\"Cloudiness\"][city_counter])\n",
    "        northern_hemisphere_wind.append(clean_city_data[\"Wind Speed\"][city_counter])\n",
    "        northern_city_counter += 1\n",
    "    city_counter+=1\n",
    " \n",
    "print(\"clean_city_data.dtypes\")\n",
    "print(clean_city_data.dtypes)\n",
    "\n",
    "print(\"northern_hemisphere_lat\")\n",
    "print(northern_hemisphere_lat)\n",
    "print()\n",
    "\n",
    "x_values = float(northern_hemisphere_lat)\n",
    "y_values = float(northern_hemisphere_temp)\n",
    "\n",
    "print(\"northern_hemisphere_lat.dtypes\")\n",
    "print(northern_hemisphere_lat.dtypes)\n",
    "print()\n",
    "print(\"northern_hemisphere_temp.dtypes\")\n",
    "print(northern_hemisphere_temp.dtypes)\n",
    "print()\n",
    "\n",
    "print(\"x_values\")\n",
    "print(x_values)\n",
    "print()\n",
    "print(\"y_values\")\n",
    "print(y_values)\n",
    "print()\n",
    "\n",
    "correlation = st.pearsonr(x_values,y_values)\n",
    "print(f\"The correlation between both factors is {round(correlation[0],2)}\")\n",
    "\n",
    "# Prepare Linear regression and scatter plot data  \n",
    "(slope, intercept, rvalue, pvalue, stderr) = linregress(x_values,y_values)\n",
    "print(\"slope, intercept, rvalue, pvalue, stderr\")\n",
    "print(slope, intercept, rvalue, pvalue, stderr)\n",
    "regress_values = x_values * slope + intercept\n",
    "line_eq = \"y = \" + str(round(slope,2)) + \"x + \" + str(round(intercept,2))\n",
    "print(f\"line_eq is: {line_eq}\")\n",
    "plt.scatter(x_values,y_values)\n",
    "plt.plot(x_values,regress_values,\"r-\")\n",
    "plt.xlabel(\"Lattitude (degrees)\")\n",
    "plt.ylabel(\"Temperature (Celsius)\")\n",
    "plt.title('Lattitude vs Temperature')\n",
    "\n",
    "# Display the garph\n",
    "plt.annotate(line_eq,(6,10),fontsize=15,color=\"red\")\n",
    "plt.show()"
   ]
  },
  {
   "cell_type": "markdown",
   "metadata": {},
   "source": [
    "####  Southern Hemisphere - Max Temp vs. Latitude Linear Regression"
   ]
  },
  {
   "cell_type": "code",
   "execution_count": 66,
   "metadata": {},
   "outputs": [
    {
     "name": "stdout",
     "output_type": "stream",
     "text": [
      "Lattitude for city i #0 is Southern Hemisphere: -9.8\n",
      "southern_hemisphere_lat\n",
      "[-9.8]\n",
      "\n"
     ]
    }
   ],
   "source": [
    "\n",
    "city_counter = 0\n",
    "southern_city_counter = 0\n",
    "southern_hemisphere_city = []\n",
    "southern_hemisphere_lat = []\n",
    "southern_hemisphere_lon = []\n",
    "southern_hemisphere_temp = []\n",
    "southern_hemisphere_humidity = []\n",
    "southern_hemisphere_clouds = []\n",
    "southern_hemisphere_wind = []\n",
    "\n",
    "for city_counter in range(0, len(clean_city_data)):\n",
    "    if clean_city_data[\"lat\"][city_counter] < 0:\n",
    "        #print(f\"The latitude information for city {city} #{city_counter} received is: {lat}\")\n",
    "        print(f'Lattitude for city {city[city_counter]} #{city_counter} is Southern Hemisphere: {clean_city_data[\"lat\"][city_counter]}')\n",
    "        # Create a new DataFrame \n",
    "        southern_hemisphere_city.append(clean_city_data[\"city\"][city_counter])\n",
    "        southern_hemisphere_lat.append(clean_city_data[\"lat\"][city_counter])\n",
    "        southern_hemisphere_lon.append(clean_city_data[\"lon\"][city_counter])\n",
    "        southern_hemisphere_temp.append(clean_city_data[\"temp\"][city_counter])\n",
    "        southern_hemisphere_humidity.append(clean_city_data[\"Humidity\"][city_counter])\n",
    "        southern_hemisphere_clouds.append(clean_city_data[\"Cloudiness\"][city_counter])\n",
    "        southern_hemisphere_wind.append(clean_city_data[\"Wind Speed\"][city_counter])\n",
    "        southern_city_counter += 1\n",
    "    city_counter+=1\n",
    "print(\"southern_hemisphere_lat\")\n",
    "print(southern_hemisphere_lat)\n",
    "print()"
   ]
  },
  {
   "cell_type": "markdown",
   "metadata": {},
   "source": [
    "####  Northern Hemisphere - Humidity (%) vs. Latitude Linear Regression"
   ]
  },
  {
   "cell_type": "code",
   "execution_count": null,
   "metadata": {},
   "outputs": [],
   "source": []
  },
  {
   "cell_type": "markdown",
   "metadata": {},
   "source": [
    "####  Southern Hemisphere - Humidity (%) vs. Latitude Linear Regression"
   ]
  },
  {
   "cell_type": "code",
   "execution_count": null,
   "metadata": {},
   "outputs": [],
   "source": []
  },
  {
   "cell_type": "markdown",
   "metadata": {},
   "source": [
    "####  Northern Hemisphere - Cloudiness (%) vs. Latitude Linear Regression"
   ]
  },
  {
   "cell_type": "code",
   "execution_count": null,
   "metadata": {},
   "outputs": [],
   "source": []
  },
  {
   "cell_type": "markdown",
   "metadata": {},
   "source": [
    "####  Southern Hemisphere - Cloudiness (%) vs. Latitude Linear Regression"
   ]
  },
  {
   "cell_type": "code",
   "execution_count": null,
   "metadata": {},
   "outputs": [],
   "source": []
  },
  {
   "cell_type": "markdown",
   "metadata": {},
   "source": [
    "####  Northern Hemisphere - Wind Speed (mph) vs. Latitude Linear Regression"
   ]
  },
  {
   "cell_type": "code",
   "execution_count": null,
   "metadata": {},
   "outputs": [],
   "source": []
  },
  {
   "cell_type": "markdown",
   "metadata": {},
   "source": [
    "####  Southern Hemisphere - Wind Speed (mph) vs. Latitude Linear Regression"
   ]
  },
  {
   "cell_type": "code",
   "execution_count": null,
   "metadata": {},
   "outputs": [],
   "source": []
  },
  {
   "cell_type": "code",
   "execution_count": null,
   "metadata": {},
   "outputs": [],
   "source": []
  }
 ],
 "metadata": {
  "anaconda-cloud": {},
  "kernel_info": {
   "name": "python3"
  },
  "kernelspec": {
   "display_name": "Python 3 (ipykernel)",
   "language": "python",
   "name": "python3"
  },
  "language_info": {
   "codemirror_mode": {
    "name": "ipython",
    "version": 3
   },
   "file_extension": ".py",
   "mimetype": "text/x-python",
   "name": "python",
   "nbconvert_exporter": "python",
   "pygments_lexer": "ipython3",
   "version": "3.9.7"
  },
  "latex_envs": {
   "LaTeX_envs_menu_present": true,
   "autoclose": false,
   "autocomplete": true,
   "bibliofile": "biblio.bib",
   "cite_by": "apalike",
   "current_citInitial": 1,
   "eqLabelWithNumbers": true,
   "eqNumInitial": 1,
   "hotkeys": {
    "equation": "Ctrl-E",
    "itemize": "Ctrl-I"
   },
   "labels_anchors": false,
   "latex_user_defs": false,
   "report_style_numbering": false,
   "user_envs_cfg": false
  },
  "nteract": {
   "version": "0.12.3"
  }
 },
 "nbformat": 4,
 "nbformat_minor": 2
}
