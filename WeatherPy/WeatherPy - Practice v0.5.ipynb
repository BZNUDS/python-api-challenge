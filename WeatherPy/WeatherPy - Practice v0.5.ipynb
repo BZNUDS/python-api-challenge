{
 "cells": [
  {
   "cell_type": "markdown",
   "metadata": {},
   "source": [
    "# WeatherPy\n",
    "----\n",
    "\n",
    "#### Note\n",
    "* Instructions have been included for each segment. You do not have to follow them exactly, but they are included to help you think through the steps."
   ]
  },
  {
   "cell_type": "code",
   "execution_count": 1,
   "metadata": {
    "scrolled": true
   },
   "outputs": [],
   "source": [
    "# Dependencies and Setup\n",
    "import matplotlib.pyplot as plt\n",
    "import pandas as pd\n",
    "import numpy as np\n",
    "import scipy.stats as st\n",
    "from scipy.stats import linregress\n",
    "from sklearn import datasets\n",
    "import requests\n",
    "import time\n",
    "\n",
    "\n",
    "# Import API key\n",
    "from api_keys import weather_api_key\n",
    "\n",
    "# Incorporated citipy to determine city based on latitude and longitude\n",
    "from citipy import citipy\n",
    "\n",
    "# Output File (CSV)\n",
    "output_data_file = \"output_data/cities.csv\"\n",
    "\n",
    "# Range of latitudes and longitudes\n",
    "lat_range = (-90, 90)\n",
    "lng_range = (-180, 180)"
   ]
  },
  {
   "cell_type": "markdown",
   "metadata": {},
   "source": [
    "## Generate Cities List"
   ]
  },
  {
   "cell_type": "code",
   "execution_count": 2,
   "metadata": {},
   "outputs": [
    {
     "name": "stdout",
     "output_type": "stream",
     "text": [
      "***************************************************************************************\n",
      "Do I need to include logging in addition to wrting out the .csv???\n",
      "***************************************************************************************\n",
      "583\n",
      "['kaitangata', 'pevek', 'cape town', 'saldanha', 'aras', 'zyryanskoye', 'iqaluit', 'venado tuerto', 'batticaloa', 'atuona', 'svetlaya', 'manbij', 'biak', 'sokoto', 'arraial do cabo', 'hobart', 'makat', 'simao', 'northam', 'ushuaia', 'barrow', 'rikitea', 'zhuanghe', 'mys shmidta', 'doha', 'faya', 'vanadzor', 'qaanaaq', 'cidreira', 'muros', 'pisco', 'asosa', 'norman wells', 'mrirt', 'katsuura', 'bengkulu', 'taolanaro', 'vaini', 'narsaq', 'celestun', 'toliary', 'yuksekova', 'punta arenas', 'codrington', 'kapaa', 'sao filipe', 'quatre cocos', 'tiksi', 'saint-joseph', 'hilo', 'hermanus', 'miri', 'new norfolk', 'jamestown', 'buala', 'illoqqortoormiut', 'bredasdorp', 'tasiilaq', 'yichang', 'port augusta', 'kavieng', 'deep river', 'balaipungut', 'kodiak', 'gorin', 'port alfred', 'albany', 'vaitupu', 'dikson', 'polevskoy', 'karlskrona', 'pochutla', 'ribeira grande', 'hualmay', 'wattegama', 'asau', 'puerto ayora', 'anar darreh', 'sao felix do xingu', 'nanortalik', 'torbat-e jam', 'saint-philippe', 'vanimo', 'havoysund', 'olafsvik', 'bestobe', 'caravelas', 'rio gallegos', 'mar del plata', 'lasa', 'ios', 'christchurch', 'okhotsk', 'naze', 'aakirkeby', 'varhaug', 'belushya guba', 'yellowknife', 'jamame', 'ilulissat', 'valparaiso', 'bluff', 'nha trang', 'kansanshi', 'taoudenni', 'bonthe', 'mataura', 'beloha', 'egvekinot', 'cayenne', 'mahibadhoo', 'bugiri', 'kautokeino', 'mount gambier', 'talara', 'faribault', 'naustdal', 'mali', 'aklavik', 'jiangyou', 'ust-nera', 'chuy', 'prestea', 'constitucion', 'berdigestyakh', 'khonuu', 'urdzhar', 'dingle', 'yermakovskoye', 'liverpool', 'imeni babushkina', 'ponta do sol', 'touros', 'ibra', 'fortuna', 'busselton', 'victoria', 'upernavik', 'nizhneyansk', 'kristiansund', 'tuktoyaktuk', 'yulara', 'emmett', 'kavaratti', 'saint george', 'cabo san lucas', 'qiqihar', 'hithadhoo', 'salinopolis', 'vila franca do campo', 'praia', 'longyearbyen', 'galle', 'port blair', 'culfa', 'avarua', 'lavrentiya', 'sangar', 'richards bay', 'bireun', 'darnah', 'severo-kurilsk', 'nanaimo', 'pauini', 'sabya', 'saryshagan', 'presidente olegario', 'belyy yar', 'singapore', 'zastron', 'vestmannaeyjar', 'saleaula', 'wewak', 'klaksvik', 'mahebourg', 'jati', 'ugoofaaru', 'sarakhs', 'rupert', 'nakusp', 'amderma', 'tumannyy', 'castro', 'korla', 'isangel', 'mount isa', 'elliot lake', 'arman', 'leningradskiy', 'coos bay', 'verkhnevilyuysk', 'broken hill', 'butaritari', 'hasaki', 'aluksne', 'teya', 'kupang', 'bethel', 'aflu', 'qui nhon', 'sisimiut', 'milkovo', 'lorengau', 'san jose', 'isabela', 'namatanai', 'edd', 'diego de almagro', 'konevo', 'esperance', 'grand river south east', 'bereda', 'bonoua', 'bambous virieux', 'san patricio', 'geraldton', 'sladkovo', 'sao joao da barra', 'bokspits', 'port elizabeth', 'lagoa', 'yar-sale', 'rio grande', 'khatanga', 'faanui', 'jiazi', 'husavik', 'provideniya', 'chaozhou', 'yatou', 'saskylakh', 'margate', 'kashan', 'bose', 'port lincoln', 'puri', 'tocopilla', 'uglegorsk', 'dzilam gonzalez', 'chikola', 'zunyi', 'kalmunai', 'meulaboh', 'flinders', 'shubarshi', 'praia da vitoria', 'lebyazhye', 'bouna', 'bardiyah', 'kifri', 'asfi', 'georgetown', 'lalmohan', 'istok', 'zolotinka', 'sitka', 'ancud', 'iisalmi', 'nanakuli', 'koungou', 'parabel', 'aksarka', 'mouila', 'bilibino', 'carnarvon', 'yerbogachen', 'baturaja', 'turukhansk', 'clyde river', 'chumikan', 'ahipara', 'tombouctou', 'leh', 'kulhudhuffushi', 'vad', 'barentsburg', 'tuatapere', 'manavalakurichi', 'pandan', 'takoradi', 'nome', 'flin flon', 'torbay', 'ekimchan', 'mersing', 'hofn', 'urbana', 'avera', 'juruti', 'portland', 'mormugao', 'avila', 'samusu', 'ponta delgada', 'miraflores', 'te anau', 'east london', 'pacifica', 'louisbourg', 'amuntai', 'namibe', 'jibuti', 'luderitz', 'filingue', 'kaiyuan', 'dunedin', 'lumeje', 'velyka bahachka', 'mikhaylov', 'lebu', 'anchorage', 'attawapiskat', 'hambantota', 'norman', 'bakaly', 'cherskiy', 'tsihombe', 'kaspiyskiy', 'orangeburg', 'thompson', 'krasnyye chetai', 'tevaitoa', 'puerto escondido', 'zima', 'turkistan', 'gorontalo', 'merauke', 'otaru', 'half moon bay', 'skalistyy', 'coquimbo', 'coahuayana', 'svetlogorsk', 'tazovskiy', 'sechura', 'saint combs', 'nichinan', 'balaghat', 'sembe', 'roma', 'skjervoy', 'panzhihua', 'ambilobe', 'pandrup', 'sipovo', 'gondanglegi', 'villa vazquez', 'sydney mines', 'santa maria', 'souillac', 'katha', 'bagdarin', 'sentyabrskiy', 'palembang', 'qaqortoq', 'kabare', 'kamenka', 'chokurdakh', 'nanchong', 'upornaya', 'emba', 'barcelona', 'berlevag', 'acari', 'aktau', 'xiongzhou', 'giresun', 'jeremie', 'panshi', 'adrar', 'petropavlovsk-kamchatskiy', 'coihaique', 'mehamn', 'berck', 'naantali', 'santa rosa', 'waitara', 'dabeiba', 'beruwala', 'san juan', 'wuda', 'kodinsk', 'tomari', 'svetlyy', 'guerrero negro', 'charters towers', 'bubaque', 'lethem', 'weinan', 'jiupu', 'resistencia', 'shelburne', 'lata', 'bargal', 'kendari', 'rawson', 'joue-les-tours', 'nishihara', 'mocambique', 'bacabal', 'kiama', 'tautira', 'ouahigouya', 'kuching', 'san cristobal', 'batemans bay', 'lahaina', 'tiarei', 'padang', 'ilebo', 'burg', 'maldonado', 'galiwinku', 'jalu', 'kapoeta', 'zhigansk', 'labuhan', 'bowen', 'haibowan', 'birjand', 'shimoda', 'yelizovo', 'grand gaube', 'rungata', 'hornepayne', 'tongzi', 'rudnya', 'ascension', 'brockville', 'juventino rosas', 'mogzon', 'makakilo city', 'lolua', 'borogontsy', 'whitianga', 'caluquembe', 'nikolskoye', 'jablonec', 'kahului', 'eureka', 'raahe', 'haines junction', 'barra', 'jardim', 'raymondville', 'ornes', 'tagusao', 'broome', 'grand island', 'aleksandrov gay', 'inuvik', 'nhulunbuy', 'alice springs', 'cognac', 'tamworth', 'banda aceh', 'phanat nikhom', 'at-bashi', 'boddam', 'antofagasta', 'kanye', 'dano', 'ixtapa', 'cooma', 'portree', 'kuzhener', 'ayan', 'komsomolskiy', 'biloela', 'ampanihy', 'doos', 'the valley', 'ballina', 'ruatoria', 'vostok', 'doctor pedro p. pena', 'sao sebastiao', 'barcelos', 'mumford', 'verkh-usugli', 'southbridge', 'evensk', 'keroka', 'hirara', 'benjamin constant', 'port jervis', 'dwarka', 'ketchikan', 'sampit', 'todos santos', 'acapulco', 'coari', 'lompoc', 'loreto', 'los llanos de aridane', 'banjar', 'ramsar', 'atambua', 'saint-pierre', 'comodoro rivadavia', 'karratha', 'colac', 'korfez', 'jumla', 'zyryanovskiy', 'kuche', 'vestmanna', 'lavumisa', 'port hedland', 'marzuq', 'lanigan', 'jiaonan', 'dubbo', 'nizwa', 'dayong', 'sahbuz', 'carovigno', 'kampot', 'nakamura', 'kieta', 'port-cartier', 'waipawa', 'esso', 'lukovetskiy', 'barinitas', 'bogorodskoye', 'manica', 'caborca', 'port macquarie', 'salalah', 'chagda', 'zhezkazgan', 'tha mai', 'kruisfontein', 'prince rupert', 'palabuhanratu', 'umm lajj', 'saint-francois', 'palmer', 'airai', 'carballo', 'fort-shevchenko', 'pakwach', 'zhicheng', 'porbandar', 'baykit', 'emerald', 'nihtaur', 'kouango', 'brae', 'suhbaatar', 'bonavista', 'quang ngai', 'kambove', 'kisesa', 'muscat', 'tasbuget', 'shubarkuduk', 'kailua', 'peredovaya', 'smithers', 'galgani', 'ust-kuyga', 'riyadh', 'luanda', 'rapid city', 'kawhia', 'cap malheureux', 'bayeux', 'buin', 'talnakh', 'sabang', 'mutsamudu', 'san policarpo', 'cah ab', 'barra do garcas', 'awbari', 'griffith', 'gushikawa', 'ankpa', 'mombasa', 'ussel', 'tondano']\n",
      "*******************************************************************************************\n",
      "Temporarily reducging cities from cities to cities[0:10] so only get 10 cities intially\n",
      "before calling api.openweathermap.org since they have limits\n",
      "I believe 60 calls/minute and 1M calls/month per month)\n",
      "*******************************************************************************************\n",
      "['kaitangata', 'pevek', 'cape town', 'saldanha', 'aras', 'zyryanskoye', 'iqaluit', 'venado tuerto', 'batticaloa', 'atuona']\n"
     ]
    }
   ],
   "source": [
    "# List for holding lat_lngs and cities\n",
    "lat_lngs = []\n",
    "cities = []\n",
    "\n",
    "# Create a set of random lat and lng combinations\n",
    "lats = np.random.uniform(lat_range[0], lat_range[1], size=1500)\n",
    "lngs = np.random.uniform(lng_range[0], lng_range[1], size=1500)\n",
    "lat_lngs = zip(lats, lngs)\n",
    "\n",
    "# Identify nearest city for each lat, lng combination\n",
    "for lat_lng in lat_lngs:\n",
    "    city = citipy.nearest_city(lat_lng[0], lat_lng[1]).city_name\n",
    "    \n",
    "    # If the city is unique, then add it to a our cities list\n",
    "    if city not in cities:\n",
    "        cities.append(city)\n",
    "\n",
    "print(\"***************************************************************************************\")\n",
    "# df.head(n).to_csv('yourfileout.csv', encoding='utf-8')\n",
    "# logging.info('dataframe head - {}'.format(df.head()))\n",
    "print(\"Do I need to include logging in addition to wrting out the .csv???\")\n",
    "print(\"***************************************************************************************\")\n",
    "    \n",
    "# Print the city count to confirm sufficient count\n",
    "print(len(cities))\n",
    "print(cities)\n",
    "print(\"*******************************************************************************************\")\n",
    "print(\"Temporarily reducging cities from cities to cities[0:10] so only get 10 cities intially\")\n",
    "print(\"before calling api.openweathermap.org since they have limits\") \n",
    "print(\"I believe 60 calls/minute and 1M calls/month per month)\")\n",
    "cities = cities[0:10]\n",
    "print(\"*******************************************************************************************\")\n",
    "print(cities)"
   ]
  },
  {
   "cell_type": "markdown",
   "metadata": {},
   "source": [
    "### Perform API Calls\n",
    "* Perform a weather check on each city using a series of successive API calls.\n",
    "* Include a print log of each city as it'sbeing processed (with the city number and city name).\n"
   ]
  },
  {
   "cell_type": "code",
   "execution_count": 3,
   "metadata": {
    "scrolled": false
   },
   "outputs": [
    {
     "name": "stdout",
     "output_type": "stream",
     "text": [
      "cities\n",
      "['kaitangata', 'pevek', 'cape town', 'saldanha', 'aras', 'zyryanskoye', 'iqaluit', 'venado tuerto', 'batticaloa', 'atuona']\n",
      "The latitude information for city kaitangata #0 received is: [-46.2817]\n",
      "The longitude information for city kaitangata #0 received is: [169.8464]\n",
      "The temperature information for city kaitangata #0 received is: [14.97]\n",
      "The humidty information for city kaitangata #0 received is: [99]\n",
      "The cloudiness information for city kaitangata #0 received is: [100]\n",
      "The windiness information for city kaitangata #0 received is: [4.09]\n",
      "The latitude information for city pevek #1 received is: [-46.2817, 69.7008]\n",
      "The longitude information for city pevek #1 received is: [169.8464, 170.3133]\n",
      "The temperature information for city pevek #1 received is: [14.97, -34.67]\n",
      "The humidty information for city pevek #1 received is: [99, 100]\n",
      "The cloudiness information for city pevek #1 received is: [100, 99]\n",
      "The windiness information for city pevek #1 received is: [4.09, 1.66]\n",
      "The latitude information for city cape town #2 received is: [-46.2817, 69.7008, -33.9258]\n",
      "The longitude information for city cape town #2 received is: [169.8464, 170.3133, 18.4232]\n",
      "The temperature information for city cape town #2 received is: [14.97, -34.67, 20.71]\n",
      "The humidty information for city cape town #2 received is: [99, 100, 75]\n",
      "The cloudiness information for city cape town #2 received is: [100, 99, 20]\n",
      "The windiness information for city cape town #2 received is: [4.09, 1.66, 1.54]\n",
      "The latitude information for city saldanha #3 received is: [-46.2817, 69.7008, -33.9258, -33.0117]\n",
      "The longitude information for city saldanha #3 received is: [169.8464, 170.3133, 18.4232, 17.9442]\n",
      "The temperature information for city saldanha #3 received is: [14.97, -34.67, 20.71, 18.9]\n",
      "The humidty information for city saldanha #3 received is: [99, 100, 75, 86]\n",
      "The cloudiness information for city saldanha #3 received is: [100, 99, 20, 5]\n",
      "The windiness information for city saldanha #3 received is: [4.09, 1.66, 1.54, 2.68]\n",
      "The latitude information for city aras #4 received is: [-46.2817, 69.7008, -33.9258, -33.0117, 42.5617]\n",
      "The longitude information for city aras #4 received is: [169.8464, 170.3133, 18.4232, 17.9442, -2.356]\n",
      "The temperature information for city aras #4 received is: [14.97, -34.67, 20.71, 18.9, -1.57]\n",
      "The humidty information for city aras #4 received is: [99, 100, 75, 86, 100]\n",
      "The cloudiness information for city aras #4 received is: [100, 99, 20, 5, 0]\n",
      "The windiness information for city aras #4 received is: [4.09, 1.66, 1.54, 2.68, 0]\n",
      "The latitude information for city zyryanskoye #5 received is: [-46.2817, 69.7008, -33.9258, -33.0117, 42.5617, 56.8306]\n",
      "The longitude information for city zyryanskoye #5 received is: [169.8464, 170.3133, 18.4232, 17.9442, -2.356, 86.6258]\n",
      "The temperature information for city zyryanskoye #5 received is: [14.97, -34.67, 20.71, 18.9, -1.57, -17.12]\n",
      "The humidty information for city zyryanskoye #5 received is: [99, 100, 75, 86, 100, 83]\n",
      "The cloudiness information for city zyryanskoye #5 received is: [100, 99, 20, 5, 0, 38]\n",
      "The windiness information for city zyryanskoye #5 received is: [4.09, 1.66, 1.54, 2.68, 0, 4.52]\n",
      "The latitude information for city iqaluit #6 received is: [-46.2817, 69.7008, -33.9258, -33.0117, 42.5617, 56.8306, 63.7506]\n",
      "The longitude information for city iqaluit #6 received is: [169.8464, 170.3133, 18.4232, 17.9442, -2.356, 86.6258, -68.5145]\n",
      "The temperature information for city iqaluit #6 received is: [14.97, -34.67, 20.71, 18.9, -1.57, -17.12, -19.06]\n",
      "The humidty information for city iqaluit #6 received is: [99, 100, 75, 86, 100, 83, 84]\n",
      "The cloudiness information for city iqaluit #6 received is: [100, 99, 20, 5, 0, 38, 100]\n",
      "The windiness information for city iqaluit #6 received is: [4.09, 1.66, 1.54, 2.68, 0, 4.52, 0.96]\n",
      "The latitude information for city venado tuerto #7 received is: [-46.2817, 69.7008, -33.9258, -33.0117, 42.5617, 56.8306, 63.7506, -33.7456]\n",
      "The longitude information for city venado tuerto #7 received is: [169.8464, 170.3133, 18.4232, 17.9442, -2.356, 86.6258, -68.5145, -61.9688]\n",
      "The temperature information for city venado tuerto #7 received is: [14.97, -34.67, 20.71, 18.9, -1.57, -17.12, -19.06, 15.43]\n",
      "The humidty information for city venado tuerto #7 received is: [99, 100, 75, 86, 100, 83, 84, 56]\n",
      "The cloudiness information for city venado tuerto #7 received is: [100, 99, 20, 5, 0, 38, 100, 98]\n",
      "The windiness information for city venado tuerto #7 received is: [4.09, 1.66, 1.54, 2.68, 0, 4.52, 0.96, 3.5]\n",
      "The latitude information for city batticaloa #8 received is: [-46.2817, 69.7008, -33.9258, -33.0117, 42.5617, 56.8306, 63.7506, -33.7456, 7.7102]\n",
      "The longitude information for city batticaloa #8 received is: [169.8464, 170.3133, 18.4232, 17.9442, -2.356, 86.6258, -68.5145, -61.9688, 81.6924]\n",
      "The temperature information for city batticaloa #8 received is: [14.97, -34.67, 20.71, 18.9, -1.57, -17.12, -19.06, 15.43, 26.44]\n",
      "The humidty information for city batticaloa #8 received is: [99, 100, 75, 86, 100, 83, 84, 56, 71]\n",
      "The cloudiness information for city batticaloa #8 received is: [100, 99, 20, 5, 0, 38, 100, 98, 100]\n",
      "The windiness information for city batticaloa #8 received is: [4.09, 1.66, 1.54, 2.68, 0, 4.52, 0.96, 3.5, 5.66]\n",
      "The latitude information for city atuona #9 received is: [-46.2817, 69.7008, -33.9258, -33.0117, 42.5617, 56.8306, 63.7506, -33.7456, 7.7102, -9.8]\n",
      "The longitude information for city atuona #9 received is: [169.8464, 170.3133, 18.4232, 17.9442, -2.356, 86.6258, -68.5145, -61.9688, 81.6924, -139.0333]\n",
      "The temperature information for city atuona #9 received is: [14.97, -34.67, 20.71, 18.9, -1.57, -17.12, -19.06, 15.43, 26.44, 25.83]\n",
      "The humidty information for city atuona #9 received is: [99, 100, 75, 86, 100, 83, 84, 56, 71, 74]\n",
      "The cloudiness information for city atuona #9 received is: [100, 99, 20, 5, 0, 38, 100, 98, 100, 0]\n",
      "The windiness information for city atuona #9 received is: [4.09, 1.66, 1.54, 2.68, 0, 4.52, 0.96, 3.5, 5.66, 7.56]\n",
      "The weather API responded with: {'coord': {'lon': -139.0333, 'lat': -9.8}, 'weather': [{'id': 800, 'main': 'Clear', 'description': 'clear sky', 'icon': '01n'}], 'base': 'stations', 'main': {'temp': 298.98, 'feels_like': 299.55, 'temp_min': 298.98, 'temp_max': 298.98, 'pressure': 1015, 'humidity': 74, 'sea_level': 1015, 'grnd_level': 1007}, 'visibility': 10000, 'wind': {'speed': 7.56, 'deg': 101, 'gust': 8.11}, 'clouds': {'all': 0}, 'dt': 1644390405, 'sys': {'country': 'PF', 'sunrise': 1644333381, 'sunset': 1644378263}, 'timezone': -34200, 'id': 4020109, 'name': 'Atuona', 'cod': 200}.\n"
     ]
    }
   ],
   "source": [
    "# Save config information.\n",
    "url = \"http://api.openweathermap.org/data/2.5/weather?\"\n",
    "units = \"metric\"\n",
    "\n",
    "# Build partial query URL\n",
    "query_url = f\"{url}appid={weather_api_key}&units={units}&q=\"\n",
    "\n",
    "\n",
    "#city = \"London\"\n",
    "\n",
    "#cities = [\"Paris\", \"London\", \"Oslo\", \"Beijing\"]\n",
    "\n",
    "# set up lists to hold reponse info\n",
    "lat = []\n",
    "lon = []\n",
    "temp = []\n",
    "humidity=[]\n",
    "clouds=[]\n",
    "wind=[]\n",
    "city_counter=0\n",
    "\n",
    "print(\"cities\")\n",
    "print(cities)\n",
    "# Loop through the list of cities and perform a request for data on each\n",
    "for city in cities:\n",
    "    try:\n",
    "        response = requests.get(query_url + city).json()\n",
    "        time.sleep(0.1)\n",
    "        lat.append(response['coord']['lat'])\n",
    "        lon.append(response['coord']['lon'])\n",
    "        temp.append(response['main']['temp'])\n",
    "        humidity.append(response['main']['humidity'])\n",
    "        clouds.append(response['clouds']['all'])\n",
    "        wind.append(response['wind']['speed'])\n",
    "\n",
    "        print(f\"The latitude information for city {city} #{city_counter} received is: {lat}\")\n",
    "        print(f\"The longitude information for city {city} #{city_counter} received is: {lon}\")\n",
    "        print(f\"The temperature information for city {city} #{city_counter} received is: {temp}\")\n",
    "        print(f\"The humidty information for city {city} #{city_counter} received is: {humidity}\")\n",
    "        print(f\"The cloudiness information for city {city} #{city_counter} received is: {clouds}\")\n",
    "        print(f\"The windiness information for city {city} #{city_counter} received is: {wind}\")\n",
    "\n",
    "        city_counter+=1\n",
    "    except KeyError:\n",
    "        print(\"Oops!  That might not be a valid coord.  Try again...\")\n",
    "        \n",
    "    \n",
    "# Build query URL\n",
    "query_url = url + \"appid=\" + weather_api_key + \"&q=\" + city  \n",
    "\n",
    "# Get weather data\n",
    "weather_response = requests.get(query_url)\n",
    "weather_json = weather_response.json()\n",
    "\n",
    "# Get the temperature from the response\n",
    "print(f\"The weather API responded with: {weather_json}.\")"
   ]
  },
  {
   "cell_type": "markdown",
   "metadata": {},
   "source": [
    "### Convert Raw Data to DataFrame\n",
    "* Export the city data into a .csv.\n",
    "* Display the DataFrame"
   ]
  },
  {
   "cell_type": "code",
   "execution_count": 4,
   "metadata": {},
   "outputs": [
    {
     "name": "stdout",
     "output_type": "stream",
     "text": [
      "*******************************************************************************************\n",
      "Temporarily printing out weather_data.head() just below to see table data in this cell,\n",
      "but can remove the line below later since basically in the next cell\n",
      "*******************************************************************************************\n",
      "         city      lat       lon   temp  Humidity  Cloudiness  Wind Speed\n",
      "0  kaitangata -46.2817  169.8464  14.97        99         100        4.09\n",
      "1       pevek  69.7008  170.3133 -34.67       100          99        1.66\n",
      "2   cape town -33.9258   18.4232  20.71        75          20        1.54\n",
      "3    saldanha -33.0117   17.9442  18.90        86           5        2.68\n",
      "4        aras  42.5617   -2.3560  -1.57       100           0        0.00\n"
     ]
    }
   ],
   "source": [
    "# Output File (CSV)\n",
    "output_data_file = \"output_data/cities.csv\"\n",
    "\n",
    " # create a data frame from cities, lat, and temp\n",
    "weather_dict = {\n",
    "    \"city\": cities,\n",
    "    \"lat\": lat,\n",
    "    \"lon\": lon,\n",
    "    \"temp\": temp,\n",
    "    \"Humidity\": humidity,\n",
    "    \"Cloudiness\": clouds,\n",
    "    \"Wind Speed\":wind \n",
    "}\n",
    "weather_data = pd.DataFrame(weather_dict)\n",
    "\n",
    "print(\"*******************************************************************************************\")\n",
    "print(\"Temporarily printing out weather_data.head() just below to see table data in this cell,\")\n",
    "print(\"but can remove the line below later since basically in the next cell\")\n",
    "print(\"*******************************************************************************************\")\n",
    "print(weather_data.head())\n",
    "\n",
    "\n",
    "# Save as a csv\n",
    "# Note to avoid any issues later, use encoding=\"utf-8\"\n",
    "weather_data.to_csv(output_data_file, encoding=\"utf-8\", index=False)"
   ]
  },
  {
   "cell_type": "code",
   "execution_count": 5,
   "metadata": {},
   "outputs": [
    {
     "data": {
      "text/html": [
       "<div>\n",
       "<style scoped>\n",
       "    .dataframe tbody tr th:only-of-type {\n",
       "        vertical-align: middle;\n",
       "    }\n",
       "\n",
       "    .dataframe tbody tr th {\n",
       "        vertical-align: top;\n",
       "    }\n",
       "\n",
       "    .dataframe thead th {\n",
       "        text-align: right;\n",
       "    }\n",
       "</style>\n",
       "<table border=\"1\" class=\"dataframe\">\n",
       "  <thead>\n",
       "    <tr style=\"text-align: right;\">\n",
       "      <th></th>\n",
       "      <th>city</th>\n",
       "      <th>lat</th>\n",
       "      <th>lon</th>\n",
       "      <th>temp</th>\n",
       "      <th>Humidity</th>\n",
       "      <th>Cloudiness</th>\n",
       "      <th>Wind Speed</th>\n",
       "    </tr>\n",
       "  </thead>\n",
       "  <tbody>\n",
       "    <tr>\n",
       "      <th>0</th>\n",
       "      <td>kaitangata</td>\n",
       "      <td>-46.2817</td>\n",
       "      <td>169.8464</td>\n",
       "      <td>14.97</td>\n",
       "      <td>99</td>\n",
       "      <td>100</td>\n",
       "      <td>4.09</td>\n",
       "    </tr>\n",
       "    <tr>\n",
       "      <th>1</th>\n",
       "      <td>pevek</td>\n",
       "      <td>69.7008</td>\n",
       "      <td>170.3133</td>\n",
       "      <td>-34.67</td>\n",
       "      <td>100</td>\n",
       "      <td>99</td>\n",
       "      <td>1.66</td>\n",
       "    </tr>\n",
       "    <tr>\n",
       "      <th>2</th>\n",
       "      <td>cape town</td>\n",
       "      <td>-33.9258</td>\n",
       "      <td>18.4232</td>\n",
       "      <td>20.71</td>\n",
       "      <td>75</td>\n",
       "      <td>20</td>\n",
       "      <td>1.54</td>\n",
       "    </tr>\n",
       "    <tr>\n",
       "      <th>3</th>\n",
       "      <td>saldanha</td>\n",
       "      <td>-33.0117</td>\n",
       "      <td>17.9442</td>\n",
       "      <td>18.90</td>\n",
       "      <td>86</td>\n",
       "      <td>5</td>\n",
       "      <td>2.68</td>\n",
       "    </tr>\n",
       "    <tr>\n",
       "      <th>4</th>\n",
       "      <td>aras</td>\n",
       "      <td>42.5617</td>\n",
       "      <td>-2.3560</td>\n",
       "      <td>-1.57</td>\n",
       "      <td>100</td>\n",
       "      <td>0</td>\n",
       "      <td>0.00</td>\n",
       "    </tr>\n",
       "    <tr>\n",
       "      <th>5</th>\n",
       "      <td>zyryanskoye</td>\n",
       "      <td>56.8306</td>\n",
       "      <td>86.6258</td>\n",
       "      <td>-17.12</td>\n",
       "      <td>83</td>\n",
       "      <td>38</td>\n",
       "      <td>4.52</td>\n",
       "    </tr>\n",
       "    <tr>\n",
       "      <th>6</th>\n",
       "      <td>iqaluit</td>\n",
       "      <td>63.7506</td>\n",
       "      <td>-68.5145</td>\n",
       "      <td>-19.06</td>\n",
       "      <td>84</td>\n",
       "      <td>100</td>\n",
       "      <td>0.96</td>\n",
       "    </tr>\n",
       "    <tr>\n",
       "      <th>7</th>\n",
       "      <td>venado tuerto</td>\n",
       "      <td>-33.7456</td>\n",
       "      <td>-61.9688</td>\n",
       "      <td>15.43</td>\n",
       "      <td>56</td>\n",
       "      <td>98</td>\n",
       "      <td>3.50</td>\n",
       "    </tr>\n",
       "    <tr>\n",
       "      <th>8</th>\n",
       "      <td>batticaloa</td>\n",
       "      <td>7.7102</td>\n",
       "      <td>81.6924</td>\n",
       "      <td>26.44</td>\n",
       "      <td>71</td>\n",
       "      <td>100</td>\n",
       "      <td>5.66</td>\n",
       "    </tr>\n",
       "    <tr>\n",
       "      <th>9</th>\n",
       "      <td>atuona</td>\n",
       "      <td>-9.8000</td>\n",
       "      <td>-139.0333</td>\n",
       "      <td>25.83</td>\n",
       "      <td>74</td>\n",
       "      <td>0</td>\n",
       "      <td>7.56</td>\n",
       "    </tr>\n",
       "  </tbody>\n",
       "</table>\n",
       "</div>"
      ],
      "text/plain": [
       "            city      lat       lon   temp  Humidity  Cloudiness  Wind Speed\n",
       "0     kaitangata -46.2817  169.8464  14.97        99         100        4.09\n",
       "1          pevek  69.7008  170.3133 -34.67       100          99        1.66\n",
       "2      cape town -33.9258   18.4232  20.71        75          20        1.54\n",
       "3       saldanha -33.0117   17.9442  18.90        86           5        2.68\n",
       "4           aras  42.5617   -2.3560  -1.57       100           0        0.00\n",
       "5    zyryanskoye  56.8306   86.6258 -17.12        83          38        4.52\n",
       "6        iqaluit  63.7506  -68.5145 -19.06        84         100        0.96\n",
       "7  venado tuerto -33.7456  -61.9688  15.43        56          98        3.50\n",
       "8     batticaloa   7.7102   81.6924  26.44        71         100        5.66\n",
       "9         atuona  -9.8000 -139.0333  25.83        74           0        7.56"
      ]
     },
     "execution_count": 5,
     "metadata": {},
     "output_type": "execute_result"
    }
   ],
   "source": [
    "# Display the DataFrame\n",
    "weather_data"
   ]
  },
  {
   "cell_type": "markdown",
   "metadata": {},
   "source": [
    "## Inspect the data and remove the cities where the humidity > 100%.\n",
    "----\n",
    "Skip this step if there are no cities that have humidity > 100%. \n"
   ]
  },
  {
   "cell_type": "code",
   "execution_count": 6,
   "metadata": {},
   "outputs": [
    {
     "name": "stdout",
     "output_type": "stream",
     "text": [
      "*******************************************************************************************\n",
      "Need to change humidity[city_counter]) > 80 from 80 to 100\n",
      "*******************************************************************************************\n",
      "The humidty information for city kaitangata #0 received is: 99\n",
      "kaitangata with city_counter of 0 has humidty >80 so need to remove later\n",
      "The humidty information for city pevek #1 received is: 100\n",
      "pevek with city_counter of 1 has humidty >80 so need to remove later\n",
      "Skip since no humidity >80\n",
      "The humidty information for city saldanha #3 received is: 86\n",
      "saldanha with city_counter of 3 has humidty >80 so need to remove later\n",
      "The humidty information for city aras #4 received is: 100\n",
      "aras with city_counter of 4 has humidty >80 so need to remove later\n",
      "The humidty information for city zyryanskoye #5 received is: 83\n",
      "zyryanskoye with city_counter of 5 has humidty >80 so need to remove later\n",
      "The humidty information for city iqaluit #6 received is: 84\n",
      "iqaluit with city_counter of 6 has humidty >80 so need to remove later\n",
      "Skip since no humidity >80\n",
      "Skip since no humidity >80\n",
      "Skip since no humidity >80\n",
      "Latest cities_high_humidity\n",
      "[0, 1, 3, 4, 5, 6]\n"
     ]
    }
   ],
   "source": [
    "cities_high_humidity = []\n",
    "city_counter=0\n",
    "print(\"*******************************************************************************************\")\n",
    "print(\"Need to change humidity[city_counter]) > 80 from 80 to 100\")\n",
    "print(\"*******************************************************************************************\")\n",
    "for city in cities:\n",
    "    if int(humidity[city_counter]) > 80:\n",
    "        print(f\"The humidty information for city {city} #{city_counter} received is: {humidity[city_counter]}\")\n",
    "        # Create a new list to track high humifity index values\n",
    "        cities_high_humidity.append(city_counter)\n",
    "        print(f\"{city} with city_counter of {city_counter} has humidty >80 so need to remove later\")\n",
    "    else:\n",
    "        print(\"Skip since no humidity >80\")\n",
    "    city_counter+=1\n",
    "print(\"Latest cities_high_humidity\")\n",
    "print(cities_high_humidity)"
   ]
  },
  {
   "cell_type": "code",
   "execution_count": 7,
   "metadata": {},
   "outputs": [
    {
     "name": "stdout",
     "output_type": "stream",
     "text": [
      "Latest cities_high_humidity\n",
      "[0, 1, 3, 4, 5, 6]\n"
     ]
    }
   ],
   "source": [
    "#  Get the indices of cities that have humidity over 100%.\n",
    "print(\"Latest cities_high_humidity\")\n",
    "print(cities_high_humidity)"
   ]
  },
  {
   "cell_type": "code",
   "execution_count": 8,
   "metadata": {},
   "outputs": [
    {
     "name": "stdout",
     "output_type": "stream",
     "text": [
      "have high humidity data for city index #(s) [0, 1, 3, 4, 5, 6]\n",
      "weather_data\n",
      "            city      lat       lon   temp  Humidity  Cloudiness  Wind Speed\n",
      "0     kaitangata -46.2817  169.8464  14.97        99         100        4.09\n",
      "1          pevek  69.7008  170.3133 -34.67       100          99        1.66\n",
      "2      cape town -33.9258   18.4232  20.71        75          20        1.54\n",
      "3       saldanha -33.0117   17.9442  18.90        86           5        2.68\n",
      "4           aras  42.5617   -2.3560  -1.57       100           0        0.00\n",
      "5    zyryanskoye  56.8306   86.6258 -17.12        83          38        4.52\n",
      "6        iqaluit  63.7506  -68.5145 -19.06        84         100        0.96\n",
      "7  venado tuerto -33.7456  -61.9688  15.43        56          98        3.50\n",
      "8     batticaloa   7.7102   81.6924  26.44        71         100        5.66\n",
      "9         atuona  -9.8000 -139.0333  25.83        74           0        7.56\n",
      "\n",
      "clean_city_data\n",
      "            city      lat       lon   temp  Humidity  Cloudiness  Wind Speed\n",
      "2      cape town -33.9258   18.4232  20.71        75          20        1.54\n",
      "7  venado tuerto -33.7456  -61.9688  15.43        56          98        3.50\n",
      "8     batticaloa   7.7102   81.6924  26.44        71         100        5.66\n",
      "9         atuona  -9.8000 -139.0333  25.83        74           0        7.56\n",
      "\n",
      "clean_city_data after reset index\n",
      "   index           city      lat       lon   temp  Humidity  Cloudiness  \\\n",
      "0      2      cape town -33.9258   18.4232  20.71        75          20   \n",
      "1      7  venado tuerto -33.7456  -61.9688  15.43        56          98   \n",
      "2      8     batticaloa   7.7102   81.6924  26.44        71         100   \n",
      "3      9         atuona  -9.8000 -139.0333  25.83        74           0   \n",
      "\n",
      "   Wind Speed  \n",
      "0        1.54  \n",
      "1        3.50  \n",
      "2        5.66  \n",
      "3        7.56  \n"
     ]
    }
   ],
   "source": [
    "# Make a new DataFrame equal to the city data (aka weather_data) to drop all humidity outliers by index.\n",
    "# Passing \"inplace=False\" will make a copy of the city_data DataFrame, which we call \"clean_city_data\".\n",
    "clean_city_data=weather_data\n",
    "if len(cities_high_humidity) > 0:\n",
    "    print(f\"have high humidity data for city index #(s) {cities_high_humidity}\")\n",
    "    # dropping a row(s) from actual dataframe\n",
    "    #df.drop(['c', 'd'], inplace = True )\n",
    "    clean_city_data=clean_city_data.drop(cities_high_humidity, inplace=False) \n",
    "else:\n",
    "    print(\"No high humidity data\") \n",
    "print(\"weather_data\") \n",
    "print(weather_data)\n",
    "print()\n",
    "print(\"clean_city_data\") \n",
    "print(clean_city_data)\n",
    "print()\n",
    "\n",
    "clean_city_data.reset_index(inplace=True)\n",
    "print(\"clean_city_data after reset index\") \n",
    "print(clean_city_data)\n",
    "\n",
    "#print(\"dtypes()\")\n",
    "#print(clean_city_data.dtypes)"
   ]
  },
  {
   "cell_type": "code",
   "execution_count": null,
   "metadata": {},
   "outputs": [],
   "source": [
    "\n"
   ]
  },
  {
   "cell_type": "markdown",
   "metadata": {},
   "source": [
    "## Plotting the Data\n",
    "* Use proper labeling of the plots using plot titles (including date of analysis) and axes labels.\n",
    "* Save the plotted figures as .pngs."
   ]
  },
  {
   "cell_type": "markdown",
   "metadata": {},
   "source": [
    "## Latitude vs. Temperature Plot"
   ]
  },
  {
   "cell_type": "code",
   "execution_count": 9,
   "metadata": {
    "scrolled": true
   },
   "outputs": [
    {
     "name": "stdout",
     "output_type": "stream",
     "text": [
      "clean_city_data\n",
      "   index           city      lat       lon   temp  Humidity  Cloudiness  \\\n",
      "0      2      cape town -33.9258   18.4232  20.71        75          20   \n",
      "1      7  venado tuerto -33.7456  -61.9688  15.43        56          98   \n",
      "2      8     batticaloa   7.7102   81.6924  26.44        71         100   \n",
      "3      9         atuona  -9.8000 -139.0333  25.83        74           0   \n",
      "\n",
      "   Wind Speed  \n",
      "0        1.54  \n",
      "1        3.50  \n",
      "2        5.66  \n",
      "3        7.56  \n",
      "************************************************************\n",
      "Should I convert temp from Celsius to Fahrenheit to make it easier to understand???\n",
      "using somethink like f_temp=(temp*1.8)+32\n",
      "If so, do it once up front and replace temp ewith f_temp below\n",
      "else have to add conversion for this plus all graphs below\n",
      "************************************************************\n"
     ]
    },
    {
     "data": {
      "image/png": "[encoded data removed]",
      "text/plain": [
       "<Figure size 432x288 with 1 Axes>"
      ]
     },
     "metadata": {
      "needs_background": "light"
     },
     "output_type": "display_data"
    }
   ],
   "source": [
    "print(\"clean_city_data\") \n",
    "print(clean_city_data)\n",
    "print(\"************************************************************\")\n",
    "print(\"Should I convert temp from Celsius to Fahrenheit to make it easier to understand???\")\n",
    "print(\"using somethink like f_temp=(temp*1.8)+32\")\n",
    "print(\"If so, do it once up front and replace temp ewith f_temp below\") \n",
    "print(\"else have to add conversion for this plus all graphs below\")\n",
    "print(\"************************************************************\")\n",
    "\n",
    "# Prepare scatter plot  \n",
    "plt.scatter(clean_city_data[\"lat\"],clean_city_data[\"temp\"])\n",
    "plt.xlabel(\"Lattitude (degrees)\")\n",
    "plt.ylabel(\"Temperature (Celsius)\")\n",
    "plt.title('Lattitude vs Temperature')\n",
    "# Save the figure\n",
    "plt.savefig(\"output_data/lat_temp.png\")\n",
    "# Display the garph\n",
    "plt.show()"
   ]
  },
  {
   "cell_type": "markdown",
   "metadata": {},
   "source": [
    "## Latitude vs. Humidity Plot"
   ]
  },
  {
   "cell_type": "code",
   "execution_count": 10,
   "metadata": {},
   "outputs": [
    {
     "data": {
      "image/png": "[encoded data removed]",
      "text/plain": [
       "<Figure size 432x288 with 1 Axes>"
      ]
     },
     "metadata": {
      "needs_background": "light"
     },
     "output_type": "display_data"
    }
   ],
   "source": [
    "# Prepare scatter plot  \n",
    "plt.scatter(clean_city_data[\"lat\"],clean_city_data[\"Humidity\"])\n",
    "plt.xlabel(\"Lattitude (degrees)\")\n",
    "plt.ylabel(\"Humidity (%)\")\n",
    "plt.title('Lattitude vs Humidity')\n",
    "# Save the figure\n",
    "plt.savefig(\"output_data/lat_hum.png\")\n",
    "# Display the garph\n",
    "plt.show()"
   ]
  },
  {
   "cell_type": "markdown",
   "metadata": {},
   "source": [
    "## Latitude vs. Cloudiness Plot"
   ]
  },
  {
   "cell_type": "code",
   "execution_count": 11,
   "metadata": {},
   "outputs": [
    {
     "data": {
      "image/png": "[encoded data removed]",
      "text/plain": [
       "<Figure size 432x288 with 1 Axes>"
      ]
     },
     "metadata": {
      "needs_background": "light"
     },
     "output_type": "display_data"
    }
   ],
   "source": [
    "# Prepare scatter plot  \n",
    "plt.scatter(clean_city_data[\"lat\"],clean_city_data[\"Cloudiness\"])\n",
    "plt.xlabel(\"Lattitude (degrees)\")\n",
    "plt.ylabel(\"Cloudiness (%)\")\n",
    "plt.title('Lattitude vs Cloudiness')\n",
    "# Save the figure\n",
    "plt.savefig(\"output_data/lat_cloud.png\")\n",
    "# Display the garph\n",
    "plt.show()"
   ]
  },
  {
   "cell_type": "markdown",
   "metadata": {},
   "source": [
    "## Latitude vs. Wind Speed Plot"
   ]
  },
  {
   "cell_type": "code",
   "execution_count": 12,
   "metadata": {},
   "outputs": [
    {
     "data": {
      "image/png": "[encoded data removed]",
      "text/plain": [
       "<Figure size 432x288 with 1 Axes>"
      ]
     },
     "metadata": {
      "needs_background": "light"
     },
     "output_type": "display_data"
    }
   ],
   "source": [
    "# Prepare scatter plot  \n",
    "plt.scatter(clean_city_data[\"lat\"],clean_city_data[\"Wind Speed\"])\n",
    "plt.xlabel(\"Lattitude (degrees)\")\n",
    "plt.ylabel(\"Wind Speed (kM)\")\n",
    "plt.title('Lattitude vs Wind Speed')\n",
    "# Save the figure\n",
    "plt.savefig(\"output_data/lat_wind.png\")\n",
    "# Display the garph\n",
    "plt.show()"
   ]
  },
  {
   "cell_type": "markdown",
   "metadata": {},
   "source": [
    "## Linear Regression"
   ]
  },
  {
   "cell_type": "code",
   "execution_count": 13,
   "metadata": {},
   "outputs": [
    {
     "name": "stdout",
     "output_type": "stream",
     "text": [
      "The correlation between both factors is 0.86\n",
      "line_eq is: y = 0.22x + 25.93\n"
     ]
    },
    {
     "data": {
      "image/png": "[encoded data removed]",
      "text/plain": [
       "<Figure size 432x288 with 1 Axes>"
      ]
     },
     "metadata": {
      "needs_background": "light"
     },
     "output_type": "display_data"
    }
   ],
   "source": [
    "# Calculate the correlation coefficient and linear regression model \n",
    "# for mouse weight and average tumor volume for the Capomulin regimen\n",
    "\n",
    "x_values = clean_city_data[\"lat\"]\n",
    "y_values = clean_city_data[\"temp\"]\n",
    "\n",
    "\n",
    "\n",
    "correlation = st.pearsonr(x_values,y_values)\n",
    "print(f\"The correlation between both factors is {round(correlation[0],2)}\")\n",
    "\n",
    "# Prepare Linear regression and scatter plot data  \n",
    "(slope, intercept, rvalue, pvalue, stderr) = linregress(x_values,y_values)\n",
    "regress_values = x_values * slope + intercept\n",
    "line_eq = \"y = \" + str(round(slope,2)) + \"x + \" + str(round(intercept,2))\n",
    "print(f\"line_eq is: {line_eq}\")\n",
    "plt.scatter(x_values,y_values)\n",
    "plt.plot(x_values,regress_values,\"r-\")\n",
    "plt.xlabel(\"Lattitude (degrees)\")\n",
    "plt.ylabel(\"Temperature (Celsius)\")\n",
    "plt.title('Lattitude vs Temperature')\n",
    "\n",
    "# Display the garph\n",
    "plt.annotate(line_eq,(6,10),fontsize=15,color=\"red\")\n",
    "plt.show()"
   ]
  },
  {
   "cell_type": "markdown",
   "metadata": {},
   "source": [
    "####  Northern Hemisphere - Max Temp vs. Latitude Linear Regression"
   ]
  },
  {
   "cell_type": "code",
   "execution_count": 18,
   "metadata": {},
   "outputs": [
    {
     "name": "stdout",
     "output_type": "stream",
     "text": [
      "*****************************\n",
      "Maybe I need to create a dictionary using {} e.g. northern_hemisphere_lat = {} \n",
      "Would then need t modify my Northern and Southern for loops\n",
      "clean_city_data.head(10)\n",
      "   index           city      lat       lon   temp  Humidity  Cloudiness  \\\n",
      "0      2      cape town -33.9258   18.4232  20.71        75          20   \n",
      "1      7  venado tuerto -33.7456  -61.9688  15.43        56          98   \n",
      "2      8     batticaloa   7.7102   81.6924  26.44        71         100   \n",
      "3      9         atuona  -9.8000 -139.0333  25.83        74           0   \n",
      "\n",
      "   Wind Speed  \n",
      "0        1.54  \n",
      "1        3.50  \n",
      "2        5.66  \n",
      "3        7.56  \n",
      "len(clean_city_data)\n",
      "4\n",
      "clean_city_data[\"city\"][city_counter]\n",
      "cape town\n",
      "clean_city_data[\"lat\"][city_counter]\n",
      "-33.9258\n",
      "clean_city_data[\"city\"][city_counter]\n",
      "venado tuerto\n",
      "clean_city_data[\"lat\"][city_counter]\n",
      "-33.7456\n",
      "clean_city_data[\"city\"][city_counter]\n",
      "batticaloa\n",
      "clean_city_data[\"lat\"][city_counter]\n",
      "7.7102\n",
      "The latitude information for city atuona #2 received is: [-46.2817, 69.7008, -33.9258, -33.0117, 42.5617, 56.8306, 63.7506, -33.7456, 7.7102, -9.8]\n",
      "Lattitude for city u #2 is Northen Hemisphere: 7.7102\n",
      "clean_city_data[\"city\"][city_counter]\n",
      "atuona\n",
      "clean_city_data[\"lat\"][city_counter]\n",
      "-9.8\n",
      "clean_city_data.dtypes\n",
      "index           int64\n",
      "city           object\n",
      "lat           float64\n",
      "lon           float64\n",
      "temp          float64\n",
      "Humidity        int64\n",
      "Cloudiness      int64\n",
      "Wind Speed    float64\n",
      "dtype: object\n",
      "northern_hemisphere_lat\n",
      "[7.7102]\n",
      "\n",
      "************************************************************\n",
      "can I use something like: rating = airport_df[\"Airport Rating\"].astype(float) ???\n",
      "************************************************************\n",
      "or\n",
      "************************************************************\n",
      "can I use something like the code below and simplify???\n",
      "************************************************************\n"
     ]
    },
    {
     "ename": "AttributeError",
     "evalue": "'list' object has no attribute 'astype'",
     "output_type": "error",
     "traceback": [
      "\u001b[1;31m---------------------------------------------------------------------------\u001b[0m",
      "\u001b[1;31mAttributeError\u001b[0m                            Traceback (most recent call last)",
      "\u001b[1;32mC:\\Users\\BZNORT~1\\AppData\\Local\\Temp/ipykernel_12240/252321513.py\u001b[0m in \u001b[0;36m<module>\u001b[1;34m\u001b[0m\n\u001b[0;32m     89\u001b[0m \u001b[0mprint\u001b[0m\u001b[1;33m(\u001b[0m\u001b[1;34m\"************************************************************\"\u001b[0m\u001b[1;33m)\u001b[0m\u001b[1;33m\u001b[0m\u001b[1;33m\u001b[0m\u001b[0m\n\u001b[0;32m     90\u001b[0m \u001b[1;33m\u001b[0m\u001b[0m\n\u001b[1;32m---> 91\u001b[1;33m \u001b[0mx_values\u001b[0m \u001b[1;33m=\u001b[0m \u001b[0mnorthern_hemisphere_lat\u001b[0m\u001b[1;33m.\u001b[0m\u001b[0mastype\u001b[0m\u001b[1;33m(\u001b[0m\u001b[0mfloat\u001b[0m\u001b[1;33m)\u001b[0m\u001b[1;33m\u001b[0m\u001b[1;33m\u001b[0m\u001b[0m\n\u001b[0m\u001b[0;32m     92\u001b[0m \u001b[0my_values\u001b[0m \u001b[1;33m=\u001b[0m \u001b[0mnorthern_hemisphere_temp\u001b[0m\u001b[1;33m.\u001b[0m\u001b[0mastype\u001b[0m\u001b[1;33m(\u001b[0m\u001b[0mfloat\u001b[0m\u001b[1;33m)\u001b[0m\u001b[1;33m\u001b[0m\u001b[1;33m\u001b[0m\u001b[0m\n\u001b[0;32m     93\u001b[0m \u001b[1;33m\u001b[0m\u001b[0m\n",
      "\u001b[1;31mAttributeError\u001b[0m: 'list' object has no attribute 'astype'"
     ]
    }
   ],
   "source": [
    "# Separate the plots into Northern Hemisphere (greater than or equal to 0 degrees latitude) and \n",
    "# Southern Hemisphere (less than 0 degrees latitude)\n",
    "# After each pair of plots, take the time to explain what the linear regression is modeling. \n",
    "# For example, describe any relationships you notice and any other analysis you may have.\n",
    "\n",
    "# Set-up and initialize variables \n",
    "\n",
    "city_counter = 0\n",
    "\n",
    "northern_city_counter = 0\n",
    "northern_hemisphere_data = []\n",
    "\n",
    "northern_hemisphere_city = []\n",
    "northern_hemisphere_lat = []\n",
    "northern_hemisphere_lon = []\n",
    "northern_hemisphere_temp = []\n",
    "northern_hemisphere_humidity = []\n",
    "northern_hemisphere_clouds = []\n",
    "northern_hemisphere_wind = []\n",
    "print(\"*****************************\")\n",
    "print(\"Maybe I need to create a dictionary using {} e.g. northern_hemisphere_lat = {} \")\n",
    "print(\"Would then need t modify my Northern and Southern for loops\")\n",
    "\n",
    "print(\"clean_city_data.head(10)\")\n",
    "print(clean_city_data.head(10))\n",
    "print(\"len(clean_city_data)\")\n",
    "print(len(clean_city_data))\n",
    "\n",
    "\n",
    "# Seperate into Northen Hemisphere or Southern Hemisphere\n",
    "#for city in clean_city_data:\n",
    "for city_counter in range(0, len(clean_city_data)):\n",
    "    print('clean_city_data[\"city\"][city_counter]')\n",
    "    print(clean_city_data[\"city\"][city_counter])\n",
    "    print('clean_city_data[\"lat\"][city_counter]')\n",
    "    print(clean_city_data[\"lat\"][city_counter])\n",
    "    if clean_city_data[\"lat\"][city_counter] >= 0:\n",
    "        print(f\"The latitude information for city {city} #{city_counter} received is: {lat}\")\n",
    "        print(f'Lattitude for city {city[city_counter]} #{city_counter} is Northen Hemisphere: {clean_city_data[\"lat\"][city_counter]}')\n",
    "        # Create new DataFrames \n",
    "        # x_values = \n",
    "        # y_values = clean_city_data[\"temp\"]\n",
    "        northern_hemisphere_city.append(clean_city_data[\"city\"][city_counter])\n",
    "        northern_hemisphere_lat.append(clean_city_data[\"lat\"][city_counter])\n",
    "        northern_hemisphere_lon.append(clean_city_data[\"lon\"][city_counter])\n",
    "        northern_hemisphere_temp.append(clean_city_data[\"temp\"][city_counter])\n",
    "        northern_hemisphere_humidity.append(clean_city_data[\"Humidity\"][city_counter])\n",
    "        northern_hemisphere_clouds.append(clean_city_data[\"Cloudiness\"][city_counter])\n",
    "        northern_hemisphere_wind.append(clean_city_data[\"Wind Speed\"][city_counter])\n",
    "        northern_city_counter += 1\n",
    "    city_counter+=1\n",
    " \n",
    "print(\"clean_city_data.dtypes\")\n",
    "print(clean_city_data.dtypes)\n",
    "\n",
    "print(\"northern_hemisphere_lat\")\n",
    "print(northern_hemisphere_lat)\n",
    "print()\n",
    "print(\"************************************************************\")\n",
    "print('can I use something like: rating = airport_df[\"Airport Rating\"].astype(float) ???')\n",
    "print(\"************************************************************\")\n",
    "print('or')\n",
    "print(\"************************************************************\")\n",
    "print('can I use something like the code below and simplify???') \n",
    "    # # Make a new DataFrame equal to the city data (aka weather_data) to drop all humidity outliers by index.\n",
    "    # # Passing \"inplace=False\" will make a copy of the city_data DataFrame, which we call \"clean_city_data\".\n",
    "    # clean_city_data=weather_data\n",
    "    # if len(cities_high_humidity) > 0:\n",
    "    #     print(f\"have high humidity data for city index #(s) {cities_high_humidity}\")\n",
    "    #     # dropping a row(s) from actual dataframe\n",
    "    #     #df.drop(['c', 'd'], inplace = True )\n",
    "    #     clean_city_data=clean_city_data.drop(cities_high_humidity, inplace=False) \n",
    "    # else:\n",
    "    #     print(\"No high humidity data\") \n",
    "    # print(\"weather_data\") \n",
    "    # print(weather_data)\n",
    "    # print()\n",
    "    # print(\"clean_city_data\") \n",
    "    # print(clean_city_data)\n",
    "    # print()\n",
    "\n",
    "    # clean_city_data.reset_index(inplace=True)\n",
    "    # print(\"clean_city_data after reset index\") \n",
    "    # print(clean_city_data)\n",
    "\n",
    "    # #print(\"dtypes()\")\n",
    "    # #print(clean_city_data.dtypes)\n",
    "\n",
    "print(\"************************************************************\")\n",
    "\n",
    "x_values = northern_hemisphere_lat.astype(float) \n",
    "y_values = northern_hemisphere_temp.astype(float) \n",
    "\n",
    "print(\"northern_hemisphere_lat.dtypes\")\n",
    "print(northern_hemisphere_lat.dtypes)\n",
    "print()\n",
    "print(\"northern_hemisphere_temp.dtypes\")\n",
    "print(northern_hemisphere_temp.dtypes)\n",
    "print()\n",
    "\n",
    "print(\"x_values\")\n",
    "print(x_values)\n",
    "print()\n",
    "print(\"y_values\")\n",
    "print(y_values)\n",
    "print()\n",
    "\n",
    "correlation = st.pearsonr(x_values,y_values)\n",
    "print(f\"The correlation between both factors is {round(correlation[0],2)}\")\n",
    "\n",
    "# Prepare Linear regression and scatter plot data  \n",
    "(slope, intercept, rvalue, pvalue, stderr) = linregress(x_values,y_values)\n",
    "print(\"slope, intercept, rvalue, pvalue, stderr\")\n",
    "print(slope, intercept, rvalue, pvalue, stderr)\n",
    "regress_values = x_values * slope + intercept\n",
    "line_eq = \"y = \" + str(round(slope,2)) + \"x + \" + str(round(intercept,2))\n",
    "print(f\"line_eq is: {line_eq}\")\n",
    "plt.scatter(x_values,y_values)\n",
    "plt.plot(x_values,regress_values,\"r-\")\n",
    "plt.xlabel(\"Lattitude (degrees)\")\n",
    "plt.ylabel(\"Temperature (Celsius)\")\n",
    "plt.title('Lattitude vs Temperature')\n",
    "\n",
    "# Display the garph\n",
    "plt.annotate(line_eq,(6,10),fontsize=15,color=\"red\")\n",
    "plt.show()"
   ]
  },
  {
   "cell_type": "markdown",
   "metadata": {},
   "source": [
    "####  Southern Hemisphere - Max Temp vs. Latitude Linear Regression"
   ]
  },
  {
   "cell_type": "code",
   "execution_count": null,
   "metadata": {},
   "outputs": [],
   "source": [
    "\n",
    "city_counter = 0\n",
    "southern_city_counter = 0\n",
    "southern_hemisphere_city = []\n",
    "southern_hemisphere_lat = []\n",
    "southern_hemisphere_lon = []\n",
    "southern_hemisphere_temp = []\n",
    "southern_hemisphere_humidity = []\n",
    "southern_hemisphere_clouds = []\n",
    "southern_hemisphere_wind = []\n",
    "\n",
    "for city_counter in range(0, len(clean_city_data)):\n",
    "    if clean_city_data[\"lat\"][city_counter] < 0:\n",
    "        #print(f\"The latitude information for city {city} #{city_counter} received is: {lat}\")\n",
    "        print(f'Lattitude for city {city[city_counter]} #{city_counter} is Southern Hemisphere: {clean_city_data[\"lat\"][city_counter]}')\n",
    "        # Create a new DataFrame \n",
    "        southern_hemisphere_city.append(clean_city_data[\"city\"][city_counter])\n",
    "        southern_hemisphere_lat.append(clean_city_data[\"lat\"][city_counter])\n",
    "        southern_hemisphere_lon.append(clean_city_data[\"lon\"][city_counter])\n",
    "        southern_hemisphere_temp.append(clean_city_data[\"temp\"][city_counter])\n",
    "        southern_hemisphere_humidity.append(clean_city_data[\"Humidity\"][city_counter])\n",
    "        southern_hemisphere_clouds.append(clean_city_data[\"Cloudiness\"][city_counter])\n",
    "        southern_hemisphere_wind.append(clean_city_data[\"Wind Speed\"][city_counter])\n",
    "        southern_city_counter += 1\n",
    "    city_counter+=1\n",
    "print(\"southern_hemisphere_lat\")\n",
    "print(southern_hemisphere_lat)\n",
    "print()"
   ]
  },
  {
   "cell_type": "markdown",
   "metadata": {},
   "source": [
    "####  Northern Hemisphere - Humidity (%) vs. Latitude Linear Regression"
   ]
  },
  {
   "cell_type": "code",
   "execution_count": null,
   "metadata": {},
   "outputs": [],
   "source": []
  },
  {
   "cell_type": "markdown",
   "metadata": {},
   "source": [
    "####  Southern Hemisphere - Humidity (%) vs. Latitude Linear Regression"
   ]
  },
  {
   "cell_type": "code",
   "execution_count": null,
   "metadata": {},
   "outputs": [],
   "source": []
  },
  {
   "cell_type": "markdown",
   "metadata": {},
   "source": [
    "####  Northern Hemisphere - Cloudiness (%) vs. Latitude Linear Regression"
   ]
  },
  {
   "cell_type": "code",
   "execution_count": null,
   "metadata": {},
   "outputs": [],
   "source": []
  },
  {
   "cell_type": "markdown",
   "metadata": {},
   "source": [
    "####  Southern Hemisphere - Cloudiness (%) vs. Latitude Linear Regression"
   ]
  },
  {
   "cell_type": "code",
   "execution_count": null,
   "metadata": {},
   "outputs": [],
   "source": []
  },
  {
   "cell_type": "markdown",
   "metadata": {},
   "source": [
    "####  Northern Hemisphere - Wind Speed (mph) vs. Latitude Linear Regression"
   ]
  },
  {
   "cell_type": "code",
   "execution_count": null,
   "metadata": {},
   "outputs": [],
   "source": []
  },
  {
   "cell_type": "markdown",
   "metadata": {},
   "source": [
    "####  Southern Hemisphere - Wind Speed (mph) vs. Latitude Linear Regression"
   ]
  },
  {
   "cell_type": "code",
   "execution_count": null,
   "metadata": {},
   "outputs": [],
   "source": []
  },
  {
   "cell_type": "code",
   "execution_count": null,
   "metadata": {},
   "outputs": [],
   "source": []
  }
 ],
 "metadata": {
  "anaconda-cloud": {},
  "kernel_info": {
   "name": "python3"
  },
  "kernelspec": {
   "display_name": "Python 3 (ipykernel)",
   "language": "python",
   "name": "python3"
  },
  "language_info": {
   "codemirror_mode": {
    "name": "ipython",
    "version": 3
   },
   "file_extension": ".py",
   "mimetype": "text/x-python",
   "name": "python",
   "nbconvert_exporter": "python",
   "pygments_lexer": "ipython3",
   "version": "3.9.7"
  },
  "latex_envs": {
   "LaTeX_envs_menu_present": true,
   "autoclose": false,
   "autocomplete": true,
   "bibliofile": "biblio.bib",
   "cite_by": "apalike",
   "current_citInitial": 1,
   "eqLabelWithNumbers": true,
   "eqNumInitial": 1,
   "hotkeys": {
    "equation": "Ctrl-E",
    "itemize": "Ctrl-I"
   },
   "labels_anchors": false,
   "latex_user_defs": false,
   "report_style_numbering": false,
   "user_envs_cfg": false
  },
  "nteract": {
   "version": "0.12.3"
  }
 },
 "nbformat": 4,
 "nbformat_minor": 2
}
