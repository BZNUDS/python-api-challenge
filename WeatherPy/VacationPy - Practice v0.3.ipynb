{
 "cells": [
  {
   "cell_type": "markdown",
   "metadata": {},
   "source": [
    "# VacationPy\n",
    "----\n",
    "\n",
    "#### Note\n",
    "* Keep an eye on your API usage. Use https://developers.google.com/maps/reporting/gmp-reporting as reference for how to monitor your usage and billing.\n",
    "\n",
    "* Instructions have been included for each segment. You do not have to follow them exactly, but they are included to help you think through the steps."
   ]
  },
  {
   "cell_type": "code",
   "execution_count": 1,
   "metadata": {},
   "outputs": [],
   "source": [
    "# Dependencies and Setup\n",
    "import matplotlib.pyplot as plt\n",
    "import pandas as pd\n",
    "import numpy as np\n",
    "import requests\n",
    "import gmaps\n",
    "import os\n",
    "import time\n",
    "\n",
    "# Import API key\n",
    "from api_keys import g_key\n",
    "\n",
    "# Configure gmaps\n",
    "gmaps.configure(api_key=g_key)"
   ]
  },
  {
   "cell_type": "markdown",
   "metadata": {},
   "source": [
    "### Store Part I results into DataFrame\n",
    "* Load the csv exported in Part I to a DataFrame"
   ]
  },
  {
   "cell_type": "code",
   "execution_count": 2,
   "metadata": {},
   "outputs": [
    {
     "name": "stdout",
     "output_type": "stream",
     "text": [
      "**************************************************************************\n",
      "Reducing datafame size to 8 ([0:8] so need to remove the [0:8] at the end\n",
      "**************************************************************************\n"
     ]
    },
    {
     "data": {
      "text/html": [
       "<div>\n",
       "<style scoped>\n",
       "    .dataframe tbody tr th:only-of-type {\n",
       "        vertical-align: middle;\n",
       "    }\n",
       "\n",
       "    .dataframe tbody tr th {\n",
       "        vertical-align: top;\n",
       "    }\n",
       "\n",
       "    .dataframe thead th {\n",
       "        text-align: right;\n",
       "    }\n",
       "</style>\n",
       "<table border=\"1\" class=\"dataframe\">\n",
       "  <thead>\n",
       "    <tr style=\"text-align: right;\">\n",
       "      <th></th>\n",
       "      <th>city</th>\n",
       "      <th>lat</th>\n",
       "      <th>lon</th>\n",
       "      <th>temp</th>\n",
       "      <th>TempMax</th>\n",
       "      <th>Humidity</th>\n",
       "      <th>Cloudiness</th>\n",
       "      <th>Wind Speed</th>\n",
       "    </tr>\n",
       "  </thead>\n",
       "  <tbody>\n",
       "    <tr>\n",
       "      <th>0</th>\n",
       "      <td>avera</td>\n",
       "      <td>33.1940</td>\n",
       "      <td>-82.5271</td>\n",
       "      <td>15.49</td>\n",
       "      <td>17.08</td>\n",
       "      <td>33</td>\n",
       "      <td>0</td>\n",
       "      <td>3.17</td>\n",
       "    </tr>\n",
       "    <tr>\n",
       "      <th>1</th>\n",
       "      <td>alcaniz</td>\n",
       "      <td>41.0500</td>\n",
       "      <td>-0.1333</td>\n",
       "      <td>7.58</td>\n",
       "      <td>7.82</td>\n",
       "      <td>72</td>\n",
       "      <td>0</td>\n",
       "      <td>1.31</td>\n",
       "    </tr>\n",
       "    <tr>\n",
       "      <th>2</th>\n",
       "      <td>hamilton</td>\n",
       "      <td>39.1834</td>\n",
       "      <td>-84.5333</td>\n",
       "      <td>10.37</td>\n",
       "      <td>11.60</td>\n",
       "      <td>52</td>\n",
       "      <td>0</td>\n",
       "      <td>5.66</td>\n",
       "    </tr>\n",
       "    <tr>\n",
       "      <th>3</th>\n",
       "      <td>sechura</td>\n",
       "      <td>-5.5569</td>\n",
       "      <td>-80.8222</td>\n",
       "      <td>27.20</td>\n",
       "      <td>27.20</td>\n",
       "      <td>54</td>\n",
       "      <td>100</td>\n",
       "      <td>6.84</td>\n",
       "    </tr>\n",
       "    <tr>\n",
       "      <th>4</th>\n",
       "      <td>barrow</td>\n",
       "      <td>71.2906</td>\n",
       "      <td>-156.7887</td>\n",
       "      <td>-30.99</td>\n",
       "      <td>-30.99</td>\n",
       "      <td>69</td>\n",
       "      <td>0</td>\n",
       "      <td>6.69</td>\n",
       "    </tr>\n",
       "    <tr>\n",
       "      <th>5</th>\n",
       "      <td>tabas</td>\n",
       "      <td>33.5959</td>\n",
       "      <td>56.9244</td>\n",
       "      <td>11.54</td>\n",
       "      <td>11.54</td>\n",
       "      <td>27</td>\n",
       "      <td>2</td>\n",
       "      <td>2.81</td>\n",
       "    </tr>\n",
       "    <tr>\n",
       "      <th>6</th>\n",
       "      <td>lebu</td>\n",
       "      <td>-37.6167</td>\n",
       "      <td>-73.6500</td>\n",
       "      <td>17.53</td>\n",
       "      <td>17.53</td>\n",
       "      <td>66</td>\n",
       "      <td>0</td>\n",
       "      <td>9.78</td>\n",
       "    </tr>\n",
       "    <tr>\n",
       "      <th>7</th>\n",
       "      <td>narsaq</td>\n",
       "      <td>60.9167</td>\n",
       "      <td>-46.0500</td>\n",
       "      <td>-8.88</td>\n",
       "      <td>-8.88</td>\n",
       "      <td>73</td>\n",
       "      <td>86</td>\n",
       "      <td>4.06</td>\n",
       "    </tr>\n",
       "  </tbody>\n",
       "</table>\n",
       "</div>"
      ],
      "text/plain": [
       "       city      lat       lon   temp  TempMax  Humidity  Cloudiness  \\\n",
       "0     avera  33.1940  -82.5271  15.49    17.08        33           0   \n",
       "1   alcaniz  41.0500   -0.1333   7.58     7.82        72           0   \n",
       "2  hamilton  39.1834  -84.5333  10.37    11.60        52           0   \n",
       "3   sechura  -5.5569  -80.8222  27.20    27.20        54         100   \n",
       "4    barrow  71.2906 -156.7887 -30.99   -30.99        69           0   \n",
       "5     tabas  33.5959   56.9244  11.54    11.54        27           2   \n",
       "6      lebu -37.6167  -73.6500  17.53    17.53        66           0   \n",
       "7    narsaq  60.9167  -46.0500  -8.88    -8.88        73          86   \n",
       "\n",
       "   Wind Speed  \n",
       "0        3.17  \n",
       "1        1.31  \n",
       "2        5.66  \n",
       "3        6.84  \n",
       "4        6.69  \n",
       "5        2.81  \n",
       "6        9.78  \n",
       "7        4.06  "
      ]
     },
     "execution_count": 2,
     "metadata": {},
     "output_type": "execute_result"
    }
   ],
   "source": [
    "\n",
    "# # Save as a csv\n",
    "# # Note to avoid any issues later, use encoding=\"utf-8\"\n",
    "# weather_data.to_csv(output_data_file, encoding=\"utf-8\", index=False)\n",
    "\n",
    "# Input File (CSV)\n",
    "input_data_path = \"output_data/cities.csv\"\n",
    "\n",
    "# Read the mouse data and the study results\n",
    "vacation_df_input = pd.read_csv(input_data_path)\n",
    "\n",
    "\n",
    "# Display the data table for preview\n",
    "\n",
    "print(\"**************************************************************************\")\n",
    "print(\"Reducing datafame size to 8 ([0:8] so need to remove the [0:8] at the end\")\n",
    "vacation_df=vacation_df_input[0:8]\n",
    "print(\"**************************************************************************\")\n",
    "\n",
    "vacation_df"
   ]
  },
  {
   "cell_type": "markdown",
   "metadata": {},
   "source": [
    "### Humidity Heatmap\n",
    "* Configure gmaps.\n",
    "* Use the Lat and Lng as locations and Humidity as the weight.\n",
    "* Add Heatmap layer to map."
   ]
  },
  {
   "cell_type": "code",
   "execution_count": 3,
   "metadata": {},
   "outputs": [
    {
     "name": "stdout",
     "output_type": "stream",
     "text": [
      "locations\n",
      "       lat       lon\n",
      "0  33.1940  -82.5271\n",
      "1  41.0500   -0.1333\n",
      "2  39.1834  -84.5333\n",
      "3  -5.5569  -80.8222\n",
      "4  71.2906 -156.7887\n",
      "5  33.5959   56.9244\n",
      "6 -37.6167  -73.6500\n",
      "7  60.9167  -46.0500\n",
      "\n",
      "**************************************************************************\n",
      "Do I need to get rid of hardcoding that divides by 10 above\n",
      "humidity_weight\n",
      "0    3.3\n",
      "1    7.2\n",
      "2    5.2\n",
      "3    5.4\n",
      "4    6.9\n",
      "5    2.7\n",
      "6    6.6\n",
      "7    7.3\n",
      "Name: Humidity, dtype: float64\n",
      "\n"
     ]
    }
   ],
   "source": [
    " # Store latitude and longitude in locations\n",
    "locations = vacation_df[[\"lat\", \"lon\"]]\n",
    "print(\"locations\")\n",
    "print(locations)\n",
    "print()\n",
    "\n",
    "# Fill NaN values and convert to float\n",
    "humidity_weight = (vacation_df[\"Humidity\"].astype(float)) /10\n",
    "print(\"**************************************************************************\")\n",
    "print(\"Do I need to get rid of hardcoding that divides by 10 above\")\n",
    "\n",
    "print(\"humidity_weight\")\n",
    "print(humidity_weight)\n",
    "print()"
   ]
  },
  {
   "cell_type": "code",
   "execution_count": 4,
   "metadata": {},
   "outputs": [
    {
     "data": {
      "application/vnd.jupyter.widget-view+json": {
       "model_id": "ffa71cef68ed449cb137047bedcad944",
       "version_major": 2,
       "version_minor": 0
      },
      "text/plain": [
       "Figure(layout=FigureLayout(height='420px'))"
      ]
     },
     "metadata": {},
     "output_type": "display_data"
    }
   ],
   "source": [
    "# Plot Heatmap\n",
    "fig = gmaps.figure()\n",
    "\n",
    "# Create heat layer\n",
    "heat_layer = gmaps.heatmap_layer(locations, weights=humidity_weight, \n",
    "                                 dissipating=False, max_intensity=10,\n",
    "                                 point_radius=2)\n",
    "\n",
    "\n",
    "# Add layer\n",
    "fig.add_layer(heat_layer)\n",
    "\n",
    "# Display figure\n",
    "fig\n",
    "\n"
   ]
  },
  {
   "cell_type": "markdown",
   "metadata": {},
   "source": [
    "### Create new DataFrame fitting weather criteria\n",
    "* Narrow down the cities to fit weather conditions.\n",
    "* Drop any rows will null values."
   ]
  },
  {
   "cell_type": "code",
   "execution_count": null,
   "metadata": {},
   "outputs": [],
   "source": [
    "print(\"vacation_df')\n",
    "print(vacation_df)\n",
    "# Narrow down criteria to where my family would like to go on vacation (Hint: My wife Diane likes warmer weather:)\n",
    "\n",
    "cities_colder_weather = []\n",
    "city_counter=0\n",
    "print(\"*******************************************************************************************\")\n",
    "print(\"Need to change humidity[city_counter]) > 80 from 80 to 100\")\n",
    "print(\"*******************************************************************************************\")\n",
    "for city in cities:\n",
    "    if int(humidity[city_counter]) > 80:\n",
    "        print(f\"The humidty information for city {city} #{city_counter} received is: {humidity[city_counter]}\")\n",
    "        # Create a new list to track high humifity index values\n",
    "        cities_high_humidity.append(city_counter)\n",
    "        print(f\"{city} with city_counter of {city_counter} has humidty >80 so need to remove later\")\n",
    "    else:\n",
    "        print(\"Skip since no humidity >80\")\n",
    "    city_counter+=1\n",
    "print(\"Latest cities_high_humidity\")\n",
    "print(cities_high_humidity)\n",
    "      \n",
    "      "
   ]
  },
  {
   "cell_type": "markdown",
   "metadata": {},
   "source": [
    "### Hotel Map\n",
    "* Store into variable named `hotel_df`.\n",
    "* Add a \"Hotel Name\" column to the DataFrame.\n",
    "* Set parameters to search for hotels with 5000 meters.\n",
    "* Hit the Google Places API for each city's coordinates.\n",
    "* Store the first Hotel result into the DataFrame.\n",
    "* Plot markers on top of the heatmap."
   ]
  },
  {
   "cell_type": "code",
   "execution_count": null,
   "metadata": {},
   "outputs": [],
   "source": []
  },
  {
   "cell_type": "code",
   "execution_count": null,
   "metadata": {},
   "outputs": [],
   "source": []
  },
  {
   "cell_type": "code",
   "execution_count": null,
   "metadata": {},
   "outputs": [],
   "source": [
    "# NOTE: Do not change any of the code in this cell\n",
    "\n",
    "# Using the template add the hotel marks to the heatmap\n",
    "info_box_template = \"\"\"\n",
    "<dl>\n",
    "<dt>Name</dt><dd>{Hotel Name}</dd>\n",
    "<dt>City</dt><dd>{City}</dd>\n",
    "<dt>Country</dt><dd>{Country}</dd>\n",
    "</dl>\n",
    "\"\"\"\n",
    "# Store the DataFrame Row\n",
    "# NOTE: be sure to update with your DataFrame name\n",
    "hotel_info = [info_box_template.format(**row) for index, row in hotel_df.iterrows()]\n",
    "locations = hotel_df[[\"Lat\", \"Lng\"]]"
   ]
  },
  {
   "cell_type": "code",
   "execution_count": null,
   "metadata": {},
   "outputs": [],
   "source": [
    "# Add marker layer ontop of heat map\n",
    "\n",
    "\n",
    "# Display figure\n"
   ]
  },
  {
   "cell_type": "code",
   "execution_count": null,
   "metadata": {},
   "outputs": [],
   "source": []
  }
 ],
 "metadata": {
  "kernelspec": {
   "display_name": "Python 3 (ipykernel)",
   "language": "python",
   "name": "python3"
  },
  "language_info": {
   "codemirror_mode": {
    "name": "ipython",
    "version": 3
   },
   "file_extension": ".py",
   "mimetype": "text/x-python",
   "name": "python",
   "nbconvert_exporter": "python",
   "pygments_lexer": "ipython3",
   "version": "3.9.7"
  },
  "latex_envs": {
   "LaTeX_envs_menu_present": true,
   "autoclose": false,
   "autocomplete": true,
   "bibliofile": "biblio.bib",
   "cite_by": "apalike",
   "current_citInitial": 1,
   "eqLabelWithNumbers": true,
   "eqNumInitial": 1,
   "hotkeys": {
    "equation": "Ctrl-E",
    "itemize": "Ctrl-I"
   },
   "labels_anchors": false,
   "latex_user_defs": false,
   "report_style_numbering": false,
   "user_envs_cfg": false
  }
 },
 "nbformat": 4,
 "nbformat_minor": 4
}
