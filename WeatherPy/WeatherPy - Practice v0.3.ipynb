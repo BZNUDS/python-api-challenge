{
 "cells": [
  {
   "cell_type": "markdown",
   "metadata": {},
   "source": [
    "# WeatherPy\n",
    "----\n",
    "\n",
    "#### Note\n",
    "* Instructions have been included for each segment. You do not have to follow them exactly, but they are included to help you think through the steps."
   ]
  },
  {
   "cell_type": "code",
   "execution_count": 1,
   "metadata": {
    "scrolled": true
   },
   "outputs": [],
   "source": [
    "# Dependencies and Setup\n",
    "import matplotlib.pyplot as plt\n",
    "import pandas as pd\n",
    "import numpy as np\n",
    "import requests\n",
    "import time\n",
    "from scipy.stats import linregress\n",
    "\n",
    "# Import API key\n",
    "from api_keys import weather_api_key\n",
    "\n",
    "# Incorporated citipy to determine city based on latitude and longitude\n",
    "from citipy import citipy\n",
    "\n",
    "# Output File (CSV)\n",
    "output_data_file = \"output_data/cities.csv\"\n",
    "\n",
    "# Range of latitudes and longitudes\n",
    "lat_range = (-90, 90)\n",
    "lng_range = (-180, 180)"
   ]
  },
  {
   "cell_type": "markdown",
   "metadata": {},
   "source": [
    "## Generate Cities List"
   ]
  },
  {
   "cell_type": "code",
   "execution_count": 2,
   "metadata": {},
   "outputs": [
    {
     "name": "stdout",
     "output_type": "stream",
     "text": [
      "['cape town', 'kapaa', 'pechenga', 'sibu', 'mariental', 'vila', 'busselton', 'arraial do cabo', 'rikitea', 'cervo', 'morehead', 'attawapiskat', 'ushuaia', 'mataura', 'airai', 'bonthe', 'hermanus', 'severo-kurilsk', 'barentsburg', 'butaritari', 'ettaiyapuram', 'laguna', 'port elizabeth', 'ponta do sol', 'roald', 'tiksi', 'chattanooga', 'vaini', 'jiaonan', 'coquimbo', 'katsuura', 'iqaluit', 'lohkva', 'vaitupu', 'ancud', 'hasaki', 'celestun', 'nizhneyansk', 'nanortalik', 'chapais', 'albany', 'itarema', 'marzuq', 'cleethorpes', 'amderma', 'mys shmidta', 'carnarvon', 'lorengau', 'ruteng', 'yellowknife', 'ustupo', 'fortuna', 'agar', 'saint george', 'svetlogorsk', 'calama', 'moron', 'puerto ayora', 'north bend', 'vallenar', 'belushya guba', 'falealupo', 'margate', 'vanimo', 'pahrump', 'mercedes', 'bolungarvik', 'ahero', 'avarua', 'punta arenas', 'chokurdakh', 'ternate', 'mount isa', 'nikolskoye', 'atuona', 'beringovskiy', 'illoqqortoormiut', 'marawi', 'codrington', 'castro', 'mayo', 'tasiilaq', 'saint-philippe', 'tuktoyaktuk', 'saint-francois', 'mecca', 'bredasdorp', 'tsihombe', 'barrow', 'yangambi', 'talnakh', 'kyaikto', 'olafsvik', 'vila franca do campo', 'guaca', 'tacuarembo', 'derzhavinsk', 'garowe', 'dikson', 'alenquer', 'ulaangom', 'sohbatpur', 'hobart', 'amlimay', 'taolanaro', 'mar del plata', 'constitucion', 'mehamn', 'saldanha', 'saskylakh', 'mahibadhoo', 'santa rosa', 'longyearbyen', 'el faiyum', 'salalah', 'hilo', 'hithadhoo', 'inhambane', 'maiduguri', 'kodiak', 'kloulklubed', 'cockburn town', 'lebu', 'kualakapuas', 'emerald', 'iisalmi', 'waipawa', 'banda aceh', 'deputatskiy', 'jamestown', 'yinchuan', 'igarapava', 'morant bay', 'pittsfield', 'bluff', 'san patricio', 'marang', 'marsh harbour', 'sola', 'los llanos de aridane', 'itacare', 'upernavik', 'east london', 'utiroa', 'maumere', 'dingle', 'bambous virieux', 'alpoyeca', 'bairiki', 'chingirlau', 'hihifo', 'cabo san lucas', 'hunza', 'uruguaiana', 'awjilah', 'markova', 'verkhnyaya inta', 'diego de almagro', 'kegayli', 'lompoc', 'thompson', 'samusu', 'khatanga', 'tromso', 'shimoda', 'maceio', 'sosnovo-ozerskoye', 'umzimvubu', 'gavle', 'grand forks', 'dawson creek', 'san andres', 'pauini', 'maraa', 'camacha', 'faanui', 'imelda', 'kaitangata', 'grindavik', 'new norfolk', 'umba', 'gimbi', 'merauke', 'zhigansk', 'jumla', 'bundaberg', 'chumikan', 'saeby', 'kargil', 'sakakah', 'rocha', 'ust-kut', 'tisau', 'baruun-urt', 'umm kaddadah', 'miraflores', 'palu', 'tamahu', 'qaanaaq', 'alice springs', 'weymouth', 'iwanai', 'ngukurr', 'kudahuvadhoo', 'aksarka', 'phan rang', 'cartagena del chaira', 'vestmannaeyjar', 'touros', 'beira', 'georgetown', 'esperance', 'mahebourg', 'pemangkat', 'ribeira grande', 'marrakesh', 'kaeo', 'payakumbuh', 'lockport', 'watsa', 'puerto baquerizo moreno', 'naze', 'payo', 'port alfred', 'cruzeiro do sul', 'torbay', 'araouane', 'mbamba', 'nouadhibou', 'otradnoye', 'mali', 'cherskiy', 'stephenville', 'provideniya', 'namie', 'pontianak', 'mrirt', 'dianopolis', 'acajutla', 'coihaique', 'ilulissat', 'kandrian', 'ghanzi', 'bengkulu', 'pallasovka', 'arzgir', 'tura', 'kintampo', 'lolua', 'umm lajj', 'mafinga', 'karlovo', 'scottsburgh', 'longlac', 'kavieng', 'lidkoping', 'carutapera', 'gumdag', 'chiang klang', 'badalona', 'marcona', 'louisbourg', 'kirakira', 'ahipara', 'hatillo', 'alta floresta', 'pacific grove', 'samarai', 'seki', 'querfurt', 'christchurch', 'henties bay', 'kamenka', 'victoria', 'san jose', 'uvinza', 'shubarkuduk', 'susanville', 'ucluelet', 'nassau', 'babynino', 'te anau', 'saint-georges', 'shache', 'belaya gora', 'pochutla', 'vernon', 'pisco', 'bilibino', 'nome', 'morondava', 'vendas novas', 'kavaratti', 'ambodifototra', 'kiunga', 'mabaruma', 'madinat sittah uktubar', 'rybnoye', 'chuy', 'tessalit', 'bayburt', 'grand river south east', 'gbarnga', 'vila do maio', 'port augusta', 'luderitz', 'batagay-alyta', 'san juan', 'les cayes', 'yelkhovka', 'qinzhou', 'shingu', 'kasongo-lunda', 'zhezkazgan', 'rungata', 'kamenskoye', 'the valley', 'sitka', 'kalmunai', 'haddington', 'fairbanks', 'lavrentiya', 'larap', 'rundu', 'muhos', 'grand-lahou', 'barranca', 'oussouye', 'porto novo', 'bay saint louis', 'souillac', 'klaksvik', 'wajima', 'noumea', 'serenje', 'salamiyah', 'abnub', 'narsaq', 'susangerd', 'hervey bay', 'guatire', 'neklyudovo', 'diamantino', 'san cristobal', 'ibipeba', 'lushunkou', 'a coruna', 'ileza', 'cidreira', 'domoni', 'dudinka', 'mattru', 'sisimiut', 'pokhara', 'aykhal', 'challans', 'gamba', 'vostok', 'labuhan', 'nelson', 'miri', 'ciudad bolivar', 'lusambo', 'dakar', 'hirara', 'penzance', 'palabuhanratu', 'risor', 'harper', 'sturgis', 'menomonie', 'warqla', 'saleaula', 'liverpool', 'filadelfia', 'tubruq', 'palmas bellas', 'jiuquan', 'bloemhof', 'sao joao da barra', 'vreed en hoop', 'seymchan', 'port hardy', 'fort saint john', 'sentyabrskiy', 'mocuba', 'acapulco', 'otacilio costa', 'eirunepe', 'kano', 'turochak', 'bongor', 'pevek', 'chara', 'barry', 'peniche', 'zevenaar', 'acarau', 'mount gambier', 'brae', 'san-pedro', 'port moresby', 'ituni', 'looc', 'moose factory', 'halalo', 'auki', 'levokumskoye', 'chuncheng', 'inuvik', 'batemans bay', 'norman wells', 'atambua', 'mareeba', 'korla', 'santiago', 'ndele', 'rawson', 'amahai', 'portland', 'kajaani', 'mao', 'riberalta', 'sangar', 'bafoulabe', 'austin', 'palauig', 'aransas pass', 'jaguarari', 'sawakin', 'bandundu', 'kilindoni', 'jozefow', 'aqtobe', 'kargasok', 'nurota', 'coxcatlan', 'padang', 'kuah', 'leningradskiy', 'privolzhye', 'sabinas hidalgo', 'zolotinka', 'joaima', 'ilinskiy', 'hirna', 'cayenne', 'benton harbor', 'mogwase', 'sorland', 'catuday', 'pitimbu', 'umea', 'semporna', 'iisaku', 'yuci', 'kerouane', 'kalianget', 'sambava', 'urumqi', 'black river', 'saint-augustin', 'albert lea', 'narasannapeta', 'komsomolskiy', 'sumter', 'posse', 'indianola', 'carroll', 'iquitos', 'muborak', 'yulara', 'tabuk', 'mortka', 'mlonggo', 'vao', 'sorocaba', 'kang', 'diffa', 'horki', 'whitecourt', 'chicama', 'berlevag', 'vardo', 'tongsa', 'oktyabrskoye', 'gudari', 'hambantota', 'elizabeth city', 'jardim', 'lagoa', 'ramotswa', 'seoul', 'kokopo', 'fort-shevchenko', 'dukat', 'cabedelo', 'aklavik', 'khartoum', 'port macquarie', 'caxito', 'kumluca', 'kismayo', 'bethel', 'lishu', 'ouadda', 'namibe', 'vieste', 'waingapu', 'yumen', 'sturgeon falls', 'pucallpa', 'sangmelima', 'arman', 'san quintin', 'haines junction', 'harqalah', 'chitose', 'beyneu', 'palmer', 'zyryanka', 'kuche', 'coihueco', 'jining', 'ijaki', 'baykit', 'adrar', 'sao felix do xingu', 'lokosovo', 'pabna', 'lata', 'delta del tigre', 'boffa', 'gat', 'joshimath', 'dongsheng', 'puerto leguizamo', 'quatre cocos', 'telde', 'curup', 'forio', 'plouzane', 'kargat', 'husavik', 'boa vista', 'wad madani', 'nishihara', 'tezu', 'aswan', 'pointe-noire', 'shitanjing', 'kazalinsk', 'toora-khem', 'sampit', 'kalat', 'saryshagan', 'asau', 'harlingen', 'saint-pierre', 'ust-kalmanka', 'dejen', 'tiarei', 'koulamoutou', 'ambilobe', 'karachi', 'alotau', 'malatya', 'poum', 'general roca', 'piacabucu', 'kruisfontein', 'bubaque', 'yanan', 'xique-xique', 'nantucket', 'kropotkin', 'copiapo', 'avera', 'meulaboh', 'rapid valley', 'north myrtle beach', 'barbar', 'leh', 'springbok', 'dillon', 'okha', 'dauphin', 'erdenet', 'puri', 'bondo', 'sao felipe', 'manaure', 'caravelas', 'karabanovo', 'shar', 'cuamba', 'kroya', 'quang ngai', 'charters towers', 'marshfield', 'vanino', 'krasnoselkup', 'sukuta', 'guerrero negro', 'prince rupert', 'bargal']\n",
      "*******************************************************************************************\n",
      "Temporarily reducging cities from cities to cities[0:4] so only get 4 cities intially\n",
      "before calling api.openweathermap.org since they have limits\n",
      "I believe 60 calls/minute and 1M calls/month per month)\n",
      "*******************************************************************************************\n",
      "['cape town', 'kapaa', 'pechenga', 'sibu']\n"
     ]
    }
   ],
   "source": [
    "# List for holding lat_lngs and cities\n",
    "lat_lngs = []\n",
    "cities = []\n",
    "\n",
    "# Create a set of random lat and lng combinations\n",
    "lats = np.random.uniform(lat_range[0], lat_range[1], size=1500)\n",
    "lngs = np.random.uniform(lng_range[0], lng_range[1], size=1500)\n",
    "lat_lngs = zip(lats, lngs)\n",
    "\n",
    "# Identify nearest city for each lat, lng combination\n",
    "for lat_lng in lat_lngs:\n",
    "    city = citipy.nearest_city(lat_lng[0], lat_lng[1]).city_name\n",
    "    \n",
    "    # If the city is unique, then add it to a our cities list\n",
    "    if city not in cities:\n",
    "        cities.append(city)\n",
    "\n",
    "# Print the city count to confirm sufficient count\n",
    "len(cities)\n",
    "print(cities)\n",
    "print(\"*******************************************************************************************\")\n",
    "print(\"Temporarily reducging cities from cities to cities[0:4] so only get 4 cities intially\")\n",
    "print(\"before calling api.openweathermap.org since they have limits\") \n",
    "print(\"I believe 60 calls/minute and 1M calls/month per month)\")\n",
    "cities = cities[0:4]\n",
    "print(\"*******************************************************************************************\")\n",
    "print(cities)"
   ]
  },
  {
   "cell_type": "markdown",
   "metadata": {},
   "source": [
    "### Perform API Calls\n",
    "* Perform a weather check on each city using a series of successive API calls.\n",
    "* Include a print log of each city as it'sbeing processed (with the city number and city name).\n"
   ]
  },
  {
   "cell_type": "code",
   "execution_count": 3,
   "metadata": {
    "scrolled": false
   },
   "outputs": [
    {
     "name": "stdout",
     "output_type": "stream",
     "text": [
      "cities\n",
      "['cape town', 'kapaa', 'pechenga', 'sibu']\n",
      "The latitude information for city cape town #0 received is: [-33.9258]\n",
      "The latitude information for city cape town #0 received is: [18.4232]\n",
      "The temperature information for city cape town #0 received is: [17.64]\n",
      "The humidty information for city cape town #0 received is: [80]\n",
      "The cloudiness information for city cape town #0 received is: [20]\n",
      "The windiness information for city cape town #0 received is: [2.57]\n",
      "The latitude information for city kapaa #1 received is: [-33.9258, 22.0752]\n",
      "The latitude information for city kapaa #1 received is: [18.4232, -159.319]\n",
      "The temperature information for city kapaa #1 received is: [17.64, 25.65]\n",
      "The humidty information for city kapaa #1 received is: [80, 65]\n",
      "The cloudiness information for city kapaa #1 received is: [20, 20]\n",
      "The windiness information for city kapaa #1 received is: [2.57, 4.63]\n",
      "The latitude information for city pechenga #2 received is: [-33.9258, 22.0752, 69.5259]\n",
      "The latitude information for city pechenga #2 received is: [18.4232, -159.319, 31.1703]\n",
      "The temperature information for city pechenga #2 received is: [17.64, 25.65, -4.52]\n",
      "The humidty information for city pechenga #2 received is: [80, 65, 96]\n",
      "The cloudiness information for city pechenga #2 received is: [20, 20, 95]\n",
      "The windiness information for city pechenga #2 received is: [2.57, 4.63, 3.96]\n",
      "The latitude information for city sibu #3 received is: [-33.9258, 22.0752, 69.5259, 2.3]\n",
      "The latitude information for city sibu #3 received is: [18.4232, -159.319, 31.1703, 111.8167]\n",
      "The temperature information for city sibu #3 received is: [17.64, 25.65, -4.52, 24.17]\n",
      "The humidty information for city sibu #3 received is: [80, 65, 96, 94]\n",
      "The cloudiness information for city sibu #3 received is: [20, 20, 95, 40]\n",
      "The windiness information for city sibu #3 received is: [2.57, 4.63, 3.96, 1.54]\n",
      "The weather API responded with: {'coord': {'lon': 111.8167, 'lat': 2.3}, 'weather': [{'id': 802, 'main': 'Clouds', 'description': 'scattered clouds', 'icon': '03d'}], 'base': 'stations', 'main': {'temp': 297.32, 'feels_like': 298.25, 'temp_min': 297.32, 'temp_max': 297.32, 'pressure': 1010, 'humidity': 94}, 'visibility': 10000, 'wind': {'speed': 1.54, 'deg': 120}, 'clouds': {'all': 40}, 'dt': 1644362958, 'sys': {'type': 1, 'id': 9369, 'country': 'MY', 'sunrise': 1644360359, 'sunset': 1644403680}, 'timezone': 28800, 'id': 1735902, 'name': 'Sibu', 'cod': 200}.\n"
     ]
    }
   ],
   "source": [
    "# Save config information.\n",
    "url = \"http://api.openweathermap.org/data/2.5/weather?\"\n",
    "units = \"metric\"\n",
    "\n",
    "# Build partial query URL\n",
    "query_url = f\"{url}appid={weather_api_key}&units={units}&q=\"\n",
    "\n",
    "\n",
    "#city = \"London\"\n",
    "\n",
    "#cities = [\"Paris\", \"London\", \"Oslo\", \"Beijing\"]\n",
    "\n",
    "# set up lists to hold reponse info\n",
    "lat = []\n",
    "lon = []\n",
    "temp = []\n",
    "humidity=[]\n",
    "clouds=[]\n",
    "wind=[]\n",
    "city_counter=0\n",
    "\n",
    "print(\"cities\")\n",
    "print(cities)\n",
    "# Loop through the list of cities and perform a request for data on each\n",
    "for city in cities:\n",
    "    response = requests.get(query_url + city).json()\n",
    "    lat.append(response['coord']['lat'])\n",
    "    lon.append(response['coord']['lon'])\n",
    "    temp.append(response['main']['temp'])\n",
    "    humidity.append(response['main']['humidity'])\n",
    "    clouds.append(response['clouds']['all'])\n",
    "    wind.append(response['wind']['speed'])\n",
    "    \n",
    "    print(f\"The latitude information for city {city} #{city_counter} received is: {lat}\")\n",
    "    print(f\"The latitude information for city {city} #{city_counter} received is: {lon}\")\n",
    "    print(f\"The temperature information for city {city} #{city_counter} received is: {temp}\")\n",
    "    print(f\"The humidty information for city {city} #{city_counter} received is: {humidity}\")\n",
    "    print(f\"The cloudiness information for city {city} #{city_counter} received is: {clouds}\")\n",
    "    print(f\"The windiness information for city {city} #{city_counter} received is: {wind}\")\n",
    "\n",
    "    city_counter+=1\n",
    "    \n",
    "    \n",
    "# Build query URL\n",
    "query_url = url + \"appid=\" + weather_api_key + \"&q=\" + city  \n",
    "\n",
    "# Get weather data\n",
    "weather_response = requests.get(query_url)\n",
    "weather_json = weather_response.json()\n",
    "\n",
    "# Get the temperature from the response\n",
    "print(f\"The weather API responded with: {weather_json}.\")"
   ]
  },
  {
   "cell_type": "markdown",
   "metadata": {},
   "source": [
    "### Convert Raw Data to DataFrame\n",
    "* Export the city data into a .csv.\n",
    "* Display the DataFrame"
   ]
  },
  {
   "cell_type": "code",
   "execution_count": 4,
   "metadata": {},
   "outputs": [
    {
     "name": "stdout",
     "output_type": "stream",
     "text": [
      "*******************************************************************************************\n",
      "Temporarily printing out weather_data.head() just below to see table data in this cell,\n",
      "but can remove the line below later since basically in the next cell\n",
      "*******************************************************************************************\n",
      "        city      lat       lon   temp  Humidity  Cloudiness  Wind Speed\n",
      "0  cape town -33.9258   18.4232  17.64        80          20        2.57\n",
      "1      kapaa  22.0752 -159.3190  25.65        65          20        4.63\n",
      "2   pechenga  69.5259   31.1703  -4.52        96          95        3.96\n",
      "3       sibu   2.3000  111.8167  24.17        94          40        1.54\n"
     ]
    }
   ],
   "source": [
    "# Output File (CSV)\n",
    "output_data_file = \"output_data/cities.csv\"\n",
    "\n",
    " # create a data frame from cities, lat, and temp\n",
    "weather_dict = {\n",
    "    \"city\": cities,\n",
    "    \"lat\": lat,\n",
    "    \"lon\": lon,\n",
    "    \"temp\": temp,\n",
    "    \"Humidity\": humidity,\n",
    "    \"Cloudiness\": clouds,\n",
    "    \"Wind Speed\":wind \n",
    "}\n",
    "weather_data = pd.DataFrame(weather_dict)\n",
    "\n",
    "print(\"*******************************************************************************************\")\n",
    "print(\"Temporarily printing out weather_data.head() just below to see table data in this cell,\")\n",
    "print(\"but can remove the line below later since basically in the next cell\")\n",
    "print(\"*******************************************************************************************\")\n",
    "print(weather_data.head())\n",
    "\n",
    "\n",
    "# Save as a csv\n",
    "# Note to avoid any issues later, use encoding=\"utf-8\"\n",
    "weather_data.to_csv(output_data_file, encoding=\"utf-8\", index=False)"
   ]
  },
  {
   "cell_type": "code",
   "execution_count": 5,
   "metadata": {},
   "outputs": [
    {
     "data": {
      "text/html": [
       "<div>\n",
       "<style scoped>\n",
       "    .dataframe tbody tr th:only-of-type {\n",
       "        vertical-align: middle;\n",
       "    }\n",
       "\n",
       "    .dataframe tbody tr th {\n",
       "        vertical-align: top;\n",
       "    }\n",
       "\n",
       "    .dataframe thead th {\n",
       "        text-align: right;\n",
       "    }\n",
       "</style>\n",
       "<table border=\"1\" class=\"dataframe\">\n",
       "  <thead>\n",
       "    <tr style=\"text-align: right;\">\n",
       "      <th></th>\n",
       "      <th>city</th>\n",
       "      <th>lat</th>\n",
       "      <th>lon</th>\n",
       "      <th>temp</th>\n",
       "      <th>Humidity</th>\n",
       "      <th>Cloudiness</th>\n",
       "      <th>Wind Speed</th>\n",
       "    </tr>\n",
       "  </thead>\n",
       "  <tbody>\n",
       "    <tr>\n",
       "      <th>0</th>\n",
       "      <td>cape town</td>\n",
       "      <td>-33.9258</td>\n",
       "      <td>18.4232</td>\n",
       "      <td>17.64</td>\n",
       "      <td>80</td>\n",
       "      <td>20</td>\n",
       "      <td>2.57</td>\n",
       "    </tr>\n",
       "    <tr>\n",
       "      <th>1</th>\n",
       "      <td>kapaa</td>\n",
       "      <td>22.0752</td>\n",
       "      <td>-159.3190</td>\n",
       "      <td>25.65</td>\n",
       "      <td>65</td>\n",
       "      <td>20</td>\n",
       "      <td>4.63</td>\n",
       "    </tr>\n",
       "    <tr>\n",
       "      <th>2</th>\n",
       "      <td>pechenga</td>\n",
       "      <td>69.5259</td>\n",
       "      <td>31.1703</td>\n",
       "      <td>-4.52</td>\n",
       "      <td>96</td>\n",
       "      <td>95</td>\n",
       "      <td>3.96</td>\n",
       "    </tr>\n",
       "    <tr>\n",
       "      <th>3</th>\n",
       "      <td>sibu</td>\n",
       "      <td>2.3000</td>\n",
       "      <td>111.8167</td>\n",
       "      <td>24.17</td>\n",
       "      <td>94</td>\n",
       "      <td>40</td>\n",
       "      <td>1.54</td>\n",
       "    </tr>\n",
       "  </tbody>\n",
       "</table>\n",
       "</div>"
      ],
      "text/plain": [
       "        city      lat       lon   temp  Humidity  Cloudiness  Wind Speed\n",
       "0  cape town -33.9258   18.4232  17.64        80          20        2.57\n",
       "1      kapaa  22.0752 -159.3190  25.65        65          20        4.63\n",
       "2   pechenga  69.5259   31.1703  -4.52        96          95        3.96\n",
       "3       sibu   2.3000  111.8167  24.17        94          40        1.54"
      ]
     },
     "execution_count": 5,
     "metadata": {},
     "output_type": "execute_result"
    }
   ],
   "source": [
    "# Display the DataFrame\n",
    "weather_data"
   ]
  },
  {
   "cell_type": "markdown",
   "metadata": {},
   "source": [
    "## Inspect the data and remove the cities where the humidity > 100%.\n",
    "----\n",
    "Skip this step if there are no cities that have humidity > 100%. \n"
   ]
  },
  {
   "cell_type": "code",
   "execution_count": 6,
   "metadata": {},
   "outputs": [
    {
     "name": "stdout",
     "output_type": "stream",
     "text": [
      "Skip since no humidity >100\n",
      "Skip since no humidity >100\n",
      "Skip since no humidity >100\n",
      "Skip since no humidity >100\n",
      "Latest cities_high_humidity\n",
      "[]\n"
     ]
    }
   ],
   "source": [
    "cities_high_humidity = []\n",
    "city_counter=0\n",
    "for city in cities:\n",
    "    if int(humidity[city_counter]) > 100:\n",
    "        print(f\"The humidty information for city {city} #{city_counter} received is: {humidity[city_counter]}\")\n",
    "        # Create a new DataFrame \n",
    "        cities_high_humidity.append(city_counter)\n",
    "        print(f\"{city} with city_counter of {city_counter} has humidty >100 so need to remove later\")\n",
    "    else:\n",
    "        print(\"Skip since no humidity >100\")\n",
    "    city_counter+=1\n",
    "print(\"Latest cities_high_humidity\")\n",
    "print(cities_high_humidity)"
   ]
  },
  {
   "cell_type": "code",
   "execution_count": 7,
   "metadata": {},
   "outputs": [
    {
     "name": "stdout",
     "output_type": "stream",
     "text": [
      "Latest cities_high_humidity\n",
      "[]\n"
     ]
    }
   ],
   "source": [
    "#  Get the indices of cities that have humidity over 100%.\n",
    "print(\"Latest cities_high_humidity\")\n",
    "print(cities_high_humidity)"
   ]
  },
  {
   "cell_type": "code",
   "execution_count": 8,
   "metadata": {},
   "outputs": [
    {
     "name": "stdout",
     "output_type": "stream",
     "text": [
      "No high humidity data\n",
      "weather_data\n",
      "        city      lat       lon   temp  Humidity  Cloudiness  Wind Speed\n",
      "0  cape town -33.9258   18.4232  17.64        80          20        2.57\n",
      "1      kapaa  22.0752 -159.3190  25.65        65          20        4.63\n",
      "2   pechenga  69.5259   31.1703  -4.52        96          95        3.96\n",
      "3       sibu   2.3000  111.8167  24.17        94          40        1.54\n",
      "\n",
      "clean_city_data\n",
      "        city      lat       lon   temp  Humidity  Cloudiness  Wind Speed\n",
      "0  cape town -33.9258   18.4232  17.64        80          20        2.57\n",
      "1      kapaa  22.0752 -159.3190  25.65        65          20        4.63\n",
      "2   pechenga  69.5259   31.1703  -4.52        96          95        3.96\n",
      "3       sibu   2.3000  111.8167  24.17        94          40        1.54\n"
     ]
    }
   ],
   "source": [
    "# Make a new DataFrame equal to the city data (aka weather_data) to drop all humidity outliers by index.\n",
    "# Passing \"inplace=False\" will make a copy of the city_data DataFrame, which we call \"clean_city_data\".\n",
    "clean_city_data=weather_data\n",
    "if len(cities_high_humidity) > 0:\n",
    "    print(f\"have high humidity data for city index #(s) {cities_high_humidity}\")\n",
    "    # dropping a row(s) from actual dataframe\n",
    "    #df.drop(['c', 'd'], inplace = True )\n",
    "    clean_city_data=weather_data.drop(cities_high_humidity, inplace=False) \n",
    "else:\n",
    "    print(\"No high humidity data\") \n",
    "print(\"weather_data\") \n",
    "print(weather_data)\n",
    "print()\n",
    "print(\"clean_city_data\") \n",
    "print(clean_city_data)\n",
    "#print(\"dtypes()\")\n",
    "#print(clean_city_data.dtypes)"
   ]
  },
  {
   "cell_type": "code",
   "execution_count": null,
   "metadata": {},
   "outputs": [],
   "source": [
    "\n"
   ]
  },
  {
   "cell_type": "markdown",
   "metadata": {},
   "source": [
    "## Plotting the Data\n",
    "* Use proper labeling of the plots using plot titles (including date of analysis) and axes labels.\n",
    "* Save the plotted figures as .pngs."
   ]
  },
  {
   "cell_type": "markdown",
   "metadata": {},
   "source": [
    "## Latitude vs. Temperature Plot"
   ]
  },
  {
   "cell_type": "code",
   "execution_count": 29,
   "metadata": {
    "scrolled": true
   },
   "outputs": [
    {
     "name": "stdout",
     "output_type": "stream",
     "text": [
      "clean_city_data\n",
      "        city      lat       lon   temp  Humidity  Cloudiness  Wind Speed\n",
      "0  cape town -33.9258   18.4232  17.64        80          20        2.57\n",
      "1      kapaa  22.0752 -159.3190  25.65        65          20        4.63\n",
      "2   pechenga  69.5259   31.1703  -4.52        96          95        3.96\n",
      "3       sibu   2.3000  111.8167  24.17        94          40        1.54\n",
      "************************************************************\n",
      "Should I convert temp from Celsius to Fahrenheit to make it easier to understand???\n",
      "using somethink like f_temp=(temp*1.8)+32\n",
      "If so, do it once up front and replace temp ewith f_temp below\n",
      "else have to add conversion for this plus all graphs below\n",
      "************************************************************\n"
     ]
    },
    {
     "data": {
      "image/png": "[encoded data removed]",
      "text/plain": [
       "<Figure size 432x288 with 1 Axes>"
      ]
     },
     "metadata": {
      "needs_background": "light"
     },
     "output_type": "display_data"
    }
   ],
   "source": [
    "print(\"clean_city_data\") \n",
    "print(clean_city_data)\n",
    "print(\"************************************************************\")\n",
    "print(\"Should I convert temp from Celsius to Fahrenheit to make it easier to understand???\")\n",
    "print(\"using somethink like f_temp=(temp*1.8)+32\")\n",
    "print(\"If so, do it once up front and replace temp ewith f_temp below\") \n",
    "print(\"else have to add conversion for this plus all graphs below\")\n",
    "print(\"************************************************************\")\n",
    "\n",
    "# Prepare scatter plot  \n",
    "plt.scatter(clean_city_data[\"lat\"],clean_city_data[\"temp\"])\n",
    "plt.xlabel(\"Lattitude (degrees)\")\n",
    "plt.ylabel(\"Temperature (Celsius)\")\n",
    "plt.title('Lattitude vs Temperature')\n",
    "# Save the figure\n",
    "plt.savefig(\"output_data/lat_temp.png\")\n",
    "# Display the garph\n",
    "plt.show()"
   ]
  },
  {
   "cell_type": "markdown",
   "metadata": {},
   "source": [
    "## Latitude vs. Humidity Plot"
   ]
  },
  {
   "cell_type": "code",
   "execution_count": 30,
   "metadata": {},
   "outputs": [
    {
     "data": {
      "image/png": "[encoded data removed]",
      "text/plain": [
       "<Figure size 432x288 with 1 Axes>"
      ]
     },
     "metadata": {
      "needs_background": "light"
     },
     "output_type": "display_data"
    }
   ],
   "source": [
    "# Prepare scatter plot  \n",
    "plt.scatter(clean_city_data[\"lat\"],clean_city_data[\"Humidity\"])\n",
    "plt.xlabel(\"Lattitude (degrees)\")\n",
    "plt.ylabel(\"Humidity (%)\")\n",
    "plt.title('Lattitude vs Humidity')\n",
    "# Save the figure\n",
    "plt.savefig(\"output_data/lat_hum.png\")\n",
    "# Display the garph\n",
    "plt.show()"
   ]
  },
  {
   "cell_type": "markdown",
   "metadata": {},
   "source": [
    "## Latitude vs. Cloudiness Plot"
   ]
  },
  {
   "cell_type": "code",
   "execution_count": 31,
   "metadata": {},
   "outputs": [
    {
     "data": {
      "image/png": "[encoded data removed]",
      "text/plain": [
       "<Figure size 432x288 with 1 Axes>"
      ]
     },
     "metadata": {
      "needs_background": "light"
     },
     "output_type": "display_data"
    }
   ],
   "source": [
    "# Prepare scatter plot  \n",
    "plt.scatter(clean_city_data[\"lat\"],clean_city_data[\"Cloudiness\"])\n",
    "plt.xlabel(\"Lattitude (degrees)\")\n",
    "plt.ylabel(\"Cloudiness (%)\")\n",
    "plt.title('Lattitude vs Cloudiness')\n",
    "# Save the figure\n",
    "plt.savefig(\"output_data/lat_cloud.png\")\n",
    "# Display the garph\n",
    "plt.show()"
   ]
  },
  {
   "cell_type": "markdown",
   "metadata": {},
   "source": [
    "## Latitude vs. Wind Speed Plot"
   ]
  },
  {
   "cell_type": "code",
   "execution_count": 33,
   "metadata": {},
   "outputs": [
    {
     "data": {
      "image/png": "[encoded data removed]",
      "text/plain": [
       "<Figure size 432x288 with 1 Axes>"
      ]
     },
     "metadata": {
      "needs_background": "light"
     },
     "output_type": "display_data"
    }
   ],
   "source": [
    "# Prepare scatter plot  \n",
    "plt.scatter(clean_city_data[\"lat\"],clean_city_data[\"Wind Speed\"])\n",
    "plt.xlabel(\"Lattitude (degrees)\")\n",
    "plt.ylabel(\"Wind Speed (kM)\")\n",
    "plt.title('Lattitude vs Wind Speed')\n",
    "# Save the figure\n",
    "plt.savefig(\"output_data/lat_wind.png\")\n",
    "# Display the garph\n",
    "plt.show()"
   ]
  },
  {
   "cell_type": "markdown",
   "metadata": {},
   "source": [
    "## Linear Regression"
   ]
  },
  {
   "cell_type": "code",
   "execution_count": null,
   "metadata": {},
   "outputs": [],
   "source": [
    "# Calculate the correlation coefficient and linear regression model \n",
    "# for mouse weight and average tumor volume for the Capomulin regimen\n",
    "\n",
    "# Compute the Pearson correlation coefficient Mouse Weight and Average Tumor Volume for the Capomulin regimen\n",
    "# capomulin_data = clean_df.loc[clean_df[\"Drug Regimen\"] == \"Capomulin\"]\n",
    "# capomulin_average_tumor = capomulin_data.groupby([\"Mouse ID\"]).mean()\n",
    "capomulin_data = clean_df.loc[clean_df[\"Drug Regimen\"] == \"Capomulin\"]\n",
    "capomulin_average_tumor = capomulin_data.groupby([\"Mouse ID\"]).mean()\n",
    "# print(\"capomulin_average_tumor\")\n",
    "# print(capomulin_average_tumor)\n",
    "# print()\n",
    "\n",
    "mouse_weight = capomulin_average_tumor.iloc[:,4]\n",
    "tumor_volume = capomulin_average_tumor.iloc[:,1]\n",
    "correlation = st.pearsonr(mouse_weight,tumor_volume)\n",
    "print(f\"The correlation between both factors is {round(correlation[0],2)}\")\n",
    "\n",
    "# Followed code above from 01-Lesson-Plans/05-Matplotlib/3/Activities/08-Ins_Fits_and_Regression/Solved/regression.ipynb \n",
    "# but it didn't seem to print the line on the chart\n",
    "x_values = capomulin_average_tumor.iloc[:,4]\n",
    "y_values = capomulin_average_tumor.iloc[:,1]\n",
    "(slope, intercept, rvalue, pvalue, stderr) = linregress(x_values, y_values)\n",
    "regress_values = x_values * slope + intercept\n",
    "line_eq = \"y = \" + str(round(slope,2)) + \"x + \" + str(round(intercept,2))\n",
    "print(f\"line_eq is: {line_eq}\")\n",
    "plt.scatter(x_values,y_values)\n",
    "plt.plot(x_values,regress_values,\"r-\")\n",
    "plt.xlabel('Mouse Weight (g)')\n",
    "plt.ylabel('Average Tumor Volume (mm3)')\n",
    "plt.annotate(line_eq,(6,10),fontsize=15,color=\"red\")\n",
    "plt.show()"
   ]
  },
  {
   "cell_type": "markdown",
   "metadata": {},
   "source": [
    "####  Northern Hemisphere - Max Temp vs. Latitude Linear Regression"
   ]
  },
  {
   "cell_type": "code",
   "execution_count": null,
   "metadata": {},
   "outputs": [],
   "source": []
  },
  {
   "cell_type": "markdown",
   "metadata": {},
   "source": [
    "####  Southern Hemisphere - Max Temp vs. Latitude Linear Regression"
   ]
  },
  {
   "cell_type": "code",
   "execution_count": null,
   "metadata": {},
   "outputs": [],
   "source": []
  },
  {
   "cell_type": "markdown",
   "metadata": {},
   "source": [
    "####  Northern Hemisphere - Humidity (%) vs. Latitude Linear Regression"
   ]
  },
  {
   "cell_type": "code",
   "execution_count": null,
   "metadata": {},
   "outputs": [],
   "source": []
  },
  {
   "cell_type": "markdown",
   "metadata": {},
   "source": [
    "####  Southern Hemisphere - Humidity (%) vs. Latitude Linear Regression"
   ]
  },
  {
   "cell_type": "code",
   "execution_count": null,
   "metadata": {},
   "outputs": [],
   "source": []
  },
  {
   "cell_type": "markdown",
   "metadata": {},
   "source": [
    "####  Northern Hemisphere - Cloudiness (%) vs. Latitude Linear Regression"
   ]
  },
  {
   "cell_type": "code",
   "execution_count": null,
   "metadata": {},
   "outputs": [],
   "source": []
  },
  {
   "cell_type": "markdown",
   "metadata": {},
   "source": [
    "####  Southern Hemisphere - Cloudiness (%) vs. Latitude Linear Regression"
   ]
  },
  {
   "cell_type": "code",
   "execution_count": null,
   "metadata": {},
   "outputs": [],
   "source": []
  },
  {
   "cell_type": "markdown",
   "metadata": {},
   "source": [
    "####  Northern Hemisphere - Wind Speed (mph) vs. Latitude Linear Regression"
   ]
  },
  {
   "cell_type": "code",
   "execution_count": null,
   "metadata": {},
   "outputs": [],
   "source": []
  },
  {
   "cell_type": "markdown",
   "metadata": {},
   "source": [
    "####  Southern Hemisphere - Wind Speed (mph) vs. Latitude Linear Regression"
   ]
  },
  {
   "cell_type": "code",
   "execution_count": null,
   "metadata": {},
   "outputs": [],
   "source": []
  },
  {
   "cell_type": "code",
   "execution_count": null,
   "metadata": {},
   "outputs": [],
   "source": []
  }
 ],
 "metadata": {
  "anaconda-cloud": {},
  "kernel_info": {
   "name": "python3"
  },
  "kernelspec": {
   "display_name": "Python 3 (ipykernel)",
   "language": "python",
   "name": "python3"
  },
  "language_info": {
   "codemirror_mode": {
    "name": "ipython",
    "version": 3
   },
   "file_extension": ".py",
   "mimetype": "text/x-python",
   "name": "python",
   "nbconvert_exporter": "python",
   "pygments_lexer": "ipython3",
   "version": "3.9.7"
  },
  "latex_envs": {
   "LaTeX_envs_menu_present": true,
   "autoclose": false,
   "autocomplete": true,
   "bibliofile": "biblio.bib",
   "cite_by": "apalike",
   "current_citInitial": 1,
   "eqLabelWithNumbers": true,
   "eqNumInitial": 1,
   "hotkeys": {
    "equation": "Ctrl-E",
    "itemize": "Ctrl-I"
   },
   "labels_anchors": false,
   "latex_user_defs": false,
   "report_style_numbering": false,
   "user_envs_cfg": false
  },
  "nteract": {
   "version": "0.12.3"
  }
 },
 "nbformat": 4,
 "nbformat_minor": 2
}
