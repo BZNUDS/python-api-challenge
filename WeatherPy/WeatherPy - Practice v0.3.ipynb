{
 "cells": [
  {
   "cell_type": "markdown",
   "metadata": {},
   "source": [
    "# WeatherPy\n",
    "----\n",
    "\n",
    "#### Note\n",
    "* Instructions have been included for each segment. You do not have to follow them exactly, but they are included to help you think through the steps."
   ]
  },
  {
   "cell_type": "code",
   "execution_count": 1,
   "metadata": {
    "scrolled": true
   },
   "outputs": [],
   "source": [
    "# Dependencies and Setup\n",
    "import matplotlib.pyplot as plt\n",
    "import pandas as pd\n",
    "import numpy as np\n",
    "import requests\n",
    "import time\n",
    "from scipy.stats import linregress\n",
    "\n",
    "# Import API key\n",
    "from api_keys import weather_api_key\n",
    "\n",
    "# Incorporated citipy to determine city based on latitude and longitude\n",
    "from citipy import citipy\n",
    "\n",
    "# Output File (CSV)\n",
    "output_data_file = \"output_data/cities.csv\"\n",
    "\n",
    "# Range of latitudes and longitudes\n",
    "lat_range = (-90, 90)\n",
    "lng_range = (-180, 180)"
   ]
  },
  {
   "cell_type": "markdown",
   "metadata": {},
   "source": [
    "## Generate Cities List"
   ]
  },
  {
   "cell_type": "code",
   "execution_count": 4,
   "metadata": {},
   "outputs": [
    {
     "name": "stdout",
     "output_type": "stream",
     "text": [
      "['rikitea', 'miles city', 'karpogory', 'norman wells', 'alice springs', 'bluff', 'mayskiy', 'bambous virieux', 'barrow', 'busselton', 'saint-pierre', 'leningradskiy', 'half moon bay', 'bredasdorp', 'port alfred', 'tilichiki', 'tezu', 'coquimbo', 'dekar', 'sambava', 'mahebourg', 'muros', 'mar del plata', 'solton', 'vaini', 'barentsburg', 'iroquois falls', 'carnarvon', 'sao joao da barra', 'mataura', 'tutoia', 'tuy hoa', 'punta arenas', 'kapaa', 'ribeira grande', 'marcona', 'tsihombe', 'camopi', 'kahului', 'kalemie', 'dhidhdhoo', 'butaritari', 'gladstone', 'albany', 'faya', 'alpena', 'ilulissat', 'nikolskoye', 'beyneu', 'cardston', 'new norfolk', 'bonoua', 'jamestown', 'tautira', 'upernavik', 'lagoa', 'east london', 'bengkulu', 'victoria', 'grindavik', 'bethel', 'cape town', 'inhambane', 'castro', 'yellowknife', 'lebu', 'big rapids', 'champerico', 'maamba', 'horizontina', 'puerto del rosario', 'mogadishu', 'nome', 'kindu', 'esperance', 'puerto ayora', 'alofi', 'klaksvik', 'nelson bay', 'mnogovershinnyy', 'les cayes', 'nouadhibou', 'saskylakh', 'mokhsogollokh', 'hermanus', 'benguela', 'kungurtug', 'khatanga', 'namibe', 'paita', 'cuajinicuilapa', 'azul', 'chelyabinsk-70', 'provideniya', 'vestmanna', 'chuy', 'pasni', 'kamenskiy', 'atuona', 'ushuaia', 'kaitangata', 'illoqqortoormiut', 'attawapiskat', 'samfya', 'nizhneyansk', 'andahuaylas', 'amderma', 'fereydun kenar', 'deputatskiy', 'otane', 'katima mulilo', 'dalinghe', 'cap malheureux', 'cayenne', 'manali', 'wielun', 'wewak', 'plaster rock', 'butzow', 'surt', 'sibolga', 'thinadhoo', 'yerbogachen', 'aden', 'gazanjyk', 'saint-philippe', 'taolanaro', 'caninde', 'leh', 'hervey bay', 'riviere-du-loup', 'chimbote', 'tuktoyaktuk', 'krasnoyarsk-45', 'hobart', 'lompoc', 'thompson', 'clyde river', 'quatre cocos', 'chern', 'grand river south east', 'cam ranh', 'kodiak', 'pangody', 'wellington', 'padang', 'nipawin', 'saldanha', 'katsuura', 'broken hill', 'puerto penasco', 'mahaicony', 'hasaki', 'ugoofaaru', 'broome', 'fort nelson', 'mercedes', 'masuguru', 'severo-kurilsk', 'haimen', 'oskaloosa', 'lumeje', 'illapel', 'eureka', 'bileca', 'groningen', 'arraial do cabo', 'naifaru', 'college', 'labuhan', 'tucuman', 'penzance', 'agua dulce', 'avera', 'umzimvubu', 'ponta do sol', 'vila velha', 'avarua', 'sola', 'muzhi', 'paamiut', 'pesqueira', 'lorengau', 'khonuu', 'sorland', 'tasiilaq', 'durango', 'nerchinskiy zavod', 'korla', 'escarcega', 'ahipara', 'azogues', 'kozluk', 'buriti bravo', 'boa vista', 'bubaque', 'ratangarh', 'gijon', 'kieta', 'hambantota', 'laguna', 'georgetown', 'nizhniy kuranakh', 'ende', 'pedernales', 'isangel', 'mys shmidta', 'laurel', 'vaitupu', 'umm lajj', 'cabo san lucas', 'monchique', 'port elizabeth', 'qaanaaq', 'north platte', 'pearl', 'tazmalt', 'gaya', 'constitucion', 'verkhniy rohachyk', 'pevek', 'krasnoselkup', 'acarau', 'portland', 'portoferraio', 'carutapera', 'saleaula', 'san felipe', 'tiksi', 'ostrovnoy', 'hami', 'ratnagiri', 'coihaique', 'yar-sale', 'narsaq', 'petropavlovsk-kamchatskiy', 'jacareacanga', 'klichka', 'chichester', 'morondava', 'sitka', 'guaruja', 'hofn', 'bolshiye chapurniki', 'pozo colorado', 'ketchikan', 'litoral del san juan', 'patnanungan', 'douglas', 'gra liyia', 'hadejia', 'vestmannaeyjar', 'ngukurr', 'torrington', 'los aquijes', 'amahai', 'hay river', 'posse', 'san policarpo', 'valparaiso', 'tessalit', 'sentyabrskiy', 'meulaboh', 'itoman', 'owerri', 'rungata', 'hithadhoo', 'weihai', 'mancio lima', 'codrington', 'fortuna', 'necochea', 'ilhabela', 'ngama', 'belmonte', 'san cristobal', 'beringovskiy', 'bar-le-duc', 'sao filipe', 'aykhal', 'inuvik', 'samalaeulu', 'belousovka', 'hilo', 'katobu', 'dordrecht', 'wyszkow', 'tekeli', 'dillon', 'tenafly', 'nuuk', 'zambezi', 'vila franca do campo', 'anadyr', 'puerto narino', 'porosozero', 'svetlogorsk', 'faanui', 'awbari', 'longyearbyen', 'flin flon', 'czersk', 'sarangani', 'novouzensk', 'airai', 'edson', 'ban nahin', 'saint george', 'samarai', 'keningau', 'barmer', 'prince rupert', 'adrar', 'palora', 'kresttsy', 'hobyo', 'iqaluit', 'tromso', 'lambarene', 'srandakan', 'port blair', 'port antonio', 'cockburn town', 'thyolo', 'farah', 'naze', 'kirkwall', 'winburg', 'bolu', 'erenhot', 'te anau', 'honningsvag', 'maniitsoq', 'krasnooktyabrskiy', 'suntar', 'souillac', 'yanam', 'margate', 'harper', 'tuatapere', 'egvekinot', 'bairiki', 'hailar', 'torbay', 'ongandjera', 'churapcha', 'truth or consequences', 'nacala', 'lamar', 'quang ngai', 'biak', 'hvolsvollur', 'poltavka', 'macaboboni', 'couvin', 'lhokseumawe', 'flinders', 'baykit', 'mosquera', 'bandarbeyla', 'manokwari', 'maturin', 'sorong', 'solnechnyy', 'tabialan', 'matadi', 'nguruka', 'mocambique', 'kingisepp', 'havelock', 'zhezkazgan', 'warri', 'santa', 'tsurib', 'tabaquite', 'cotui', 'coleraine', 'katsina', 'high level', 'vostok', 'beisfjord', 'haibowan', 'saint-augustin', 'namatanai', 'tailai', 'jalu', 'halifax', 'finschhafen', 'crotone', 'poum', 'chhukha', 'buraydah', 'lavrentiya', 'palabuhanratu', 'antalaha', 'mayo', 'birao', 'ulladulla', 'ostersund', 'dikson', 'araouane', 'rutland', 'guiratinga', 'pathein', 'itaqui', 'burica', 'vagur', 'ballstad', 'lolua', 'alipur', 'altay', 'oistins', 'walvis bay', 'darlawn', 'antofagasta', 'phan rang', 'touros', 'matay', 'geraldton', 'wanaka', 'pundaguitan', 'kozhva', 'nabire', 'vanimo', 'tiznit', 'caravelas', 'kajaani', 'olinda', 'tawau', 'morehead', 'gambela', 'alta floresta', 'lithakia', 'novobiryusinskiy', 'galle', 'nanortalik', 'praia da vitoria', 'katangli', 'ancud', 'mabalacat', 'lujan', 'doctor pedro p. pena', 'viedma', 'lafayette', 'camana', 'pisco', 'dingle', 'carauari', 'show low', 'salalah', 'port hardy', 'dzhusaly', 'golden', 'ha tinh', 'luderitz', 'sao pedro da aldeia', 'gubkinskiy', 'bonfim', 'huarmey', 'cidreira', 'la mira', 'luena', 'sokolovo', 'iskateley', 'stralsund', 'natal', 'skjervoy', 'pilar', 'sundargarh', 'wanning', 'olafsvik', 'assela', 'iwaki', 'nishihara', 'zyryanka', 'coahuayana', 'acapulco', 'goderich', 'dongsheng', 'san julian', 'chokurdakh', 'henties bay', 'hit', 'samusu', 'ayan', 'richards bay', 'ruteng', 'mecca', 'panzhihua', 'issa', 'sinjah', 'gorontalo', 'ozgon', 'launceston', 'hirara', 'xadani', 'vanavara', 'vardo', 'jining', 'tabiauea', 'upata', 'omboue', 'port keats', 'ystad', 'srednekolymsk', 'guerrero negro', 'port lincoln', 'pemangkat', 'andros town', 'sao paulo de olivenca', 'belushya guba', 'plouzane', 'bilibino', 'staryy nadym', 'yenagoa', 'lufilufi', 'langham', 'kumluca', 'chontalpa', 'nizwa', 'camapua', 'genhe', 'ondorhaan', 'altamont', 'yeppoon', 'khryashchevka', 'kavieng', 'horqueta', 'candolim', 'cumaribo', 'razvilnoye', 'neiafu', 'ilkal', 'beloha', 'changji', 'nantucket', 'sawtell', 'rameswaram', 'madimba', 'korogwe', 'trairi', 'jackson', 'maraba', 'tsumeb', 'san francisco', 'belyy yar', 'kazalinsk', 'kangaba', 'tucurui', 'batticaloa', 'satitoa', 'zverinogolovskoye', 'yeniseysk', 'kedrovyy', 'sinegorye', 'stabat', 'middelburg', 'talnakh', 'ciudad bolivar', 'cheuskiny', 'auki', 'galveston', 'aklavik', 'clinton', 'malakal', 'povenets', 'chapais', 'kavaratti', 'port macquarie', 'port-gentil', 'muli', 'tambo grande', 'kamina', 'buta', 'pak phanang', 'kyra', 'kununurra', 'darhan', 'khandbari', 'poya', 'zhigansk', 'kargasok', 'okhotsk', 'nguiu', 'nautla', 'harwich', 'solwezi', 'shitkino', 'cravo norte', 'teknaf', 'princeton', 'chengde', 'tarquinia', 'belaya glina', 'magadi', 'mackay', 'sisimiut', 'ksenyevka', 'jomalig', 'severo-yeniseyskiy', 'tazovskiy', 'labuan', 'skelleftea', 'arona', 'lasa', 'cahir', 'mehamn', 'petukhovo', 'tommot', 'moose factory', 'guangzhou', 'bac can', 'lukovetskiy', 'tabuk', 'tukrah', 'hualmay', 'opuwo', 'bud', 'wadi musa', 'warqla', 'oda', 'kuusamo', 'san patricio', 'malwan', 'killybegs', 'quthing', 'atikokan', 'goiatuba']\n",
      "*******************************************************************************************\n",
      "Temporarily reducging cities from cities to cities[0:4] so only get 4 cities intially\n",
      "before calling api.openweathermap.org since they have limits\n",
      "I believe 60 calls/minute and 1M calls/month per month)\n",
      "*******************************************************************************************\n",
      "['rikitea', 'miles city', 'karpogory', 'norman wells']\n"
     ]
    }
   ],
   "source": [
    "# List for holding lat_lngs and cities\n",
    "lat_lngs = []\n",
    "cities = []\n",
    "\n",
    "# Create a set of random lat and lng combinations\n",
    "lats = np.random.uniform(lat_range[0], lat_range[1], size=1500)\n",
    "lngs = np.random.uniform(lng_range[0], lng_range[1], size=1500)\n",
    "lat_lngs = zip(lats, lngs)\n",
    "\n",
    "# Identify nearest city for each lat, lng combination\n",
    "for lat_lng in lat_lngs:\n",
    "    city = citipy.nearest_city(lat_lng[0], lat_lng[1]).city_name\n",
    "    \n",
    "    # If the city is unique, then add it to a our cities list\n",
    "    if city not in cities:\n",
    "        cities.append(city)\n",
    "\n",
    "# Print the city count to confirm sufficient count\n",
    "len(cities)\n",
    "print(cities)\n",
    "print(\"*******************************************************************************************\")\n",
    "print(\"Temporarily reducging cities from cities to cities[0:4] so only get 4 cities intially\")\n",
    "print(\"before calling api.openweathermap.org since they have limits\") \n",
    "print(\"I believe 60 calls/minute and 1M calls/month per month)\")\n",
    "cities = cities[0:4]\n",
    "print(\"*******************************************************************************************\")\n",
    "print(cities)"
   ]
  },
  {
   "cell_type": "markdown",
   "metadata": {},
   "source": [
    "### Perform API Calls\n",
    "* Perform a weather check on each city using a series of successive API calls.\n",
    "* Include a print log of each city as it'sbeing processed (with the city number and city name).\n"
   ]
  },
  {
   "cell_type": "code",
   "execution_count": 5,
   "metadata": {
    "scrolled": false
   },
   "outputs": [
    {
     "name": "stdout",
     "output_type": "stream",
     "text": [
      "cities\n",
      "['rikitea', 'miles city', 'karpogory', 'norman wells']\n",
      "The latitude information for city rikitea #0 received is: [-23.1203]\n",
      "The latitude information for city rikitea #0 received is: [-134.9692]\n",
      "The temperature information for city rikitea #0 received is: [25.74]\n",
      "The humidty information for city rikitea #0 received is: [73]\n",
      "The cloudiness information for city rikitea #0 received is: [40]\n",
      "The windiness information for city rikitea #0 received is: [4.76]\n",
      "The latitude information for city miles city #1 received is: [-23.1203, 46.4083]\n",
      "The latitude information for city miles city #1 received is: [-134.9692, -105.8406]\n",
      "The temperature information for city miles city #1 received is: [25.74, 10.28]\n",
      "The humidty information for city miles city #1 received is: [73, 33]\n",
      "The cloudiness information for city miles city #1 received is: [40, 1]\n",
      "The windiness information for city miles city #1 received is: [4.76, 10.46]\n",
      "The latitude information for city karpogory #2 received is: [-23.1203, 46.4083, 64.0019]\n",
      "The latitude information for city karpogory #2 received is: [-134.9692, -105.8406, 44.4451]\n",
      "The temperature information for city karpogory #2 received is: [25.74, 10.28, -7.71]\n",
      "The humidty information for city karpogory #2 received is: [73, 33, 93]\n",
      "The cloudiness information for city karpogory #2 received is: [40, 1, 92]\n",
      "The windiness information for city karpogory #2 received is: [4.76, 10.46, 3.96]\n",
      "The latitude information for city norman wells #3 received is: [-23.1203, 46.4083, 64.0019, 65.282]\n",
      "The latitude information for city norman wells #3 received is: [-134.9692, -105.8406, 44.4451, -126.8329]\n",
      "The temperature information for city norman wells #3 received is: [25.74, 10.28, -7.71, -32.98]\n",
      "The humidty information for city norman wells #3 received is: [73, 33, 93, 62]\n",
      "The cloudiness information for city norman wells #3 received is: [40, 1, 92, 75]\n",
      "The windiness information for city norman wells #3 received is: [4.76, 10.46, 3.96, 0]\n",
      "The weather API responded with: {'coord': {'lon': -126.8329, 'lat': 65.282}, 'weather': [{'id': 803, 'main': 'Clouds', 'description': 'broken clouds', 'icon': '04d'}], 'base': 'stations', 'main': {'temp': 240.17, 'feels_like': 240.17, 'temp_min': 240.17, 'temp_max': 240.17, 'pressure': 1023, 'humidity': 62}, 'visibility': 10000, 'wind': {'speed': 0, 'deg': 0}, 'clouds': {'all': 75}, 'dt': 1644346538, 'sys': {'type': 1, 'id': 951, 'country': 'CA', 'sunrise': 1644339170, 'sunset': 1644366618}, 'timezone': -25200, 'id': 6089245, 'name': 'Norman Wells', 'cod': 200}.\n"
     ]
    }
   ],
   "source": [
    "# Save config information.\n",
    "url = \"http://api.openweathermap.org/data/2.5/weather?\"\n",
    "units = \"metric\"\n",
    "\n",
    "# Build partial query URL\n",
    "query_url = f\"{url}appid={weather_api_key}&units={units}&q=\"\n",
    "\n",
    "\n",
    "#city = \"London\"\n",
    "\n",
    "#cities = [\"Paris\", \"London\", \"Oslo\", \"Beijing\"]\n",
    "\n",
    "# set up lists to hold reponse info\n",
    "lat = []\n",
    "lon = []\n",
    "temp = []\n",
    "humidity=[]\n",
    "clouds=[]\n",
    "wind=[]\n",
    "city_counter=0\n",
    "\n",
    "print(\"cities\")\n",
    "print(cities)\n",
    "# Loop through the list of cities and perform a request for data on each\n",
    "for city in cities:\n",
    "    response = requests.get(query_url + city).json()\n",
    "    lat.append(response['coord']['lat'])\n",
    "    lon.append(response['coord']['lon'])\n",
    "    temp.append(response['main']['temp'])\n",
    "    humidity.append(response['main']['humidity'])\n",
    "    clouds.append(response['clouds']['all'])\n",
    "    wind.append(response['wind']['speed'])\n",
    "    \n",
    "    print(f\"The latitude information for city {city} #{city_counter} received is: {lat}\")\n",
    "    print(f\"The latitude information for city {city} #{city_counter} received is: {lon}\")\n",
    "    print(f\"The temperature information for city {city} #{city_counter} received is: {temp}\")\n",
    "    print(f\"The humidty information for city {city} #{city_counter} received is: {humidity}\")\n",
    "    print(f\"The cloudiness information for city {city} #{city_counter} received is: {clouds}\")\n",
    "    print(f\"The windiness information for city {city} #{city_counter} received is: {wind}\")\n",
    "\n",
    "    city_counter+=1\n",
    "    \n",
    "    \n",
    "# Build query URL\n",
    "query_url = url + \"appid=\" + weather_api_key + \"&q=\" + city  \n",
    "\n",
    "# Get weather data\n",
    "weather_response = requests.get(query_url)\n",
    "weather_json = weather_response.json()\n",
    "\n",
    "# Get the temperature from the response\n",
    "print(f\"The weather API responded with: {weather_json}.\")"
   ]
  },
  {
   "cell_type": "markdown",
   "metadata": {},
   "source": [
    "### Convert Raw Data to DataFrame\n",
    "* Export the city data into a .csv.\n",
    "* Display the DataFrame"
   ]
  },
  {
   "cell_type": "code",
   "execution_count": 6,
   "metadata": {},
   "outputs": [
    {
     "name": "stdout",
     "output_type": "stream",
     "text": [
      "*******************************************************************************************\n",
      "Temporarily printing out weather_data.head() just below to see table data in this cell,\n",
      "but can remove the line below later since basically in the next cell\n",
      "*******************************************************************************************\n",
      "           city      lat       lon   temp  Humidity  Cloudiness  Wind Speed\n",
      "0       rikitea -23.1203 -134.9692  25.74        73          40        4.76\n",
      "1    miles city  46.4083 -105.8406  10.28        33           1       10.46\n",
      "2     karpogory  64.0019   44.4451  -7.71        93          92        3.96\n",
      "3  norman wells  65.2820 -126.8329 -32.98        62          75        0.00\n"
     ]
    }
   ],
   "source": [
    "# Output File (CSV)\n",
    "output_data_file = \"output_data/cities.csv\"\n",
    "\n",
    " # create a data frame from cities, lat, and temp\n",
    "weather_dict = {\n",
    "    \"city\": cities,\n",
    "    \"lat\": lat,\n",
    "    \"lon\": lon,\n",
    "    \"temp\": temp,\n",
    "    \"Humidity\": humidity,\n",
    "    \"Cloudiness\": clouds,\n",
    "    \"Wind Speed\":wind \n",
    "}\n",
    "weather_data = pd.DataFrame(weather_dict)\n",
    "\n",
    "print(\"*******************************************************************************************\")\n",
    "print(\"Temporarily printing out weather_data.head() just below to see table data in this cell,\")\n",
    "print(\"but can remove the line below later since basically in the next cell\")\n",
    "print(\"*******************************************************************************************\")\n",
    "print(weather_data.head())\n",
    "\n",
    "\n",
    "# Save as a csv\n",
    "# Note to avoid any issues later, use encoding=\"utf-8\"\n",
    "weather_data.to_csv(output_data_file, encoding=\"utf-8\", index=False)"
   ]
  },
  {
   "cell_type": "code",
   "execution_count": null,
   "metadata": {},
   "outputs": [],
   "source": [
    "# Display the DataFrame\n",
    "weather_data"
   ]
  },
  {
   "cell_type": "markdown",
   "metadata": {},
   "source": [
    "## Inspect the data and remove the cities where the humidity > 100%.\n",
    "----\n",
    "Skip this step if there are no cities that have humidity > 100%. \n"
   ]
  },
  {
   "cell_type": "code",
   "execution_count": 22,
   "metadata": {},
   "outputs": [
    {
     "name": "stdout",
     "output_type": "stream",
     "text": [
      "Skip since no humidity >100\n",
      "Skip since no humidity >100\n",
      "Skip since no humidity >100\n",
      "Skip since no humidity >100\n",
      "Latest cities_high_humidity\n",
      "[]\n"
     ]
    }
   ],
   "source": [
    "cities_high_humidity = []\n",
    "city_counter=0\n",
    "for city in cities:\n",
    "    if int(humidity[city_counter]) > 100:\n",
    "        print(f\"The humidty information for city {city} #{city_counter} received is: {humidity[city_counter]}\")\n",
    "        # Create a new DataFrame \n",
    "        cities_high_humidity.append(city_counter)\n",
    "        print(f\"{city} with city_counter of {city_counter} has humidty >100 so need to remove later\")\n",
    "    else:\n",
    "        print(\"Skip since no humidity >100\")\n",
    "    city_counter+=1\n",
    "print(\"Latest cities_high_humidity\")\n",
    "print(cities_high_humidity)"
   ]
  },
  {
   "cell_type": "code",
   "execution_count": 23,
   "metadata": {},
   "outputs": [
    {
     "name": "stdout",
     "output_type": "stream",
     "text": [
      "Latest cities_high_humidity\n",
      "[]\n"
     ]
    }
   ],
   "source": [
    "#  Get the indices of cities that have humidity over 100%.\n",
    "print(\"Latest cities_high_humidity\")\n",
    "print(cities_high_humidity)"
   ]
  },
  {
   "cell_type": "code",
   "execution_count": 27,
   "metadata": {},
   "outputs": [
    {
     "name": "stdout",
     "output_type": "stream",
     "text": [
      "No high humidity data\n",
      "weather_data\n",
      "           city      lat       lon   temp  Humidity  Cloudiness  Wind Speed\n",
      "0       rikitea -23.1203 -134.9692  25.74        73          40        4.76\n",
      "1    miles city  46.4083 -105.8406  10.28        33           1       10.46\n",
      "2     karpogory  64.0019   44.4451  -7.71        93          92        3.96\n",
      "3  norman wells  65.2820 -126.8329 -32.98        62          75        0.00\n",
      "\n",
      "clean_city_data\n",
      "           city      lat       lon   temp  Humidity  Cloudiness  Wind Speed\n",
      "0       rikitea -23.1203 -134.9692  25.74        73          40        4.76\n",
      "1    miles city  46.4083 -105.8406  10.28        33           1       10.46\n",
      "2     karpogory  64.0019   44.4451  -7.71        93          92        3.96\n",
      "3  norman wells  65.2820 -126.8329 -32.98        62          75        0.00\n"
     ]
    }
   ],
   "source": [
    "# Make a new DataFrame equal to the city data (aka weather_data) to drop all humidity outliers by index.\n",
    "# Passing \"inplace=False\" will make a copy of the city_data DataFrame, which we call \"clean_city_data\".\n",
    "clean_city_data=weather_data\n",
    "if len(cities_high_humidity) > 0:\n",
    "    print(f\"have high humidity data for city index #(s) {cities_high_humidity}\")\n",
    "    # dropping a row(s) from actual dataframe\n",
    "    #df.drop(['c', 'd'], inplace = True )\n",
    "    clean_city_data=weather_data.drop(cities_high_humidity, inplace=False) \n",
    "else:\n",
    "    print(\"No high humidity data\") \n",
    "print(\"weather_data\") \n",
    "print(weather_data)\n",
    "print()\n",
    "print(\"clean_city_data\") \n",
    "print(clean_city_data)\n",
    "#print(\"dtypes()\")\n",
    "#print(clean_city_data.dtypes)"
   ]
  },
  {
   "cell_type": "code",
   "execution_count": null,
   "metadata": {},
   "outputs": [],
   "source": [
    "\n"
   ]
  },
  {
   "cell_type": "markdown",
   "metadata": {},
   "source": [
    "## Plotting the Data\n",
    "* Use proper labeling of the plots using plot titles (including date of analysis) and axes labels.\n",
    "* Save the plotted figures as .pngs."
   ]
  },
  {
   "cell_type": "markdown",
   "metadata": {},
   "source": [
    "## Latitude vs. Temperature Plot"
   ]
  },
  {
   "cell_type": "code",
   "execution_count": 36,
   "metadata": {
    "scrolled": true
   },
   "outputs": [
    {
     "name": "stdout",
     "output_type": "stream",
     "text": [
      "************************************************************\n",
      "Should I convert temp from Celsius to Fahrenheit to make it easier to understand???\n",
      "using somethink like f_temp=(temp*1.8)+32\n",
      "************************************************************\n",
      "clean_city_data\n",
      "           city      lat       lon   temp  Humidity  Cloudiness  Wind Speed\n",
      "0       rikitea -23.1203 -134.9692  25.74        73          40        4.76\n",
      "1    miles city  46.4083 -105.8406  10.28        33           1       10.46\n",
      "2     karpogory  64.0019   44.4451  -7.71        93          92        3.96\n",
      "3  norman wells  65.2820 -126.8329 -32.98        62          75        0.00\n"
     ]
    },
    {
     "data": {
      "image/png": "[encoded data removed]",
      "text/plain": [
       "<Figure size 432x288 with 1 Axes>"
      ]
     },
     "metadata": {
      "needs_background": "light"
     },
     "output_type": "display_data"
    }
   ],
   "source": [
    "print(\"************************************************************\")\n",
    "print(\"Should I convert temp from Celsius to Fahrenheit to make it easier to understand???\")\n",
    "print(\"using somethink like f_temp=(temp*1.8)+32\")\n",
    "print(\"************************************************************\")\n",
    "#f_temp=(temp*1.8)+32\n",
    "\n",
    "\n",
    "print(\"clean_city_data\") \n",
    "print(clean_city_data)\n",
    "\n",
    "# Display scatter plot  \n",
    "plt.scatter(clean_city_data[\"lat\"],clean_city_data[\"temp\"])\n",
    "plt.xlabel(\"Lattitude (degrees)\")\n",
    "plt.ylabel(\"Temperature (Celsius)\")\n",
    "plt.show()\n",
    "\n",
    "# #Save scatter plot as .png file\n",
    "# # plot = dtf.plot()\n",
    "# # fig = plot.get_figure()\n",
    "# # fig.savefig(\"output.png\")\n",
    "# my_plt_df.savefig('output_data/lat_temp.png')\n",
    "\n",
    "#my_plt_df=pd.DataFrame([\"Lattitude (degrees)\":lat)],[\"Temperature (Celsius)\":temp])\n",
    "\n",
    "# How do I save a pandas plot to a picture?\n",
    "# The following code section constructs a line plot and saves the plot to the image file plot. png.\n",
    "# x = [0, 2, 4, 6] y = [1, 3, 4, 8]\n",
    "# plt. xlabel('x values') plt. ylabel('y values') plt. title('plotted x and y values') plt. legend(['line 1'])\n",
    "# # save the figure plt. savefig('plot.png', dpi=300, bbox_inches='tight')\n",
    "\n"
   ]
  },
  {
   "cell_type": "markdown",
   "metadata": {},
   "source": [
    "## Latitude vs. Humidity Plot"
   ]
  },
  {
   "cell_type": "code",
   "execution_count": 31,
   "metadata": {},
   "outputs": [
    {
     "data": {
      "image/png": "[encoded data removed]",
      "text/plain": [
       "<Figure size 432x288 with 1 Axes>"
      ]
     },
     "metadata": {
      "needs_background": "light"
     },
     "output_type": "display_data"
    }
   ],
   "source": [
    "plt.scatter(clean_city_data[\"lat\"],clean_city_data[\"Humidity\"])\n",
    "plt.xlabel(\"Lattitude (degrees)\")\n",
    "plt.ylabel(\"Humidity (%)\")\n",
    "plt.show()"
   ]
  },
  {
   "cell_type": "markdown",
   "metadata": {},
   "source": [
    "## Latitude vs. Cloudiness Plot"
   ]
  },
  {
   "cell_type": "code",
   "execution_count": 32,
   "metadata": {},
   "outputs": [
    {
     "data": {
      "image/png": "[encoded data removed]",
      "text/plain": [
       "<Figure size 432x288 with 1 Axes>"
      ]
     },
     "metadata": {
      "needs_background": "light"
     },
     "output_type": "display_data"
    }
   ],
   "source": [
    "plt.scatter(clean_city_data[\"lat\"],clean_city_data[\"Cloudiness\"])\n",
    "plt.xlabel(\"Lattitude (degrees)\")\n",
    "plt.ylabel(\"Cloudiness (%)\")\n",
    "plt.show()"
   ]
  },
  {
   "cell_type": "markdown",
   "metadata": {},
   "source": [
    "## Latitude vs. Wind Speed Plot"
   ]
  },
  {
   "cell_type": "code",
   "execution_count": 33,
   "metadata": {},
   "outputs": [
    {
     "data": {
      "image/png": "[encoded data removed]",
      "text/plain": [
       "<Figure size 432x288 with 1 Axes>"
      ]
     },
     "metadata": {
      "needs_background": "light"
     },
     "output_type": "display_data"
    }
   ],
   "source": [
    "plt.scatter(clean_city_data[\"lat\"],clean_city_data[\"Wind Speed\"])\n",
    "plt.xlabel(\"Lattitude (degrees)\")\n",
    "plt.ylabel(\"Wind Speed (kM)\")\n",
    "plt.show()"
   ]
  },
  {
   "cell_type": "markdown",
   "metadata": {},
   "source": [
    "## Linear Regression"
   ]
  },
  {
   "cell_type": "code",
   "execution_count": null,
   "metadata": {},
   "outputs": [],
   "source": []
  },
  {
   "cell_type": "markdown",
   "metadata": {},
   "source": [
    "####  Northern Hemisphere - Max Temp vs. Latitude Linear Regression"
   ]
  },
  {
   "cell_type": "code",
   "execution_count": null,
   "metadata": {},
   "outputs": [],
   "source": []
  },
  {
   "cell_type": "markdown",
   "metadata": {},
   "source": [
    "####  Southern Hemisphere - Max Temp vs. Latitude Linear Regression"
   ]
  },
  {
   "cell_type": "code",
   "execution_count": null,
   "metadata": {},
   "outputs": [],
   "source": []
  },
  {
   "cell_type": "markdown",
   "metadata": {},
   "source": [
    "####  Northern Hemisphere - Humidity (%) vs. Latitude Linear Regression"
   ]
  },
  {
   "cell_type": "code",
   "execution_count": null,
   "metadata": {},
   "outputs": [],
   "source": []
  },
  {
   "cell_type": "markdown",
   "metadata": {},
   "source": [
    "####  Southern Hemisphere - Humidity (%) vs. Latitude Linear Regression"
   ]
  },
  {
   "cell_type": "code",
   "execution_count": null,
   "metadata": {},
   "outputs": [],
   "source": []
  },
  {
   "cell_type": "markdown",
   "metadata": {},
   "source": [
    "####  Northern Hemisphere - Cloudiness (%) vs. Latitude Linear Regression"
   ]
  },
  {
   "cell_type": "code",
   "execution_count": null,
   "metadata": {},
   "outputs": [],
   "source": []
  },
  {
   "cell_type": "markdown",
   "metadata": {},
   "source": [
    "####  Southern Hemisphere - Cloudiness (%) vs. Latitude Linear Regression"
   ]
  },
  {
   "cell_type": "code",
   "execution_count": null,
   "metadata": {},
   "outputs": [],
   "source": []
  },
  {
   "cell_type": "markdown",
   "metadata": {},
   "source": [
    "####  Northern Hemisphere - Wind Speed (mph) vs. Latitude Linear Regression"
   ]
  },
  {
   "cell_type": "code",
   "execution_count": null,
   "metadata": {},
   "outputs": [],
   "source": []
  },
  {
   "cell_type": "markdown",
   "metadata": {},
   "source": [
    "####  Southern Hemisphere - Wind Speed (mph) vs. Latitude Linear Regression"
   ]
  },
  {
   "cell_type": "code",
   "execution_count": null,
   "metadata": {},
   "outputs": [],
   "source": []
  },
  {
   "cell_type": "code",
   "execution_count": null,
   "metadata": {},
   "outputs": [],
   "source": []
  }
 ],
 "metadata": {
  "anaconda-cloud": {},
  "kernel_info": {
   "name": "python3"
  },
  "kernelspec": {
   "display_name": "Python 3 (ipykernel)",
   "language": "python",
   "name": "python3"
  },
  "language_info": {
   "codemirror_mode": {
    "name": "ipython",
    "version": 3
   },
   "file_extension": ".py",
   "mimetype": "text/x-python",
   "name": "python",
   "nbconvert_exporter": "python",
   "pygments_lexer": "ipython3",
   "version": "3.9.7"
  },
  "latex_envs": {
   "LaTeX_envs_menu_present": true,
   "autoclose": false,
   "autocomplete": true,
   "bibliofile": "biblio.bib",
   "cite_by": "apalike",
   "current_citInitial": 1,
   "eqLabelWithNumbers": true,
   "eqNumInitial": 1,
   "hotkeys": {
    "equation": "Ctrl-E",
    "itemize": "Ctrl-I"
   },
   "labels_anchors": false,
   "latex_user_defs": false,
   "report_style_numbering": false,
   "user_envs_cfg": false
  },
  "nteract": {
   "version": "0.12.3"
  }
 },
 "nbformat": 4,
 "nbformat_minor": 2
}
