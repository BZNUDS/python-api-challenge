{
 "cells": [
  {
   "cell_type": "markdown",
   "metadata": {},
   "source": [
    "# WeatherPy\n",
    "----\n",
    "\n",
    "#### Note\n",
    "* Instructions have been included for each segment. You do not have to follow them exactly, but they are included to help you think through the steps."
   ]
  },
  {
   "cell_type": "code",
   "execution_count": 1,
   "metadata": {
    "scrolled": true
   },
   "outputs": [],
   "source": [
    "# Dependencies and Setup\n",
    "import matplotlib.pyplot as plt\n",
    "import pandas as pd\n",
    "import numpy as np\n",
    "import requests\n",
    "import time\n",
    "from scipy.stats import linregress\n",
    "\n",
    "# Import API key\n",
    "from api_keys import weather_api_key\n",
    "\n",
    "# Incorporated citipy to determine city based on latitude and longitude\n",
    "from citipy import citipy\n",
    "\n",
    "# Output File (CSV)\n",
    "output_data_file = \"output_data/cities.csv\"\n",
    "\n",
    "# Range of latitudes and longitudes\n",
    "lat_range = (-90, 90)\n",
    "lng_range = (-180, 180)"
   ]
  },
  {
   "cell_type": "markdown",
   "metadata": {},
   "source": [
    "## Generate Cities List"
   ]
  },
  {
   "cell_type": "code",
   "execution_count": 2,
   "metadata": {},
   "outputs": [
    {
     "name": "stdout",
     "output_type": "stream",
     "text": [
      "['punta arenas', 'taoudenni', 'kindu', 'moussoro', 'wanxian', 'saldanha', 'provideniya', 'bethel', 'saleaula', 'qaanaaq', 'pacific grove', 'carnarvon', 'busselton', 'port macquarie', 'cubarral', 'rikitea', 'tumannyy', 'tasiilaq', 'east london', 'leiyang', 'sumbawanga', 'saint-philippe', 'mackay', 'hermanus', 'hithadhoo', 'kashi', 'belushya guba', 'kibre mengist', 'vila', 'port alfred', 'mataura', 'alofi', 'airai', 'upernavik', 'vrable', 'bara', 'port lincoln', 'saint george', 'dikson', 'opotiki', 'calama', 'jamestown', 'bredasdorp', 'atuona', 'lebu', 'villazon', 'plettenberg bay', 'ures', 'yakima', 'illoqqortoormiut', 'yekaterinovka', 'laguna', 'xichang', 'bonavista', 'koulikoro', 'cangucu', 'soyo', 'san quintin', 'amalapuram', 'tashtagol', 'ustynivka', 'cape town', 'tsihombe', 'edson', 'ushuaia', 'geraldton', 'bluff', 'phan rang', 'tokur', 'bera', 'new norfolk', 'flin flon', 'mar del plata', 'mount gambier', 'port-gentil', 'dunedin', 'marcona', 'jizan', 'kulhudhuffushi', 'hualmay', 'kodiak', 'kapaa', 'hilo', 'thompson', 'avarua', 'talnakh', 'lao cai', 'yakeshi', 'kaitangata', 'severo-yeniseyskiy', 'zambezi', 'tuktoyaktuk', 'port elizabeth', 'narbonne', 'maragogi', 'pangnirtung', 'makinsk', 'guerrero negro', 'bathsheba', 'polovinnoye', 'kaitong', 'ningan', 'puerto ayora', 'vaini', 'hobart', 'hibbing', 'barranca', 'amderma', 'nagua', 'sorland', 'srednekolymsk', 'saint-leu', 'alvaraes', 'ambulu', 'khatanga', 'phangnga', 'khorixas', 'sentyabrskiy', 'chuy', 'turukhansk', 'arraial do cabo', 'quesnel', 'severo-kurilsk', 'taolanaro', 'poiana sibiului', 'lavrentiya', 'portland', 'belgaum', 'riyadh', 'keningau', 'fenoarivo atsinanana', 'birin', 'norman wells', 'cherskiy', 'nanortalik', 'san andres', 'wilkie', 'yellowknife', 'zhuhai', 'mahebourg', 'uarini', 'nizhneudinsk', 'cabo san lucas', 'ostrovnoy', 'tanout', 'gondar', 'dauphin', 'bhattiprolu', 'albany', 'paradwip', 'vardo', 'hasaki', 'nalut', 'nizhneyansk', 'butaritari', 'te anau', 'soligalich', 'hofn', 'barcelos', 'sinnamary', 'strezhevoy', 'nizwa', 'kenora', 'comodoro rivadavia', 'villa carlos paz', 'castro', 'coihaique', 'sao filipe', 'banmo', 'beringovskiy', 'aneho', 'adrar', 'mys shmidta', 'flinders', 'kahului', 'bairiki', 'vaitupu', 'ribeira grande', 'mantua', 'turbat', 'fairbanks', 'hamilton', 'shache', 'tiksi', 'diego de almagro', 'hirara', 'kalimnos', 'tombouctou', 'aztec', 'talcahuano', 'lagoa', 'fortuna', 'aklavik', 'yumen', 'shadrinsk', 'sao joao da barra', 'sola', 'vanimo', 'khonuu', 'kaspiyskiy', 'olafsvik', 'ponta do sol', 'mehamn', 'awjilah', 'vestmannaeyjar', 'krasnoselkup', 'kuche', 'saint-georges', 'nikolskoye', 'hot springs', 'port augusta', 'beidao', 'skjervoy', 'luderitz', 'berberati', 'falkenberg', 'san lorenzo', 'pisco', 'pelym', 'wahran', 'luis correia', 'cayenne', 'faya', 'eregli', 'chagda', 'clyde river', 'midland', 'champerico', 'meulaboh', 'bad rappenau', 'samusu', 'kaeo', 'cockburn town', 'chokurdakh', 'kruisfontein', 'bonthe', 'cortez', 'georgetown', 'luwero', 'singaraja', 'vao', 'kodinsk', 'qui nhon', 'yairipok', 'hami', 'waingapu', 'pimentel', 'stokmarknes', 'miandrivazo', 'chimbote', 'coahuayana', 'kirkwall', 'gweta', 'ledyard', 'bambous virieux', 'muli', 'sinegorye', 'roma', 'puerto escondido', 'noumea', 'grand-santi', 'victoria', 'popondetta', 'tenkodogo', 'aloleng', 'shunyi', 'kazalinsk', 'trebinje', 'gilbues', 'jalu', 'hervey bay', 'barrow', 'codrington', 'kavieng', 'ambilobe', 'marfino', 'abu jubayhah', 'klaksvik', 'ulladulla', 'tommot', 'hovd', 'ancud', 'kedrovyy', 'ponta delgada', 'havoysund', 'ilulissat', 'killini', 'arlit', 'glenwood springs', 'tuatapere', 'tianpeng', 'buqayq', 'shimoda', 'deputatskiy', 'acapulco', 'caravelas', 'lerwick', 'pleasanton', 'port blair', 'kerrobert', 'deniliquin', 'pyu', 'san patricio', 'ghansor', 'rosario do sul', 'hambantota', 'mahibadhoo', 'dunn', 'kamenka', 'mount isa', 'miri', 'hit', 'kamenskoye', 'sidi bu zayd', 'antanifotsy', 'tomaszow mazowiecki', 'aguada de pasajeros', 'sioux lookout', 'burns lake', 'concepcion', 'cumana', 'aitape', 'antofagasta', 'rudnogorsk', 'bengkulu', 'port shepstone', 'esperance', 'mamallapuram', 'torbay', 'shumyachi', 'sorvag', 'kawambwa', 'zhitikara', 'okha', 'santiago', 'narsaq', 'neiafu', 'priladozhskiy', 'grindavik', 'kavaratti', 'dabakala', 'claresholm', 'nizhnyaya tavda', 'boende', 'calvinia', 'chara', 'rorvik', 'auki', 'ostersund', 'mocuba', 'xining', 'agadez', 'camacha', 'broome', 'antalaha', 'bhadra', 'koson', 'caxito', 'pangkalanbuun', 'sambava', 'dingle', 'luau', 'cidreira', 'lang son', 'samoylovka', 'paragominas', 'fort nelson', 'mwinilunga', 'lucapa', 'havre-saint-pierre', 'luwuk', 'fostoria', 'maghama', 'tura', 'puerto carreno', 'wulanhaote', 'nome', 'lincoln', 'marolambo', 'acarau', 'makakilo city', 'itarema', 'grand river south east', 'bardiyah', 'anloga', 'salalah', 'svetlogorsk', 'cuajinicuilapa', 'changji', 'rio gallegos', 'nizhniy baskunchak', 'henties bay', 'coquimbo', 'la ronge', 'road town', 'hanzhong', 'rongcheng', 'maceio', 'kargasok', 'hokitika', 'atar', 'betera', 'portlethen', 'gambela', 'faanui', 'agva', 'boulder city', 'diplo', 'sitka', 'kanigoro', 'bay roberts', 'kamphaeng phet', 'valparaiso', 'massa marittima', 'paita', 'chifeng', 'kasongo-lunda', 'nobres', 'kokkola', 'karaul', 'cam ranh', 'hopelchen', 'barbar', 'safford', 'killybegs', 'usagara', 'dosso', 'karkaralinsk', 'bongandanga', 'southbridge', 'novaya zaimka', 'tarudant', 'hvolsvollur', 'ewa beach', 'zharkent', 'berlevag', 'tawang', 'aosta', 'kieta', 'bapatla', 'troitskoye', 'namibe', 'sao felix do xingu', 'nizhniy kuranakh', 'ust-maya', 'pevek', 'iralaya', 'constitucion', 'anadyr', 'kununurra', 'mandalgovi', 'sao sebastiao do passe', 'tiznit', 'rundu', 'yar-sale', 'lasa', 'shihezi', 'quetzaltepec', 'karamay', 'bilma', 'ust-tsilma', 'copiapo', 'tautira', 'boa vista', 'japura', 'gayny', 'esmeraldas', 'goundam', 'taguisa', 'kargopol', 'sangar', 'paamiut', 'khandyga', 'zlobin', 'barentsburg', 'babanusah', 'tabarqah', 'ahipara', 'tawala', 'halifax', 'la uribe', 'richards bay', 'tortoli', 'warmbad', 'ust-ishim', 'bubaque', 'salinopolis', 'broken hill', 'polunochnoye', 'haverfordwest', 'vila franca do campo', 'abu dhabi', 'opuwo', 'san juan', 'el alto', 'san jose', 'farafangana', 'camocim', 'neuruppin', 'honningsvag', 'vila velha', 'longyearbyen', 'trairi', 'goderich', 'chabua', 'sur', 'vuktyl', 'paramirim', 'dangriga', 'monterey', 'beloha', 'muroto', 'sumbawa', 'touros', 'mayumba', 'verkhnyaya inta', 'huitziltepec', 'gorom-gorom', 'phayao', 'chavakachcheri', 'beaufort', 'basco', 'wattegama', 'loanhead', 'eureka', 'araouane', 'indianola', 'saint-augustin', 'grand gaube', 'nishihara', 'iracoubo', 'amatlan', 'tezu', 'russkaya polyana', 'kipini', 'seymchan', 'magadan', 'saskylakh', 'iqaluit', 'hutchinson', 'katsuura', 'bud', 'samalaeulu', 'lorengau', 'tual', 'zorritos', 'saint-pierre', 'tanhacu', 'shelburne', 'sarkand', 'balykshi', 'mendi', 'ketchikan', 'braganca paulista', 'acurenam', 'vangaindrano', 'novikovo', 'rio verde de mato grosso', 'yanam', 'brownsville', 'fare', 'niquelandia', 'longonjo', 'vrangel', 'naze', 'taburi', 'namatanai', 'bilibino', 'ovsyanka', 'indi', 'bima', 'diamantino', 'gravdal', 'lewiston', 'collie', 'tigil', 'margate', 'harper', 'armidale', 'morant bay', 'panalingaan', 'porto santo', 'lakes entrance', 'doha', 'aykhal', 'sydney', 'zaozerne', 'miraflores', 'los llanos de aridane', 'wellington', 'fallon', 'bayevo', 'mali', 'krasnyy bogatyr', 'fairview', 'vostok', 'ruatoria', 'del rio', 'tiruchchendur', 'bhatkal', 'jutai', 'capreol', 'high rock', 'palma', 'biak', 'ondjiva', 'khromtau', 'uwayl', 'gloversville', 'college', 'isangel', 'hillsborough', 'riverton', 'irtyshskiy', 'sao sebastiao', 'smithers', 'oil city', 'pacifica', 'lata', 'namangan', 'niksic', 'thunder bay', 'jiexiu', 'nemuro', 'kati', 'zhigansk', 'huanta', 'peniche', 'aktash', 'mach', 'lafayette', 'xadani', 'aquidauana', 'alekseyevsk', 'ziyang', 'tonj', 'morehead', 'salekhard', 'wagga wagga', 'san agustin acasaguastlan', 'fabriano', 'masvingo', 'manbij']\n",
      "*******************************************************************************************\n",
      "Temporarily reducging cities from cities to cities[0:4] so only get 3 cities intially\n",
      "*******************************************************************************************\n",
      "['punta arenas', 'taoudenni', 'kindu', 'moussoro']\n"
     ]
    }
   ],
   "source": [
    "# List for holding lat_lngs and cities\n",
    "lat_lngs = []\n",
    "cities = []\n",
    "\n",
    "# Create a set of random lat and lng combinations\n",
    "lats = np.random.uniform(lat_range[0], lat_range[1], size=1500)\n",
    "lngs = np.random.uniform(lng_range[0], lng_range[1], size=1500)\n",
    "lat_lngs = zip(lats, lngs)\n",
    "\n",
    "# Identify nearest city for each lat, lng combination\n",
    "for lat_lng in lat_lngs:\n",
    "    city = citipy.nearest_city(lat_lng[0], lat_lng[1]).city_name\n",
    "    \n",
    "    # If the city is unique, then add it to a our cities list\n",
    "    if city not in cities:\n",
    "        cities.append(city)\n",
    "\n",
    "# Print the city count to confirm sufficient count\n",
    "len(cities)\n",
    "print(cities)\n",
    "print(\"*******************************************************************************************\")\n",
    "print(\"Temporarily reducging cities from cities to cities[0:4] so only get 3 cities intially\")\n",
    "cities = cities[0:4]\n",
    "print(\"*******************************************************************************************\")\n",
    "print(cities)"
   ]
  },
  {
   "cell_type": "markdown",
   "metadata": {},
   "source": [
    "### Perform API Calls\n",
    "* Perform a weather check on each city using a series of successive API calls.\n",
    "* Include a print log of each city as it'sbeing processed (with the city number and city name).\n"
   ]
  },
  {
   "cell_type": "code",
   "execution_count": 3,
   "metadata": {
    "scrolled": false
   },
   "outputs": [
    {
     "name": "stdout",
     "output_type": "stream",
     "text": [
      "['punta arenas', 'taoudenni', 'kindu', 'moussoro']\n",
      "The latitude information received is: [-53.15, 22.6783, -2.95, 13.6408]\n",
      "The temperature information received is: [11.73, 21.09, 21.97, 19.44]\n",
      "The humidty information received is: [93, 12, 86, 11]\n",
      "The cloudiness information received is: [100, 0, 98, 10]\n",
      "The windiness information received is: [2.52, 5.14, 1.18, 5.29]\n",
      "The temperature information received is: [11.73, 21.09, 21.97, 19.44]\n",
      "The weather API responded with: {'coord': {'lon': 16.4901, 'lat': 13.6408}, 'weather': [{'id': 800, 'main': 'Clear', 'description': 'clear sky', 'icon': '01n'}], 'base': 'stations', 'main': {'temp': 292.59, 'feels_like': 290.88, 'temp_min': 292.59, 'temp_max': 292.59, 'pressure': 1014, 'humidity': 11, 'sea_level': 1014, 'grnd_level': 980}, 'visibility': 10000, 'wind': {'speed': 5.29, 'deg': 36, 'gust': 11.87}, 'clouds': {'all': 10}, 'dt': 1644269754, 'sys': {'country': 'TD', 'sunrise': 1644211194, 'sunset': 1644252989}, 'timezone': 3600, 'id': 2427336, 'name': 'Moussoro', 'cod': 200}.\n"
     ]
    }
   ],
   "source": [
    "#Mohammad said to use:\n",
    "  #url = \"http://api.openweathermap.org/data/2.5/weather?units=Imperial&APPID=\" + weather_api_key\n",
    "\n",
    "# Save config information.\n",
    "url = \"http://api.openweathermap.org/data/2.5/weather?\"\n",
    "units = \"metric\"\n",
    "\n",
    "# Build partial query URL\n",
    "query_url = f\"{url}appid={weather_api_key}&units={units}&q=\"\n",
    "\n",
    "\n",
    "#city = \"London\"\n",
    "\n",
    "#cities = [\"Paris\", \"London\", \"Oslo\", \"Beijing\"]\n",
    "\n",
    "cities=cities\n",
    "# set up lists to hold reponse info\n",
    "lat = []\n",
    "temp = []\n",
    "humid=[]\n",
    "clouds=[]\n",
    "wind=[]\n",
    "\n",
    "print(cities)\n",
    "# Loop through the list of cities and perform a request for data on each\n",
    "for city in cities:\n",
    "    response = requests.get(query_url + city).json()\n",
    "    lat.append(response['coord']['lat'])\n",
    "    temp.append(response['main']['temp'])\n",
    "    humidity.append(response['main']['humidity'])\n",
    "    clouds.append(response['clouds']['all'])\n",
    "    wind.append(response['wind']['speed'])\n",
    "\n",
    "print(f\"The latitude information received is: {lat}\")\n",
    "print(f\"The temperature information received is: {temp}\")\n",
    "print(f\"The humidty information received is: {humid}\")\n",
    "print(f\"The cloudiness information received is: {clouds}\")\n",
    "print(f\"The windiness information received is: {wind}\")\n",
    "\n",
    "\n",
    "# Build query URL\n",
    "query_url = url + \"appid=\" + weather_api_key + \"&q=\" + city  \n",
    "\n",
    "# Get weather data\n",
    "weather_response = requests.get(query_url)\n",
    "weather_json = weather_response.json()\n",
    "\n",
    "# Get the temperature from the response\n",
    "print(f\"The weather API responded with: {weather_json}.\")"
   ]
  },
  {
   "cell_type": "markdown",
   "metadata": {},
   "source": [
    "### Convert Raw Data to DataFrame\n",
    "* Export the city data into a .csv.\n",
    "* Display the DataFrame"
   ]
  },
  {
   "cell_type": "code",
   "execution_count": 4,
   "metadata": {},
   "outputs": [
    {
     "ename": "NameError",
     "evalue": "name 'humidity' is not defined",
     "output_type": "error",
     "traceback": [
      "\u001b[1;31m---------------------------------------------------------------------------\u001b[0m",
      "\u001b[1;31mNameError\u001b[0m                                 Traceback (most recent call last)",
      "\u001b[1;32mC:\\Users\\BZNORT~1\\AppData\\Local\\Temp/ipykernel_27044/256439777.py\u001b[0m in \u001b[0;36m<module>\u001b[1;34m\u001b[0m\n\u001b[0;32m      8\u001b[0m     \u001b[1;34m\"lat\"\u001b[0m\u001b[1;33m:\u001b[0m \u001b[0mlat\u001b[0m\u001b[1;33m,\u001b[0m\u001b[1;33m\u001b[0m\u001b[1;33m\u001b[0m\u001b[0m\n\u001b[0;32m      9\u001b[0m     \u001b[1;34m\"temp\"\u001b[0m\u001b[1;33m:\u001b[0m \u001b[0mtemp\u001b[0m\u001b[1;33m,\u001b[0m\u001b[1;33m\u001b[0m\u001b[1;33m\u001b[0m\u001b[0m\n\u001b[1;32m---> 10\u001b[1;33m     \u001b[1;34m\"Humidity\"\u001b[0m\u001b[1;33m:\u001b[0m \u001b[0mhumidity\u001b[0m\u001b[1;33m,\u001b[0m\u001b[1;33m\u001b[0m\u001b[1;33m\u001b[0m\u001b[0m\n\u001b[0m\u001b[0;32m     11\u001b[0m     \u001b[1;34m\"Cloudiness\"\u001b[0m\u001b[1;33m:\u001b[0m \u001b[0mclouds\u001b[0m\u001b[1;33m,\u001b[0m\u001b[1;33m\u001b[0m\u001b[1;33m\u001b[0m\u001b[0m\n\u001b[0;32m     12\u001b[0m     \u001b[1;34m\"Wind Speed\"\u001b[0m\u001b[1;33m:\u001b[0m\u001b[0mspeed\u001b[0m\u001b[1;33m\u001b[0m\u001b[1;33m\u001b[0m\u001b[0m\n",
      "\u001b[1;31mNameError\u001b[0m: name 'humidity' is not defined"
     ]
    }
   ],
   "source": [
    "# Output File (CSV)\n",
    "output_data_file = \"output_data/cities.csv\"\n",
    "\n",
    "\n",
    " # create a data frame from cities, lat, and temp\n",
    "weather_dict = {\n",
    "    \"city\": cities,\n",
    "    \"lat\": lat,\n",
    "    \"temp\": temp,\n",
    "    \"Humidity\": humidity,\n",
    "    \"Cloudiness\": clouds,\n",
    "    \"Wind Speed\":speed \n",
    "}\n",
    "weather_data = pd.DataFrame(weather_dict)\n",
    "weather_data.head()\n"
   ]
  },
  {
   "cell_type": "code",
   "execution_count": null,
   "metadata": {},
   "outputs": [],
   "source": []
  },
  {
   "cell_type": "markdown",
   "metadata": {},
   "source": [
    "## Inspect the data and remove the cities where the humidity > 100%.\n",
    "----\n",
    "Skip this step if there are no cities that have humidity > 100%. "
   ]
  },
  {
   "cell_type": "code",
   "execution_count": null,
   "metadata": {},
   "outputs": [],
   "source": []
  },
  {
   "cell_type": "code",
   "execution_count": null,
   "metadata": {},
   "outputs": [],
   "source": [
    "#  Get the indices of cities that have humidity over 100%.\n"
   ]
  },
  {
   "cell_type": "code",
   "execution_count": null,
   "metadata": {},
   "outputs": [],
   "source": [
    "# Make a new DataFrame equal to the city data to drop all humidity outliers by index.\n",
    "# Passing \"inplace=False\" will make a copy of the city_data DataFrame, which we call \"clean_city_data\".\n"
   ]
  },
  {
   "cell_type": "code",
   "execution_count": null,
   "metadata": {},
   "outputs": [],
   "source": [
    "\n"
   ]
  },
  {
   "cell_type": "markdown",
   "metadata": {},
   "source": [
    "## Plotting the Data\n",
    "* Use proper labeling of the plots using plot titles (including date of analysis) and axes labels.\n",
    "* Save the plotted figures as .pngs."
   ]
  },
  {
   "cell_type": "markdown",
   "metadata": {},
   "source": [
    "## Latitude vs. Temperature Plot"
   ]
  },
  {
   "cell_type": "code",
   "execution_count": null,
   "metadata": {
    "scrolled": true
   },
   "outputs": [],
   "source": []
  },
  {
   "cell_type": "markdown",
   "metadata": {},
   "source": [
    "## Latitude vs. Humidity Plot"
   ]
  },
  {
   "cell_type": "code",
   "execution_count": null,
   "metadata": {},
   "outputs": [],
   "source": []
  },
  {
   "cell_type": "markdown",
   "metadata": {},
   "source": [
    "## Latitude vs. Cloudiness Plot"
   ]
  },
  {
   "cell_type": "code",
   "execution_count": null,
   "metadata": {},
   "outputs": [],
   "source": []
  },
  {
   "cell_type": "markdown",
   "metadata": {},
   "source": [
    "## Latitude vs. Wind Speed Plot"
   ]
  },
  {
   "cell_type": "code",
   "execution_count": null,
   "metadata": {},
   "outputs": [],
   "source": []
  },
  {
   "cell_type": "markdown",
   "metadata": {},
   "source": [
    "## Linear Regression"
   ]
  },
  {
   "cell_type": "code",
   "execution_count": null,
   "metadata": {},
   "outputs": [],
   "source": []
  },
  {
   "cell_type": "markdown",
   "metadata": {},
   "source": [
    "####  Northern Hemisphere - Max Temp vs. Latitude Linear Regression"
   ]
  },
  {
   "cell_type": "code",
   "execution_count": null,
   "metadata": {},
   "outputs": [],
   "source": []
  },
  {
   "cell_type": "markdown",
   "metadata": {},
   "source": [
    "####  Southern Hemisphere - Max Temp vs. Latitude Linear Regression"
   ]
  },
  {
   "cell_type": "code",
   "execution_count": null,
   "metadata": {},
   "outputs": [],
   "source": []
  },
  {
   "cell_type": "markdown",
   "metadata": {},
   "source": [
    "####  Northern Hemisphere - Humidity (%) vs. Latitude Linear Regression"
   ]
  },
  {
   "cell_type": "code",
   "execution_count": null,
   "metadata": {},
   "outputs": [],
   "source": []
  },
  {
   "cell_type": "markdown",
   "metadata": {},
   "source": [
    "####  Southern Hemisphere - Humidity (%) vs. Latitude Linear Regression"
   ]
  },
  {
   "cell_type": "code",
   "execution_count": null,
   "metadata": {},
   "outputs": [],
   "source": []
  },
  {
   "cell_type": "markdown",
   "metadata": {},
   "source": [
    "####  Northern Hemisphere - Cloudiness (%) vs. Latitude Linear Regression"
   ]
  },
  {
   "cell_type": "code",
   "execution_count": null,
   "metadata": {},
   "outputs": [],
   "source": []
  },
  {
   "cell_type": "markdown",
   "metadata": {},
   "source": [
    "####  Southern Hemisphere - Cloudiness (%) vs. Latitude Linear Regression"
   ]
  },
  {
   "cell_type": "code",
   "execution_count": null,
   "metadata": {},
   "outputs": [],
   "source": []
  },
  {
   "cell_type": "markdown",
   "metadata": {},
   "source": [
    "####  Northern Hemisphere - Wind Speed (mph) vs. Latitude Linear Regression"
   ]
  },
  {
   "cell_type": "code",
   "execution_count": null,
   "metadata": {},
   "outputs": [],
   "source": []
  },
  {
   "cell_type": "markdown",
   "metadata": {},
   "source": [
    "####  Southern Hemisphere - Wind Speed (mph) vs. Latitude Linear Regression"
   ]
  },
  {
   "cell_type": "code",
   "execution_count": null,
   "metadata": {},
   "outputs": [],
   "source": []
  },
  {
   "cell_type": "code",
   "execution_count": null,
   "metadata": {},
   "outputs": [],
   "source": []
  }
 ],
 "metadata": {
  "anaconda-cloud": {},
  "kernel_info": {
   "name": "python3"
  },
  "kernelspec": {
   "display_name": "Python 3 (ipykernel)",
   "language": "python",
   "name": "python3"
  },
  "language_info": {
   "codemirror_mode": {
    "name": "ipython",
    "version": 3
   },
   "file_extension": ".py",
   "mimetype": "text/x-python",
   "name": "python",
   "nbconvert_exporter": "python",
   "pygments_lexer": "ipython3",
   "version": "3.9.7"
  },
  "latex_envs": {
   "LaTeX_envs_menu_present": true,
   "autoclose": false,
   "autocomplete": true,
   "bibliofile": "biblio.bib",
   "cite_by": "apalike",
   "current_citInitial": 1,
   "eqLabelWithNumbers": true,
   "eqNumInitial": 1,
   "hotkeys": {
    "equation": "Ctrl-E",
    "itemize": "Ctrl-I"
   },
   "labels_anchors": false,
   "latex_user_defs": false,
   "report_style_numbering": false,
   "user_envs_cfg": false
  },
  "nteract": {
   "version": "0.12.3"
  }
 },
 "nbformat": 4,
 "nbformat_minor": 2
}
